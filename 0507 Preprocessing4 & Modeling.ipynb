{
 "cells": [
  {
   "cell_type": "code",
   "execution_count": 1,
   "metadata": {
    "ExecuteTime": {
     "end_time": "2019-05-08T18:07:19.873617Z",
     "start_time": "2019-05-08T18:07:19.193431Z"
    }
   },
   "outputs": [],
   "source": [
    "import pandas as pd\n",
    "from matplotlib import pyplot as plt\n",
    "import numpy as np\n",
    "import math\n",
    "%matplotlib inline"
   ]
  },
  {
   "cell_type": "code",
   "execution_count": 2,
   "metadata": {
    "ExecuteTime": {
     "end_time": "2019-05-08T18:07:20.058124Z",
     "start_time": "2019-05-08T18:07:19.875607Z"
    }
   },
   "outputs": [],
   "source": [
    "df = pd.read_csv('data/data_train.csv', usecols = [\n",
    "       'SALE PRICE', 'histdist', 'landmark', 'landuse', 'YEAR BUILT',\n",
    "       'RESIDENTIAL UNITS', 'COMMERCIAL UNITS', 'TOTAL UNITS',\n",
    "       'LAND SQUARE FEET', 'GROSS SQUARE FEET', 'easements', 'lotarea',\n",
    "       'bldgarea', 'comarea', 'resarea', 'officearea', 'retailarea',\n",
    "       'garagearea', 'strgearea', 'factryarea', 'otherarea', 'numbldgs',\n",
    "       'numfloors', 'unitsres', 'unitstotal', 'lotfront', 'lotdepth',\n",
    "       'bldgfront', 'bldgdepth', 'assessland', 'assesstot', 'exemptland',\n",
    "       'exempttot', 'builtfar', 'residfar', 'commfar', 'facilfar',\n",
    "       'DensityPop', 'IncomePerCap', 'Poverty', 'Professional', 'Service',\n",
    "       'Office', 'Construction', 'Production', 'Employed', 'Unemployment',\n",
    "       'distance_subway', 'distance_bus', 'park_num', 'park_area',\n",
    "       'park_top_level', 'park_distance', 'FELONY', 'VIOLATION', 'MISDEMEANOR',\n",
    "       'Num of SAT Test Takers', 'satReadingSum', 'satMathSum',\n",
    "       'satWritingSum'])"
   ]
  },
  {
   "cell_type": "code",
   "execution_count": 3,
   "metadata": {
    "ExecuteTime": {
     "end_time": "2019-05-08T18:07:20.118956Z",
     "start_time": "2019-05-08T18:07:20.060113Z"
    }
   },
   "outputs": [
    {
     "name": "stdout",
     "output_type": "stream",
     "text": [
      "(8885, 56)\n"
     ]
    },
    {
     "data": {
      "text/html": [
       "<div>\n",
       "<style scoped>\n",
       "    .dataframe tbody tr th:only-of-type {\n",
       "        vertical-align: middle;\n",
       "    }\n",
       "\n",
       "    .dataframe tbody tr th {\n",
       "        vertical-align: top;\n",
       "    }\n",
       "\n",
       "    .dataframe thead th {\n",
       "        text-align: right;\n",
       "    }\n",
       "</style>\n",
       "<table border=\"1\" class=\"dataframe\">\n",
       "  <thead>\n",
       "    <tr style=\"text-align: right;\">\n",
       "      <th></th>\n",
       "      <th>SALE PRICE</th>\n",
       "      <th>YEAR BUILT</th>\n",
       "      <th>RESIDENTIAL UNITS</th>\n",
       "      <th>COMMERCIAL UNITS</th>\n",
       "      <th>TOTAL UNITS</th>\n",
       "      <th>LAND SQUARE FEET</th>\n",
       "      <th>GROSS SQUARE FEET</th>\n",
       "      <th>easements</th>\n",
       "      <th>lotarea</th>\n",
       "      <th>bldgarea</th>\n",
       "      <th>...</th>\n",
       "      <th>park_num</th>\n",
       "      <th>park_area</th>\n",
       "      <th>park_top_level</th>\n",
       "      <th>park_distance</th>\n",
       "      <th>Num of SAT Test Takers</th>\n",
       "      <th>sat</th>\n",
       "      <th>crime</th>\n",
       "      <th>histdist</th>\n",
       "      <th>landmark</th>\n",
       "      <th>landuse</th>\n",
       "    </tr>\n",
       "  </thead>\n",
       "  <tbody>\n",
       "    <tr>\n",
       "      <th>0</th>\n",
       "      <td>3750000</td>\n",
       "      <td>110</td>\n",
       "      <td>3</td>\n",
       "      <td>0</td>\n",
       "      <td>3</td>\n",
       "      <td>2018</td>\n",
       "      <td>3354</td>\n",
       "      <td>0.0</td>\n",
       "      <td>2018.0</td>\n",
       "      <td>3354.0</td>\n",
       "      <td>...</td>\n",
       "      <td>5</td>\n",
       "      <td>22.051</td>\n",
       "      <td>2</td>\n",
       "      <td>0.001133</td>\n",
       "      <td>3825</td>\n",
       "      <td>1519.0</td>\n",
       "      <td>1526.0</td>\n",
       "      <td>Mount Morris Park Historic District</td>\n",
       "      <td>NaN</td>\n",
       "      <td>2.0</td>\n",
       "    </tr>\n",
       "    <tr>\n",
       "      <th>1</th>\n",
       "      <td>5000000</td>\n",
       "      <td>119</td>\n",
       "      <td>26</td>\n",
       "      <td>4</td>\n",
       "      <td>30</td>\n",
       "      <td>5060</td>\n",
       "      <td>20310</td>\n",
       "      <td>0.0</td>\n",
       "      <td>5060.0</td>\n",
       "      <td>20310.0</td>\n",
       "      <td>...</td>\n",
       "      <td>6</td>\n",
       "      <td>179.671</td>\n",
       "      <td>2</td>\n",
       "      <td>0.001841</td>\n",
       "      <td>4005</td>\n",
       "      <td>1370.0</td>\n",
       "      <td>1139.0</td>\n",
       "      <td>NaN</td>\n",
       "      <td>NaN</td>\n",
       "      <td>4.0</td>\n",
       "    </tr>\n",
       "    <tr>\n",
       "      <th>2</th>\n",
       "      <td>5000000</td>\n",
       "      <td>119</td>\n",
       "      <td>26</td>\n",
       "      <td>4</td>\n",
       "      <td>30</td>\n",
       "      <td>5060</td>\n",
       "      <td>20310</td>\n",
       "      <td>0.0</td>\n",
       "      <td>5060.0</td>\n",
       "      <td>20310.0</td>\n",
       "      <td>...</td>\n",
       "      <td>6</td>\n",
       "      <td>179.671</td>\n",
       "      <td>2</td>\n",
       "      <td>0.001792</td>\n",
       "      <td>4005</td>\n",
       "      <td>1370.0</td>\n",
       "      <td>1131.0</td>\n",
       "      <td>NaN</td>\n",
       "      <td>NaN</td>\n",
       "      <td>4.0</td>\n",
       "    </tr>\n",
       "    <tr>\n",
       "      <th>3</th>\n",
       "      <td>29100000</td>\n",
       "      <td>99</td>\n",
       "      <td>26</td>\n",
       "      <td>1</td>\n",
       "      <td>27</td>\n",
       "      <td>4642</td>\n",
       "      <td>27141</td>\n",
       "      <td>0.0</td>\n",
       "      <td>4642.0</td>\n",
       "      <td>27141.0</td>\n",
       "      <td>...</td>\n",
       "      <td>8</td>\n",
       "      <td>843.074</td>\n",
       "      <td>3</td>\n",
       "      <td>0.000745</td>\n",
       "      <td>3825</td>\n",
       "      <td>1519.0</td>\n",
       "      <td>1672.0</td>\n",
       "      <td>NaN</td>\n",
       "      <td>NaN</td>\n",
       "      <td>4.0</td>\n",
       "    </tr>\n",
       "    <tr>\n",
       "      <th>4</th>\n",
       "      <td>2350000</td>\n",
       "      <td>116</td>\n",
       "      <td>0</td>\n",
       "      <td>0</td>\n",
       "      <td>0</td>\n",
       "      <td>0</td>\n",
       "      <td>0</td>\n",
       "      <td>0.0</td>\n",
       "      <td>10013.0</td>\n",
       "      <td>23521.0</td>\n",
       "      <td>...</td>\n",
       "      <td>2</td>\n",
       "      <td>844.633</td>\n",
       "      <td>3</td>\n",
       "      <td>0.001081</td>\n",
       "      <td>9100</td>\n",
       "      <td>1374.0</td>\n",
       "      <td>206.0</td>\n",
       "      <td>Upper East Side Historic District</td>\n",
       "      <td>NaN</td>\n",
       "      <td>3.0</td>\n",
       "    </tr>\n",
       "  </tbody>\n",
       "</table>\n",
       "<p>5 rows × 56 columns</p>\n",
       "</div>"
      ],
      "text/plain": [
       "   SALE PRICE  YEAR BUILT  RESIDENTIAL UNITS  COMMERCIAL UNITS  TOTAL UNITS  \\\n",
       "0     3750000         110                  3                 0            3   \n",
       "1     5000000         119                 26                 4           30   \n",
       "2     5000000         119                 26                 4           30   \n",
       "3    29100000          99                 26                 1           27   \n",
       "4     2350000         116                  0                 0            0   \n",
       "\n",
       "   LAND SQUARE FEET  GROSS SQUARE FEET  easements  lotarea  bldgarea   ...     \\\n",
       "0              2018               3354        0.0   2018.0    3354.0   ...      \n",
       "1              5060              20310        0.0   5060.0   20310.0   ...      \n",
       "2              5060              20310        0.0   5060.0   20310.0   ...      \n",
       "3              4642              27141        0.0   4642.0   27141.0   ...      \n",
       "4                 0                  0        0.0  10013.0   23521.0   ...      \n",
       "\n",
       "   park_num  park_area  park_top_level  park_distance  Num of SAT Test Takers  \\\n",
       "0         5     22.051               2       0.001133                    3825   \n",
       "1         6    179.671               2       0.001841                    4005   \n",
       "2         6    179.671               2       0.001792                    4005   \n",
       "3         8    843.074               3       0.000745                    3825   \n",
       "4         2    844.633               3       0.001081                    9100   \n",
       "\n",
       "      sat   crime                             histdist  landmark  landuse  \n",
       "0  1519.0  1526.0  Mount Morris Park Historic District       NaN      2.0  \n",
       "1  1370.0  1139.0                                  NaN       NaN      4.0  \n",
       "2  1370.0  1131.0                                  NaN       NaN      4.0  \n",
       "3  1519.0  1672.0                                  NaN       NaN      4.0  \n",
       "4  1374.0   206.0    Upper East Side Historic District       NaN      3.0  \n",
       "\n",
       "[5 rows x 56 columns]"
      ]
     },
     "execution_count": 3,
     "metadata": {},
     "output_type": "execute_result"
    }
   ],
   "source": [
    "df['landuse'] = df['landuse'].astype(str)\n",
    "df['sat'] = df['satReadingSum'] + df['satMathSum'] + df['satWritingSum']\n",
    "df['crime'] = df['FELONY'] + df['VIOLATION'] + df['MISDEMEANOR']\n",
    "df.drop(['satReadingSum', 'satMathSum', 'satWritingSum', 'FELONY', 'VIOLATION', 'MISDEMEANOR'], axis=1, inplace=True)\n",
    "\n",
    "df = df[['SALE PRICE', 'YEAR BUILT', 'RESIDENTIAL UNITS', 'COMMERCIAL UNITS',\n",
    "       'TOTAL UNITS', 'LAND SQUARE FEET', 'GROSS SQUARE FEET', 'easements',\n",
    "       'lotarea', 'bldgarea', 'comarea', 'resarea', 'officearea', 'retailarea',\n",
    "       'garagearea', 'strgearea', 'factryarea', 'otherarea', 'numbldgs',\n",
    "       'numfloors', 'unitsres', 'unitstotal', 'lotfront', 'lotdepth',\n",
    "       'bldgfront', 'bldgdepth', 'assessland', 'assesstot', 'exemptland',\n",
    "       'exempttot', 'builtfar', 'residfar', 'commfar', 'facilfar',\n",
    "       'DensityPop', 'IncomePerCap', 'Poverty', 'Professional', 'Service',\n",
    "       'Office', 'Construction', 'Production', 'Employed', 'Unemployment',\n",
    "       'distance_subway', 'distance_bus', 'park_num', 'park_area',\n",
    "       'park_top_level', 'park_distance', 'Num of SAT Test Takers', 'sat', 'crime',\n",
    "       'histdist', 'landmark', 'landuse']]\n",
    "print(df.shape)\n",
    "df.head()"
   ]
  },
  {
   "cell_type": "code",
   "execution_count": null,
   "metadata": {},
   "outputs": [],
   "source": []
  },
  {
   "cell_type": "markdown",
   "metadata": {},
   "source": [
    "# Preprocessing"
   ]
  },
  {
   "cell_type": "markdown",
   "metadata": {},
   "source": [
    "## Cleaning"
   ]
  },
  {
   "cell_type": "markdown",
   "metadata": {},
   "source": [
    "### Extremum filter"
   ]
  },
  {
   "cell_type": "code",
   "execution_count": 4,
   "metadata": {
    "ExecuteTime": {
     "end_time": "2019-05-08T18:07:20.127931Z",
     "start_time": "2019-05-08T18:07:20.120951Z"
    }
   },
   "outputs": [],
   "source": [
    "sale_price = sorted(df['SALE PRICE'])"
   ]
  },
  {
   "cell_type": "code",
   "execution_count": 5,
   "metadata": {
    "ExecuteTime": {
     "end_time": "2019-05-08T18:07:20.139901Z",
     "start_time": "2019-05-08T18:07:20.130924Z"
    }
   },
   "outputs": [
    {
     "data": {
      "text/plain": [
       "0.03421496904895892"
      ]
     },
     "execution_count": 5,
     "metadata": {},
     "output_type": "execute_result"
    }
   ],
   "source": [
    "# percent_right = 0.9973 # 3 std\n",
    "percent_right = 0.9545 # 2 std\n",
    "percent_left = len(list(filter(lambda x: x<200000, sale_price)))/len(sale_price)\n",
    "percent_left"
   ]
  },
  {
   "cell_type": "code",
   "execution_count": 6,
   "metadata": {
    "ExecuteTime": {
     "end_time": "2019-05-08T18:07:20.150872Z",
     "start_time": "2019-05-08T18:07:20.140897Z"
    }
   },
   "outputs": [],
   "source": [
    "price_left = sale_price[int(len(sale_price) * percent_left)]\n",
    "price_right = sale_price[int(len(sale_price) * percent_right)]"
   ]
  },
  {
   "cell_type": "code",
   "execution_count": 7,
   "metadata": {
    "ExecuteTime": {
     "end_time": "2019-05-08T18:07:20.187771Z",
     "start_time": "2019-05-08T18:07:20.152865Z"
    }
   },
   "outputs": [
    {
     "name": "stdout",
     "output_type": "stream",
     "text": [
      "(8577, 56)\n"
     ]
    },
    {
     "data": {
      "text/html": [
       "<div>\n",
       "<style scoped>\n",
       "    .dataframe tbody tr th:only-of-type {\n",
       "        vertical-align: middle;\n",
       "    }\n",
       "\n",
       "    .dataframe tbody tr th {\n",
       "        vertical-align: top;\n",
       "    }\n",
       "\n",
       "    .dataframe thead th {\n",
       "        text-align: right;\n",
       "    }\n",
       "</style>\n",
       "<table border=\"1\" class=\"dataframe\">\n",
       "  <thead>\n",
       "    <tr style=\"text-align: right;\">\n",
       "      <th></th>\n",
       "      <th>SALE PRICE</th>\n",
       "      <th>YEAR BUILT</th>\n",
       "      <th>RESIDENTIAL UNITS</th>\n",
       "      <th>COMMERCIAL UNITS</th>\n",
       "      <th>TOTAL UNITS</th>\n",
       "      <th>LAND SQUARE FEET</th>\n",
       "      <th>GROSS SQUARE FEET</th>\n",
       "      <th>easements</th>\n",
       "      <th>lotarea</th>\n",
       "      <th>bldgarea</th>\n",
       "      <th>...</th>\n",
       "      <th>park_num</th>\n",
       "      <th>park_area</th>\n",
       "      <th>park_top_level</th>\n",
       "      <th>park_distance</th>\n",
       "      <th>Num of SAT Test Takers</th>\n",
       "      <th>sat</th>\n",
       "      <th>crime</th>\n",
       "      <th>histdist</th>\n",
       "      <th>landmark</th>\n",
       "      <th>landuse</th>\n",
       "    </tr>\n",
       "  </thead>\n",
       "  <tbody>\n",
       "    <tr>\n",
       "      <th>0</th>\n",
       "      <td>3750000</td>\n",
       "      <td>110</td>\n",
       "      <td>3</td>\n",
       "      <td>0</td>\n",
       "      <td>3</td>\n",
       "      <td>2018</td>\n",
       "      <td>3354</td>\n",
       "      <td>0.0</td>\n",
       "      <td>2018.0</td>\n",
       "      <td>3354.0</td>\n",
       "      <td>...</td>\n",
       "      <td>5</td>\n",
       "      <td>22.051</td>\n",
       "      <td>2</td>\n",
       "      <td>0.001133</td>\n",
       "      <td>3825</td>\n",
       "      <td>1519.0</td>\n",
       "      <td>1526.0</td>\n",
       "      <td>Mount Morris Park Historic District</td>\n",
       "      <td>0</td>\n",
       "      <td>2.0</td>\n",
       "    </tr>\n",
       "    <tr>\n",
       "      <th>1</th>\n",
       "      <td>5000000</td>\n",
       "      <td>119</td>\n",
       "      <td>26</td>\n",
       "      <td>4</td>\n",
       "      <td>30</td>\n",
       "      <td>5060</td>\n",
       "      <td>20310</td>\n",
       "      <td>0.0</td>\n",
       "      <td>5060.0</td>\n",
       "      <td>20310.0</td>\n",
       "      <td>...</td>\n",
       "      <td>6</td>\n",
       "      <td>179.671</td>\n",
       "      <td>2</td>\n",
       "      <td>0.001841</td>\n",
       "      <td>4005</td>\n",
       "      <td>1370.0</td>\n",
       "      <td>1139.0</td>\n",
       "      <td>0</td>\n",
       "      <td>0</td>\n",
       "      <td>4.0</td>\n",
       "    </tr>\n",
       "    <tr>\n",
       "      <th>2</th>\n",
       "      <td>5000000</td>\n",
       "      <td>119</td>\n",
       "      <td>26</td>\n",
       "      <td>4</td>\n",
       "      <td>30</td>\n",
       "      <td>5060</td>\n",
       "      <td>20310</td>\n",
       "      <td>0.0</td>\n",
       "      <td>5060.0</td>\n",
       "      <td>20310.0</td>\n",
       "      <td>...</td>\n",
       "      <td>6</td>\n",
       "      <td>179.671</td>\n",
       "      <td>2</td>\n",
       "      <td>0.001792</td>\n",
       "      <td>4005</td>\n",
       "      <td>1370.0</td>\n",
       "      <td>1131.0</td>\n",
       "      <td>0</td>\n",
       "      <td>0</td>\n",
       "      <td>4.0</td>\n",
       "    </tr>\n",
       "    <tr>\n",
       "      <th>3</th>\n",
       "      <td>29100000</td>\n",
       "      <td>99</td>\n",
       "      <td>26</td>\n",
       "      <td>1</td>\n",
       "      <td>27</td>\n",
       "      <td>4642</td>\n",
       "      <td>27141</td>\n",
       "      <td>0.0</td>\n",
       "      <td>4642.0</td>\n",
       "      <td>27141.0</td>\n",
       "      <td>...</td>\n",
       "      <td>8</td>\n",
       "      <td>843.074</td>\n",
       "      <td>3</td>\n",
       "      <td>0.000745</td>\n",
       "      <td>3825</td>\n",
       "      <td>1519.0</td>\n",
       "      <td>1672.0</td>\n",
       "      <td>0</td>\n",
       "      <td>0</td>\n",
       "      <td>4.0</td>\n",
       "    </tr>\n",
       "    <tr>\n",
       "      <th>4</th>\n",
       "      <td>2350000</td>\n",
       "      <td>116</td>\n",
       "      <td>0</td>\n",
       "      <td>0</td>\n",
       "      <td>0</td>\n",
       "      <td>0</td>\n",
       "      <td>0</td>\n",
       "      <td>0.0</td>\n",
       "      <td>10013.0</td>\n",
       "      <td>23521.0</td>\n",
       "      <td>...</td>\n",
       "      <td>2</td>\n",
       "      <td>844.633</td>\n",
       "      <td>3</td>\n",
       "      <td>0.001081</td>\n",
       "      <td>9100</td>\n",
       "      <td>1374.0</td>\n",
       "      <td>206.0</td>\n",
       "      <td>Upper East Side Historic District</td>\n",
       "      <td>0</td>\n",
       "      <td>3.0</td>\n",
       "    </tr>\n",
       "  </tbody>\n",
       "</table>\n",
       "<p>5 rows × 56 columns</p>\n",
       "</div>"
      ],
      "text/plain": [
       "   SALE PRICE  YEAR BUILT  RESIDENTIAL UNITS  COMMERCIAL UNITS  TOTAL UNITS  \\\n",
       "0     3750000         110                  3                 0            3   \n",
       "1     5000000         119                 26                 4           30   \n",
       "2     5000000         119                 26                 4           30   \n",
       "3    29100000          99                 26                 1           27   \n",
       "4     2350000         116                  0                 0            0   \n",
       "\n",
       "   LAND SQUARE FEET  GROSS SQUARE FEET  easements  lotarea  bldgarea   ...     \\\n",
       "0              2018               3354        0.0   2018.0    3354.0   ...      \n",
       "1              5060              20310        0.0   5060.0   20310.0   ...      \n",
       "2              5060              20310        0.0   5060.0   20310.0   ...      \n",
       "3              4642              27141        0.0   4642.0   27141.0   ...      \n",
       "4                 0                  0        0.0  10013.0   23521.0   ...      \n",
       "\n",
       "   park_num  park_area  park_top_level  park_distance  Num of SAT Test Takers  \\\n",
       "0         5     22.051               2       0.001133                    3825   \n",
       "1         6    179.671               2       0.001841                    4005   \n",
       "2         6    179.671               2       0.001792                    4005   \n",
       "3         8    843.074               3       0.000745                    3825   \n",
       "4         2    844.633               3       0.001081                    9100   \n",
       "\n",
       "      sat   crime                             histdist  landmark  landuse  \n",
       "0  1519.0  1526.0  Mount Morris Park Historic District         0      2.0  \n",
       "1  1370.0  1139.0                                    0         0      4.0  \n",
       "2  1370.0  1131.0                                    0         0      4.0  \n",
       "3  1519.0  1672.0                                    0         0      4.0  \n",
       "4  1374.0   206.0    Upper East Side Historic District         0      3.0  \n",
       "\n",
       "[5 rows x 56 columns]"
      ]
     },
     "execution_count": 7,
     "metadata": {},
     "output_type": "execute_result"
    }
   ],
   "source": [
    "df = df.fillna(0) # fillna\n",
    "\n",
    "# df = df[(df['SALE PRICE'] > price_left) & (df['SALE PRICE'] < price_right)]\n",
    "df = df[df['SALE PRICE'] > price_left] # delete left\n",
    "# df = df[df['SALE PRICE'] < price_right] # delete right\n",
    "\n",
    "print(df.shape)\n",
    "df.head()"
   ]
  },
  {
   "cell_type": "markdown",
   "metadata": {},
   "source": [
    "### Numeric & Categoric split"
   ]
  },
  {
   "cell_type": "code",
   "execution_count": 8,
   "metadata": {
    "ExecuteTime": {
     "end_time": "2019-05-08T18:07:20.193759Z",
     "start_time": "2019-05-08T18:07:20.188770Z"
    }
   },
   "outputs": [],
   "source": [
    "numeric_list = ['YEAR BUILT',\n",
    "       'RESIDENTIAL UNITS', 'COMMERCIAL UNITS', 'TOTAL UNITS',\n",
    "       'LAND SQUARE FEET', 'GROSS SQUARE FEET', 'easements', 'lotarea',\n",
    "       'bldgarea', 'comarea', 'resarea', 'officearea', 'retailarea',\n",
    "       'garagearea', 'strgearea', 'factryarea', 'otherarea', 'numbldgs',\n",
    "       'numfloors', 'unitsres', 'unitstotal', 'lotfront', 'lotdepth',\n",
    "       'bldgfront', 'bldgdepth', 'assessland', 'assesstot', 'exemptland',\n",
    "       'exempttot', 'builtfar', 'residfar', 'commfar', 'facilfar',\n",
    "       'DensityPop', 'IncomePerCap', 'Poverty', 'Professional', 'Service',\n",
    "       'Office', 'Construction', 'Production', 'Employed', 'Unemployment',\n",
    "       'distance_subway', 'distance_bus', 'park_num', 'park_area',\n",
    "       'park_top_level', 'park_distance', 'crime',\n",
    "       'Num of SAT Test Takers', 'sat']\n",
    "\n",
    "categoric_list = ['histdist', 'landmark', 'landuse']"
   ]
  },
  {
   "cell_type": "code",
   "execution_count": 9,
   "metadata": {
    "ExecuteTime": {
     "end_time": "2019-05-08T18:07:20.208715Z",
     "start_time": "2019-05-08T18:07:20.195751Z"
    }
   },
   "outputs": [],
   "source": [
    "Y = df[['SALE PRICE']]\n",
    "X = df[numeric_list]"
   ]
  },
  {
   "cell_type": "markdown",
   "metadata": {},
   "source": [
    "### feature selection"
   ]
  },
  {
   "cell_type": "code",
   "execution_count": 10,
   "metadata": {
    "ExecuteTime": {
     "end_time": "2019-05-08T18:07:20.695857Z",
     "start_time": "2019-05-08T18:07:20.209714Z"
    }
   },
   "outputs": [],
   "source": [
    "import seaborn as sns"
   ]
  },
  {
   "cell_type": "code",
   "execution_count": 11,
   "metadata": {
    "ExecuteTime": {
     "end_time": "2019-05-08T18:07:20.753777Z",
     "start_time": "2019-05-08T18:07:20.696916Z"
    }
   },
   "outputs": [],
   "source": [
    "corr = df.corr()"
   ]
  },
  {
   "cell_type": "markdown",
   "metadata": {
    "ExecuteTime": {
     "end_time": "2019-05-08T16:26:05.315204Z",
     "start_time": "2019-05-08T16:25:46.234269Z"
    }
   },
   "source": [
    "fig,ax = plt.subplots(figsize = (20,20))\n",
    "hm = sns.heatmap(round(corr,2), annot = True, ax = ax, cmap = 'coolwarm', fmt = '.1f', linewidth = .05)\n",
    "fig.subplots_adjust(top = 0.95)\n",
    "plt.title('Features Correlation Heatmap', fontsize=14)\n",
    "plt.tight_layout()"
   ]
  },
  {
   "cell_type": "markdown",
   "metadata": {},
   "source": [
    "#### method 1\n",
    "https://towardsdatascience.com/feature-selection-correlation-and-p-value-da8921bfb3cf"
   ]
  },
  {
   "cell_type": "code",
   "execution_count": 12,
   "metadata": {
    "ExecuteTime": {
     "end_time": "2019-05-08T18:07:20.775707Z",
     "start_time": "2019-05-08T18:07:20.754768Z"
    }
   },
   "outputs": [
    {
     "name": "stdout",
     "output_type": "stream",
     "text": [
      "44\n"
     ]
    }
   ],
   "source": [
    "columns = np.full((corr.shape[0],), True, dtype=bool)\n",
    "for i in range(corr.shape[0]):\n",
    "    for j in range(i+1, corr.shape[0]):\n",
    "        if corr.iloc[i,j] >= 0.9:\n",
    "            if columns[j]:\n",
    "                columns[j] = False\n",
    "\n",
    "selected_columns = df.iloc[:,:-3].columns[columns]\n",
    "df_select = df[selected_columns]\n",
    "print(len(selected_columns))"
   ]
  },
  {
   "cell_type": "code",
   "execution_count": 13,
   "metadata": {
    "ExecuteTime": {
     "end_time": "2019-05-08T18:07:20.785680Z",
     "start_time": "2019-05-08T18:07:20.776704Z"
    }
   },
   "outputs": [
    {
     "data": {
      "text/plain": [
       "Index(['SALE PRICE', 'YEAR BUILT', 'RESIDENTIAL UNITS', 'COMMERCIAL UNITS',\n",
       "       'TOTAL UNITS', 'LAND SQUARE FEET', 'GROSS SQUARE FEET', 'easements',\n",
       "       'lotarea', 'comarea', 'officearea', 'retailarea', 'strgearea',\n",
       "       'factryarea', 'otherarea', 'numbldgs', 'numfloors', 'lotdepth',\n",
       "       'bldgfront', 'bldgdepth', 'exempttot', 'builtfar', 'residfar',\n",
       "       'commfar', 'facilfar', 'DensityPop', 'IncomePerCap', 'Poverty',\n",
       "       'Professional', 'Service', 'Office', 'Construction', 'Production',\n",
       "       'Employed', 'Unemployment', 'distance_subway', 'distance_bus',\n",
       "       'park_num', 'park_area', 'park_top_level', 'park_distance',\n",
       "       'Num of SAT Test Takers', 'sat', 'crime'],\n",
       "      dtype='object')"
      ]
     },
     "execution_count": 13,
     "metadata": {},
     "output_type": "execute_result"
    }
   ],
   "source": [
    "selected_columns"
   ]
  },
  {
   "cell_type": "markdown",
   "metadata": {
    "ExecuteTime": {
     "end_time": "2019-05-08T16:26:16.054478Z",
     "start_time": "2019-05-08T16:26:05.360083Z"
    }
   },
   "source": [
    "fig,ax = plt.subplots(figsize = (20,20))\n",
    "corr = df_select.corr()\n",
    "hm = sns.heatmap(round(corr,2), annot = True, ax = ax, cmap = 'coolwarm', fmt = '.1f', linewidth = .05)\n",
    "fig.subplots_adjust(top = 0.95)\n",
    "\n",
    "plt.title('Features Correlation Heatmap', fontsize=14)\n",
    "\n",
    "plt.tight_layout()"
   ]
  },
  {
   "cell_type": "markdown",
   "metadata": {
    "ExecuteTime": {
     "end_time": "2019-05-08T17:18:31.098845Z",
     "start_time": "2019-05-08T17:18:30.415675Z"
    }
   },
   "source": [
    "import statsmodels.formula.api as sm\n",
    "def backwardElimination(x, Y, sl, columns):\n",
    "    numVars = len(x[0])\n",
    "    for i in range(0, numVars):\n",
    "        regressor_OLS = sm.OLS(Y, x).fit()\n",
    "        maxVar = max(regressor_OLS.pvalues).astype(float)\n",
    "        if maxVar > sl:\n",
    "            for j in range(0, numVars - i):\n",
    "                if (regressor_OLS.pvalues[j].astype(float) == maxVar):\n",
    "                    x = np.delete(x, j, 1)\n",
    "                    columns = np.delete(columns, j)                    \n",
    "    regressor_OLS.summary()\n",
    "    return x, columns\n",
    "SL = 0.05\n",
    "df_select_modeled, selected_columns = backwardElimination(df_select.iloc[:,1:].values, df_select.iloc[:,0].values, SL, selected_columns)\n",
    "print(len(selected_columns))"
   ]
  },
  {
   "cell_type": "markdown",
   "metadata": {
    "ExecuteTime": {
     "end_time": "2019-05-08T16:26:22.102305Z",
     "start_time": "2019-05-08T16:26:17.532525Z"
    }
   },
   "source": [
    "fig,ax = plt.subplots(figsize = (20,20))\n",
    "corr = pd.DataFrame(df_select_modeled).corr()\n",
    "hm = sns.heatmap(round(corr,2), annot = True, ax = ax, cmap = 'coolwarm', fmt = '.1f', linewidth = .05)\n",
    "fig.subplots_adjust(top = 0.95)\n",
    "\n",
    "plt.title('Features Correlation Heatmap', fontsize=14)\n",
    "\n",
    "plt.tight_layout()"
   ]
  },
  {
   "cell_type": "code",
   "execution_count": null,
   "metadata": {},
   "outputs": [],
   "source": []
  },
  {
   "cell_type": "markdown",
   "metadata": {},
   "source": [
    "## Standardize\n"
   ]
  },
  {
   "cell_type": "markdown",
   "metadata": {},
   "source": [
    "### method 1\n",
    "https://blog.csdn.net/FrankieHello/article/details/79659111"
   ]
  },
  {
   "cell_type": "code",
   "execution_count": 14,
   "metadata": {
    "ExecuteTime": {
     "end_time": "2019-05-08T18:07:21.884824Z",
     "start_time": "2019-05-08T18:07:20.787675Z"
    }
   },
   "outputs": [],
   "source": [
    "from sklearn.preprocessing import StandardScaler"
   ]
  },
  {
   "cell_type": "code",
   "execution_count": 15,
   "metadata": {
    "ExecuteTime": {
     "end_time": "2019-05-08T18:07:21.918652Z",
     "start_time": "2019-05-08T18:07:21.885784Z"
    }
   },
   "outputs": [
    {
     "name": "stderr",
     "output_type": "stream",
     "text": [
      "C:\\ProgramData\\Anaconda3\\lib\\site-packages\\sklearn\\preprocessing\\data.py:625: DataConversionWarning: Data with input dtype int64, float64 were all converted to float64 by StandardScaler.\n",
      "  return self.partial_fit(X, y)\n",
      "C:\\ProgramData\\Anaconda3\\lib\\site-packages\\sklearn\\base.py:462: DataConversionWarning: Data with input dtype int64, float64 were all converted to float64 by StandardScaler.\n",
      "  return self.fit(X, **fit_params).transform(X)\n"
     ]
    }
   ],
   "source": [
    "ss = StandardScaler()\n",
    "std_data = ss.fit_transform(df[numeric_list])\n",
    "origin_data = ss.inverse_transform(std_data)"
   ]
  },
  {
   "cell_type": "markdown",
   "metadata": {},
   "source": [
    "### method 2\n",
    "https://stackoverflow.com/questions/26414913/normalize-columns-of-pandas-data-frame"
   ]
  },
  {
   "cell_type": "code",
   "execution_count": 16,
   "metadata": {
    "ExecuteTime": {
     "end_time": "2019-05-08T18:07:21.923638Z",
     "start_time": "2019-05-08T18:07:21.919649Z"
    }
   },
   "outputs": [],
   "source": [
    "def standardize(df):\n",
    "    return (df-df.mean())/df.std()"
   ]
  },
  {
   "cell_type": "code",
   "execution_count": 17,
   "metadata": {
    "ExecuteTime": {
     "end_time": "2019-05-08T18:07:21.935606Z",
     "start_time": "2019-05-08T18:07:21.926634Z"
    }
   },
   "outputs": [],
   "source": [
    "def standardize_inverse(df, mean, std):\n",
    "    return std * df + mean"
   ]
  },
  {
   "cell_type": "code",
   "execution_count": 18,
   "metadata": {
    "ExecuteTime": {
     "end_time": "2019-05-08T18:07:21.961535Z",
     "start_time": "2019-05-08T18:07:21.953557Z"
    },
    "scrolled": true
   },
   "outputs": [
    {
     "data": {
      "text/plain": [
       "0    0.538397\n",
       "1    0.708449\n",
       "2    0.708449\n",
       "3    0.330556\n",
       "4    0.651765\n",
       "Name: YEAR BUILT, dtype: float64"
      ]
     },
     "execution_count": 18,
     "metadata": {},
     "output_type": "execute_result"
    }
   ],
   "source": [
    "temp = standardize(df['YEAR BUILT'])\n",
    "temp.head()"
   ]
  },
  {
   "cell_type": "code",
   "execution_count": 19,
   "metadata": {
    "ExecuteTime": {
     "end_time": "2019-05-08T18:07:21.973505Z",
     "start_time": "2019-05-08T18:07:21.969515Z"
    }
   },
   "outputs": [],
   "source": [
    "mean, std = df['YEAR BUILT'].mean(), df['YEAR BUILT'].std()"
   ]
  },
  {
   "cell_type": "code",
   "execution_count": 20,
   "metadata": {
    "ExecuteTime": {
     "end_time": "2019-05-08T18:07:21.988464Z",
     "start_time": "2019-05-08T18:07:21.975499Z"
    },
    "scrolled": true
   },
   "outputs": [
    {
     "data": {
      "text/plain": [
       "0    110.0\n",
       "1    119.0\n",
       "2    119.0\n",
       "3     99.0\n",
       "4    116.0\n",
       "Name: YEAR BUILT, dtype: float64"
      ]
     },
     "execution_count": 20,
     "metadata": {},
     "output_type": "execute_result"
    }
   ],
   "source": [
    "standardize_inverse(temp, mean, std).head()"
   ]
  },
  {
   "cell_type": "code",
   "execution_count": 21,
   "metadata": {
    "ExecuteTime": {
     "end_time": "2019-05-08T18:07:22.042320Z",
     "start_time": "2019-05-08T18:07:21.989461Z"
    }
   },
   "outputs": [],
   "source": [
    "X_standardized = X.apply(standardize)\n",
    "Y_standardized = Y.apply(standardize)"
   ]
  },
  {
   "cell_type": "markdown",
   "metadata": {},
   "source": [
    "## Train & Test split\n",
    "https://scikit-learn.org/stable/modules/generated/sklearn.model_selection.train_test_split.html  \n",
    "X_train, X_test, y_train, y_test = train_test_split(X, y, test_size=0.33, random_state=42)"
   ]
  },
  {
   "cell_type": "code",
   "execution_count": 22,
   "metadata": {
    "ExecuteTime": {
     "end_time": "2019-05-08T18:07:22.083210Z",
     "start_time": "2019-05-08T18:07:22.043319Z"
    }
   },
   "outputs": [],
   "source": [
    "from sklearn.model_selection import train_test_split\n",
    "X_train, X_test, Y_train, Y_test = train_test_split(X, Y, test_size=0.33, random_state=42)"
   ]
  },
  {
   "cell_type": "code",
   "execution_count": 23,
   "metadata": {
    "ExecuteTime": {
     "end_time": "2019-05-08T18:07:22.094181Z",
     "start_time": "2019-05-08T18:07:22.084208Z"
    }
   },
   "outputs": [],
   "source": [
    "X_standardized_train, X_standardized_test, Y_standardized_train, Y_standardized_test = \\\n",
    "train_test_split(X_standardized, Y_standardized, test_size=0.33, random_state=42)"
   ]
  },
  {
   "cell_type": "code",
   "execution_count": null,
   "metadata": {},
   "outputs": [],
   "source": []
  },
  {
   "cell_type": "markdown",
   "metadata": {},
   "source": [
    "## Whitening"
   ]
  },
  {
   "cell_type": "markdown",
   "metadata": {},
   "source": [
    "http://ufldl.stanford.edu/tutorial/unsupervised/PCAWhitening/"
   ]
  },
  {
   "cell_type": "markdown",
   "metadata": {},
   "source": [
    "## PCA"
   ]
  },
  {
   "cell_type": "markdown",
   "metadata": {},
   "source": [
    "https://www.analyticsvidhya.com/blog/2016/03/practical-guide-principal-component-analysis-python/  \n",
    "https://stackoverflow.com/questions/26182329/how-do-i-convert-new-data-into-the-pca-components-of-my-training-data"
   ]
  },
  {
   "cell_type": "markdown",
   "metadata": {},
   "source": [
    "n_components：  \n",
    "默认值为保留所有特征值维度，即不进行主成分降维；  \n",
    "取大于等于1的整数时，即指定我们希望降维后的维数；  \n",
    "取0-1的浮点数时，即指定降维后的方差和占比，比例越大，保留的信息越多。系统会自行计算保留的维度个数。  \n",
    "https://blog.csdn.net/Genius9_9/article/details/81098840  \n",
    "\n",
    "所以在实际使用PCA时，我们不需要选择k，而是直接设置n_components为float数据。  \n",
    "https://blog.csdn.net/ybdesire/article/details/64546435"
   ]
  },
  {
   "cell_type": "code",
   "execution_count": 24,
   "metadata": {
    "ExecuteTime": {
     "end_time": "2019-05-08T18:07:22.175963Z",
     "start_time": "2019-05-08T18:07:22.095178Z"
    }
   },
   "outputs": [],
   "source": [
    "from sklearn.decomposition import PCA"
   ]
  },
  {
   "cell_type": "markdown",
   "metadata": {},
   "source": [
    "### method 1"
   ]
  },
  {
   "cell_type": "code",
   "execution_count": 25,
   "metadata": {
    "ExecuteTime": {
     "end_time": "2019-05-08T18:07:22.197903Z",
     "start_time": "2019-05-08T18:07:22.176962Z"
    }
   },
   "outputs": [
    {
     "data": {
      "text/plain": [
       "PCA(copy=True, iterated_power='auto', n_components=52, random_state=None,\n",
       "  svd_solver='auto', tol=0.0, whiten=True)"
      ]
     },
     "execution_count": 25,
     "metadata": {},
     "output_type": "execute_result"
    }
   ],
   "source": [
    "n = X_standardized_train.shape[1] # how many eigenvectors we choose\n",
    "pca = PCA(n,whiten=True) #PCA model, paramerized by the target number of components or target percentage of variance\n",
    "\n",
    "pca.fit(X_standardized_train) #fit the model to the data"
   ]
  },
  {
   "cell_type": "code",
   "execution_count": 26,
   "metadata": {
    "ExecuteTime": {
     "end_time": "2019-05-08T18:07:22.201893Z",
     "start_time": "2019-05-08T18:07:22.198901Z"
    }
   },
   "outputs": [],
   "source": [
    "# X_train_numeric = pca.transform(X_train_numeric) #find principal components"
   ]
  },
  {
   "cell_type": "code",
   "execution_count": 27,
   "metadata": {
    "ExecuteTime": {
     "end_time": "2019-05-08T18:07:22.447237Z",
     "start_time": "2019-05-08T18:07:22.202891Z"
    }
   },
   "outputs": [
    {
     "data": {
      "text/plain": [
       "Text(0, 0.5, 'variance')"
      ]
     },
     "execution_count": 27,
     "metadata": {},
     "output_type": "execute_result"
    },
    {
     "data": {
      "image/png": "[encoded data removed]",
      "text/plain": [
       "<Figure size 432x288 with 1 Axes>"
      ]
     },
     "metadata": {
      "needs_background": "light"
     },
     "output_type": "display_data"
    }
   ],
   "source": [
    "#Plot explained variance per number of leading PC's to choose\n",
    "eigenvalues = pca.explained_variance_\n",
    "plt.bar(np.arange(n), eigenvalues.cumsum()/eigenvalues.sum(),align='center');\n",
    "plt.ylim(0,1)\n",
    "# plt.xlim(0,n)\n",
    "plt.xlabel('number of components')\n",
    "plt.ylabel('variance')"
   ]
  },
  {
   "cell_type": "code",
   "execution_count": 28,
   "metadata": {
    "ExecuteTime": {
     "end_time": "2019-05-08T18:07:22.466186Z",
     "start_time": "2019-05-08T18:07:22.448235Z"
    }
   },
   "outputs": [
    {
     "name": "stdout",
     "output_type": "stream",
     "text": [
      "we need 15 PCs to explain 80.00 percent of variance\n"
     ]
    }
   ],
   "source": [
    "p=0.8\n",
    "pca = PCA(p)\n",
    "P = pca.fit_transform(X_standardized_train)\n",
    "eigenvalues = pca.explained_variance_\n",
    "print(\"we need %d PCs to explain %.2f percent of variance\"%(P.shape[1],100*p))"
   ]
  },
  {
   "cell_type": "code",
   "execution_count": 29,
   "metadata": {
    "ExecuteTime": {
     "end_time": "2019-05-08T18:07:22.487131Z",
     "start_time": "2019-05-08T18:07:22.467185Z"
    }
   },
   "outputs": [
    {
     "name": "stdout",
     "output_type": "stream",
     "text": [
      "we need 22 PCs to explain 90.00 percent of variance\n"
     ]
    }
   ],
   "source": [
    "p=0.9\n",
    "pca = PCA(p)\n",
    "P = pca.fit_transform(X_standardized_train)\n",
    "eigenvalues = pca.explained_variance_\n",
    "print(\"we need %d PCs to explain %.2f percent of variance\"%(P.shape[1],100*p))"
   ]
  },
  {
   "cell_type": "code",
   "execution_count": 30,
   "metadata": {
    "ExecuteTime": {
     "end_time": "2019-05-08T18:07:22.508074Z",
     "start_time": "2019-05-08T18:07:22.488128Z"
    }
   },
   "outputs": [
    {
     "name": "stdout",
     "output_type": "stream",
     "text": [
      "we need 28 PCs to explain 95.00 percent of variance\n"
     ]
    }
   ],
   "source": [
    "p=0.95\n",
    "pca = PCA(p)\n",
    "P = pca.fit_transform(X_standardized_train)\n",
    "eigenvalues = pca.explained_variance_\n",
    "print(\"we need %d PCs to explain %.2f percent of variance\"%(P.shape[1],100*p))"
   ]
  },
  {
   "cell_type": "markdown",
   "metadata": {},
   "source": [
    "### method 2"
   ]
  },
  {
   "cell_type": "code",
   "execution_count": 31,
   "metadata": {
    "ExecuteTime": {
     "end_time": "2019-05-08T18:07:22.532010Z",
     "start_time": "2019-05-08T18:07:22.509072Z"
    }
   },
   "outputs": [
    {
     "name": "stdout",
     "output_type": "stream",
     "text": [
      "we need 15 PCs to explain 80.00 percent of variance\n"
     ]
    }
   ],
   "source": [
    "p=0.8\n",
    "pca = PCA(p,whiten=True) #PCA model, paramerized by the target number of components or target percentage of variance\n",
    "\n",
    "pca.fit(X_standardized_train) #fit the model to the data\n",
    "eigenvalues = pca.explained_variance_\n",
    "\n",
    "X_standardized_train_PCA = pca.transform(X_standardized_train) #find principal components\n",
    "n = X_standardized_train_PCA.shape[1] # how many eigenvectors we choose\n",
    "\n",
    "print(\"we need %d PCs to explain %.2f percent of variance\"%(n,100*p))"
   ]
  },
  {
   "cell_type": "code",
   "execution_count": 32,
   "metadata": {
    "ExecuteTime": {
     "end_time": "2019-05-08T18:07:22.566917Z",
     "start_time": "2019-05-08T18:07:22.533009Z"
    },
    "scrolled": true
   },
   "outputs": [
    {
     "data": {
      "text/html": [
       "<div>\n",
       "<style scoped>\n",
       "    .dataframe tbody tr th:only-of-type {\n",
       "        vertical-align: middle;\n",
       "    }\n",
       "\n",
       "    .dataframe tbody tr th {\n",
       "        vertical-align: top;\n",
       "    }\n",
       "\n",
       "    .dataframe thead th {\n",
       "        text-align: right;\n",
       "    }\n",
       "</style>\n",
       "<table border=\"1\" class=\"dataframe\">\n",
       "  <thead>\n",
       "    <tr style=\"text-align: right;\">\n",
       "      <th></th>\n",
       "      <th>0</th>\n",
       "      <th>1</th>\n",
       "      <th>2</th>\n",
       "      <th>3</th>\n",
       "      <th>4</th>\n",
       "      <th>5</th>\n",
       "      <th>6</th>\n",
       "      <th>7</th>\n",
       "      <th>8</th>\n",
       "      <th>9</th>\n",
       "      <th>10</th>\n",
       "      <th>11</th>\n",
       "      <th>12</th>\n",
       "      <th>13</th>\n",
       "      <th>14</th>\n",
       "    </tr>\n",
       "  </thead>\n",
       "  <tbody>\n",
       "    <tr>\n",
       "      <th>0</th>\n",
       "      <td>1.000000e+00</td>\n",
       "      <td>1.878151e-17</td>\n",
       "      <td>5.295687e-16</td>\n",
       "      <td>2.619411e-16</td>\n",
       "      <td>-4.035066e-17</td>\n",
       "      <td>-4.925322e-16</td>\n",
       "      <td>5.118621e-16</td>\n",
       "      <td>-5.932784e-18</td>\n",
       "      <td>1.732827e-16</td>\n",
       "      <td>-1.502038e-16</td>\n",
       "      <td>-6.904834e-17</td>\n",
       "      <td>-9.794469e-16</td>\n",
       "      <td>-4.048207e-16</td>\n",
       "      <td>-1.725919e-16</td>\n",
       "      <td>2.350322e-16</td>\n",
       "    </tr>\n",
       "    <tr>\n",
       "      <th>1</th>\n",
       "      <td>1.878151e-17</td>\n",
       "      <td>1.000000e+00</td>\n",
       "      <td>2.659003e-17</td>\n",
       "      <td>3.537882e-16</td>\n",
       "      <td>2.249530e-16</td>\n",
       "      <td>-1.127253e-17</td>\n",
       "      <td>-7.467192e-17</td>\n",
       "      <td>-2.280450e-16</td>\n",
       "      <td>-1.503306e-16</td>\n",
       "      <td>4.367457e-18</td>\n",
       "      <td>-6.246816e-17</td>\n",
       "      <td>-4.485273e-16</td>\n",
       "      <td>-8.591184e-17</td>\n",
       "      <td>-2.243636e-16</td>\n",
       "      <td>3.206445e-17</td>\n",
       "    </tr>\n",
       "    <tr>\n",
       "      <th>2</th>\n",
       "      <td>5.295687e-16</td>\n",
       "      <td>2.659003e-17</td>\n",
       "      <td>1.000000e+00</td>\n",
       "      <td>3.750312e-16</td>\n",
       "      <td>1.292651e-16</td>\n",
       "      <td>-1.168826e-16</td>\n",
       "      <td>-9.985727e-16</td>\n",
       "      <td>-2.820488e-17</td>\n",
       "      <td>-3.218729e-16</td>\n",
       "      <td>6.865072e-16</td>\n",
       "      <td>-8.498182e-17</td>\n",
       "      <td>2.746039e-16</td>\n",
       "      <td>-6.843960e-17</td>\n",
       "      <td>-6.247686e-16</td>\n",
       "      <td>-6.142220e-16</td>\n",
       "    </tr>\n",
       "    <tr>\n",
       "      <th>3</th>\n",
       "      <td>2.619411e-16</td>\n",
       "      <td>3.537882e-16</td>\n",
       "      <td>3.750312e-16</td>\n",
       "      <td>1.000000e+00</td>\n",
       "      <td>1.819065e-16</td>\n",
       "      <td>-1.208781e-16</td>\n",
       "      <td>1.256900e-16</td>\n",
       "      <td>-2.577959e-17</td>\n",
       "      <td>1.665624e-16</td>\n",
       "      <td>-4.407846e-16</td>\n",
       "      <td>-5.031755e-16</td>\n",
       "      <td>3.174402e-16</td>\n",
       "      <td>-2.537183e-16</td>\n",
       "      <td>1.791237e-16</td>\n",
       "      <td>-2.558707e-16</td>\n",
       "    </tr>\n",
       "    <tr>\n",
       "      <th>4</th>\n",
       "      <td>-4.035066e-17</td>\n",
       "      <td>2.249530e-16</td>\n",
       "      <td>1.292651e-16</td>\n",
       "      <td>1.819065e-16</td>\n",
       "      <td>1.000000e+00</td>\n",
       "      <td>6.985709e-16</td>\n",
       "      <td>-4.607281e-16</td>\n",
       "      <td>1.273906e-16</td>\n",
       "      <td>4.944309e-17</td>\n",
       "      <td>2.168752e-16</td>\n",
       "      <td>2.721641e-16</td>\n",
       "      <td>3.006238e-16</td>\n",
       "      <td>-1.379807e-17</td>\n",
       "      <td>-2.342000e-16</td>\n",
       "      <td>1.692993e-16</td>\n",
       "    </tr>\n",
       "    <tr>\n",
       "      <th>5</th>\n",
       "      <td>-4.925322e-16</td>\n",
       "      <td>-1.127253e-17</td>\n",
       "      <td>-1.168826e-16</td>\n",
       "      <td>-1.208781e-16</td>\n",
       "      <td>6.985709e-16</td>\n",
       "      <td>1.000000e+00</td>\n",
       "      <td>-3.668181e-16</td>\n",
       "      <td>-1.443000e-16</td>\n",
       "      <td>-5.504204e-16</td>\n",
       "      <td>-5.562372e-16</td>\n",
       "      <td>-3.156744e-16</td>\n",
       "      <td>-6.451722e-17</td>\n",
       "      <td>-1.387054e-16</td>\n",
       "      <td>1.356521e-16</td>\n",
       "      <td>-1.778072e-16</td>\n",
       "    </tr>\n",
       "    <tr>\n",
       "      <th>6</th>\n",
       "      <td>5.118621e-16</td>\n",
       "      <td>-7.467192e-17</td>\n",
       "      <td>-9.985727e-16</td>\n",
       "      <td>1.256900e-16</td>\n",
       "      <td>-4.607281e-16</td>\n",
       "      <td>-3.668181e-16</td>\n",
       "      <td>1.000000e+00</td>\n",
       "      <td>-8.156709e-16</td>\n",
       "      <td>-4.799855e-17</td>\n",
       "      <td>-1.969124e-16</td>\n",
       "      <td>3.834763e-16</td>\n",
       "      <td>-5.843406e-18</td>\n",
       "      <td>-1.073312e-16</td>\n",
       "      <td>-5.355159e-16</td>\n",
       "      <td>-2.131768e-16</td>\n",
       "    </tr>\n",
       "    <tr>\n",
       "      <th>7</th>\n",
       "      <td>-5.932784e-18</td>\n",
       "      <td>-2.280450e-16</td>\n",
       "      <td>-2.820488e-17</td>\n",
       "      <td>-2.577959e-17</td>\n",
       "      <td>1.273906e-16</td>\n",
       "      <td>-1.443000e-16</td>\n",
       "      <td>-8.156709e-16</td>\n",
       "      <td>1.000000e+00</td>\n",
       "      <td>-3.319847e-16</td>\n",
       "      <td>-3.069395e-16</td>\n",
       "      <td>-5.256408e-18</td>\n",
       "      <td>1.480165e-16</td>\n",
       "      <td>-8.510744e-17</td>\n",
       "      <td>2.492929e-18</td>\n",
       "      <td>-3.318615e-16</td>\n",
       "    </tr>\n",
       "    <tr>\n",
       "      <th>8</th>\n",
       "      <td>1.732827e-16</td>\n",
       "      <td>-1.503306e-16</td>\n",
       "      <td>-3.218729e-16</td>\n",
       "      <td>1.665624e-16</td>\n",
       "      <td>4.944309e-17</td>\n",
       "      <td>-5.504204e-16</td>\n",
       "      <td>-4.799855e-17</td>\n",
       "      <td>-3.319847e-16</td>\n",
       "      <td>1.000000e+00</td>\n",
       "      <td>-4.000281e-17</td>\n",
       "      <td>4.798840e-16</td>\n",
       "      <td>2.124023e-16</td>\n",
       "      <td>-1.545326e-16</td>\n",
       "      <td>-2.080774e-16</td>\n",
       "      <td>1.633690e-16</td>\n",
       "    </tr>\n",
       "    <tr>\n",
       "      <th>9</th>\n",
       "      <td>-1.502038e-16</td>\n",
       "      <td>4.367457e-18</td>\n",
       "      <td>6.865072e-16</td>\n",
       "      <td>-4.407846e-16</td>\n",
       "      <td>2.168752e-16</td>\n",
       "      <td>-5.562372e-16</td>\n",
       "      <td>-1.969124e-16</td>\n",
       "      <td>-3.069395e-16</td>\n",
       "      <td>-4.000281e-17</td>\n",
       "      <td>1.000000e+00</td>\n",
       "      <td>-4.025790e-16</td>\n",
       "      <td>1.133063e-16</td>\n",
       "      <td>-2.679802e-16</td>\n",
       "      <td>4.915901e-16</td>\n",
       "      <td>9.645606e-17</td>\n",
       "    </tr>\n",
       "    <tr>\n",
       "      <th>10</th>\n",
       "      <td>-6.904834e-17</td>\n",
       "      <td>-6.246816e-17</td>\n",
       "      <td>-8.498182e-17</td>\n",
       "      <td>-5.031755e-16</td>\n",
       "      <td>2.721641e-16</td>\n",
       "      <td>-3.156744e-16</td>\n",
       "      <td>3.834763e-16</td>\n",
       "      <td>-5.256408e-18</td>\n",
       "      <td>4.798840e-16</td>\n",
       "      <td>-4.025790e-16</td>\n",
       "      <td>1.000000e+00</td>\n",
       "      <td>5.438746e-16</td>\n",
       "      <td>-1.075680e-15</td>\n",
       "      <td>9.401628e-18</td>\n",
       "      <td>5.495556e-19</td>\n",
       "    </tr>\n",
       "    <tr>\n",
       "      <th>11</th>\n",
       "      <td>-9.794469e-16</td>\n",
       "      <td>-4.485273e-16</td>\n",
       "      <td>2.746039e-16</td>\n",
       "      <td>3.174402e-16</td>\n",
       "      <td>3.006238e-16</td>\n",
       "      <td>-6.451722e-17</td>\n",
       "      <td>-5.843406e-18</td>\n",
       "      <td>1.480165e-16</td>\n",
       "      <td>2.124023e-16</td>\n",
       "      <td>1.133063e-16</td>\n",
       "      <td>5.438746e-16</td>\n",
       "      <td>1.000000e+00</td>\n",
       "      <td>5.741950e-16</td>\n",
       "      <td>2.756438e-16</td>\n",
       "      <td>8.153753e-16</td>\n",
       "    </tr>\n",
       "    <tr>\n",
       "      <th>12</th>\n",
       "      <td>-4.048207e-16</td>\n",
       "      <td>-8.591184e-17</td>\n",
       "      <td>-6.843960e-17</td>\n",
       "      <td>-2.537183e-16</td>\n",
       "      <td>-1.379807e-17</td>\n",
       "      <td>-1.387054e-16</td>\n",
       "      <td>-1.073312e-16</td>\n",
       "      <td>-8.510744e-17</td>\n",
       "      <td>-1.545326e-16</td>\n",
       "      <td>-2.679802e-16</td>\n",
       "      <td>-1.075680e-15</td>\n",
       "      <td>5.741950e-16</td>\n",
       "      <td>1.000000e+00</td>\n",
       "      <td>-5.675375e-16</td>\n",
       "      <td>-3.271438e-16</td>\n",
       "    </tr>\n",
       "    <tr>\n",
       "      <th>13</th>\n",
       "      <td>-1.725919e-16</td>\n",
       "      <td>-2.243636e-16</td>\n",
       "      <td>-6.247686e-16</td>\n",
       "      <td>1.791237e-16</td>\n",
       "      <td>-2.342000e-16</td>\n",
       "      <td>1.356521e-16</td>\n",
       "      <td>-5.355159e-16</td>\n",
       "      <td>2.492929e-18</td>\n",
       "      <td>-2.080774e-16</td>\n",
       "      <td>4.915901e-16</td>\n",
       "      <td>9.401628e-18</td>\n",
       "      <td>2.756438e-16</td>\n",
       "      <td>-5.675375e-16</td>\n",
       "      <td>1.000000e+00</td>\n",
       "      <td>-1.463680e-15</td>\n",
       "    </tr>\n",
       "    <tr>\n",
       "      <th>14</th>\n",
       "      <td>2.350322e-16</td>\n",
       "      <td>3.206445e-17</td>\n",
       "      <td>-6.142220e-16</td>\n",
       "      <td>-2.558707e-16</td>\n",
       "      <td>1.692993e-16</td>\n",
       "      <td>-1.778072e-16</td>\n",
       "      <td>-2.131768e-16</td>\n",
       "      <td>-3.318615e-16</td>\n",
       "      <td>1.633690e-16</td>\n",
       "      <td>9.645606e-17</td>\n",
       "      <td>5.495556e-19</td>\n",
       "      <td>8.153753e-16</td>\n",
       "      <td>-3.271438e-16</td>\n",
       "      <td>-1.463680e-15</td>\n",
       "      <td>1.000000e+00</td>\n",
       "    </tr>\n",
       "  </tbody>\n",
       "</table>\n",
       "</div>"
      ],
      "text/plain": [
       "              0             1             2             3             4   \\\n",
       "0   1.000000e+00  1.878151e-17  5.295687e-16  2.619411e-16 -4.035066e-17   \n",
       "1   1.878151e-17  1.000000e+00  2.659003e-17  3.537882e-16  2.249530e-16   \n",
       "2   5.295687e-16  2.659003e-17  1.000000e+00  3.750312e-16  1.292651e-16   \n",
       "3   2.619411e-16  3.537882e-16  3.750312e-16  1.000000e+00  1.819065e-16   \n",
       "4  -4.035066e-17  2.249530e-16  1.292651e-16  1.819065e-16  1.000000e+00   \n",
       "5  -4.925322e-16 -1.127253e-17 -1.168826e-16 -1.208781e-16  6.985709e-16   \n",
       "6   5.118621e-16 -7.467192e-17 -9.985727e-16  1.256900e-16 -4.607281e-16   \n",
       "7  -5.932784e-18 -2.280450e-16 -2.820488e-17 -2.577959e-17  1.273906e-16   \n",
       "8   1.732827e-16 -1.503306e-16 -3.218729e-16  1.665624e-16  4.944309e-17   \n",
       "9  -1.502038e-16  4.367457e-18  6.865072e-16 -4.407846e-16  2.168752e-16   \n",
       "10 -6.904834e-17 -6.246816e-17 -8.498182e-17 -5.031755e-16  2.721641e-16   \n",
       "11 -9.794469e-16 -4.485273e-16  2.746039e-16  3.174402e-16  3.006238e-16   \n",
       "12 -4.048207e-16 -8.591184e-17 -6.843960e-17 -2.537183e-16 -1.379807e-17   \n",
       "13 -1.725919e-16 -2.243636e-16 -6.247686e-16  1.791237e-16 -2.342000e-16   \n",
       "14  2.350322e-16  3.206445e-17 -6.142220e-16 -2.558707e-16  1.692993e-16   \n",
       "\n",
       "              5             6             7             8             9   \\\n",
       "0  -4.925322e-16  5.118621e-16 -5.932784e-18  1.732827e-16 -1.502038e-16   \n",
       "1  -1.127253e-17 -7.467192e-17 -2.280450e-16 -1.503306e-16  4.367457e-18   \n",
       "2  -1.168826e-16 -9.985727e-16 -2.820488e-17 -3.218729e-16  6.865072e-16   \n",
       "3  -1.208781e-16  1.256900e-16 -2.577959e-17  1.665624e-16 -4.407846e-16   \n",
       "4   6.985709e-16 -4.607281e-16  1.273906e-16  4.944309e-17  2.168752e-16   \n",
       "5   1.000000e+00 -3.668181e-16 -1.443000e-16 -5.504204e-16 -5.562372e-16   \n",
       "6  -3.668181e-16  1.000000e+00 -8.156709e-16 -4.799855e-17 -1.969124e-16   \n",
       "7  -1.443000e-16 -8.156709e-16  1.000000e+00 -3.319847e-16 -3.069395e-16   \n",
       "8  -5.504204e-16 -4.799855e-17 -3.319847e-16  1.000000e+00 -4.000281e-17   \n",
       "9  -5.562372e-16 -1.969124e-16 -3.069395e-16 -4.000281e-17  1.000000e+00   \n",
       "10 -3.156744e-16  3.834763e-16 -5.256408e-18  4.798840e-16 -4.025790e-16   \n",
       "11 -6.451722e-17 -5.843406e-18  1.480165e-16  2.124023e-16  1.133063e-16   \n",
       "12 -1.387054e-16 -1.073312e-16 -8.510744e-17 -1.545326e-16 -2.679802e-16   \n",
       "13  1.356521e-16 -5.355159e-16  2.492929e-18 -2.080774e-16  4.915901e-16   \n",
       "14 -1.778072e-16 -2.131768e-16 -3.318615e-16  1.633690e-16  9.645606e-17   \n",
       "\n",
       "              10            11            12            13            14  \n",
       "0  -6.904834e-17 -9.794469e-16 -4.048207e-16 -1.725919e-16  2.350322e-16  \n",
       "1  -6.246816e-17 -4.485273e-16 -8.591184e-17 -2.243636e-16  3.206445e-17  \n",
       "2  -8.498182e-17  2.746039e-16 -6.843960e-17 -6.247686e-16 -6.142220e-16  \n",
       "3  -5.031755e-16  3.174402e-16 -2.537183e-16  1.791237e-16 -2.558707e-16  \n",
       "4   2.721641e-16  3.006238e-16 -1.379807e-17 -2.342000e-16  1.692993e-16  \n",
       "5  -3.156744e-16 -6.451722e-17 -1.387054e-16  1.356521e-16 -1.778072e-16  \n",
       "6   3.834763e-16 -5.843406e-18 -1.073312e-16 -5.355159e-16 -2.131768e-16  \n",
       "7  -5.256408e-18  1.480165e-16 -8.510744e-17  2.492929e-18 -3.318615e-16  \n",
       "8   4.798840e-16  2.124023e-16 -1.545326e-16 -2.080774e-16  1.633690e-16  \n",
       "9  -4.025790e-16  1.133063e-16 -2.679802e-16  4.915901e-16  9.645606e-17  \n",
       "10  1.000000e+00  5.438746e-16 -1.075680e-15  9.401628e-18  5.495556e-19  \n",
       "11  5.438746e-16  1.000000e+00  5.741950e-16  2.756438e-16  8.153753e-16  \n",
       "12 -1.075680e-15  5.741950e-16  1.000000e+00 -5.675375e-16 -3.271438e-16  \n",
       "13  9.401628e-18  2.756438e-16 -5.675375e-16  1.000000e+00 -1.463680e-15  \n",
       "14  5.495556e-19  8.153753e-16 -3.271438e-16 -1.463680e-15  1.000000e+00  "
      ]
     },
     "execution_count": 32,
     "metadata": {},
     "output_type": "execute_result"
    }
   ],
   "source": [
    "pd.DataFrame(X_standardized_train_PCA).corr()"
   ]
  },
  {
   "cell_type": "code",
   "execution_count": 33,
   "metadata": {
    "ExecuteTime": {
     "end_time": "2019-05-08T18:07:22.590853Z",
     "start_time": "2019-05-08T18:07:22.567914Z"
    },
    "scrolled": true
   },
   "outputs": [
    {
     "data": {
      "text/html": [
       "<div>\n",
       "<style scoped>\n",
       "    .dataframe tbody tr th:only-of-type {\n",
       "        vertical-align: middle;\n",
       "    }\n",
       "\n",
       "    .dataframe tbody tr th {\n",
       "        vertical-align: top;\n",
       "    }\n",
       "\n",
       "    .dataframe thead th {\n",
       "        text-align: right;\n",
       "    }\n",
       "</style>\n",
       "<table border=\"1\" class=\"dataframe\">\n",
       "  <thead>\n",
       "    <tr style=\"text-align: right;\">\n",
       "      <th></th>\n",
       "      <th>0</th>\n",
       "      <th>1</th>\n",
       "      <th>2</th>\n",
       "      <th>3</th>\n",
       "      <th>4</th>\n",
       "      <th>5</th>\n",
       "      <th>6</th>\n",
       "      <th>7</th>\n",
       "      <th>8</th>\n",
       "      <th>9</th>\n",
       "      <th>10</th>\n",
       "      <th>11</th>\n",
       "      <th>12</th>\n",
       "      <th>13</th>\n",
       "      <th>14</th>\n",
       "    </tr>\n",
       "  </thead>\n",
       "  <tbody>\n",
       "    <tr>\n",
       "      <th>0</th>\n",
       "      <td>1.000000</td>\n",
       "      <td>-0.029686</td>\n",
       "      <td>-0.025594</td>\n",
       "      <td>0.002038</td>\n",
       "      <td>0.046722</td>\n",
       "      <td>-0.014042</td>\n",
       "      <td>0.050131</td>\n",
       "      <td>-0.027358</td>\n",
       "      <td>-0.109330</td>\n",
       "      <td>-0.082581</td>\n",
       "      <td>0.072338</td>\n",
       "      <td>0.000528</td>\n",
       "      <td>-0.013533</td>\n",
       "      <td>0.047147</td>\n",
       "      <td>-0.006422</td>\n",
       "    </tr>\n",
       "    <tr>\n",
       "      <th>1</th>\n",
       "      <td>-0.029686</td>\n",
       "      <td>1.000000</td>\n",
       "      <td>0.013865</td>\n",
       "      <td>0.041528</td>\n",
       "      <td>0.007341</td>\n",
       "      <td>0.045636</td>\n",
       "      <td>0.011851</td>\n",
       "      <td>0.024941</td>\n",
       "      <td>-0.054394</td>\n",
       "      <td>-0.001933</td>\n",
       "      <td>-0.004336</td>\n",
       "      <td>-0.011431</td>\n",
       "      <td>0.000001</td>\n",
       "      <td>0.020666</td>\n",
       "      <td>0.022469</td>\n",
       "    </tr>\n",
       "    <tr>\n",
       "      <th>2</th>\n",
       "      <td>-0.025594</td>\n",
       "      <td>0.013865</td>\n",
       "      <td>1.000000</td>\n",
       "      <td>0.063005</td>\n",
       "      <td>0.029079</td>\n",
       "      <td>-0.288637</td>\n",
       "      <td>-0.121459</td>\n",
       "      <td>0.002370</td>\n",
       "      <td>0.151756</td>\n",
       "      <td>-0.024226</td>\n",
       "      <td>-0.050201</td>\n",
       "      <td>-0.092689</td>\n",
       "      <td>-0.020286</td>\n",
       "      <td>-0.018580</td>\n",
       "      <td>-0.530417</td>\n",
       "    </tr>\n",
       "    <tr>\n",
       "      <th>3</th>\n",
       "      <td>0.002038</td>\n",
       "      <td>0.041528</td>\n",
       "      <td>0.063005</td>\n",
       "      <td>1.000000</td>\n",
       "      <td>-0.048121</td>\n",
       "      <td>0.145380</td>\n",
       "      <td>-0.003478</td>\n",
       "      <td>-0.019495</td>\n",
       "      <td>0.000130</td>\n",
       "      <td>0.034891</td>\n",
       "      <td>0.058487</td>\n",
       "      <td>-0.050840</td>\n",
       "      <td>0.115666</td>\n",
       "      <td>0.057507</td>\n",
       "      <td>0.041370</td>\n",
       "    </tr>\n",
       "    <tr>\n",
       "      <th>4</th>\n",
       "      <td>0.046722</td>\n",
       "      <td>0.007341</td>\n",
       "      <td>0.029079</td>\n",
       "      <td>-0.048121</td>\n",
       "      <td>1.000000</td>\n",
       "      <td>0.038568</td>\n",
       "      <td>-0.004802</td>\n",
       "      <td>-0.011153</td>\n",
       "      <td>0.035280</td>\n",
       "      <td>-0.013591</td>\n",
       "      <td>-0.036308</td>\n",
       "      <td>-0.025948</td>\n",
       "      <td>-0.031577</td>\n",
       "      <td>0.033597</td>\n",
       "      <td>-0.034788</td>\n",
       "    </tr>\n",
       "    <tr>\n",
       "      <th>5</th>\n",
       "      <td>-0.014042</td>\n",
       "      <td>0.045636</td>\n",
       "      <td>-0.288637</td>\n",
       "      <td>0.145380</td>\n",
       "      <td>0.038568</td>\n",
       "      <td>1.000000</td>\n",
       "      <td>0.260797</td>\n",
       "      <td>0.138296</td>\n",
       "      <td>-0.382568</td>\n",
       "      <td>0.157514</td>\n",
       "      <td>0.017574</td>\n",
       "      <td>0.092986</td>\n",
       "      <td>0.152778</td>\n",
       "      <td>-0.039204</td>\n",
       "      <td>-0.235543</td>\n",
       "    </tr>\n",
       "    <tr>\n",
       "      <th>6</th>\n",
       "      <td>0.050131</td>\n",
       "      <td>0.011851</td>\n",
       "      <td>-0.121459</td>\n",
       "      <td>-0.003478</td>\n",
       "      <td>-0.004802</td>\n",
       "      <td>0.260797</td>\n",
       "      <td>1.000000</td>\n",
       "      <td>0.029704</td>\n",
       "      <td>-0.434429</td>\n",
       "      <td>0.036416</td>\n",
       "      <td>-0.091438</td>\n",
       "      <td>-0.128609</td>\n",
       "      <td>-0.006467</td>\n",
       "      <td>-0.003432</td>\n",
       "      <td>0.151213</td>\n",
       "    </tr>\n",
       "    <tr>\n",
       "      <th>7</th>\n",
       "      <td>-0.027358</td>\n",
       "      <td>0.024941</td>\n",
       "      <td>0.002370</td>\n",
       "      <td>-0.019495</td>\n",
       "      <td>-0.011153</td>\n",
       "      <td>0.138296</td>\n",
       "      <td>0.029704</td>\n",
       "      <td>1.000000</td>\n",
       "      <td>0.156933</td>\n",
       "      <td>-0.093666</td>\n",
       "      <td>-0.000421</td>\n",
       "      <td>-0.032823</td>\n",
       "      <td>-0.050850</td>\n",
       "      <td>0.018774</td>\n",
       "      <td>-0.039006</td>\n",
       "    </tr>\n",
       "    <tr>\n",
       "      <th>8</th>\n",
       "      <td>-0.109330</td>\n",
       "      <td>-0.054394</td>\n",
       "      <td>0.151756</td>\n",
       "      <td>0.000130</td>\n",
       "      <td>0.035280</td>\n",
       "      <td>-0.382568</td>\n",
       "      <td>-0.434429</td>\n",
       "      <td>0.156933</td>\n",
       "      <td>1.000000</td>\n",
       "      <td>0.181040</td>\n",
       "      <td>-0.215034</td>\n",
       "      <td>-0.185946</td>\n",
       "      <td>0.043082</td>\n",
       "      <td>0.003308</td>\n",
       "      <td>0.178635</td>\n",
       "    </tr>\n",
       "    <tr>\n",
       "      <th>9</th>\n",
       "      <td>-0.082581</td>\n",
       "      <td>-0.001933</td>\n",
       "      <td>-0.024226</td>\n",
       "      <td>0.034891</td>\n",
       "      <td>-0.013591</td>\n",
       "      <td>0.157514</td>\n",
       "      <td>0.036416</td>\n",
       "      <td>-0.093666</td>\n",
       "      <td>0.181040</td>\n",
       "      <td>1.000000</td>\n",
       "      <td>0.119009</td>\n",
       "      <td>-0.315817</td>\n",
       "      <td>0.110825</td>\n",
       "      <td>0.076024</td>\n",
       "      <td>-0.103620</td>\n",
       "    </tr>\n",
       "    <tr>\n",
       "      <th>10</th>\n",
       "      <td>0.072338</td>\n",
       "      <td>-0.004336</td>\n",
       "      <td>-0.050201</td>\n",
       "      <td>0.058487</td>\n",
       "      <td>-0.036308</td>\n",
       "      <td>0.017574</td>\n",
       "      <td>-0.091438</td>\n",
       "      <td>-0.000421</td>\n",
       "      <td>-0.215034</td>\n",
       "      <td>0.119009</td>\n",
       "      <td>1.000000</td>\n",
       "      <td>-0.555611</td>\n",
       "      <td>0.119578</td>\n",
       "      <td>0.028407</td>\n",
       "      <td>-0.127152</td>\n",
       "    </tr>\n",
       "    <tr>\n",
       "      <th>11</th>\n",
       "      <td>0.000528</td>\n",
       "      <td>-0.011431</td>\n",
       "      <td>-0.092689</td>\n",
       "      <td>-0.050840</td>\n",
       "      <td>-0.025948</td>\n",
       "      <td>0.092986</td>\n",
       "      <td>-0.128609</td>\n",
       "      <td>-0.032823</td>\n",
       "      <td>-0.185946</td>\n",
       "      <td>-0.315817</td>\n",
       "      <td>-0.555611</td>\n",
       "      <td>1.000000</td>\n",
       "      <td>-0.432335</td>\n",
       "      <td>0.010192</td>\n",
       "      <td>-0.077041</td>\n",
       "    </tr>\n",
       "    <tr>\n",
       "      <th>12</th>\n",
       "      <td>-0.013533</td>\n",
       "      <td>0.000001</td>\n",
       "      <td>-0.020286</td>\n",
       "      <td>0.115666</td>\n",
       "      <td>-0.031577</td>\n",
       "      <td>0.152778</td>\n",
       "      <td>-0.006467</td>\n",
       "      <td>-0.050850</td>\n",
       "      <td>0.043082</td>\n",
       "      <td>0.110825</td>\n",
       "      <td>0.119578</td>\n",
       "      <td>-0.432335</td>\n",
       "      <td>1.000000</td>\n",
       "      <td>0.131834</td>\n",
       "      <td>-0.109144</td>\n",
       "    </tr>\n",
       "    <tr>\n",
       "      <th>13</th>\n",
       "      <td>0.047147</td>\n",
       "      <td>0.020666</td>\n",
       "      <td>-0.018580</td>\n",
       "      <td>0.057507</td>\n",
       "      <td>0.033597</td>\n",
       "      <td>-0.039204</td>\n",
       "      <td>-0.003432</td>\n",
       "      <td>0.018774</td>\n",
       "      <td>0.003308</td>\n",
       "      <td>0.076024</td>\n",
       "      <td>0.028407</td>\n",
       "      <td>0.010192</td>\n",
       "      <td>0.131834</td>\n",
       "      <td>1.000000</td>\n",
       "      <td>-0.130977</td>\n",
       "    </tr>\n",
       "    <tr>\n",
       "      <th>14</th>\n",
       "      <td>-0.006422</td>\n",
       "      <td>0.022469</td>\n",
       "      <td>-0.530417</td>\n",
       "      <td>0.041370</td>\n",
       "      <td>-0.034788</td>\n",
       "      <td>-0.235543</td>\n",
       "      <td>0.151213</td>\n",
       "      <td>-0.039006</td>\n",
       "      <td>0.178635</td>\n",
       "      <td>-0.103620</td>\n",
       "      <td>-0.127152</td>\n",
       "      <td>-0.077041</td>\n",
       "      <td>-0.109144</td>\n",
       "      <td>-0.130977</td>\n",
       "      <td>1.000000</td>\n",
       "    </tr>\n",
       "  </tbody>\n",
       "</table>\n",
       "</div>"
      ],
      "text/plain": [
       "          0         1         2         3         4         5         6   \\\n",
       "0   1.000000 -0.029686 -0.025594  0.002038  0.046722 -0.014042  0.050131   \n",
       "1  -0.029686  1.000000  0.013865  0.041528  0.007341  0.045636  0.011851   \n",
       "2  -0.025594  0.013865  1.000000  0.063005  0.029079 -0.288637 -0.121459   \n",
       "3   0.002038  0.041528  0.063005  1.000000 -0.048121  0.145380 -0.003478   \n",
       "4   0.046722  0.007341  0.029079 -0.048121  1.000000  0.038568 -0.004802   \n",
       "5  -0.014042  0.045636 -0.288637  0.145380  0.038568  1.000000  0.260797   \n",
       "6   0.050131  0.011851 -0.121459 -0.003478 -0.004802  0.260797  1.000000   \n",
       "7  -0.027358  0.024941  0.002370 -0.019495 -0.011153  0.138296  0.029704   \n",
       "8  -0.109330 -0.054394  0.151756  0.000130  0.035280 -0.382568 -0.434429   \n",
       "9  -0.082581 -0.001933 -0.024226  0.034891 -0.013591  0.157514  0.036416   \n",
       "10  0.072338 -0.004336 -0.050201  0.058487 -0.036308  0.017574 -0.091438   \n",
       "11  0.000528 -0.011431 -0.092689 -0.050840 -0.025948  0.092986 -0.128609   \n",
       "12 -0.013533  0.000001 -0.020286  0.115666 -0.031577  0.152778 -0.006467   \n",
       "13  0.047147  0.020666 -0.018580  0.057507  0.033597 -0.039204 -0.003432   \n",
       "14 -0.006422  0.022469 -0.530417  0.041370 -0.034788 -0.235543  0.151213   \n",
       "\n",
       "          7         8         9         10        11        12        13  \\\n",
       "0  -0.027358 -0.109330 -0.082581  0.072338  0.000528 -0.013533  0.047147   \n",
       "1   0.024941 -0.054394 -0.001933 -0.004336 -0.011431  0.000001  0.020666   \n",
       "2   0.002370  0.151756 -0.024226 -0.050201 -0.092689 -0.020286 -0.018580   \n",
       "3  -0.019495  0.000130  0.034891  0.058487 -0.050840  0.115666  0.057507   \n",
       "4  -0.011153  0.035280 -0.013591 -0.036308 -0.025948 -0.031577  0.033597   \n",
       "5   0.138296 -0.382568  0.157514  0.017574  0.092986  0.152778 -0.039204   \n",
       "6   0.029704 -0.434429  0.036416 -0.091438 -0.128609 -0.006467 -0.003432   \n",
       "7   1.000000  0.156933 -0.093666 -0.000421 -0.032823 -0.050850  0.018774   \n",
       "8   0.156933  1.000000  0.181040 -0.215034 -0.185946  0.043082  0.003308   \n",
       "9  -0.093666  0.181040  1.000000  0.119009 -0.315817  0.110825  0.076024   \n",
       "10 -0.000421 -0.215034  0.119009  1.000000 -0.555611  0.119578  0.028407   \n",
       "11 -0.032823 -0.185946 -0.315817 -0.555611  1.000000 -0.432335  0.010192   \n",
       "12 -0.050850  0.043082  0.110825  0.119578 -0.432335  1.000000  0.131834   \n",
       "13  0.018774  0.003308  0.076024  0.028407  0.010192  0.131834  1.000000   \n",
       "14 -0.039006  0.178635 -0.103620 -0.127152 -0.077041 -0.109144 -0.130977   \n",
       "\n",
       "          14  \n",
       "0  -0.006422  \n",
       "1   0.022469  \n",
       "2  -0.530417  \n",
       "3   0.041370  \n",
       "4  -0.034788  \n",
       "5  -0.235543  \n",
       "6   0.151213  \n",
       "7  -0.039006  \n",
       "8   0.178635  \n",
       "9  -0.103620  \n",
       "10 -0.127152  \n",
       "11 -0.077041  \n",
       "12 -0.109144  \n",
       "13 -0.130977  \n",
       "14  1.000000  "
      ]
     },
     "execution_count": 33,
     "metadata": {},
     "output_type": "execute_result"
    }
   ],
   "source": [
    "X_standardized_test_PCA = pca.transform(X_standardized_test)  #Don't use fit_transform, just apply the pca we learned before\n",
    "pd.DataFrame(X_standardized_test_PCA).corr()"
   ]
  },
  {
   "cell_type": "markdown",
   "metadata": {},
   "source": [
    "# Modeling"
   ]
  },
  {
   "cell_type": "markdown",
   "metadata": {},
   "source": [
    "### predict out of sample\n",
    "http://www.statsmodels.org/0.6.1/examples/notebooks/generated/predict.html"
   ]
  },
  {
   "cell_type": "code",
   "execution_count": 34,
   "metadata": {
    "ExecuteTime": {
     "end_time": "2019-05-08T18:07:22.596837Z",
     "start_time": "2019-05-08T18:07:22.592847Z"
    }
   },
   "outputs": [],
   "source": [
    "from sklearn.metrics import r2_score"
   ]
  },
  {
   "cell_type": "markdown",
   "metadata": {},
   "source": [
    "### Cross-validation\n",
    "https://scikit-learn.org/stable/modules/cross_validation.html  \n",
    "https://scikit-learn.org/stable/modules/generated/sklearn.model_selection.KFold.html  \n",
    "https://morvanzhou.github.io/tutorials/machine-learning/sklearn/3-2-cross-validation1/  \n",
    "\n",
    "Scoring parameter: https://scikit-learn.org/stable/modules/model_evaluation.html"
   ]
  },
  {
   "cell_type": "code",
   "execution_count": 35,
   "metadata": {
    "ExecuteTime": {
     "end_time": "2019-05-08T18:07:22.605813Z",
     "start_time": "2019-05-08T18:07:22.597835Z"
    }
   },
   "outputs": [],
   "source": [
    "from sklearn.model_selection import cross_val_score"
   ]
  },
  {
   "cell_type": "code",
   "execution_count": 36,
   "metadata": {
    "ExecuteTime": {
     "end_time": "2019-05-08T18:07:22.631744Z",
     "start_time": "2019-05-08T18:07:22.606810Z"
    }
   },
   "outputs": [
    {
     "name": "stdout",
     "output_type": "stream",
     "text": [
      "In sample R-squared: 0.687777\n",
      "Out of sample R-squared: 0.735486\n"
     ]
    }
   ],
   "source": [
    "from sklearn.linear_model import LinearRegression\n",
    "reg = LinearRegression().fit(X_train, Y_train)\n",
    "print(\"In sample R-squared: %f\"%reg.score(X_train, Y_train))\n",
    "print(\"Out of sample R-squared: %f\"%reg.score(X_test, Y_test))"
   ]
  },
  {
   "cell_type": "code",
   "execution_count": 37,
   "metadata": {
    "ExecuteTime": {
     "end_time": "2019-05-08T18:07:22.756410Z",
     "start_time": "2019-05-08T18:07:22.632741Z"
    }
   },
   "outputs": [
    {
     "name": "stdout",
     "output_type": "stream",
     "text": [
      "Accuracy: 0.34 (+/- 0.73)\n"
     ]
    },
    {
     "data": {
      "text/plain": [
       "array([ 0.79934916, -0.01850434,  0.85389043,  0.03193803,  0.1479941 ,\n",
       "        0.25610652,  0.18020532, -0.21850572,  0.70843313,  0.66659217])"
      ]
     },
     "execution_count": 37,
     "metadata": {},
     "output_type": "execute_result"
    }
   ],
   "source": [
    "reg = LinearRegression()\n",
    "scores = cross_val_score(reg, X_train, Y_train, cv=10, scoring='r2')\n",
    "print(\"Accuracy: %0.2f (+/- %0.2f)\" % (scores.mean(), scores.std() * 2))\n",
    "scores"
   ]
  },
  {
   "cell_type": "markdown",
   "metadata": {},
   "source": [
    "## Multivariate linear regression model"
   ]
  },
  {
   "cell_type": "code",
   "execution_count": 38,
   "metadata": {
    "ExecuteTime": {
     "end_time": "2019-05-08T18:07:23.466676Z",
     "start_time": "2019-05-08T18:07:22.757407Z"
    }
   },
   "outputs": [],
   "source": [
    "import statsmodels.formula.api as smf\n",
    "import statsmodels.api as sm\n",
    "from sklearn.linear_model import LinearRegression # https://scikit-learn.org/stable/modules/generated/sklearn.linear_model.LinearRegression.html"
   ]
  },
  {
   "cell_type": "markdown",
   "metadata": {},
   "source": [
    "### original"
   ]
  },
  {
   "cell_type": "code",
   "execution_count": 39,
   "metadata": {
    "ExecuteTime": {
     "end_time": "2019-05-08T18:07:23.552984Z",
     "start_time": "2019-05-08T18:07:23.468674Z"
    },
    "scrolled": true
   },
   "outputs": [
    {
     "data": {
      "text/html": [
       "<table class=\"simpletable\">\n",
       "<caption>OLS Regression Results</caption>\n",
       "<tr>\n",
       "  <th>Dep. Variable:</th>       <td>SALE PRICE</td>    <th>  R-squared:         </th>  <td>   0.694</td>  \n",
       "</tr>\n",
       "<tr>\n",
       "  <th>Model:</th>                   <td>OLS</td>       <th>  Adj. R-squared:    </th>  <td>   0.691</td>  \n",
       "</tr>\n",
       "<tr>\n",
       "  <th>Method:</th>             <td>Least Squares</td>  <th>  F-statistic:       </th>  <td>   253.2</td>  \n",
       "</tr>\n",
       "<tr>\n",
       "  <th>Date:</th>             <td>Wed, 08 May 2019</td> <th>  Prob (F-statistic):</th>   <td>  0.00</td>   \n",
       "</tr>\n",
       "<tr>\n",
       "  <th>Time:</th>                 <td>14:07:23</td>     <th>  Log-Likelihood:    </th> <td>-1.0367e+05</td>\n",
       "</tr>\n",
       "<tr>\n",
       "  <th>No. Observations:</th>      <td>  5746</td>      <th>  AIC:               </th>  <td>2.074e+05</td> \n",
       "</tr>\n",
       "<tr>\n",
       "  <th>Df Residuals:</th>          <td>  5695</td>      <th>  BIC:               </th>  <td>2.078e+05</td> \n",
       "</tr>\n",
       "<tr>\n",
       "  <th>Df Model:</th>              <td>    51</td>      <th>                     </th>      <td> </td>     \n",
       "</tr>\n",
       "<tr>\n",
       "  <th>Covariance Type:</th>      <td>nonrobust</td>    <th>                     </th>      <td> </td>     \n",
       "</tr>\n",
       "</table>\n",
       "<table class=\"simpletable\">\n",
       "<tr>\n",
       "             <td></td>               <th>coef</th>     <th>std err</th>      <th>t</th>      <th>P>|t|</th>  <th>[0.025</th>    <th>0.975]</th>  \n",
       "</tr>\n",
       "<tr>\n",
       "  <th>YEAR BUILT</th>             <td> 3.875e+04</td> <td> 4918.358</td> <td>    7.878</td> <td> 0.000</td> <td> 2.91e+04</td> <td> 4.84e+04</td>\n",
       "</tr>\n",
       "<tr>\n",
       "  <th>RESIDENTIAL UNITS</th>      <td>-3.405e+05</td> <td> 3.28e+04</td> <td>  -10.385</td> <td> 0.000</td> <td>-4.05e+05</td> <td>-2.76e+05</td>\n",
       "</tr>\n",
       "<tr>\n",
       "  <th>COMMERCIAL UNITS</th>       <td> 5.397e+05</td> <td>  5.7e+04</td> <td>    9.470</td> <td> 0.000</td> <td> 4.28e+05</td> <td> 6.51e+05</td>\n",
       "</tr>\n",
       "<tr>\n",
       "  <th>TOTAL UNITS</th>            <td> 1.993e+05</td> <td> 3.18e+04</td> <td>    6.263</td> <td> 0.000</td> <td> 1.37e+05</td> <td> 2.62e+05</td>\n",
       "</tr>\n",
       "<tr>\n",
       "  <th>LAND SQUARE FEET</th>       <td> -839.7774</td> <td>  124.120</td> <td>   -6.766</td> <td> 0.000</td> <td>-1083.100</td> <td> -596.454</td>\n",
       "</tr>\n",
       "<tr>\n",
       "  <th>GROSS SQUARE FEET</th>      <td>  777.5728</td> <td>   25.786</td> <td>   30.154</td> <td> 0.000</td> <td>  727.022</td> <td>  828.124</td>\n",
       "</tr>\n",
       "<tr>\n",
       "  <th>easements</th>              <td> 1.486e+06</td> <td>  2.7e+06</td> <td>    0.551</td> <td> 0.582</td> <td> -3.8e+06</td> <td> 6.78e+06</td>\n",
       "</tr>\n",
       "<tr>\n",
       "  <th>lotarea</th>                <td>  -14.2814</td> <td>   21.121</td> <td>   -0.676</td> <td> 0.499</td> <td>  -55.686</td> <td>   27.123</td>\n",
       "</tr>\n",
       "<tr>\n",
       "  <th>bldgarea</th>               <td> -227.8369</td> <td>   32.520</td> <td>   -7.006</td> <td> 0.000</td> <td> -291.589</td> <td> -164.085</td>\n",
       "</tr>\n",
       "<tr>\n",
       "  <th>comarea</th>                <td>  143.0978</td> <td>   44.113</td> <td>    3.244</td> <td> 0.001</td> <td>   56.619</td> <td>  229.576</td>\n",
       "</tr>\n",
       "<tr>\n",
       "  <th>resarea</th>                <td>  208.1415</td> <td>   31.709</td> <td>    6.564</td> <td> 0.000</td> <td>  145.980</td> <td>  270.303</td>\n",
       "</tr>\n",
       "<tr>\n",
       "  <th>officearea</th>             <td> -134.3788</td> <td>   40.765</td> <td>   -3.296</td> <td> 0.001</td> <td> -214.293</td> <td>  -54.465</td>\n",
       "</tr>\n",
       "<tr>\n",
       "  <th>retailarea</th>             <td>  397.9842</td> <td>   37.167</td> <td>   10.708</td> <td> 0.000</td> <td>  325.123</td> <td>  470.846</td>\n",
       "</tr>\n",
       "<tr>\n",
       "  <th>garagearea</th>             <td>   63.0245</td> <td>   51.156</td> <td>    1.232</td> <td> 0.218</td> <td>  -37.261</td> <td>  163.310</td>\n",
       "</tr>\n",
       "<tr>\n",
       "  <th>strgearea</th>              <td> -485.6121</td> <td>   98.466</td> <td>   -4.932</td> <td> 0.000</td> <td> -678.643</td> <td> -292.582</td>\n",
       "</tr>\n",
       "<tr>\n",
       "  <th>factryarea</th>             <td>  180.8951</td> <td>   47.622</td> <td>    3.799</td> <td> 0.000</td> <td>   87.539</td> <td>  274.251</td>\n",
       "</tr>\n",
       "<tr>\n",
       "  <th>otherarea</th>              <td>  361.8590</td> <td>   62.882</td> <td>    5.755</td> <td> 0.000</td> <td>  238.585</td> <td>  485.133</td>\n",
       "</tr>\n",
       "<tr>\n",
       "  <th>numbldgs</th>               <td>-4850.8781</td> <td> 1.16e+05</td> <td>   -0.042</td> <td> 0.967</td> <td>-2.31e+05</td> <td> 2.22e+05</td>\n",
       "</tr>\n",
       "<tr>\n",
       "  <th>numfloors</th>              <td>-1.109e+05</td> <td> 7.61e+04</td> <td>   -1.458</td> <td> 0.145</td> <td> -2.6e+05</td> <td> 3.82e+04</td>\n",
       "</tr>\n",
       "<tr>\n",
       "  <th>unitsres</th>               <td> 4.093e+05</td> <td> 8.28e+04</td> <td>    4.941</td> <td> 0.000</td> <td> 2.47e+05</td> <td> 5.72e+05</td>\n",
       "</tr>\n",
       "<tr>\n",
       "  <th>unitstotal</th>             <td>-4.213e+05</td> <td> 8.26e+04</td> <td>   -5.100</td> <td> 0.000</td> <td>-5.83e+05</td> <td>-2.59e+05</td>\n",
       "</tr>\n",
       "<tr>\n",
       "  <th>lotfront</th>               <td> 1.575e+04</td> <td> 5734.100</td> <td>    2.746</td> <td> 0.006</td> <td> 4507.265</td> <td>  2.7e+04</td>\n",
       "</tr>\n",
       "<tr>\n",
       "  <th>lotdepth</th>               <td>-3915.3151</td> <td> 3931.948</td> <td>   -0.996</td> <td> 0.319</td> <td>-1.16e+04</td> <td> 3792.799</td>\n",
       "</tr>\n",
       "<tr>\n",
       "  <th>bldgfront</th>              <td> 5879.8110</td> <td> 3979.649</td> <td>    1.477</td> <td> 0.140</td> <td>-1921.816</td> <td> 1.37e+04</td>\n",
       "</tr>\n",
       "<tr>\n",
       "  <th>bldgdepth</th>              <td>-3454.8642</td> <td> 3449.754</td> <td>   -1.001</td> <td> 0.317</td> <td>-1.02e+04</td> <td> 3307.967</td>\n",
       "</tr>\n",
       "<tr>\n",
       "  <th>assessland</th>             <td>    1.8147</td> <td>    0.201</td> <td>    9.036</td> <td> 0.000</td> <td>    1.421</td> <td>    2.208</td>\n",
       "</tr>\n",
       "<tr>\n",
       "  <th>assesstot</th>              <td>   -0.0402</td> <td>    0.066</td> <td>   -0.613</td> <td> 0.540</td> <td>   -0.169</td> <td>    0.088</td>\n",
       "</tr>\n",
       "<tr>\n",
       "  <th>exemptland</th>             <td>    2.8880</td> <td>    0.960</td> <td>    3.008</td> <td> 0.003</td> <td>    1.006</td> <td>    4.771</td>\n",
       "</tr>\n",
       "<tr>\n",
       "  <th>exempttot</th>              <td>   -0.4174</td> <td>    0.086</td> <td>   -4.848</td> <td> 0.000</td> <td>   -0.586</td> <td>   -0.249</td>\n",
       "</tr>\n",
       "<tr>\n",
       "  <th>builtfar</th>               <td>-3.107e+05</td> <td> 1.29e+05</td> <td>   -2.400</td> <td> 0.016</td> <td>-5.64e+05</td> <td>-5.69e+04</td>\n",
       "</tr>\n",
       "<tr>\n",
       "  <th>residfar</th>               <td> 6.195e+05</td> <td> 1.81e+05</td> <td>    3.418</td> <td> 0.001</td> <td> 2.64e+05</td> <td> 9.75e+05</td>\n",
       "</tr>\n",
       "<tr>\n",
       "  <th>commfar</th>                <td> 3.532e+05</td> <td> 1.13e+05</td> <td>    3.134</td> <td> 0.002</td> <td> 1.32e+05</td> <td> 5.74e+05</td>\n",
       "</tr>\n",
       "<tr>\n",
       "  <th>facilfar</th>               <td>-1.855e+05</td> <td> 2.11e+05</td> <td>   -0.881</td> <td> 0.378</td> <td>-5.98e+05</td> <td> 2.27e+05</td>\n",
       "</tr>\n",
       "<tr>\n",
       "  <th>DensityPop</th>             <td>-8.513e+07</td> <td> 2.88e+08</td> <td>   -0.295</td> <td> 0.768</td> <td> -6.5e+08</td> <td>  4.8e+08</td>\n",
       "</tr>\n",
       "<tr>\n",
       "  <th>IncomePerCap</th>           <td>  -54.1133</td> <td>   12.300</td> <td>   -4.400</td> <td> 0.000</td> <td>  -78.225</td> <td>  -30.001</td>\n",
       "</tr>\n",
       "<tr>\n",
       "  <th>Poverty</th>                <td>-2.553e+05</td> <td> 5.76e+04</td> <td>   -4.435</td> <td> 0.000</td> <td>-3.68e+05</td> <td>-1.42e+05</td>\n",
       "</tr>\n",
       "<tr>\n",
       "  <th>Professional</th>           <td>-1.176e+05</td> <td> 1.12e+05</td> <td>   -1.047</td> <td> 0.295</td> <td>-3.38e+05</td> <td> 1.03e+05</td>\n",
       "</tr>\n",
       "<tr>\n",
       "  <th>Service</th>                <td>-1.255e+05</td> <td> 1.19e+05</td> <td>   -1.058</td> <td> 0.290</td> <td>-3.58e+05</td> <td> 1.07e+05</td>\n",
       "</tr>\n",
       "<tr>\n",
       "  <th>Office</th>                 <td>-9.901e+04</td> <td> 1.16e+05</td> <td>   -0.853</td> <td> 0.393</td> <td>-3.26e+05</td> <td> 1.28e+05</td>\n",
       "</tr>\n",
       "<tr>\n",
       "  <th>Construction</th>           <td> -4.09e+05</td> <td> 2.11e+05</td> <td>   -1.942</td> <td> 0.052</td> <td>-8.22e+05</td> <td> 3859.928</td>\n",
       "</tr>\n",
       "<tr>\n",
       "  <th>Production</th>             <td>-9.018e+04</td> <td> 1.68e+05</td> <td>   -0.536</td> <td> 0.592</td> <td> -4.2e+05</td> <td>  2.4e+05</td>\n",
       "</tr>\n",
       "<tr>\n",
       "  <th>Employed</th>               <td>  -24.8598</td> <td>  215.870</td> <td>   -0.115</td> <td> 0.908</td> <td> -448.046</td> <td>  398.327</td>\n",
       "</tr>\n",
       "<tr>\n",
       "  <th>Unemployment</th>           <td> 3.416e+05</td> <td> 1.08e+05</td> <td>    3.166</td> <td> 0.002</td> <td>  1.3e+05</td> <td> 5.53e+05</td>\n",
       "</tr>\n",
       "<tr>\n",
       "  <th>distance_subway</th>        <td> 3.795e+08</td> <td> 1.78e+08</td> <td>    2.136</td> <td> 0.033</td> <td> 3.12e+07</td> <td> 7.28e+08</td>\n",
       "</tr>\n",
       "<tr>\n",
       "  <th>distance_bus</th>           <td>-5.558e+08</td> <td> 5.33e+08</td> <td>   -1.044</td> <td> 0.297</td> <td> -1.6e+09</td> <td> 4.88e+08</td>\n",
       "</tr>\n",
       "<tr>\n",
       "  <th>park_num</th>               <td>-6.869e+04</td> <td> 9.06e+04</td> <td>   -0.758</td> <td> 0.448</td> <td>-2.46e+05</td> <td> 1.09e+05</td>\n",
       "</tr>\n",
       "<tr>\n",
       "  <th>park_area</th>              <td> 4679.1611</td> <td> 1492.021</td> <td>    3.136</td> <td> 0.002</td> <td> 1754.232</td> <td> 7604.090</td>\n",
       "</tr>\n",
       "<tr>\n",
       "  <th>park_top_level</th>         <td>-1.826e+06</td> <td> 6.72e+05</td> <td>   -2.717</td> <td> 0.007</td> <td>-3.14e+06</td> <td>-5.09e+05</td>\n",
       "</tr>\n",
       "<tr>\n",
       "  <th>park_distance</th>          <td>-6.769e+08</td> <td> 2.95e+08</td> <td>   -2.298</td> <td> 0.022</td> <td>-1.25e+09</td> <td>-9.94e+07</td>\n",
       "</tr>\n",
       "<tr>\n",
       "  <th>crime</th>                  <td>  -11.2876</td> <td>  722.364</td> <td>   -0.016</td> <td> 0.988</td> <td>-1427.395</td> <td> 1404.820</td>\n",
       "</tr>\n",
       "<tr>\n",
       "  <th>Num of SAT Test Takers</th> <td>  524.8619</td> <td>  214.309</td> <td>    2.449</td> <td> 0.014</td> <td>  104.735</td> <td>  944.988</td>\n",
       "</tr>\n",
       "<tr>\n",
       "  <th>sat</th>                    <td> 1.196e+04</td> <td> 6924.015</td> <td>    1.728</td> <td> 0.084</td> <td>-1611.071</td> <td> 2.55e+04</td>\n",
       "</tr>\n",
       "</table>\n",
       "<table class=\"simpletable\">\n",
       "<tr>\n",
       "  <th>Omnibus:</th>       <td>14953.001</td> <th>  Durbin-Watson:     </th>   <td>   2.004</td>   \n",
       "</tr>\n",
       "<tr>\n",
       "  <th>Prob(Omnibus):</th>  <td> 0.000</td>   <th>  Jarque-Bera (JB):  </th> <td>645985320.707</td>\n",
       "</tr>\n",
       "<tr>\n",
       "  <th>Skew:</th>           <td>29.483</td>   <th>  Prob(JB):          </th>   <td>    0.00</td>   \n",
       "</tr>\n",
       "<tr>\n",
       "  <th>Kurtosis:</th>      <td>1644.550</td>  <th>  Cond. No.          </th>   <td>1.08e+16</td>   \n",
       "</tr>\n",
       "</table><br/><br/>Warnings:<br/>[1] Standard Errors assume that the covariance matrix of the errors is correctly specified.<br/>[2] The smallest eigenvalue is 9.24e-14. This might indicate that there are<br/>strong multicollinearity problems or that the design matrix is singular."
      ],
      "text/plain": [
       "<class 'statsmodels.iolib.summary.Summary'>\n",
       "\"\"\"\n",
       "                            OLS Regression Results                            \n",
       "==============================================================================\n",
       "Dep. Variable:             SALE PRICE   R-squared:                       0.694\n",
       "Model:                            OLS   Adj. R-squared:                  0.691\n",
       "Method:                 Least Squares   F-statistic:                     253.2\n",
       "Date:                Wed, 08 May 2019   Prob (F-statistic):               0.00\n",
       "Time:                        14:07:23   Log-Likelihood:            -1.0367e+05\n",
       "No. Observations:                5746   AIC:                         2.074e+05\n",
       "Df Residuals:                    5695   BIC:                         2.078e+05\n",
       "Df Model:                          51                                         \n",
       "Covariance Type:            nonrobust                                         \n",
       "==========================================================================================\n",
       "                             coef    std err          t      P>|t|      [0.025      0.975]\n",
       "------------------------------------------------------------------------------------------\n",
       "YEAR BUILT              3.875e+04   4918.358      7.878      0.000    2.91e+04    4.84e+04\n",
       "RESIDENTIAL UNITS      -3.405e+05   3.28e+04    -10.385      0.000   -4.05e+05   -2.76e+05\n",
       "COMMERCIAL UNITS        5.397e+05    5.7e+04      9.470      0.000    4.28e+05    6.51e+05\n",
       "TOTAL UNITS             1.993e+05   3.18e+04      6.263      0.000    1.37e+05    2.62e+05\n",
       "LAND SQUARE FEET        -839.7774    124.120     -6.766      0.000   -1083.100    -596.454\n",
       "GROSS SQUARE FEET        777.5728     25.786     30.154      0.000     727.022     828.124\n",
       "easements               1.486e+06    2.7e+06      0.551      0.582    -3.8e+06    6.78e+06\n",
       "lotarea                  -14.2814     21.121     -0.676      0.499     -55.686      27.123\n",
       "bldgarea                -227.8369     32.520     -7.006      0.000    -291.589    -164.085\n",
       "comarea                  143.0978     44.113      3.244      0.001      56.619     229.576\n",
       "resarea                  208.1415     31.709      6.564      0.000     145.980     270.303\n",
       "officearea              -134.3788     40.765     -3.296      0.001    -214.293     -54.465\n",
       "retailarea               397.9842     37.167     10.708      0.000     325.123     470.846\n",
       "garagearea                63.0245     51.156      1.232      0.218     -37.261     163.310\n",
       "strgearea               -485.6121     98.466     -4.932      0.000    -678.643    -292.582\n",
       "factryarea               180.8951     47.622      3.799      0.000      87.539     274.251\n",
       "otherarea                361.8590     62.882      5.755      0.000     238.585     485.133\n",
       "numbldgs               -4850.8781   1.16e+05     -0.042      0.967   -2.31e+05    2.22e+05\n",
       "numfloors              -1.109e+05   7.61e+04     -1.458      0.145    -2.6e+05    3.82e+04\n",
       "unitsres                4.093e+05   8.28e+04      4.941      0.000    2.47e+05    5.72e+05\n",
       "unitstotal             -4.213e+05   8.26e+04     -5.100      0.000   -5.83e+05   -2.59e+05\n",
       "lotfront                1.575e+04   5734.100      2.746      0.006    4507.265     2.7e+04\n",
       "lotdepth               -3915.3151   3931.948     -0.996      0.319   -1.16e+04    3792.799\n",
       "bldgfront               5879.8110   3979.649      1.477      0.140   -1921.816    1.37e+04\n",
       "bldgdepth              -3454.8642   3449.754     -1.001      0.317   -1.02e+04    3307.967\n",
       "assessland                 1.8147      0.201      9.036      0.000       1.421       2.208\n",
       "assesstot                 -0.0402      0.066     -0.613      0.540      -0.169       0.088\n",
       "exemptland                 2.8880      0.960      3.008      0.003       1.006       4.771\n",
       "exempttot                 -0.4174      0.086     -4.848      0.000      -0.586      -0.249\n",
       "builtfar               -3.107e+05   1.29e+05     -2.400      0.016   -5.64e+05   -5.69e+04\n",
       "residfar                6.195e+05   1.81e+05      3.418      0.001    2.64e+05    9.75e+05\n",
       "commfar                 3.532e+05   1.13e+05      3.134      0.002    1.32e+05    5.74e+05\n",
       "facilfar               -1.855e+05   2.11e+05     -0.881      0.378   -5.98e+05    2.27e+05\n",
       "DensityPop             -8.513e+07   2.88e+08     -0.295      0.768    -6.5e+08     4.8e+08\n",
       "IncomePerCap             -54.1133     12.300     -4.400      0.000     -78.225     -30.001\n",
       "Poverty                -2.553e+05   5.76e+04     -4.435      0.000   -3.68e+05   -1.42e+05\n",
       "Professional           -1.176e+05   1.12e+05     -1.047      0.295   -3.38e+05    1.03e+05\n",
       "Service                -1.255e+05   1.19e+05     -1.058      0.290   -3.58e+05    1.07e+05\n",
       "Office                 -9.901e+04   1.16e+05     -0.853      0.393   -3.26e+05    1.28e+05\n",
       "Construction            -4.09e+05   2.11e+05     -1.942      0.052   -8.22e+05    3859.928\n",
       "Production             -9.018e+04   1.68e+05     -0.536      0.592    -4.2e+05     2.4e+05\n",
       "Employed                 -24.8598    215.870     -0.115      0.908    -448.046     398.327\n",
       "Unemployment            3.416e+05   1.08e+05      3.166      0.002     1.3e+05    5.53e+05\n",
       "distance_subway         3.795e+08   1.78e+08      2.136      0.033    3.12e+07    7.28e+08\n",
       "distance_bus           -5.558e+08   5.33e+08     -1.044      0.297    -1.6e+09    4.88e+08\n",
       "park_num               -6.869e+04   9.06e+04     -0.758      0.448   -2.46e+05    1.09e+05\n",
       "park_area               4679.1611   1492.021      3.136      0.002    1754.232    7604.090\n",
       "park_top_level         -1.826e+06   6.72e+05     -2.717      0.007   -3.14e+06   -5.09e+05\n",
       "park_distance          -6.769e+08   2.95e+08     -2.298      0.022   -1.25e+09   -9.94e+07\n",
       "crime                    -11.2876    722.364     -0.016      0.988   -1427.395    1404.820\n",
       "Num of SAT Test Takers   524.8619    214.309      2.449      0.014     104.735     944.988\n",
       "sat                     1.196e+04   6924.015      1.728      0.084   -1611.071    2.55e+04\n",
       "==============================================================================\n",
       "Omnibus:                    14953.001   Durbin-Watson:                   2.004\n",
       "Prob(Omnibus):                  0.000   Jarque-Bera (JB):        645985320.707\n",
       "Skew:                          29.483   Prob(JB):                         0.00\n",
       "Kurtosis:                    1644.550   Cond. No.                     1.08e+16\n",
       "==============================================================================\n",
       "\n",
       "Warnings:\n",
       "[1] Standard Errors assume that the covariance matrix of the errors is correctly specified.\n",
       "[2] The smallest eigenvalue is 9.24e-14. This might indicate that there are\n",
       "strong multicollinearity problems or that the design matrix is singular.\n",
       "\"\"\""
      ]
     },
     "execution_count": 39,
     "metadata": {},
     "output_type": "execute_result"
    }
   ],
   "source": [
    "mod = sm.OLS(Y_train, X_train).fit()\n",
    "mod.summary()"
   ]
  },
  {
   "cell_type": "code",
   "execution_count": 40,
   "metadata": {
    "ExecuteTime": {
     "end_time": "2019-05-08T18:07:23.563418Z",
     "start_time": "2019-05-08T18:07:23.553981Z"
    }
   },
   "outputs": [
    {
     "data": {
      "text/plain": [
       "0.7351365908723696"
      ]
     },
     "execution_count": 40,
     "metadata": {},
     "output_type": "execute_result"
    }
   ],
   "source": [
    "Y_pred = mod.predict(X_test)\n",
    "r2_score(Y_test, Y_pred)"
   ]
  },
  {
   "cell_type": "markdown",
   "metadata": {},
   "source": [
    "**Cross-validation**"
   ]
  },
  {
   "cell_type": "code",
   "execution_count": 41,
   "metadata": {
    "ExecuteTime": {
     "end_time": "2019-05-08T18:07:23.586793Z",
     "start_time": "2019-05-08T18:07:23.564411Z"
    },
    "scrolled": true
   },
   "outputs": [
    {
     "name": "stdout",
     "output_type": "stream",
     "text": [
      "In sample R-squared: 0.687777\n",
      "Out of sample R-squared: 0.735486\n"
     ]
    }
   ],
   "source": [
    "reg = LinearRegression().fit(X_train, Y_train)\n",
    "print(\"In sample R-squared: %f\"%reg.score(X_train, Y_train))\n",
    "print(\"Out of sample R-squared: %f\"%reg.score(X_test, Y_test))"
   ]
  },
  {
   "cell_type": "code",
   "execution_count": 42,
   "metadata": {
    "ExecuteTime": {
     "end_time": "2019-05-08T18:07:23.731829Z",
     "start_time": "2019-05-08T18:07:23.587791Z"
    }
   },
   "outputs": [
    {
     "name": "stdout",
     "output_type": "stream",
     "text": [
      "Accuracy: 0.34 (+/- 0.73)\n"
     ]
    },
    {
     "data": {
      "text/plain": [
       "array([ 0.79934916, -0.01850434,  0.85389043,  0.03193803,  0.1479941 ,\n",
       "        0.25610652,  0.18020532, -0.21850572,  0.70843313,  0.66659217])"
      ]
     },
     "execution_count": 42,
     "metadata": {},
     "output_type": "execute_result"
    }
   ],
   "source": [
    "reg = LinearRegression()\n",
    "scores = cross_val_score(reg, X_train, Y_train, cv=10, scoring='r2')\n",
    "print(\"Accuracy: %0.2f (+/- %0.2f)\" % (scores.mean(), scores.std() * 2))\n",
    "scores"
   ]
  },
  {
   "cell_type": "markdown",
   "metadata": {},
   "source": [
    "### log"
   ]
  },
  {
   "cell_type": "code",
   "execution_count": 43,
   "metadata": {
    "ExecuteTime": {
     "end_time": "2019-05-08T18:07:23.798651Z",
     "start_time": "2019-05-08T18:07:23.732827Z"
    },
    "scrolled": true
   },
   "outputs": [
    {
     "data": {
      "text/html": [
       "<table class=\"simpletable\">\n",
       "<caption>OLS Regression Results</caption>\n",
       "<tr>\n",
       "  <th>Dep. Variable:</th>       <td>SALE PRICE</td>    <th>  R-squared:         </th> <td>   0.997</td> \n",
       "</tr>\n",
       "<tr>\n",
       "  <th>Model:</th>                   <td>OLS</td>       <th>  Adj. R-squared:    </th> <td>   0.997</td> \n",
       "</tr>\n",
       "<tr>\n",
       "  <th>Method:</th>             <td>Least Squares</td>  <th>  F-statistic:       </th> <td>3.481e+04</td>\n",
       "</tr>\n",
       "<tr>\n",
       "  <th>Date:</th>             <td>Wed, 08 May 2019</td> <th>  Prob (F-statistic):</th>  <td>  0.00</td>  \n",
       "</tr>\n",
       "<tr>\n",
       "  <th>Time:</th>                 <td>14:07:23</td>     <th>  Log-Likelihood:    </th> <td> -6809.1</td> \n",
       "</tr>\n",
       "<tr>\n",
       "  <th>No. Observations:</th>      <td>  5746</td>      <th>  AIC:               </th> <td>1.372e+04</td>\n",
       "</tr>\n",
       "<tr>\n",
       "  <th>Df Residuals:</th>          <td>  5695</td>      <th>  BIC:               </th> <td>1.406e+04</td>\n",
       "</tr>\n",
       "<tr>\n",
       "  <th>Df Model:</th>              <td>    51</td>      <th>                     </th>     <td> </td>    \n",
       "</tr>\n",
       "<tr>\n",
       "  <th>Covariance Type:</th>      <td>nonrobust</td>    <th>                     </th>     <td> </td>    \n",
       "</tr>\n",
       "</table>\n",
       "<table class=\"simpletable\">\n",
       "<tr>\n",
       "             <td></td>               <th>coef</th>     <th>std err</th>      <th>t</th>      <th>P>|t|</th>  <th>[0.025</th>    <th>0.975]</th>  \n",
       "</tr>\n",
       "<tr>\n",
       "  <th>YEAR BUILT</th>             <td>    0.0012</td> <td>    0.000</td> <td>    5.269</td> <td> 0.000</td> <td>    0.001</td> <td>    0.002</td>\n",
       "</tr>\n",
       "<tr>\n",
       "  <th>RESIDENTIAL UNITS</th>      <td>    0.0016</td> <td>    0.002</td> <td>    1.002</td> <td> 0.316</td> <td>   -0.002</td> <td>    0.005</td>\n",
       "</tr>\n",
       "<tr>\n",
       "  <th>COMMERCIAL UNITS</th>       <td>    0.0119</td> <td>    0.003</td> <td>    4.373</td> <td> 0.000</td> <td>    0.007</td> <td>    0.017</td>\n",
       "</tr>\n",
       "<tr>\n",
       "  <th>TOTAL UNITS</th>            <td>    0.0135</td> <td>    0.002</td> <td>    8.863</td> <td> 0.000</td> <td>    0.010</td> <td>    0.016</td>\n",
       "</tr>\n",
       "<tr>\n",
       "  <th>LAND SQUARE FEET</th>       <td>    0.0001</td> <td> 5.93e-06</td> <td>   17.166</td> <td> 0.000</td> <td> 9.01e-05</td> <td>    0.000</td>\n",
       "</tr>\n",
       "<tr>\n",
       "  <th>GROSS SQUARE FEET</th>      <td>-2.639e-06</td> <td> 1.23e-06</td> <td>   -2.143</td> <td> 0.032</td> <td>-5.05e-06</td> <td>-2.25e-07</td>\n",
       "</tr>\n",
       "<tr>\n",
       "  <th>easements</th>              <td>    0.3233</td> <td>    0.129</td> <td>    2.509</td> <td> 0.012</td> <td>    0.071</td> <td>    0.576</td>\n",
       "</tr>\n",
       "<tr>\n",
       "  <th>lotarea</th>                <td> 7.299e-06</td> <td> 1.01e-06</td> <td>    7.236</td> <td> 0.000</td> <td> 5.32e-06</td> <td> 9.28e-06</td>\n",
       "</tr>\n",
       "<tr>\n",
       "  <th>bldgarea</th>               <td>  2.24e-06</td> <td> 1.55e-06</td> <td>    1.442</td> <td> 0.149</td> <td>-8.05e-07</td> <td> 5.28e-06</td>\n",
       "</tr>\n",
       "<tr>\n",
       "  <th>comarea</th>                <td>-1.002e-05</td> <td> 2.11e-06</td> <td>   -4.755</td> <td> 0.000</td> <td>-1.41e-05</td> <td>-5.89e-06</td>\n",
       "</tr>\n",
       "<tr>\n",
       "  <th>resarea</th>                <td>-1.647e-06</td> <td> 1.51e-06</td> <td>   -1.088</td> <td> 0.277</td> <td>-4.62e-06</td> <td> 1.32e-06</td>\n",
       "</tr>\n",
       "<tr>\n",
       "  <th>officearea</th>             <td> 6.485e-06</td> <td> 1.95e-06</td> <td>    3.331</td> <td> 0.001</td> <td> 2.67e-06</td> <td> 1.03e-05</td>\n",
       "</tr>\n",
       "<tr>\n",
       "  <th>retailarea</th>             <td> 9.402e-06</td> <td> 1.78e-06</td> <td>    5.297</td> <td> 0.000</td> <td> 5.92e-06</td> <td> 1.29e-05</td>\n",
       "</tr>\n",
       "<tr>\n",
       "  <th>garagearea</th>             <td> 5.794e-06</td> <td> 2.44e-06</td> <td>    2.372</td> <td> 0.018</td> <td>    1e-06</td> <td> 1.06e-05</td>\n",
       "</tr>\n",
       "<tr>\n",
       "  <th>strgearea</th>              <td> 2.578e-05</td> <td>  4.7e-06</td> <td>    5.482</td> <td> 0.000</td> <td> 1.66e-05</td> <td>  3.5e-05</td>\n",
       "</tr>\n",
       "<tr>\n",
       "  <th>factryarea</th>             <td>-1.728e-06</td> <td> 2.27e-06</td> <td>   -0.760</td> <td> 0.447</td> <td>-6.19e-06</td> <td> 2.73e-06</td>\n",
       "</tr>\n",
       "<tr>\n",
       "  <th>otherarea</th>              <td> 2.067e-05</td> <td>    3e-06</td> <td>    6.882</td> <td> 0.000</td> <td> 1.48e-05</td> <td> 2.66e-05</td>\n",
       "</tr>\n",
       "<tr>\n",
       "  <th>numbldgs</th>               <td>   -0.0069</td> <td>    0.006</td> <td>   -1.253</td> <td> 0.210</td> <td>   -0.018</td> <td>    0.004</td>\n",
       "</tr>\n",
       "<tr>\n",
       "  <th>numfloors</th>              <td>   -0.0146</td> <td>    0.004</td> <td>   -4.018</td> <td> 0.000</td> <td>   -0.022</td> <td>   -0.007</td>\n",
       "</tr>\n",
       "<tr>\n",
       "  <th>unitsres</th>               <td>    0.0094</td> <td>    0.004</td> <td>    2.367</td> <td> 0.018</td> <td>    0.002</td> <td>    0.017</td>\n",
       "</tr>\n",
       "<tr>\n",
       "  <th>unitstotal</th>             <td>   -0.0133</td> <td>    0.004</td> <td>   -3.374</td> <td> 0.001</td> <td>   -0.021</td> <td>   -0.006</td>\n",
       "</tr>\n",
       "<tr>\n",
       "  <th>lotfront</th>               <td>   -0.0014</td> <td>    0.000</td> <td>   -5.161</td> <td> 0.000</td> <td>   -0.002</td> <td>   -0.001</td>\n",
       "</tr>\n",
       "<tr>\n",
       "  <th>lotdepth</th>               <td>   -0.0014</td> <td>    0.000</td> <td>   -7.413</td> <td> 0.000</td> <td>   -0.002</td> <td>   -0.001</td>\n",
       "</tr>\n",
       "<tr>\n",
       "  <th>bldgfront</th>              <td>   -0.0006</td> <td>    0.000</td> <td>   -2.925</td> <td> 0.003</td> <td>   -0.001</td> <td>   -0.000</td>\n",
       "</tr>\n",
       "<tr>\n",
       "  <th>bldgdepth</th>              <td>    0.0004</td> <td>    0.000</td> <td>    2.195</td> <td> 0.028</td> <td> 3.87e-05</td> <td>    0.001</td>\n",
       "</tr>\n",
       "<tr>\n",
       "  <th>assessland</th>             <td> 2.298e-08</td> <td> 9.59e-09</td> <td>    2.396</td> <td> 0.017</td> <td> 4.18e-09</td> <td> 4.18e-08</td>\n",
       "</tr>\n",
       "<tr>\n",
       "  <th>assesstot</th>              <td> 2.239e-08</td> <td> 3.13e-09</td> <td>    7.152</td> <td> 0.000</td> <td> 1.63e-08</td> <td> 2.85e-08</td>\n",
       "</tr>\n",
       "<tr>\n",
       "  <th>exemptland</th>             <td> 2.018e-07</td> <td> 4.59e-08</td> <td>    4.401</td> <td> 0.000</td> <td> 1.12e-07</td> <td> 2.92e-07</td>\n",
       "</tr>\n",
       "<tr>\n",
       "  <th>exempttot</th>              <td>-2.283e-08</td> <td> 4.11e-09</td> <td>   -5.552</td> <td> 0.000</td> <td>-3.09e-08</td> <td>-1.48e-08</td>\n",
       "</tr>\n",
       "<tr>\n",
       "  <th>builtfar</th>               <td>   -0.0118</td> <td>    0.006</td> <td>   -1.911</td> <td> 0.056</td> <td>   -0.024</td> <td>    0.000</td>\n",
       "</tr>\n",
       "<tr>\n",
       "  <th>residfar</th>               <td>   -0.0167</td> <td>    0.009</td> <td>   -1.928</td> <td> 0.054</td> <td>   -0.034</td> <td>    0.000</td>\n",
       "</tr>\n",
       "<tr>\n",
       "  <th>commfar</th>                <td>   -0.0164</td> <td>    0.005</td> <td>   -3.056</td> <td> 0.002</td> <td>   -0.027</td> <td>   -0.006</td>\n",
       "</tr>\n",
       "<tr>\n",
       "  <th>facilfar</th>               <td>    0.0749</td> <td>    0.010</td> <td>    7.450</td> <td> 0.000</td> <td>    0.055</td> <td>    0.095</td>\n",
       "</tr>\n",
       "<tr>\n",
       "  <th>DensityPop</th>             <td>  -49.5113</td> <td>   13.768</td> <td>   -3.596</td> <td> 0.000</td> <td>  -76.502</td> <td>  -22.520</td>\n",
       "</tr>\n",
       "<tr>\n",
       "  <th>IncomePerCap</th>           <td> 1.255e-06</td> <td> 5.87e-07</td> <td>    2.137</td> <td> 0.033</td> <td> 1.04e-07</td> <td> 2.41e-06</td>\n",
       "</tr>\n",
       "<tr>\n",
       "  <th>Poverty</th>                <td>    0.0063</td> <td>    0.003</td> <td>    2.277</td> <td> 0.023</td> <td>    0.001</td> <td>    0.012</td>\n",
       "</tr>\n",
       "<tr>\n",
       "  <th>Professional</th>           <td>    0.1128</td> <td>    0.005</td> <td>   21.033</td> <td> 0.000</td> <td>    0.102</td> <td>    0.123</td>\n",
       "</tr>\n",
       "<tr>\n",
       "  <th>Service</th>                <td>    0.1198</td> <td>    0.006</td> <td>   21.152</td> <td> 0.000</td> <td>    0.109</td> <td>    0.131</td>\n",
       "</tr>\n",
       "<tr>\n",
       "  <th>Office</th>                 <td>    0.1209</td> <td>    0.006</td> <td>   21.825</td> <td> 0.000</td> <td>    0.110</td> <td>    0.132</td>\n",
       "</tr>\n",
       "<tr>\n",
       "  <th>Construction</th>           <td>    0.1129</td> <td>    0.010</td> <td>   11.223</td> <td> 0.000</td> <td>    0.093</td> <td>    0.133</td>\n",
       "</tr>\n",
       "<tr>\n",
       "  <th>Production</th>             <td>    0.1265</td> <td>    0.008</td> <td>   15.750</td> <td> 0.000</td> <td>    0.111</td> <td>    0.142</td>\n",
       "</tr>\n",
       "<tr>\n",
       "  <th>Employed</th>               <td>-2.065e-05</td> <td> 1.03e-05</td> <td>   -2.003</td> <td> 0.045</td> <td>-4.09e-05</td> <td>-4.43e-07</td>\n",
       "</tr>\n",
       "<tr>\n",
       "  <th>Unemployment</th>           <td>   -0.0227</td> <td>    0.005</td> <td>   -4.406</td> <td> 0.000</td> <td>   -0.033</td> <td>   -0.013</td>\n",
       "</tr>\n",
       "<tr>\n",
       "  <th>distance_subway</th>        <td>  -51.1561</td> <td>    8.486</td> <td>   -6.028</td> <td> 0.000</td> <td>  -67.792</td> <td>  -34.520</td>\n",
       "</tr>\n",
       "<tr>\n",
       "  <th>distance_bus</th>           <td>   -9.6465</td> <td>   25.436</td> <td>   -0.379</td> <td> 0.705</td> <td>  -59.510</td> <td>   40.217</td>\n",
       "</tr>\n",
       "<tr>\n",
       "  <th>park_num</th>               <td>   -0.0073</td> <td>    0.004</td> <td>   -1.679</td> <td> 0.093</td> <td>   -0.016</td> <td>    0.001</td>\n",
       "</tr>\n",
       "<tr>\n",
       "  <th>park_area</th>              <td> 3.617e-05</td> <td> 7.13e-05</td> <td>    0.508</td> <td> 0.612</td> <td>   -0.000</td> <td>    0.000</td>\n",
       "</tr>\n",
       "<tr>\n",
       "  <th>park_top_level</th>         <td>    0.0267</td> <td>    0.032</td> <td>    0.832</td> <td> 0.406</td> <td>   -0.036</td> <td>    0.090</td>\n",
       "</tr>\n",
       "<tr>\n",
       "  <th>park_distance</th>          <td>  -18.3358</td> <td>   14.070</td> <td>   -1.303</td> <td> 0.193</td> <td>  -45.919</td> <td>    9.247</td>\n",
       "</tr>\n",
       "<tr>\n",
       "  <th>crime</th>                  <td>-1.627e-05</td> <td> 3.45e-05</td> <td>   -0.472</td> <td> 0.637</td> <td>-8.39e-05</td> <td> 5.14e-05</td>\n",
       "</tr>\n",
       "<tr>\n",
       "  <th>Num of SAT Test Takers</th> <td> 6.233e-05</td> <td> 1.02e-05</td> <td>    6.090</td> <td> 0.000</td> <td> 4.23e-05</td> <td> 8.24e-05</td>\n",
       "</tr>\n",
       "<tr>\n",
       "  <th>sat</th>                    <td>    0.0017</td> <td>    0.000</td> <td>    5.149</td> <td> 0.000</td> <td>    0.001</td> <td>    0.002</td>\n",
       "</tr>\n",
       "</table>\n",
       "<table class=\"simpletable\">\n",
       "<tr>\n",
       "  <th>Omnibus:</th>       <td>989.330</td> <th>  Durbin-Watson:     </th> <td>   1.997</td> \n",
       "</tr>\n",
       "<tr>\n",
       "  <th>Prob(Omnibus):</th> <td> 0.000</td>  <th>  Jarque-Bera (JB):  </th> <td>19172.771</td>\n",
       "</tr>\n",
       "<tr>\n",
       "  <th>Skew:</th>          <td> 0.216</td>  <th>  Prob(JB):          </th> <td>    0.00</td> \n",
       "</tr>\n",
       "<tr>\n",
       "  <th>Kurtosis:</th>      <td>11.938</td>  <th>  Cond. No.          </th> <td>1.08e+16</td> \n",
       "</tr>\n",
       "</table><br/><br/>Warnings:<br/>[1] Standard Errors assume that the covariance matrix of the errors is correctly specified.<br/>[2] The smallest eigenvalue is 9.24e-14. This might indicate that there are<br/>strong multicollinearity problems or that the design matrix is singular."
      ],
      "text/plain": [
       "<class 'statsmodels.iolib.summary.Summary'>\n",
       "\"\"\"\n",
       "                            OLS Regression Results                            \n",
       "==============================================================================\n",
       "Dep. Variable:             SALE PRICE   R-squared:                       0.997\n",
       "Model:                            OLS   Adj. R-squared:                  0.997\n",
       "Method:                 Least Squares   F-statistic:                 3.481e+04\n",
       "Date:                Wed, 08 May 2019   Prob (F-statistic):               0.00\n",
       "Time:                        14:07:23   Log-Likelihood:                -6809.1\n",
       "No. Observations:                5746   AIC:                         1.372e+04\n",
       "Df Residuals:                    5695   BIC:                         1.406e+04\n",
       "Df Model:                          51                                         \n",
       "Covariance Type:            nonrobust                                         \n",
       "==========================================================================================\n",
       "                             coef    std err          t      P>|t|      [0.025      0.975]\n",
       "------------------------------------------------------------------------------------------\n",
       "YEAR BUILT                 0.0012      0.000      5.269      0.000       0.001       0.002\n",
       "RESIDENTIAL UNITS          0.0016      0.002      1.002      0.316      -0.002       0.005\n",
       "COMMERCIAL UNITS           0.0119      0.003      4.373      0.000       0.007       0.017\n",
       "TOTAL UNITS                0.0135      0.002      8.863      0.000       0.010       0.016\n",
       "LAND SQUARE FEET           0.0001   5.93e-06     17.166      0.000    9.01e-05       0.000\n",
       "GROSS SQUARE FEET      -2.639e-06   1.23e-06     -2.143      0.032   -5.05e-06   -2.25e-07\n",
       "easements                  0.3233      0.129      2.509      0.012       0.071       0.576\n",
       "lotarea                 7.299e-06   1.01e-06      7.236      0.000    5.32e-06    9.28e-06\n",
       "bldgarea                 2.24e-06   1.55e-06      1.442      0.149   -8.05e-07    5.28e-06\n",
       "comarea                -1.002e-05   2.11e-06     -4.755      0.000   -1.41e-05   -5.89e-06\n",
       "resarea                -1.647e-06   1.51e-06     -1.088      0.277   -4.62e-06    1.32e-06\n",
       "officearea              6.485e-06   1.95e-06      3.331      0.001    2.67e-06    1.03e-05\n",
       "retailarea              9.402e-06   1.78e-06      5.297      0.000    5.92e-06    1.29e-05\n",
       "garagearea              5.794e-06   2.44e-06      2.372      0.018       1e-06    1.06e-05\n",
       "strgearea               2.578e-05    4.7e-06      5.482      0.000    1.66e-05     3.5e-05\n",
       "factryarea             -1.728e-06   2.27e-06     -0.760      0.447   -6.19e-06    2.73e-06\n",
       "otherarea               2.067e-05      3e-06      6.882      0.000    1.48e-05    2.66e-05\n",
       "numbldgs                  -0.0069      0.006     -1.253      0.210      -0.018       0.004\n",
       "numfloors                 -0.0146      0.004     -4.018      0.000      -0.022      -0.007\n",
       "unitsres                   0.0094      0.004      2.367      0.018       0.002       0.017\n",
       "unitstotal                -0.0133      0.004     -3.374      0.001      -0.021      -0.006\n",
       "lotfront                  -0.0014      0.000     -5.161      0.000      -0.002      -0.001\n",
       "lotdepth                  -0.0014      0.000     -7.413      0.000      -0.002      -0.001\n",
       "bldgfront                 -0.0006      0.000     -2.925      0.003      -0.001      -0.000\n",
       "bldgdepth                  0.0004      0.000      2.195      0.028    3.87e-05       0.001\n",
       "assessland              2.298e-08   9.59e-09      2.396      0.017    4.18e-09    4.18e-08\n",
       "assesstot               2.239e-08   3.13e-09      7.152      0.000    1.63e-08    2.85e-08\n",
       "exemptland              2.018e-07   4.59e-08      4.401      0.000    1.12e-07    2.92e-07\n",
       "exempttot              -2.283e-08   4.11e-09     -5.552      0.000   -3.09e-08   -1.48e-08\n",
       "builtfar                  -0.0118      0.006     -1.911      0.056      -0.024       0.000\n",
       "residfar                  -0.0167      0.009     -1.928      0.054      -0.034       0.000\n",
       "commfar                   -0.0164      0.005     -3.056      0.002      -0.027      -0.006\n",
       "facilfar                   0.0749      0.010      7.450      0.000       0.055       0.095\n",
       "DensityPop               -49.5113     13.768     -3.596      0.000     -76.502     -22.520\n",
       "IncomePerCap            1.255e-06   5.87e-07      2.137      0.033    1.04e-07    2.41e-06\n",
       "Poverty                    0.0063      0.003      2.277      0.023       0.001       0.012\n",
       "Professional               0.1128      0.005     21.033      0.000       0.102       0.123\n",
       "Service                    0.1198      0.006     21.152      0.000       0.109       0.131\n",
       "Office                     0.1209      0.006     21.825      0.000       0.110       0.132\n",
       "Construction               0.1129      0.010     11.223      0.000       0.093       0.133\n",
       "Production                 0.1265      0.008     15.750      0.000       0.111       0.142\n",
       "Employed               -2.065e-05   1.03e-05     -2.003      0.045   -4.09e-05   -4.43e-07\n",
       "Unemployment              -0.0227      0.005     -4.406      0.000      -0.033      -0.013\n",
       "distance_subway          -51.1561      8.486     -6.028      0.000     -67.792     -34.520\n",
       "distance_bus              -9.6465     25.436     -0.379      0.705     -59.510      40.217\n",
       "park_num                  -0.0073      0.004     -1.679      0.093      -0.016       0.001\n",
       "park_area               3.617e-05   7.13e-05      0.508      0.612      -0.000       0.000\n",
       "park_top_level             0.0267      0.032      0.832      0.406      -0.036       0.090\n",
       "park_distance            -18.3358     14.070     -1.303      0.193     -45.919       9.247\n",
       "crime                  -1.627e-05   3.45e-05     -0.472      0.637   -8.39e-05    5.14e-05\n",
       "Num of SAT Test Takers  6.233e-05   1.02e-05      6.090      0.000    4.23e-05    8.24e-05\n",
       "sat                        0.0017      0.000      5.149      0.000       0.001       0.002\n",
       "==============================================================================\n",
       "Omnibus:                      989.330   Durbin-Watson:                   1.997\n",
       "Prob(Omnibus):                  0.000   Jarque-Bera (JB):            19172.771\n",
       "Skew:                           0.216   Prob(JB):                         0.00\n",
       "Kurtosis:                      11.938   Cond. No.                     1.08e+16\n",
       "==============================================================================\n",
       "\n",
       "Warnings:\n",
       "[1] Standard Errors assume that the covariance matrix of the errors is correctly specified.\n",
       "[2] The smallest eigenvalue is 9.24e-14. This might indicate that there are\n",
       "strong multicollinearity problems or that the design matrix is singular.\n",
       "\"\"\""
      ]
     },
     "execution_count": 43,
     "metadata": {},
     "output_type": "execute_result"
    }
   ],
   "source": [
    "mod = sm.OLS(np.log(Y_train), X_train).fit()\n",
    "mod.summary()"
   ]
  },
  {
   "cell_type": "code",
   "execution_count": 44,
   "metadata": {
    "ExecuteTime": {
     "end_time": "2019-05-08T18:07:23.807627Z",
     "start_time": "2019-05-08T18:07:23.799648Z"
    }
   },
   "outputs": [
    {
     "data": {
      "text/plain": [
       "0.4076467414808922"
      ]
     },
     "execution_count": 44,
     "metadata": {},
     "output_type": "execute_result"
    }
   ],
   "source": [
    "Y_pred =  mod.predict(X_test) \n",
    "r2_score(np.log(Y_test), Y_pred)"
   ]
  },
  {
   "cell_type": "markdown",
   "metadata": {},
   "source": [
    "**Cross-validation**"
   ]
  },
  {
   "cell_type": "code",
   "execution_count": 45,
   "metadata": {
    "ExecuteTime": {
     "end_time": "2019-05-08T18:07:23.832560Z",
     "start_time": "2019-05-08T18:07:23.809624Z"
    }
   },
   "outputs": [
    {
     "name": "stdout",
     "output_type": "stream",
     "text": [
      "In sample R-squared: 0.446089\n",
      "Out of sample R-squared: 0.408152\n"
     ]
    }
   ],
   "source": [
    "reg = LinearRegression().fit(X_train, np.log(Y_train))\n",
    "print(\"In sample R-squared: %f\"%reg.score(X_train, np.log(Y_train)))\n",
    "print(\"Out of sample R-squared: %f\"%reg.score(X_test, np.log(Y_test)))"
   ]
  },
  {
   "cell_type": "code",
   "execution_count": 46,
   "metadata": {
    "ExecuteTime": {
     "end_time": "2019-05-08T18:07:23.973184Z",
     "start_time": "2019-05-08T18:07:23.833557Z"
    }
   },
   "outputs": [
    {
     "name": "stdout",
     "output_type": "stream",
     "text": [
      "Accuracy: -2.54 (+/- 17.12)\n"
     ]
    },
    {
     "data": {
      "text/plain": [
       "array([ 4.00775978e-01,  4.11099616e-01,  4.48474571e-01, -5.59022368e-03,\n",
       "       -2.82158135e+01,  1.98104593e-01,  4.28036531e-01,  9.46217286e-02,\n",
       "        3.99080960e-01,  4.70959250e-01])"
      ]
     },
     "execution_count": 46,
     "metadata": {},
     "output_type": "execute_result"
    }
   ],
   "source": [
    "reg = LinearRegression()\n",
    "scores = cross_val_score(reg, X_train, np.log(Y_train), cv=10, scoring='r2')\n",
    "print(\"Accuracy: %0.2f (+/- %0.2f)\" % (scores.mean(), scores.std() * 2))\n",
    "scores"
   ]
  },
  {
   "cell_type": "markdown",
   "metadata": {},
   "source": [
    "### stardardized"
   ]
  },
  {
   "cell_type": "code",
   "execution_count": 47,
   "metadata": {
    "ExecuteTime": {
     "end_time": "2019-05-08T18:07:24.053969Z",
     "start_time": "2019-05-08T18:07:23.975179Z"
    },
    "scrolled": true
   },
   "outputs": [
    {
     "data": {
      "text/html": [
       "<table class=\"simpletable\">\n",
       "<caption>OLS Regression Results</caption>\n",
       "<tr>\n",
       "  <th>Dep. Variable:</th>       <td>SALE PRICE</td>    <th>  R-squared:         </th> <td>   0.688</td> \n",
       "</tr>\n",
       "<tr>\n",
       "  <th>Model:</th>                   <td>OLS</td>       <th>  Adj. R-squared:    </th> <td>   0.685</td> \n",
       "</tr>\n",
       "<tr>\n",
       "  <th>Method:</th>             <td>Least Squares</td>  <th>  F-statistic:       </th> <td>   246.0</td> \n",
       "</tr>\n",
       "<tr>\n",
       "  <th>Date:</th>             <td>Wed, 08 May 2019</td> <th>  Prob (F-statistic):</th>  <td>  0.00</td>  \n",
       "</tr>\n",
       "<tr>\n",
       "  <th>Time:</th>                 <td>14:07:24</td>     <th>  Log-Likelihood:    </th> <td> -4889.9</td> \n",
       "</tr>\n",
       "<tr>\n",
       "  <th>No. Observations:</th>      <td>  5746</td>      <th>  AIC:               </th> <td>   9882.</td> \n",
       "</tr>\n",
       "<tr>\n",
       "  <th>Df Residuals:</th>          <td>  5695</td>      <th>  BIC:               </th> <td>1.022e+04</td>\n",
       "</tr>\n",
       "<tr>\n",
       "  <th>Df Model:</th>              <td>    51</td>      <th>                     </th>     <td> </td>    \n",
       "</tr>\n",
       "<tr>\n",
       "  <th>Covariance Type:</th>      <td>nonrobust</td>    <th>                     </th>     <td> </td>    \n",
       "</tr>\n",
       "</table>\n",
       "<table class=\"simpletable\">\n",
       "<tr>\n",
       "             <td></td>               <th>coef</th>     <th>std err</th>      <th>t</th>      <th>P>|t|</th>  <th>[0.025</th>    <th>0.975]</th>  \n",
       "</tr>\n",
       "<tr>\n",
       "  <th>YEAR BUILT</th>             <td>    0.0700</td> <td>    0.009</td> <td>    7.857</td> <td> 0.000</td> <td>    0.053</td> <td>    0.087</td>\n",
       "</tr>\n",
       "<tr>\n",
       "  <th>RESIDENTIAL UNITS</th>      <td>   -0.0789</td> <td>    0.009</td> <td>   -8.475</td> <td> 0.000</td> <td>   -0.097</td> <td>   -0.061</td>\n",
       "</tr>\n",
       "<tr>\n",
       "  <th>COMMERCIAL UNITS</th>       <td>    0.1809</td> <td>    0.019</td> <td>    9.421</td> <td> 0.000</td> <td>    0.143</td> <td>    0.219</td>\n",
       "</tr>\n",
       "<tr>\n",
       "  <th>TOTAL UNITS</th>            <td>    0.0164</td> <td>    0.009</td> <td>    1.885</td> <td> 0.059</td> <td>   -0.001</td> <td>    0.033</td>\n",
       "</tr>\n",
       "<tr>\n",
       "  <th>LAND SQUARE FEET</th>       <td>   -0.1065</td> <td>    0.016</td> <td>   -6.832</td> <td> 0.000</td> <td>   -0.137</td> <td>   -0.076</td>\n",
       "</tr>\n",
       "<tr>\n",
       "  <th>GROSS SQUARE FEET</th>      <td>    0.9042</td> <td>    0.030</td> <td>   29.982</td> <td> 0.000</td> <td>    0.845</td> <td>    0.963</td>\n",
       "</tr>\n",
       "<tr>\n",
       "  <th>easements</th>              <td>    0.0043</td> <td>    0.008</td> <td>    0.525</td> <td> 0.600</td> <td>   -0.012</td> <td>    0.020</td>\n",
       "</tr>\n",
       "<tr>\n",
       "  <th>lotarea</th>                <td>   -0.0466</td> <td>    0.081</td> <td>   -0.573</td> <td> 0.566</td> <td>   -0.206</td> <td>    0.113</td>\n",
       "</tr>\n",
       "<tr>\n",
       "  <th>bldgarea</th>               <td>   -4.1821</td> <td>    0.600</td> <td>   -6.966</td> <td> 0.000</td> <td>   -5.359</td> <td>   -3.005</td>\n",
       "</tr>\n",
       "<tr>\n",
       "  <th>comarea</th>                <td>    0.3730</td> <td>    0.116</td> <td>    3.229</td> <td> 0.001</td> <td>    0.147</td> <td>    0.599</td>\n",
       "</tr>\n",
       "<tr>\n",
       "  <th>resarea</th>                <td>    3.3274</td> <td>    0.513</td> <td>    6.484</td> <td> 0.000</td> <td>    2.321</td> <td>    4.333</td>\n",
       "</tr>\n",
       "<tr>\n",
       "  <th>officearea</th>             <td>   -0.0964</td> <td>    0.030</td> <td>   -3.261</td> <td> 0.001</td> <td>   -0.154</td> <td>   -0.038</td>\n",
       "</tr>\n",
       "<tr>\n",
       "  <th>retailarea</th>             <td>    0.2717</td> <td>    0.025</td> <td>   10.784</td> <td> 0.000</td> <td>    0.222</td> <td>    0.321</td>\n",
       "</tr>\n",
       "<tr>\n",
       "  <th>garagearea</th>             <td>    0.0688</td> <td>    0.055</td> <td>    1.257</td> <td> 0.209</td> <td>   -0.038</td> <td>    0.176</td>\n",
       "</tr>\n",
       "<tr>\n",
       "  <th>strgearea</th>              <td>   -0.0363</td> <td>    0.007</td> <td>   -4.958</td> <td> 0.000</td> <td>   -0.051</td> <td>   -0.022</td>\n",
       "</tr>\n",
       "<tr>\n",
       "  <th>factryarea</th>             <td>    0.0541</td> <td>    0.014</td> <td>    3.866</td> <td> 0.000</td> <td>    0.027</td> <td>    0.082</td>\n",
       "</tr>\n",
       "<tr>\n",
       "  <th>otherarea</th>              <td>    0.0562</td> <td>    0.010</td> <td>    5.795</td> <td> 0.000</td> <td>    0.037</td> <td>    0.075</td>\n",
       "</tr>\n",
       "<tr>\n",
       "  <th>numbldgs</th>               <td>   -0.0015</td> <td>    0.014</td> <td>   -0.107</td> <td> 0.915</td> <td>   -0.029</td> <td>    0.026</td>\n",
       "</tr>\n",
       "<tr>\n",
       "  <th>numfloors</th>              <td>   -0.0302</td> <td>    0.021</td> <td>   -1.439</td> <td> 0.150</td> <td>   -0.071</td> <td>    0.011</td>\n",
       "</tr>\n",
       "<tr>\n",
       "  <th>unitsres</th>               <td>    5.8409</td> <td>    1.164</td> <td>    5.018</td> <td> 0.000</td> <td>    3.559</td> <td>    8.123</td>\n",
       "</tr>\n",
       "<tr>\n",
       "  <th>unitstotal</th>             <td>   -6.0540</td> <td>    1.169</td> <td>   -5.179</td> <td> 0.000</td> <td>   -8.346</td> <td>   -3.762</td>\n",
       "</tr>\n",
       "<tr>\n",
       "  <th>lotfront</th>               <td>    0.1198</td> <td>    0.044</td> <td>    2.730</td> <td> 0.006</td> <td>    0.034</td> <td>    0.206</td>\n",
       "</tr>\n",
       "<tr>\n",
       "  <th>lotdepth</th>               <td>   -0.0206</td> <td>    0.019</td> <td>   -1.058</td> <td> 0.290</td> <td>   -0.059</td> <td>    0.018</td>\n",
       "</tr>\n",
       "<tr>\n",
       "  <th>bldgfront</th>              <td>    0.0308</td> <td>    0.020</td> <td>    1.534</td> <td> 0.125</td> <td>   -0.009</td> <td>    0.070</td>\n",
       "</tr>\n",
       "<tr>\n",
       "  <th>bldgdepth</th>              <td>   -0.0186</td> <td>    0.018</td> <td>   -1.022</td> <td> 0.307</td> <td>   -0.054</td> <td>    0.017</td>\n",
       "</tr>\n",
       "<tr>\n",
       "  <th>assessland</th>             <td>    0.4843</td> <td>    0.054</td> <td>    8.940</td> <td> 0.000</td> <td>    0.378</td> <td>    0.590</td>\n",
       "</tr>\n",
       "<tr>\n",
       "  <th>assesstot</th>              <td>   -0.0363</td> <td>    0.079</td> <td>   -0.458</td> <td> 0.647</td> <td>   -0.192</td> <td>    0.119</td>\n",
       "</tr>\n",
       "<tr>\n",
       "  <th>exemptland</th>             <td>    0.1932</td> <td>    0.064</td> <td>    3.035</td> <td> 0.002</td> <td>    0.068</td> <td>    0.318</td>\n",
       "</tr>\n",
       "<tr>\n",
       "  <th>exempttot</th>              <td>   -0.0627</td> <td>    0.013</td> <td>   -4.880</td> <td> 0.000</td> <td>   -0.088</td> <td>   -0.038</td>\n",
       "</tr>\n",
       "<tr>\n",
       "  <th>builtfar</th>               <td>   -0.0484</td> <td>    0.020</td> <td>   -2.418</td> <td> 0.016</td> <td>   -0.088</td> <td>   -0.009</td>\n",
       "</tr>\n",
       "<tr>\n",
       "  <th>residfar</th>               <td>    0.0587</td> <td>    0.018</td> <td>    3.278</td> <td> 0.001</td> <td>    0.024</td> <td>    0.094</td>\n",
       "</tr>\n",
       "<tr>\n",
       "  <th>commfar</th>                <td>    0.0354</td> <td>    0.011</td> <td>    3.176</td> <td> 0.001</td> <td>    0.014</td> <td>    0.057</td>\n",
       "</tr>\n",
       "<tr>\n",
       "  <th>facilfar</th>               <td>   -0.0144</td> <td>    0.018</td> <td>   -0.807</td> <td> 0.420</td> <td>   -0.049</td> <td>    0.021</td>\n",
       "</tr>\n",
       "<tr>\n",
       "  <th>DensityPop</th>             <td>   -0.0055</td> <td>    0.015</td> <td>   -0.371</td> <td> 0.711</td> <td>   -0.035</td> <td>    0.024</td>\n",
       "</tr>\n",
       "<tr>\n",
       "  <th>IncomePerCap</th>           <td>   -0.0732</td> <td>    0.018</td> <td>   -4.120</td> <td> 0.000</td> <td>   -0.108</td> <td>   -0.038</td>\n",
       "</tr>\n",
       "<tr>\n",
       "  <th>Poverty</th>                <td>   -0.0662</td> <td>    0.015</td> <td>   -4.378</td> <td> 0.000</td> <td>   -0.096</td> <td>   -0.037</td>\n",
       "</tr>\n",
       "<tr>\n",
       "  <th>Professional</th>           <td>   -2.6708</td> <td>    1.768</td> <td>   -1.510</td> <td> 0.131</td> <td>   -6.137</td> <td>    0.796</td>\n",
       "</tr>\n",
       "<tr>\n",
       "  <th>Service</th>                <td>   -1.6631</td> <td>    1.100</td> <td>   -1.512</td> <td> 0.131</td> <td>   -3.819</td> <td>    0.493</td>\n",
       "</tr>\n",
       "<tr>\n",
       "  <th>Office</th>                 <td>   -1.0130</td> <td>    0.673</td> <td>   -1.506</td> <td> 0.132</td> <td>   -2.332</td> <td>    0.306</td>\n",
       "</tr>\n",
       "<tr>\n",
       "  <th>Construction</th>           <td>   -0.3826</td> <td>    0.242</td> <td>   -1.580</td> <td> 0.114</td> <td>   -0.857</td> <td>    0.092</td>\n",
       "</tr>\n",
       "<tr>\n",
       "  <th>Production</th>             <td>   -0.5729</td> <td>    0.381</td> <td>   -1.503</td> <td> 0.133</td> <td>   -1.320</td> <td>    0.174</td>\n",
       "</tr>\n",
       "<tr>\n",
       "  <th>Employed</th>               <td>   -0.0015</td> <td>    0.014</td> <td>   -0.105</td> <td> 0.916</td> <td>   -0.029</td> <td>    0.026</td>\n",
       "</tr>\n",
       "<tr>\n",
       "  <th>Unemployment</th>           <td>    0.0381</td> <td>    0.012</td> <td>    3.105</td> <td> 0.002</td> <td>    0.014</td> <td>    0.062</td>\n",
       "</tr>\n",
       "<tr>\n",
       "  <th>distance_subway</th>        <td>    0.0246</td> <td>    0.011</td> <td>    2.259</td> <td> 0.024</td> <td>    0.003</td> <td>    0.046</td>\n",
       "</tr>\n",
       "<tr>\n",
       "  <th>distance_bus</th>           <td>   -0.0095</td> <td>    0.009</td> <td>   -1.079</td> <td> 0.281</td> <td>   -0.027</td> <td>    0.008</td>\n",
       "</tr>\n",
       "<tr>\n",
       "  <th>park_num</th>               <td>   -0.0100</td> <td>    0.010</td> <td>   -0.954</td> <td> 0.340</td> <td>   -0.031</td> <td>    0.011</td>\n",
       "</tr>\n",
       "<tr>\n",
       "  <th>park_area</th>              <td>    0.0424</td> <td>    0.014</td> <td>    3.100</td> <td> 0.002</td> <td>    0.016</td> <td>    0.069</td>\n",
       "</tr>\n",
       "<tr>\n",
       "  <th>park_top_level</th>         <td>   -0.0375</td> <td>    0.013</td> <td>   -2.875</td> <td> 0.004</td> <td>   -0.063</td> <td>   -0.012</td>\n",
       "</tr>\n",
       "<tr>\n",
       "  <th>park_distance</th>          <td>   -0.0260</td> <td>    0.011</td> <td>   -2.322</td> <td> 0.020</td> <td>   -0.048</td> <td>   -0.004</td>\n",
       "</tr>\n",
       "<tr>\n",
       "  <th>crime</th>                  <td>    0.0009</td> <td>    0.012</td> <td>    0.075</td> <td> 0.940</td> <td>   -0.022</td> <td>    0.024</td>\n",
       "</tr>\n",
       "<tr>\n",
       "  <th>Num of SAT Test Takers</th> <td>    0.0408</td> <td>    0.018</td> <td>    2.281</td> <td> 0.023</td> <td>    0.006</td> <td>    0.076</td>\n",
       "</tr>\n",
       "<tr>\n",
       "  <th>sat</th>                    <td>    0.0219</td> <td>    0.014</td> <td>    1.621</td> <td> 0.105</td> <td>   -0.005</td> <td>    0.048</td>\n",
       "</tr>\n",
       "</table>\n",
       "<table class=\"simpletable\">\n",
       "<tr>\n",
       "  <th>Omnibus:</th>       <td>14963.894</td> <th>  Durbin-Watson:     </th>   <td>   2.004</td>   \n",
       "</tr>\n",
       "<tr>\n",
       "  <th>Prob(Omnibus):</th>  <td> 0.000</td>   <th>  Jarque-Bera (JB):  </th> <td>648794467.829</td>\n",
       "</tr>\n",
       "<tr>\n",
       "  <th>Skew:</th>           <td>29.538</td>   <th>  Prob(JB):          </th>   <td>    0.00</td>   \n",
       "</tr>\n",
       "<tr>\n",
       "  <th>Kurtosis:</th>      <td>1648.116</td>  <th>  Cond. No.          </th>   <td>6.37e+15</td>   \n",
       "</tr>\n",
       "</table><br/><br/>Warnings:<br/>[1] Standard Errors assume that the covariance matrix of the errors is correctly specified.<br/>[2] The smallest eigenvalue is 1.6e-27. This might indicate that there are<br/>strong multicollinearity problems or that the design matrix is singular."
      ],
      "text/plain": [
       "<class 'statsmodels.iolib.summary.Summary'>\n",
       "\"\"\"\n",
       "                            OLS Regression Results                            \n",
       "==============================================================================\n",
       "Dep. Variable:             SALE PRICE   R-squared:                       0.688\n",
       "Model:                            OLS   Adj. R-squared:                  0.685\n",
       "Method:                 Least Squares   F-statistic:                     246.0\n",
       "Date:                Wed, 08 May 2019   Prob (F-statistic):               0.00\n",
       "Time:                        14:07:24   Log-Likelihood:                -4889.9\n",
       "No. Observations:                5746   AIC:                             9882.\n",
       "Df Residuals:                    5695   BIC:                         1.022e+04\n",
       "Df Model:                          51                                         \n",
       "Covariance Type:            nonrobust                                         \n",
       "==========================================================================================\n",
       "                             coef    std err          t      P>|t|      [0.025      0.975]\n",
       "------------------------------------------------------------------------------------------\n",
       "YEAR BUILT                 0.0700      0.009      7.857      0.000       0.053       0.087\n",
       "RESIDENTIAL UNITS         -0.0789      0.009     -8.475      0.000      -0.097      -0.061\n",
       "COMMERCIAL UNITS           0.1809      0.019      9.421      0.000       0.143       0.219\n",
       "TOTAL UNITS                0.0164      0.009      1.885      0.059      -0.001       0.033\n",
       "LAND SQUARE FEET          -0.1065      0.016     -6.832      0.000      -0.137      -0.076\n",
       "GROSS SQUARE FEET          0.9042      0.030     29.982      0.000       0.845       0.963\n",
       "easements                  0.0043      0.008      0.525      0.600      -0.012       0.020\n",
       "lotarea                   -0.0466      0.081     -0.573      0.566      -0.206       0.113\n",
       "bldgarea                  -4.1821      0.600     -6.966      0.000      -5.359      -3.005\n",
       "comarea                    0.3730      0.116      3.229      0.001       0.147       0.599\n",
       "resarea                    3.3274      0.513      6.484      0.000       2.321       4.333\n",
       "officearea                -0.0964      0.030     -3.261      0.001      -0.154      -0.038\n",
       "retailarea                 0.2717      0.025     10.784      0.000       0.222       0.321\n",
       "garagearea                 0.0688      0.055      1.257      0.209      -0.038       0.176\n",
       "strgearea                 -0.0363      0.007     -4.958      0.000      -0.051      -0.022\n",
       "factryarea                 0.0541      0.014      3.866      0.000       0.027       0.082\n",
       "otherarea                  0.0562      0.010      5.795      0.000       0.037       0.075\n",
       "numbldgs                  -0.0015      0.014     -0.107      0.915      -0.029       0.026\n",
       "numfloors                 -0.0302      0.021     -1.439      0.150      -0.071       0.011\n",
       "unitsres                   5.8409      1.164      5.018      0.000       3.559       8.123\n",
       "unitstotal                -6.0540      1.169     -5.179      0.000      -8.346      -3.762\n",
       "lotfront                   0.1198      0.044      2.730      0.006       0.034       0.206\n",
       "lotdepth                  -0.0206      0.019     -1.058      0.290      -0.059       0.018\n",
       "bldgfront                  0.0308      0.020      1.534      0.125      -0.009       0.070\n",
       "bldgdepth                 -0.0186      0.018     -1.022      0.307      -0.054       0.017\n",
       "assessland                 0.4843      0.054      8.940      0.000       0.378       0.590\n",
       "assesstot                 -0.0363      0.079     -0.458      0.647      -0.192       0.119\n",
       "exemptland                 0.1932      0.064      3.035      0.002       0.068       0.318\n",
       "exempttot                 -0.0627      0.013     -4.880      0.000      -0.088      -0.038\n",
       "builtfar                  -0.0484      0.020     -2.418      0.016      -0.088      -0.009\n",
       "residfar                   0.0587      0.018      3.278      0.001       0.024       0.094\n",
       "commfar                    0.0354      0.011      3.176      0.001       0.014       0.057\n",
       "facilfar                  -0.0144      0.018     -0.807      0.420      -0.049       0.021\n",
       "DensityPop                -0.0055      0.015     -0.371      0.711      -0.035       0.024\n",
       "IncomePerCap              -0.0732      0.018     -4.120      0.000      -0.108      -0.038\n",
       "Poverty                   -0.0662      0.015     -4.378      0.000      -0.096      -0.037\n",
       "Professional              -2.6708      1.768     -1.510      0.131      -6.137       0.796\n",
       "Service                   -1.6631      1.100     -1.512      0.131      -3.819       0.493\n",
       "Office                    -1.0130      0.673     -1.506      0.132      -2.332       0.306\n",
       "Construction              -0.3826      0.242     -1.580      0.114      -0.857       0.092\n",
       "Production                -0.5729      0.381     -1.503      0.133      -1.320       0.174\n",
       "Employed                  -0.0015      0.014     -0.105      0.916      -0.029       0.026\n",
       "Unemployment               0.0381      0.012      3.105      0.002       0.014       0.062\n",
       "distance_subway            0.0246      0.011      2.259      0.024       0.003       0.046\n",
       "distance_bus              -0.0095      0.009     -1.079      0.281      -0.027       0.008\n",
       "park_num                  -0.0100      0.010     -0.954      0.340      -0.031       0.011\n",
       "park_area                  0.0424      0.014      3.100      0.002       0.016       0.069\n",
       "park_top_level            -0.0375      0.013     -2.875      0.004      -0.063      -0.012\n",
       "park_distance             -0.0260      0.011     -2.322      0.020      -0.048      -0.004\n",
       "crime                      0.0009      0.012      0.075      0.940      -0.022       0.024\n",
       "Num of SAT Test Takers     0.0408      0.018      2.281      0.023       0.006       0.076\n",
       "sat                        0.0219      0.014      1.621      0.105      -0.005       0.048\n",
       "==============================================================================\n",
       "Omnibus:                    14963.894   Durbin-Watson:                   2.004\n",
       "Prob(Omnibus):                  0.000   Jarque-Bera (JB):        648794467.829\n",
       "Skew:                          29.538   Prob(JB):                         0.00\n",
       "Kurtosis:                    1648.116   Cond. No.                     6.37e+15\n",
       "==============================================================================\n",
       "\n",
       "Warnings:\n",
       "[1] Standard Errors assume that the covariance matrix of the errors is correctly specified.\n",
       "[2] The smallest eigenvalue is 1.6e-27. This might indicate that there are\n",
       "strong multicollinearity problems or that the design matrix is singular.\n",
       "\"\"\""
      ]
     },
     "execution_count": 47,
     "metadata": {},
     "output_type": "execute_result"
    }
   ],
   "source": [
    "mod = sm.OLS(Y_standardized_train, X_standardized_train).fit()\n",
    "mod.summary()"
   ]
  },
  {
   "cell_type": "code",
   "execution_count": 48,
   "metadata": {
    "ExecuteTime": {
     "end_time": "2019-05-08T18:07:24.062944Z",
     "start_time": "2019-05-08T18:07:24.055963Z"
    }
   },
   "outputs": [
    {
     "data": {
      "text/plain": [
       "0.7354872979465332"
      ]
     },
     "execution_count": 48,
     "metadata": {},
     "output_type": "execute_result"
    }
   ],
   "source": [
    "from sklearn.metrics import r2_score\n",
    "Y_pred = mod.predict(X_standardized_test)\n",
    "r2_score(Y_standardized_test, Y_pred)"
   ]
  },
  {
   "cell_type": "markdown",
   "metadata": {},
   "source": [
    "**Cross-validation**"
   ]
  },
  {
   "cell_type": "code",
   "execution_count": 49,
   "metadata": {
    "ExecuteTime": {
     "end_time": "2019-05-08T18:07:24.088874Z",
     "start_time": "2019-05-08T18:07:24.064939Z"
    }
   },
   "outputs": [
    {
     "name": "stdout",
     "output_type": "stream",
     "text": [
      "In sample R-squared: 0.687777\n",
      "Out of sample R-squared: 0.735486\n"
     ]
    }
   ],
   "source": [
    "reg = LinearRegression().fit(X_standardized_train, Y_standardized_train)\n",
    "print(\"In sample R-squared: %f\"%reg.score(X_standardized_train, Y_standardized_train))\n",
    "print(\"Out of sample R-squared: %f\"%reg.score(X_standardized_test, Y_standardized_test))"
   ]
  },
  {
   "cell_type": "code",
   "execution_count": 50,
   "metadata": {
    "ExecuteTime": {
     "end_time": "2019-05-08T18:07:24.215536Z",
     "start_time": "2019-05-08T18:07:24.089872Z"
    }
   },
   "outputs": [
    {
     "name": "stdout",
     "output_type": "stream",
     "text": [
      "Accuracy: 0.32 (+/- 0.68)\n"
     ]
    },
    {
     "data": {
      "text/plain": [
       "array([ 0.79934916, -0.01064801,  0.85394118,  0.10264192,  0.1479941 ,\n",
       "        0.25519001,  0.11250076, -0.21850572,  0.59725263,  0.53569994])"
      ]
     },
     "execution_count": 50,
     "metadata": {},
     "output_type": "execute_result"
    }
   ],
   "source": [
    "reg = LinearRegression()\n",
    "scores = cross_val_score(reg, X_standardized_train, Y_standardized_train, cv=10, scoring='r2')\n",
    "print(\"Accuracy: %0.2f (+/- %0.2f)\" % (scores.mean(), scores.std() * 2))\n",
    "scores"
   ]
  },
  {
   "cell_type": "markdown",
   "metadata": {},
   "source": [
    "### PCA"
   ]
  },
  {
   "cell_type": "code",
   "execution_count": 51,
   "metadata": {
    "ExecuteTime": {
     "end_time": "2019-05-08T18:07:24.250442Z",
     "start_time": "2019-05-08T18:07:24.216533Z"
    },
    "scrolled": true
   },
   "outputs": [
    {
     "data": {
      "text/html": [
       "<table class=\"simpletable\">\n",
       "<caption>OLS Regression Results</caption>\n",
       "<tr>\n",
       "  <th>Dep. Variable:</th>       <td>SALE PRICE</td>    <th>  R-squared:         </th> <td>   0.588</td> \n",
       "</tr>\n",
       "<tr>\n",
       "  <th>Model:</th>                   <td>OLS</td>       <th>  Adj. R-squared:    </th> <td>   0.587</td> \n",
       "</tr>\n",
       "<tr>\n",
       "  <th>Method:</th>             <td>Least Squares</td>  <th>  F-statistic:       </th> <td>   546.2</td> \n",
       "</tr>\n",
       "<tr>\n",
       "  <th>Date:</th>             <td>Wed, 08 May 2019</td> <th>  Prob (F-statistic):</th>  <td>  0.00</td>  \n",
       "</tr>\n",
       "<tr>\n",
       "  <th>Time:</th>                 <td>14:07:24</td>     <th>  Log-Likelihood:    </th> <td> -5683.7</td> \n",
       "</tr>\n",
       "<tr>\n",
       "  <th>No. Observations:</th>      <td>  5746</td>      <th>  AIC:               </th> <td>1.140e+04</td>\n",
       "</tr>\n",
       "<tr>\n",
       "  <th>Df Residuals:</th>          <td>  5731</td>      <th>  BIC:               </th> <td>1.150e+04</td>\n",
       "</tr>\n",
       "<tr>\n",
       "  <th>Df Model:</th>              <td>    15</td>      <th>                     </th>     <td> </td>    \n",
       "</tr>\n",
       "<tr>\n",
       "  <th>Covariance Type:</th>      <td>nonrobust</td>    <th>                     </th>     <td> </td>    \n",
       "</tr>\n",
       "</table>\n",
       "<table class=\"simpletable\">\n",
       "<tr>\n",
       "   <td></td>      <th>coef</th>     <th>std err</th>      <th>t</th>      <th>P>|t|</th>  <th>[0.025</th>    <th>0.975]</th>  \n",
       "</tr>\n",
       "<tr>\n",
       "  <th>x1</th>  <td>   -0.0130</td> <td>    0.009</td> <td>   -1.507</td> <td> 0.132</td> <td>   -0.030</td> <td>    0.004</td>\n",
       "</tr>\n",
       "<tr>\n",
       "  <th>x2</th>  <td>   -0.0470</td> <td>    0.009</td> <td>   -5.472</td> <td> 0.000</td> <td>   -0.064</td> <td>   -0.030</td>\n",
       "</tr>\n",
       "<tr>\n",
       "  <th>x3</th>  <td>    0.7426</td> <td>    0.009</td> <td>   86.391</td> <td> 0.000</td> <td>    0.726</td> <td>    0.759</td>\n",
       "</tr>\n",
       "<tr>\n",
       "  <th>x4</th>  <td>   -0.0667</td> <td>    0.009</td> <td>   -7.759</td> <td> 0.000</td> <td>   -0.084</td> <td>   -0.050</td>\n",
       "</tr>\n",
       "<tr>\n",
       "  <th>x5</th>  <td>   -0.0383</td> <td>    0.009</td> <td>   -4.456</td> <td> 0.000</td> <td>   -0.055</td> <td>   -0.021</td>\n",
       "</tr>\n",
       "<tr>\n",
       "  <th>x6</th>  <td>    0.1644</td> <td>    0.009</td> <td>   19.121</td> <td> 0.000</td> <td>    0.148</td> <td>    0.181</td>\n",
       "</tr>\n",
       "<tr>\n",
       "  <th>x7</th>  <td>    0.0103</td> <td>    0.009</td> <td>    1.193</td> <td> 0.233</td> <td>   -0.007</td> <td>    0.027</td>\n",
       "</tr>\n",
       "<tr>\n",
       "  <th>x8</th>  <td>    0.0246</td> <td>    0.009</td> <td>    2.862</td> <td> 0.004</td> <td>    0.008</td> <td>    0.041</td>\n",
       "</tr>\n",
       "<tr>\n",
       "  <th>x9</th>  <td>    0.0265</td> <td>    0.009</td> <td>    3.084</td> <td> 0.002</td> <td>    0.010</td> <td>    0.043</td>\n",
       "</tr>\n",
       "<tr>\n",
       "  <th>x10</th> <td>    0.0221</td> <td>    0.009</td> <td>    2.567</td> <td> 0.010</td> <td>    0.005</td> <td>    0.039</td>\n",
       "</tr>\n",
       "<tr>\n",
       "  <th>x11</th> <td>   -0.0158</td> <td>    0.009</td> <td>   -1.834</td> <td> 0.067</td> <td>   -0.033</td> <td>    0.001</td>\n",
       "</tr>\n",
       "<tr>\n",
       "  <th>x12</th> <td>    0.0299</td> <td>    0.009</td> <td>    3.482</td> <td> 0.001</td> <td>    0.013</td> <td>    0.047</td>\n",
       "</tr>\n",
       "<tr>\n",
       "  <th>x13</th> <td>   -0.0062</td> <td>    0.009</td> <td>   -0.718</td> <td> 0.473</td> <td>   -0.023</td> <td>    0.011</td>\n",
       "</tr>\n",
       "<tr>\n",
       "  <th>x14</th> <td>   -0.0479</td> <td>    0.009</td> <td>   -5.570</td> <td> 0.000</td> <td>   -0.065</td> <td>   -0.031</td>\n",
       "</tr>\n",
       "<tr>\n",
       "  <th>x15</th> <td>   -0.1151</td> <td>    0.009</td> <td>  -13.388</td> <td> 0.000</td> <td>   -0.132</td> <td>   -0.098</td>\n",
       "</tr>\n",
       "</table>\n",
       "<table class=\"simpletable\">\n",
       "<tr>\n",
       "  <th>Omnibus:</th>       <td>13601.818</td> <th>  Durbin-Watson:     </th>   <td>   2.006</td>   \n",
       "</tr>\n",
       "<tr>\n",
       "  <th>Prob(Omnibus):</th>  <td> 0.000</td>   <th>  Jarque-Bera (JB):  </th> <td>271901514.214</td>\n",
       "</tr>\n",
       "<tr>\n",
       "  <th>Skew:</th>           <td>23.335</td>   <th>  Prob(JB):          </th>   <td>    0.00</td>   \n",
       "</tr>\n",
       "<tr>\n",
       "  <th>Kurtosis:</th>      <td>1067.662</td>  <th>  Cond. No.          </th>   <td>    1.00</td>   \n",
       "</tr>\n",
       "</table><br/><br/>Warnings:<br/>[1] Standard Errors assume that the covariance matrix of the errors is correctly specified."
      ],
      "text/plain": [
       "<class 'statsmodels.iolib.summary.Summary'>\n",
       "\"\"\"\n",
       "                            OLS Regression Results                            \n",
       "==============================================================================\n",
       "Dep. Variable:             SALE PRICE   R-squared:                       0.588\n",
       "Model:                            OLS   Adj. R-squared:                  0.587\n",
       "Method:                 Least Squares   F-statistic:                     546.2\n",
       "Date:                Wed, 08 May 2019   Prob (F-statistic):               0.00\n",
       "Time:                        14:07:24   Log-Likelihood:                -5683.7\n",
       "No. Observations:                5746   AIC:                         1.140e+04\n",
       "Df Residuals:                    5731   BIC:                         1.150e+04\n",
       "Df Model:                          15                                         \n",
       "Covariance Type:            nonrobust                                         \n",
       "==============================================================================\n",
       "                 coef    std err          t      P>|t|      [0.025      0.975]\n",
       "------------------------------------------------------------------------------\n",
       "x1            -0.0130      0.009     -1.507      0.132      -0.030       0.004\n",
       "x2            -0.0470      0.009     -5.472      0.000      -0.064      -0.030\n",
       "x3             0.7426      0.009     86.391      0.000       0.726       0.759\n",
       "x4            -0.0667      0.009     -7.759      0.000      -0.084      -0.050\n",
       "x5            -0.0383      0.009     -4.456      0.000      -0.055      -0.021\n",
       "x6             0.1644      0.009     19.121      0.000       0.148       0.181\n",
       "x7             0.0103      0.009      1.193      0.233      -0.007       0.027\n",
       "x8             0.0246      0.009      2.862      0.004       0.008       0.041\n",
       "x9             0.0265      0.009      3.084      0.002       0.010       0.043\n",
       "x10            0.0221      0.009      2.567      0.010       0.005       0.039\n",
       "x11           -0.0158      0.009     -1.834      0.067      -0.033       0.001\n",
       "x12            0.0299      0.009      3.482      0.001       0.013       0.047\n",
       "x13           -0.0062      0.009     -0.718      0.473      -0.023       0.011\n",
       "x14           -0.0479      0.009     -5.570      0.000      -0.065      -0.031\n",
       "x15           -0.1151      0.009    -13.388      0.000      -0.132      -0.098\n",
       "==============================================================================\n",
       "Omnibus:                    13601.818   Durbin-Watson:                   2.006\n",
       "Prob(Omnibus):                  0.000   Jarque-Bera (JB):        271901514.214\n",
       "Skew:                          23.335   Prob(JB):                         0.00\n",
       "Kurtosis:                    1067.662   Cond. No.                         1.00\n",
       "==============================================================================\n",
       "\n",
       "Warnings:\n",
       "[1] Standard Errors assume that the covariance matrix of the errors is correctly specified.\n",
       "\"\"\""
      ]
     },
     "execution_count": 51,
     "metadata": {},
     "output_type": "execute_result"
    }
   ],
   "source": [
    "mod = sm.OLS(Y_standardized_train, X_standardized_train_PCA).fit()\n",
    "mod.summary()"
   ]
  },
  {
   "cell_type": "code",
   "execution_count": 52,
   "metadata": {
    "ExecuteTime": {
     "end_time": "2019-05-08T18:07:24.257424Z",
     "start_time": "2019-05-08T18:07:24.251440Z"
    }
   },
   "outputs": [
    {
     "data": {
      "text/plain": [
       "0.4900159792812694"
      ]
     },
     "execution_count": 52,
     "metadata": {},
     "output_type": "execute_result"
    }
   ],
   "source": [
    "from sklearn.metrics import r2_score\n",
    "Y_pred = mod.predict(X_standardized_test_PCA)\n",
    "r2_score(Y_standardized_test, Y_pred)"
   ]
  },
  {
   "cell_type": "markdown",
   "metadata": {},
   "source": [
    "**Cross-validation**"
   ]
  },
  {
   "cell_type": "code",
   "execution_count": 53,
   "metadata": {
    "ExecuteTime": {
     "end_time": "2019-05-08T18:07:24.273382Z",
     "start_time": "2019-05-08T18:07:24.259419Z"
    },
    "scrolled": true
   },
   "outputs": [
    {
     "name": "stdout",
     "output_type": "stream",
     "text": [
      "In sample R-squared: 0.588421\n",
      "Out of sample R-squared: 0.490078\n"
     ]
    }
   ],
   "source": [
    "reg = LinearRegression().fit(X_standardized_train_PCA, Y_standardized_train)\n",
    "print(\"In sample R-squared: %f\"%reg.score(X_standardized_train_PCA, Y_standardized_train))\n",
    "print(\"Out of sample R-squared: %f\"%reg.score(X_standardized_test_PCA, Y_standardized_test))"
   ]
  },
  {
   "cell_type": "code",
   "execution_count": 54,
   "metadata": {
    "ExecuteTime": {
     "end_time": "2019-05-08T18:07:24.324245Z",
     "start_time": "2019-05-08T18:07:24.275379Z"
    }
   },
   "outputs": [
    {
     "name": "stdout",
     "output_type": "stream",
     "text": [
      "Accuracy: 0.42 (+/- 0.68)\n"
     ]
    },
    {
     "data": {
      "text/plain": [
       "array([ 0.56415147,  0.03769219,  0.78486261,  0.59872816,  0.91806819,\n",
       "        0.27064359,  0.34354615, -0.31765833,  0.514824  ,  0.5033791 ])"
      ]
     },
     "execution_count": 54,
     "metadata": {},
     "output_type": "execute_result"
    }
   ],
   "source": [
    "reg = LinearRegression()\n",
    "scores = cross_val_score(reg, X_standardized_train_PCA, Y_standardized_train, cv=10, scoring='r2')\n",
    "print(\"Accuracy: %0.2f (+/- %0.2f)\" % (scores.mean(), scores.std() * 2))\n",
    "scores"
   ]
  },
  {
   "cell_type": "markdown",
   "metadata": {},
   "source": [
    "### feature selection"
   ]
  },
  {
   "cell_type": "markdown",
   "metadata": {},
   "source": [
    "#### Top 10"
   ]
  },
  {
   "cell_type": "code",
   "execution_count": 55,
   "metadata": {
    "ExecuteTime": {
     "end_time": "2019-05-08T18:07:24.397051Z",
     "start_time": "2019-05-08T18:07:24.325242Z"
    }
   },
   "outputs": [
    {
     "data": {
      "text/html": [
       "<div>\n",
       "<style scoped>\n",
       "    .dataframe tbody tr th:only-of-type {\n",
       "        vertical-align: middle;\n",
       "    }\n",
       "\n",
       "    .dataframe tbody tr th {\n",
       "        vertical-align: top;\n",
       "    }\n",
       "\n",
       "    .dataframe thead th {\n",
       "        text-align: right;\n",
       "    }\n",
       "</style>\n",
       "<table border=\"1\" class=\"dataframe\">\n",
       "  <thead>\n",
       "    <tr style=\"text-align: right;\">\n",
       "      <th></th>\n",
       "      <th>SALE PRICE</th>\n",
       "    </tr>\n",
       "  </thead>\n",
       "  <tbody>\n",
       "    <tr>\n",
       "      <th>retailarea</th>\n",
       "      <td>0.239686</td>\n",
       "    </tr>\n",
       "    <tr>\n",
       "      <th>otherarea</th>\n",
       "      <td>0.244198</td>\n",
       "    </tr>\n",
       "    <tr>\n",
       "      <th>RESIDENTIAL UNITS</th>\n",
       "      <td>0.259088</td>\n",
       "    </tr>\n",
       "    <tr>\n",
       "      <th>COMMERCIAL UNITS</th>\n",
       "      <td>0.284432</td>\n",
       "    </tr>\n",
       "    <tr>\n",
       "      <th>factryarea</th>\n",
       "      <td>0.323596</td>\n",
       "    </tr>\n",
       "    <tr>\n",
       "      <th>TOTAL UNITS</th>\n",
       "      <td>0.357732</td>\n",
       "    </tr>\n",
       "    <tr>\n",
       "      <th>officearea</th>\n",
       "      <td>0.506109</td>\n",
       "    </tr>\n",
       "    <tr>\n",
       "      <th>LAND SQUARE FEET</th>\n",
       "      <td>0.624461</td>\n",
       "    </tr>\n",
       "    <tr>\n",
       "      <th>GROSS SQUARE FEET</th>\n",
       "      <td>0.799625</td>\n",
       "    </tr>\n",
       "  </tbody>\n",
       "</table>\n",
       "</div>"
      ],
      "text/plain": [
       "                   SALE PRICE\n",
       "retailarea           0.239686\n",
       "otherarea            0.244198\n",
       "RESIDENTIAL UNITS    0.259088\n",
       "COMMERCIAL UNITS     0.284432\n",
       "factryarea           0.323596\n",
       "TOTAL UNITS          0.357732\n",
       "officearea           0.506109\n",
       "LAND SQUARE FEET     0.624461\n",
       "GROSS SQUARE FEET    0.799625"
      ]
     },
     "execution_count": 55,
     "metadata": {},
     "output_type": "execute_result"
    }
   ],
   "source": [
    " abs(df.corr().iloc[:,:1]).sort_values('SALE PRICE')[-10:-1]"
   ]
  },
  {
   "cell_type": "code",
   "execution_count": 56,
   "metadata": {
    "ExecuteTime": {
     "end_time": "2019-05-08T18:07:24.466863Z",
     "start_time": "2019-05-08T18:07:24.398048Z"
    }
   },
   "outputs": [],
   "source": [
    "selected_columns_top10 = abs(df.corr().iloc[:,:1]).sort_values('SALE PRICE')[-10:-1].index"
   ]
  },
  {
   "cell_type": "code",
   "execution_count": 57,
   "metadata": {
    "ExecuteTime": {
     "end_time": "2019-05-08T18:07:24.489802Z",
     "start_time": "2019-05-08T18:07:24.467861Z"
    },
    "scrolled": true
   },
   "outputs": [
    {
     "data": {
      "text/html": [
       "<table class=\"simpletable\">\n",
       "<caption>OLS Regression Results</caption>\n",
       "<tr>\n",
       "  <th>Dep. Variable:</th>       <td>SALE PRICE</td>    <th>  R-squared:         </th>  <td>   0.661</td>  \n",
       "</tr>\n",
       "<tr>\n",
       "  <th>Model:</th>                   <td>OLS</td>       <th>  Adj. R-squared:    </th>  <td>   0.660</td>  \n",
       "</tr>\n",
       "<tr>\n",
       "  <th>Method:</th>             <td>Least Squares</td>  <th>  F-statistic:       </th>  <td>   1397.</td>  \n",
       "</tr>\n",
       "<tr>\n",
       "  <th>Date:</th>             <td>Wed, 08 May 2019</td> <th>  Prob (F-statistic):</th>   <td>  0.00</td>   \n",
       "</tr>\n",
       "<tr>\n",
       "  <th>Time:</th>                 <td>14:07:24</td>     <th>  Log-Likelihood:    </th> <td>-1.0397e+05</td>\n",
       "</tr>\n",
       "<tr>\n",
       "  <th>No. Observations:</th>      <td>  5746</td>      <th>  AIC:               </th>  <td>2.079e+05</td> \n",
       "</tr>\n",
       "<tr>\n",
       "  <th>Df Residuals:</th>          <td>  5738</td>      <th>  BIC:               </th>  <td>2.080e+05</td> \n",
       "</tr>\n",
       "<tr>\n",
       "  <th>Df Model:</th>              <td>     8</td>      <th>                     </th>      <td> </td>     \n",
       "</tr>\n",
       "<tr>\n",
       "  <th>Covariance Type:</th>      <td>nonrobust</td>    <th>                     </th>      <td> </td>     \n",
       "</tr>\n",
       "</table>\n",
       "<table class=\"simpletable\">\n",
       "<tr>\n",
       "          <td></td>             <th>coef</th>     <th>std err</th>      <th>t</th>      <th>P>|t|</th>  <th>[0.025</th>    <th>0.975]</th>  \n",
       "</tr>\n",
       "<tr>\n",
       "  <th>retailarea</th>        <td>  125.4163</td> <td>   11.253</td> <td>   11.145</td> <td> 0.000</td> <td>  103.356</td> <td>  147.476</td>\n",
       "</tr>\n",
       "<tr>\n",
       "  <th>otherarea</th>         <td>  341.2440</td> <td>   53.541</td> <td>    6.374</td> <td> 0.000</td> <td>  236.283</td> <td>  446.204</td>\n",
       "</tr>\n",
       "<tr>\n",
       "  <th>RESIDENTIAL UNITS</th> <td> -2.12e+05</td> <td> 1.68e+04</td> <td>  -12.611</td> <td> 0.000</td> <td>-2.45e+05</td> <td>-1.79e+05</td>\n",
       "</tr>\n",
       "<tr>\n",
       "  <th>COMMERCIAL UNITS</th>  <td> 2.501e+05</td> <td> 1.91e+04</td> <td>   13.107</td> <td> 0.000</td> <td> 2.13e+05</td> <td> 2.88e+05</td>\n",
       "</tr>\n",
       "<tr>\n",
       "  <th>factryarea</th>        <td>   92.2814</td> <td>   28.911</td> <td>    3.192</td> <td> 0.001</td> <td>   35.604</td> <td>  148.958</td>\n",
       "</tr>\n",
       "<tr>\n",
       "  <th>TOTAL UNITS</th>       <td> 3.812e+04</td> <td> 1.26e+04</td> <td>    3.019</td> <td> 0.003</td> <td> 1.34e+04</td> <td> 6.29e+04</td>\n",
       "</tr>\n",
       "<tr>\n",
       "  <th>officearea</th>        <td> -162.8727</td> <td>   18.218</td> <td>   -8.940</td> <td> 0.000</td> <td> -198.587</td> <td> -127.158</td>\n",
       "</tr>\n",
       "<tr>\n",
       "  <th>LAND SQUARE FEET</th>  <td> -326.3831</td> <td>  118.668</td> <td>   -2.750</td> <td> 0.006</td> <td> -559.018</td> <td>  -93.749</td>\n",
       "</tr>\n",
       "<tr>\n",
       "  <th>GROSS SQUARE FEET</th> <td>  725.6004</td> <td>   16.721</td> <td>   43.395</td> <td> 0.000</td> <td>  692.822</td> <td>  758.379</td>\n",
       "</tr>\n",
       "</table>\n",
       "<table class=\"simpletable\">\n",
       "<tr>\n",
       "  <th>Omnibus:</th>       <td>14352.492</td> <th>  Durbin-Watson:     </th>   <td>   1.994</td>   \n",
       "</tr>\n",
       "<tr>\n",
       "  <th>Prob(Omnibus):</th>  <td> 0.000</td>   <th>  Jarque-Bera (JB):  </th> <td>483509138.655</td>\n",
       "</tr>\n",
       "<tr>\n",
       "  <th>Skew:</th>           <td>26.553</td>   <th>  Prob(JB):          </th>   <td>    0.00</td>   \n",
       "</tr>\n",
       "<tr>\n",
       "  <th>Kurtosis:</th>      <td>1423.109</td>  <th>  Cond. No.          </th>   <td>4.06e+18</td>   \n",
       "</tr>\n",
       "</table><br/><br/>Warnings:<br/>[1] Standard Errors assume that the covariance matrix of the errors is correctly specified.<br/>[2] The smallest eigenvalue is 5.92e-25. This might indicate that there are<br/>strong multicollinearity problems or that the design matrix is singular."
      ],
      "text/plain": [
       "<class 'statsmodels.iolib.summary.Summary'>\n",
       "\"\"\"\n",
       "                            OLS Regression Results                            \n",
       "==============================================================================\n",
       "Dep. Variable:             SALE PRICE   R-squared:                       0.661\n",
       "Model:                            OLS   Adj. R-squared:                  0.660\n",
       "Method:                 Least Squares   F-statistic:                     1397.\n",
       "Date:                Wed, 08 May 2019   Prob (F-statistic):               0.00\n",
       "Time:                        14:07:24   Log-Likelihood:            -1.0397e+05\n",
       "No. Observations:                5746   AIC:                         2.079e+05\n",
       "Df Residuals:                    5738   BIC:                         2.080e+05\n",
       "Df Model:                           8                                         \n",
       "Covariance Type:            nonrobust                                         \n",
       "=====================================================================================\n",
       "                        coef    std err          t      P>|t|      [0.025      0.975]\n",
       "-------------------------------------------------------------------------------------\n",
       "retailarea          125.4163     11.253     11.145      0.000     103.356     147.476\n",
       "otherarea           341.2440     53.541      6.374      0.000     236.283     446.204\n",
       "RESIDENTIAL UNITS  -2.12e+05   1.68e+04    -12.611      0.000   -2.45e+05   -1.79e+05\n",
       "COMMERCIAL UNITS   2.501e+05   1.91e+04     13.107      0.000    2.13e+05    2.88e+05\n",
       "factryarea           92.2814     28.911      3.192      0.001      35.604     148.958\n",
       "TOTAL UNITS        3.812e+04   1.26e+04      3.019      0.003    1.34e+04    6.29e+04\n",
       "officearea         -162.8727     18.218     -8.940      0.000    -198.587    -127.158\n",
       "LAND SQUARE FEET   -326.3831    118.668     -2.750      0.006    -559.018     -93.749\n",
       "GROSS SQUARE FEET   725.6004     16.721     43.395      0.000     692.822     758.379\n",
       "==============================================================================\n",
       "Omnibus:                    14352.492   Durbin-Watson:                   1.994\n",
       "Prob(Omnibus):                  0.000   Jarque-Bera (JB):        483509138.655\n",
       "Skew:                          26.553   Prob(JB):                         0.00\n",
       "Kurtosis:                    1423.109   Cond. No.                     4.06e+18\n",
       "==============================================================================\n",
       "\n",
       "Warnings:\n",
       "[1] Standard Errors assume that the covariance matrix of the errors is correctly specified.\n",
       "[2] The smallest eigenvalue is 5.92e-25. This might indicate that there are\n",
       "strong multicollinearity problems or that the design matrix is singular.\n",
       "\"\"\""
      ]
     },
     "execution_count": 57,
     "metadata": {},
     "output_type": "execute_result"
    }
   ],
   "source": [
    "mod = sm.OLS(Y_train, X_train[selected_columns_top10]).fit()\n",
    "mod.summary()"
   ]
  },
  {
   "cell_type": "code",
   "execution_count": 58,
   "metadata": {
    "ExecuteTime": {
     "end_time": "2019-05-08T18:07:24.499776Z",
     "start_time": "2019-05-08T18:07:24.491798Z"
    }
   },
   "outputs": [
    {
     "data": {
      "text/plain": [
       "0.6970905633965228"
      ]
     },
     "execution_count": 58,
     "metadata": {},
     "output_type": "execute_result"
    }
   ],
   "source": [
    "Y_pred = mod.predict(X_test[selected_columns_top10])\n",
    "r2_score(Y_test, Y_pred)"
   ]
  },
  {
   "cell_type": "markdown",
   "metadata": {},
   "source": [
    "**Cross-validation**"
   ]
  },
  {
   "cell_type": "code",
   "execution_count": 59,
   "metadata": {
    "ExecuteTime": {
     "end_time": "2019-05-08T18:07:24.522715Z",
     "start_time": "2019-05-08T18:07:24.501771Z"
    },
    "scrolled": true
   },
   "outputs": [
    {
     "name": "stdout",
     "output_type": "stream",
     "text": [
      "In sample R-squared: 0.655632\n",
      "Out of sample R-squared: 0.699522\n"
     ]
    }
   ],
   "source": [
    "reg = LinearRegression().fit(X_train[selected_columns_top10], Y_train)\n",
    "print(\"In sample R-squared: %f\"%reg.score(X_train[selected_columns_top10], Y_train))\n",
    "print(\"Out of sample R-squared: %f\"%reg.score(X_test[selected_columns_top10], Y_test))"
   ]
  },
  {
   "cell_type": "code",
   "execution_count": 60,
   "metadata": {
    "ExecuteTime": {
     "end_time": "2019-05-08T18:07:24.584548Z",
     "start_time": "2019-05-08T18:07:24.524712Z"
    },
    "scrolled": true
   },
   "outputs": [
    {
     "name": "stdout",
     "output_type": "stream",
     "text": [
      "Accuracy: 0.39 (+/- 0.70)\n"
     ]
    },
    {
     "data": {
      "text/plain": [
       "array([ 0.80014702,  0.04110634,  0.80715878,  0.52402403,  0.47903945,\n",
       "        0.23396364, -0.00838267, -0.25271524,  0.65656123,  0.65608292])"
      ]
     },
     "execution_count": 60,
     "metadata": {},
     "output_type": "execute_result"
    }
   ],
   "source": [
    "reg = LinearRegression()\n",
    "scores = cross_val_score(reg, X_train[selected_columns_top10], Y_train, cv=10, scoring='r2')\n",
    "print(\"Accuracy: %0.2f (+/- %0.2f)\" % (scores.mean(), scores.std() * 2))\n",
    "scores"
   ]
  },
  {
   "cell_type": "code",
   "execution_count": null,
   "metadata": {},
   "outputs": [],
   "source": []
  },
  {
   "cell_type": "markdown",
   "metadata": {},
   "source": [
    "#### original"
   ]
  },
  {
   "cell_type": "code",
   "execution_count": 61,
   "metadata": {
    "ExecuteTime": {
     "end_time": "2019-05-08T18:07:24.644390Z",
     "start_time": "2019-05-08T18:07:24.585547Z"
    },
    "scrolled": true
   },
   "outputs": [
    {
     "data": {
      "text/html": [
       "<table class=\"simpletable\">\n",
       "<caption>OLS Regression Results</caption>\n",
       "<tr>\n",
       "  <th>Dep. Variable:</th>       <td>SALE PRICE</td>    <th>  R-squared:         </th>  <td>   0.684</td>  \n",
       "</tr>\n",
       "<tr>\n",
       "  <th>Model:</th>                   <td>OLS</td>       <th>  Adj. R-squared:    </th>  <td>   0.681</td>  \n",
       "</tr>\n",
       "<tr>\n",
       "  <th>Method:</th>             <td>Least Squares</td>  <th>  F-statistic:       </th>  <td>   293.4</td>  \n",
       "</tr>\n",
       "<tr>\n",
       "  <th>Date:</th>             <td>Wed, 08 May 2019</td> <th>  Prob (F-statistic):</th>   <td>  0.00</td>   \n",
       "</tr>\n",
       "<tr>\n",
       "  <th>Time:</th>                 <td>14:07:24</td>     <th>  Log-Likelihood:    </th> <td>-1.0377e+05</td>\n",
       "</tr>\n",
       "<tr>\n",
       "  <th>No. Observations:</th>      <td>  5746</td>      <th>  AIC:               </th>  <td>2.076e+05</td> \n",
       "</tr>\n",
       "<tr>\n",
       "  <th>Df Residuals:</th>          <td>  5704</td>      <th>  BIC:               </th>  <td>2.079e+05</td> \n",
       "</tr>\n",
       "<tr>\n",
       "  <th>Df Model:</th>              <td>    42</td>      <th>                     </th>      <td> </td>     \n",
       "</tr>\n",
       "<tr>\n",
       "  <th>Covariance Type:</th>      <td>nonrobust</td>    <th>                     </th>      <td> </td>     \n",
       "</tr>\n",
       "</table>\n",
       "<table class=\"simpletable\">\n",
       "<tr>\n",
       "             <td></td>               <th>coef</th>     <th>std err</th>      <th>t</th>      <th>P>|t|</th>  <th>[0.025</th>    <th>0.975]</th>  \n",
       "</tr>\n",
       "<tr>\n",
       "  <th>YEAR BUILT</th>             <td> 3.381e+04</td> <td> 4899.800</td> <td>    6.901</td> <td> 0.000</td> <td> 2.42e+04</td> <td> 4.34e+04</td>\n",
       "</tr>\n",
       "<tr>\n",
       "  <th>RESIDENTIAL UNITS</th>      <td>-1.704e+05</td> <td> 1.71e+04</td> <td>   -9.971</td> <td> 0.000</td> <td>-2.04e+05</td> <td>-1.37e+05</td>\n",
       "</tr>\n",
       "<tr>\n",
       "  <th>COMMERCIAL UNITS</th>       <td> 2.308e+05</td> <td> 1.87e+04</td> <td>   12.327</td> <td> 0.000</td> <td> 1.94e+05</td> <td> 2.68e+05</td>\n",
       "</tr>\n",
       "<tr>\n",
       "  <th>TOTAL UNITS</th>            <td> 6.048e+04</td> <td> 1.27e+04</td> <td>    4.755</td> <td> 0.000</td> <td> 3.55e+04</td> <td> 8.54e+04</td>\n",
       "</tr>\n",
       "<tr>\n",
       "  <th>LAND SQUARE FEET</th>       <td> -727.0831</td> <td>  124.017</td> <td>   -5.863</td> <td> 0.000</td> <td> -970.203</td> <td> -483.963</td>\n",
       "</tr>\n",
       "<tr>\n",
       "  <th>GROSS SQUARE FEET</th>      <td>  724.3782</td> <td>   17.694</td> <td>   40.940</td> <td> 0.000</td> <td>  689.692</td> <td>  759.064</td>\n",
       "</tr>\n",
       "<tr>\n",
       "  <th>easements</th>              <td>-2.323e+05</td> <td> 2.61e+06</td> <td>   -0.089</td> <td> 0.929</td> <td>-5.36e+06</td> <td> 4.89e+06</td>\n",
       "</tr>\n",
       "<tr>\n",
       "  <th>lotarea</th>                <td>  -41.2563</td> <td>    7.425</td> <td>   -5.556</td> <td> 0.000</td> <td>  -55.813</td> <td>  -26.700</td>\n",
       "</tr>\n",
       "<tr>\n",
       "  <th>comarea</th>                <td>   55.6882</td> <td>    8.318</td> <td>    6.695</td> <td> 0.000</td> <td>   39.381</td> <td>   71.995</td>\n",
       "</tr>\n",
       "<tr>\n",
       "  <th>officearea</th>             <td> -170.4735</td> <td>   19.958</td> <td>   -8.542</td> <td> 0.000</td> <td> -209.598</td> <td> -131.349</td>\n",
       "</tr>\n",
       "<tr>\n",
       "  <th>retailarea</th>             <td>  234.9061</td> <td>   17.766</td> <td>   13.222</td> <td> 0.000</td> <td>  200.078</td> <td>  269.734</td>\n",
       "</tr>\n",
       "<tr>\n",
       "  <th>strgearea</th>              <td> -528.4305</td> <td>   92.340</td> <td>   -5.723</td> <td> 0.000</td> <td> -709.453</td> <td> -347.408</td>\n",
       "</tr>\n",
       "<tr>\n",
       "  <th>factryarea</th>             <td>   94.3366</td> <td>   29.483</td> <td>    3.200</td> <td> 0.001</td> <td>   36.539</td> <td>  152.135</td>\n",
       "</tr>\n",
       "<tr>\n",
       "  <th>otherarea</th>              <td>  330.8814</td> <td>   53.493</td> <td>    6.186</td> <td> 0.000</td> <td>  226.015</td> <td>  435.747</td>\n",
       "</tr>\n",
       "<tr>\n",
       "  <th>numbldgs</th>               <td> 2.272e+05</td> <td> 9.92e+04</td> <td>    2.290</td> <td> 0.022</td> <td> 3.27e+04</td> <td> 4.22e+05</td>\n",
       "</tr>\n",
       "<tr>\n",
       "  <th>numfloors</th>              <td>-6.231e+04</td> <td>  5.9e+04</td> <td>   -1.056</td> <td> 0.291</td> <td>-1.78e+05</td> <td> 5.34e+04</td>\n",
       "</tr>\n",
       "<tr>\n",
       "  <th>lotdepth</th>               <td>-7189.7393</td> <td> 3558.323</td> <td>   -2.021</td> <td> 0.043</td> <td>-1.42e+04</td> <td> -214.074</td>\n",
       "</tr>\n",
       "<tr>\n",
       "  <th>bldgfront</th>              <td> 6683.7383</td> <td> 3255.048</td> <td>    2.053</td> <td> 0.040</td> <td>  302.608</td> <td> 1.31e+04</td>\n",
       "</tr>\n",
       "<tr>\n",
       "  <th>bldgdepth</th>              <td>-3806.3048</td> <td> 3025.708</td> <td>   -1.258</td> <td> 0.208</td> <td>-9737.843</td> <td> 2125.233</td>\n",
       "</tr>\n",
       "<tr>\n",
       "  <th>exempttot</th>              <td>   -0.2934</td> <td>    0.063</td> <td>   -4.675</td> <td> 0.000</td> <td>   -0.416</td> <td>   -0.170</td>\n",
       "</tr>\n",
       "<tr>\n",
       "  <th>builtfar</th>               <td>-4.738e+05</td> <td> 1.17e+05</td> <td>   -4.053</td> <td> 0.000</td> <td>-7.03e+05</td> <td>-2.45e+05</td>\n",
       "</tr>\n",
       "<tr>\n",
       "  <th>residfar</th>               <td> 6.938e+05</td> <td> 1.82e+05</td> <td>    3.802</td> <td> 0.000</td> <td> 3.36e+05</td> <td> 1.05e+06</td>\n",
       "</tr>\n",
       "<tr>\n",
       "  <th>commfar</th>                <td> 3.109e+05</td> <td> 1.12e+05</td> <td>    2.772</td> <td> 0.006</td> <td> 9.11e+04</td> <td> 5.31e+05</td>\n",
       "</tr>\n",
       "<tr>\n",
       "  <th>facilfar</th>               <td>-1.528e+05</td> <td> 2.12e+05</td> <td>   -0.722</td> <td> 0.470</td> <td>-5.68e+05</td> <td> 2.62e+05</td>\n",
       "</tr>\n",
       "<tr>\n",
       "  <th>DensityPop</th>             <td> -2.13e+08</td> <td> 2.83e+08</td> <td>   -0.753</td> <td> 0.452</td> <td>-7.68e+08</td> <td> 3.42e+08</td>\n",
       "</tr>\n",
       "<tr>\n",
       "  <th>IncomePerCap</th>           <td>  -32.8270</td> <td>   11.619</td> <td>   -2.825</td> <td> 0.005</td> <td>  -55.605</td> <td>  -10.049</td>\n",
       "</tr>\n",
       "<tr>\n",
       "  <th>Poverty</th>                <td>-3.116e+05</td> <td> 5.67e+04</td> <td>   -5.495</td> <td> 0.000</td> <td>-4.23e+05</td> <td>   -2e+05</td>\n",
       "</tr>\n",
       "<tr>\n",
       "  <th>Professional</th>           <td>-2.463e+05</td> <td>  1.1e+05</td> <td>   -2.243</td> <td> 0.025</td> <td>-4.62e+05</td> <td>-3.11e+04</td>\n",
       "</tr>\n",
       "<tr>\n",
       "  <th>Service</th>                <td>-2.107e+05</td> <td> 1.19e+05</td> <td>   -1.772</td> <td> 0.076</td> <td>-4.44e+05</td> <td> 2.24e+04</td>\n",
       "</tr>\n",
       "<tr>\n",
       "  <th>Office</th>                 <td>-2.123e+05</td> <td> 1.15e+05</td> <td>   -1.839</td> <td> 0.066</td> <td>-4.39e+05</td> <td>  1.4e+04</td>\n",
       "</tr>\n",
       "<tr>\n",
       "  <th>Construction</th>           <td>-4.144e+05</td> <td> 2.04e+05</td> <td>   -2.031</td> <td> 0.042</td> <td>-8.14e+05</td> <td>-1.44e+04</td>\n",
       "</tr>\n",
       "<tr>\n",
       "  <th>Production</th>             <td>-2.422e+05</td> <td> 1.64e+05</td> <td>   -1.478</td> <td> 0.140</td> <td>-5.64e+05</td> <td> 7.91e+04</td>\n",
       "</tr>\n",
       "<tr>\n",
       "  <th>Employed</th>               <td>  -54.9868</td> <td>  210.460</td> <td>   -0.261</td> <td> 0.794</td> <td> -467.569</td> <td>  357.595</td>\n",
       "</tr>\n",
       "<tr>\n",
       "  <th>Unemployment</th>           <td> 4.901e+05</td> <td> 1.05e+05</td> <td>    4.677</td> <td> 0.000</td> <td> 2.85e+05</td> <td> 6.96e+05</td>\n",
       "</tr>\n",
       "<tr>\n",
       "  <th>distance_subway</th>        <td> 4.824e+08</td> <td> 1.71e+08</td> <td>    2.827</td> <td> 0.005</td> <td> 1.48e+08</td> <td> 8.17e+08</td>\n",
       "</tr>\n",
       "<tr>\n",
       "  <th>distance_bus</th>           <td>-6.066e+07</td> <td> 5.21e+08</td> <td>   -0.116</td> <td> 0.907</td> <td>-1.08e+09</td> <td> 9.62e+08</td>\n",
       "</tr>\n",
       "<tr>\n",
       "  <th>park_num</th>               <td> 1.315e+04</td> <td> 9.13e+04</td> <td>    0.144</td> <td> 0.886</td> <td>-1.66e+05</td> <td> 1.92e+05</td>\n",
       "</tr>\n",
       "<tr>\n",
       "  <th>park_area</th>              <td> 6838.7753</td> <td> 1463.014</td> <td>    4.674</td> <td> 0.000</td> <td> 3970.713</td> <td> 9706.838</td>\n",
       "</tr>\n",
       "<tr>\n",
       "  <th>park_top_level</th>         <td>-1.874e+06</td> <td> 6.69e+05</td> <td>   -2.802</td> <td> 0.005</td> <td>-3.19e+06</td> <td>-5.63e+05</td>\n",
       "</tr>\n",
       "<tr>\n",
       "  <th>park_distance</th>          <td>-5.534e+08</td> <td> 2.93e+08</td> <td>   -1.890</td> <td> 0.059</td> <td>-1.13e+09</td> <td> 2.07e+07</td>\n",
       "</tr>\n",
       "<tr>\n",
       "  <th>Num of SAT Test Takers</th> <td>  656.8787</td> <td>  204.100</td> <td>    3.218</td> <td> 0.001</td> <td>  256.765</td> <td> 1056.992</td>\n",
       "</tr>\n",
       "<tr>\n",
       "  <th>sat</th>                    <td> 1.909e+04</td> <td> 6768.695</td> <td>    2.821</td> <td> 0.005</td> <td> 5823.389</td> <td> 3.24e+04</td>\n",
       "</tr>\n",
       "<tr>\n",
       "  <th>crime</th>                  <td> -675.1922</td> <td>  717.269</td> <td>   -0.941</td> <td> 0.347</td> <td>-2081.312</td> <td>  730.928</td>\n",
       "</tr>\n",
       "</table>\n",
       "<table class=\"simpletable\">\n",
       "<tr>\n",
       "  <th>Omnibus:</th>       <td>14723.404</td> <th>  Durbin-Watson:     </th>   <td>   2.004</td>   \n",
       "</tr>\n",
       "<tr>\n",
       "  <th>Prob(Omnibus):</th>  <td> 0.000</td>   <th>  Jarque-Bera (JB):  </th> <td>581892106.309</td>\n",
       "</tr>\n",
       "<tr>\n",
       "  <th>Skew:</th>           <td>28.330</td>   <th>  Prob(JB):          </th>   <td>    0.00</td>   \n",
       "</tr>\n",
       "<tr>\n",
       "  <th>Kurtosis:</th>      <td>1560.963</td>  <th>  Cond. No.          </th>   <td>1.02e+16</td>   \n",
       "</tr>\n",
       "</table><br/><br/>Warnings:<br/>[1] Standard Errors assume that the covariance matrix of the errors is correctly specified.<br/>[2] The smallest eigenvalue is 1.12e-15. This might indicate that there are<br/>strong multicollinearity problems or that the design matrix is singular."
      ],
      "text/plain": [
       "<class 'statsmodels.iolib.summary.Summary'>\n",
       "\"\"\"\n",
       "                            OLS Regression Results                            \n",
       "==============================================================================\n",
       "Dep. Variable:             SALE PRICE   R-squared:                       0.684\n",
       "Model:                            OLS   Adj. R-squared:                  0.681\n",
       "Method:                 Least Squares   F-statistic:                     293.4\n",
       "Date:                Wed, 08 May 2019   Prob (F-statistic):               0.00\n",
       "Time:                        14:07:24   Log-Likelihood:            -1.0377e+05\n",
       "No. Observations:                5746   AIC:                         2.076e+05\n",
       "Df Residuals:                    5704   BIC:                         2.079e+05\n",
       "Df Model:                          42                                         \n",
       "Covariance Type:            nonrobust                                         \n",
       "==========================================================================================\n",
       "                             coef    std err          t      P>|t|      [0.025      0.975]\n",
       "------------------------------------------------------------------------------------------\n",
       "YEAR BUILT              3.381e+04   4899.800      6.901      0.000    2.42e+04    4.34e+04\n",
       "RESIDENTIAL UNITS      -1.704e+05   1.71e+04     -9.971      0.000   -2.04e+05   -1.37e+05\n",
       "COMMERCIAL UNITS        2.308e+05   1.87e+04     12.327      0.000    1.94e+05    2.68e+05\n",
       "TOTAL UNITS             6.048e+04   1.27e+04      4.755      0.000    3.55e+04    8.54e+04\n",
       "LAND SQUARE FEET        -727.0831    124.017     -5.863      0.000    -970.203    -483.963\n",
       "GROSS SQUARE FEET        724.3782     17.694     40.940      0.000     689.692     759.064\n",
       "easements              -2.323e+05   2.61e+06     -0.089      0.929   -5.36e+06    4.89e+06\n",
       "lotarea                  -41.2563      7.425     -5.556      0.000     -55.813     -26.700\n",
       "comarea                   55.6882      8.318      6.695      0.000      39.381      71.995\n",
       "officearea              -170.4735     19.958     -8.542      0.000    -209.598    -131.349\n",
       "retailarea               234.9061     17.766     13.222      0.000     200.078     269.734\n",
       "strgearea               -528.4305     92.340     -5.723      0.000    -709.453    -347.408\n",
       "factryarea                94.3366     29.483      3.200      0.001      36.539     152.135\n",
       "otherarea                330.8814     53.493      6.186      0.000     226.015     435.747\n",
       "numbldgs                2.272e+05   9.92e+04      2.290      0.022    3.27e+04    4.22e+05\n",
       "numfloors              -6.231e+04    5.9e+04     -1.056      0.291   -1.78e+05    5.34e+04\n",
       "lotdepth               -7189.7393   3558.323     -2.021      0.043   -1.42e+04    -214.074\n",
       "bldgfront               6683.7383   3255.048      2.053      0.040     302.608    1.31e+04\n",
       "bldgdepth              -3806.3048   3025.708     -1.258      0.208   -9737.843    2125.233\n",
       "exempttot                 -0.2934      0.063     -4.675      0.000      -0.416      -0.170\n",
       "builtfar               -4.738e+05   1.17e+05     -4.053      0.000   -7.03e+05   -2.45e+05\n",
       "residfar                6.938e+05   1.82e+05      3.802      0.000    3.36e+05    1.05e+06\n",
       "commfar                 3.109e+05   1.12e+05      2.772      0.006    9.11e+04    5.31e+05\n",
       "facilfar               -1.528e+05   2.12e+05     -0.722      0.470   -5.68e+05    2.62e+05\n",
       "DensityPop              -2.13e+08   2.83e+08     -0.753      0.452   -7.68e+08    3.42e+08\n",
       "IncomePerCap             -32.8270     11.619     -2.825      0.005     -55.605     -10.049\n",
       "Poverty                -3.116e+05   5.67e+04     -5.495      0.000   -4.23e+05      -2e+05\n",
       "Professional           -2.463e+05    1.1e+05     -2.243      0.025   -4.62e+05   -3.11e+04\n",
       "Service                -2.107e+05   1.19e+05     -1.772      0.076   -4.44e+05    2.24e+04\n",
       "Office                 -2.123e+05   1.15e+05     -1.839      0.066   -4.39e+05     1.4e+04\n",
       "Construction           -4.144e+05   2.04e+05     -2.031      0.042   -8.14e+05   -1.44e+04\n",
       "Production             -2.422e+05   1.64e+05     -1.478      0.140   -5.64e+05    7.91e+04\n",
       "Employed                 -54.9868    210.460     -0.261      0.794    -467.569     357.595\n",
       "Unemployment            4.901e+05   1.05e+05      4.677      0.000    2.85e+05    6.96e+05\n",
       "distance_subway         4.824e+08   1.71e+08      2.827      0.005    1.48e+08    8.17e+08\n",
       "distance_bus           -6.066e+07   5.21e+08     -0.116      0.907   -1.08e+09    9.62e+08\n",
       "park_num                1.315e+04   9.13e+04      0.144      0.886   -1.66e+05    1.92e+05\n",
       "park_area               6838.7753   1463.014      4.674      0.000    3970.713    9706.838\n",
       "park_top_level         -1.874e+06   6.69e+05     -2.802      0.005   -3.19e+06   -5.63e+05\n",
       "park_distance          -5.534e+08   2.93e+08     -1.890      0.059   -1.13e+09    2.07e+07\n",
       "Num of SAT Test Takers   656.8787    204.100      3.218      0.001     256.765    1056.992\n",
       "sat                     1.909e+04   6768.695      2.821      0.005    5823.389    3.24e+04\n",
       "crime                   -675.1922    717.269     -0.941      0.347   -2081.312     730.928\n",
       "==============================================================================\n",
       "Omnibus:                    14723.404   Durbin-Watson:                   2.004\n",
       "Prob(Omnibus):                  0.000   Jarque-Bera (JB):        581892106.309\n",
       "Skew:                          28.330   Prob(JB):                         0.00\n",
       "Kurtosis:                    1560.963   Cond. No.                     1.02e+16\n",
       "==============================================================================\n",
       "\n",
       "Warnings:\n",
       "[1] Standard Errors assume that the covariance matrix of the errors is correctly specified.\n",
       "[2] The smallest eigenvalue is 1.12e-15. This might indicate that there are\n",
       "strong multicollinearity problems or that the design matrix is singular.\n",
       "\"\"\""
      ]
     },
     "execution_count": 61,
     "metadata": {},
     "output_type": "execute_result"
    }
   ],
   "source": [
    "mod = sm.OLS(Y_train, X_train[selected_columns[1:]]).fit()\n",
    "mod.summary()"
   ]
  },
  {
   "cell_type": "code",
   "execution_count": 62,
   "metadata": {
    "ExecuteTime": {
     "end_time": "2019-05-08T18:07:24.655359Z",
     "start_time": "2019-05-08T18:07:24.645386Z"
    }
   },
   "outputs": [
    {
     "data": {
      "text/plain": [
       "0.7256777934938436"
      ]
     },
     "execution_count": 62,
     "metadata": {},
     "output_type": "execute_result"
    }
   ],
   "source": [
    "from sklearn.metrics import r2_score\n",
    "Y_pred = mod.predict(X_test[selected_columns[1:]])\n",
    "r2_score(Y_test, Y_pred)"
   ]
  },
  {
   "cell_type": "markdown",
   "metadata": {},
   "source": [
    "**Cross-validation**"
   ]
  },
  {
   "cell_type": "code",
   "execution_count": 63,
   "metadata": {
    "ExecuteTime": {
     "end_time": "2019-05-08T18:07:24.682289Z",
     "start_time": "2019-05-08T18:07:24.657357Z"
    },
    "scrolled": true
   },
   "outputs": [
    {
     "name": "stdout",
     "output_type": "stream",
     "text": [
      "In sample R-squared: 0.677212\n",
      "Out of sample R-squared: 0.726013\n"
     ]
    }
   ],
   "source": [
    "reg = LinearRegression().fit(X_train[selected_columns[1:]], Y_train)\n",
    "print(\"In sample R-squared: %f\"%reg.score(X_train[selected_columns[1:]], Y_train))\n",
    "print(\"Out of sample R-squared: %f\"%reg.score(X_test[selected_columns[1:]], Y_test))"
   ]
  },
  {
   "cell_type": "code",
   "execution_count": 64,
   "metadata": {
    "ExecuteTime": {
     "end_time": "2019-05-08T18:07:24.802964Z",
     "start_time": "2019-05-08T18:07:24.683285Z"
    },
    "scrolled": true
   },
   "outputs": [
    {
     "name": "stdout",
     "output_type": "stream",
     "text": [
      "Accuracy: 0.38 (+/- 0.68)\n"
     ]
    },
    {
     "data": {
      "text/plain": [
       "array([ 0.78314461,  0.02200782,  0.81545313,  0.29707558,  0.37012939,\n",
       "        0.23867859,  0.20522148, -0.26665951,  0.67627317,  0.70229601])"
      ]
     },
     "execution_count": 64,
     "metadata": {},
     "output_type": "execute_result"
    }
   ],
   "source": [
    "reg = LinearRegression()\n",
    "scores = cross_val_score(reg, X_train[selected_columns[1:]], Y_train, cv=10, scoring='r2')\n",
    "print(\"Accuracy: %0.2f (+/- %0.2f)\" % (scores.mean(), scores.std() * 2))\n",
    "scores"
   ]
  },
  {
   "cell_type": "markdown",
   "metadata": {},
   "source": [
    "#### original >- top10"
   ]
  },
  {
   "cell_type": "code",
   "execution_count": 65,
   "metadata": {
    "ExecuteTime": {
     "end_time": "2019-05-08T18:07:24.856822Z",
     "start_time": "2019-05-08T18:07:24.803962Z"
    }
   },
   "outputs": [],
   "source": [
    "selected_columns_top10 = abs(df[selected_columns].corr().iloc[:,:1]).sort_values('SALE PRICE')[-10:-1].index"
   ]
  },
  {
   "cell_type": "code",
   "execution_count": 66,
   "metadata": {
    "ExecuteTime": {
     "end_time": "2019-05-08T18:07:24.881754Z",
     "start_time": "2019-05-08T18:07:24.858816Z"
    },
    "scrolled": true
   },
   "outputs": [
    {
     "data": {
      "text/html": [
       "<table class=\"simpletable\">\n",
       "<caption>OLS Regression Results</caption>\n",
       "<tr>\n",
       "  <th>Dep. Variable:</th>       <td>SALE PRICE</td>    <th>  R-squared:         </th>  <td>   0.661</td>  \n",
       "</tr>\n",
       "<tr>\n",
       "  <th>Model:</th>                   <td>OLS</td>       <th>  Adj. R-squared:    </th>  <td>   0.660</td>  \n",
       "</tr>\n",
       "<tr>\n",
       "  <th>Method:</th>             <td>Least Squares</td>  <th>  F-statistic:       </th>  <td>   1397.</td>  \n",
       "</tr>\n",
       "<tr>\n",
       "  <th>Date:</th>             <td>Wed, 08 May 2019</td> <th>  Prob (F-statistic):</th>   <td>  0.00</td>   \n",
       "</tr>\n",
       "<tr>\n",
       "  <th>Time:</th>                 <td>14:07:24</td>     <th>  Log-Likelihood:    </th> <td>-1.0397e+05</td>\n",
       "</tr>\n",
       "<tr>\n",
       "  <th>No. Observations:</th>      <td>  5746</td>      <th>  AIC:               </th>  <td>2.079e+05</td> \n",
       "</tr>\n",
       "<tr>\n",
       "  <th>Df Residuals:</th>          <td>  5738</td>      <th>  BIC:               </th>  <td>2.080e+05</td> \n",
       "</tr>\n",
       "<tr>\n",
       "  <th>Df Model:</th>              <td>     8</td>      <th>                     </th>      <td> </td>     \n",
       "</tr>\n",
       "<tr>\n",
       "  <th>Covariance Type:</th>      <td>nonrobust</td>    <th>                     </th>      <td> </td>     \n",
       "</tr>\n",
       "</table>\n",
       "<table class=\"simpletable\">\n",
       "<tr>\n",
       "          <td></td>             <th>coef</th>     <th>std err</th>      <th>t</th>      <th>P>|t|</th>  <th>[0.025</th>    <th>0.975]</th>  \n",
       "</tr>\n",
       "<tr>\n",
       "  <th>retailarea</th>        <td>  125.4163</td> <td>   11.253</td> <td>   11.145</td> <td> 0.000</td> <td>  103.356</td> <td>  147.476</td>\n",
       "</tr>\n",
       "<tr>\n",
       "  <th>otherarea</th>         <td>  341.2440</td> <td>   53.541</td> <td>    6.374</td> <td> 0.000</td> <td>  236.283</td> <td>  446.204</td>\n",
       "</tr>\n",
       "<tr>\n",
       "  <th>RESIDENTIAL UNITS</th> <td> -2.12e+05</td> <td> 1.68e+04</td> <td>  -12.611</td> <td> 0.000</td> <td>-2.45e+05</td> <td>-1.79e+05</td>\n",
       "</tr>\n",
       "<tr>\n",
       "  <th>COMMERCIAL UNITS</th>  <td> 2.501e+05</td> <td> 1.91e+04</td> <td>   13.107</td> <td> 0.000</td> <td> 2.13e+05</td> <td> 2.88e+05</td>\n",
       "</tr>\n",
       "<tr>\n",
       "  <th>factryarea</th>        <td>   92.2814</td> <td>   28.911</td> <td>    3.192</td> <td> 0.001</td> <td>   35.604</td> <td>  148.958</td>\n",
       "</tr>\n",
       "<tr>\n",
       "  <th>TOTAL UNITS</th>       <td> 3.812e+04</td> <td> 1.26e+04</td> <td>    3.019</td> <td> 0.003</td> <td> 1.34e+04</td> <td> 6.29e+04</td>\n",
       "</tr>\n",
       "<tr>\n",
       "  <th>officearea</th>        <td> -162.8727</td> <td>   18.218</td> <td>   -8.940</td> <td> 0.000</td> <td> -198.587</td> <td> -127.158</td>\n",
       "</tr>\n",
       "<tr>\n",
       "  <th>LAND SQUARE FEET</th>  <td> -326.3831</td> <td>  118.668</td> <td>   -2.750</td> <td> 0.006</td> <td> -559.018</td> <td>  -93.749</td>\n",
       "</tr>\n",
       "<tr>\n",
       "  <th>GROSS SQUARE FEET</th> <td>  725.6004</td> <td>   16.721</td> <td>   43.395</td> <td> 0.000</td> <td>  692.822</td> <td>  758.379</td>\n",
       "</tr>\n",
       "</table>\n",
       "<table class=\"simpletable\">\n",
       "<tr>\n",
       "  <th>Omnibus:</th>       <td>14352.492</td> <th>  Durbin-Watson:     </th>   <td>   1.994</td>   \n",
       "</tr>\n",
       "<tr>\n",
       "  <th>Prob(Omnibus):</th>  <td> 0.000</td>   <th>  Jarque-Bera (JB):  </th> <td>483509138.655</td>\n",
       "</tr>\n",
       "<tr>\n",
       "  <th>Skew:</th>           <td>26.553</td>   <th>  Prob(JB):          </th>   <td>    0.00</td>   \n",
       "</tr>\n",
       "<tr>\n",
       "  <th>Kurtosis:</th>      <td>1423.109</td>  <th>  Cond. No.          </th>   <td>4.06e+18</td>   \n",
       "</tr>\n",
       "</table><br/><br/>Warnings:<br/>[1] Standard Errors assume that the covariance matrix of the errors is correctly specified.<br/>[2] The smallest eigenvalue is 5.92e-25. This might indicate that there are<br/>strong multicollinearity problems or that the design matrix is singular."
      ],
      "text/plain": [
       "<class 'statsmodels.iolib.summary.Summary'>\n",
       "\"\"\"\n",
       "                            OLS Regression Results                            \n",
       "==============================================================================\n",
       "Dep. Variable:             SALE PRICE   R-squared:                       0.661\n",
       "Model:                            OLS   Adj. R-squared:                  0.660\n",
       "Method:                 Least Squares   F-statistic:                     1397.\n",
       "Date:                Wed, 08 May 2019   Prob (F-statistic):               0.00\n",
       "Time:                        14:07:24   Log-Likelihood:            -1.0397e+05\n",
       "No. Observations:                5746   AIC:                         2.079e+05\n",
       "Df Residuals:                    5738   BIC:                         2.080e+05\n",
       "Df Model:                           8                                         \n",
       "Covariance Type:            nonrobust                                         \n",
       "=====================================================================================\n",
       "                        coef    std err          t      P>|t|      [0.025      0.975]\n",
       "-------------------------------------------------------------------------------------\n",
       "retailarea          125.4163     11.253     11.145      0.000     103.356     147.476\n",
       "otherarea           341.2440     53.541      6.374      0.000     236.283     446.204\n",
       "RESIDENTIAL UNITS  -2.12e+05   1.68e+04    -12.611      0.000   -2.45e+05   -1.79e+05\n",
       "COMMERCIAL UNITS   2.501e+05   1.91e+04     13.107      0.000    2.13e+05    2.88e+05\n",
       "factryarea           92.2814     28.911      3.192      0.001      35.604     148.958\n",
       "TOTAL UNITS        3.812e+04   1.26e+04      3.019      0.003    1.34e+04    6.29e+04\n",
       "officearea         -162.8727     18.218     -8.940      0.000    -198.587    -127.158\n",
       "LAND SQUARE FEET   -326.3831    118.668     -2.750      0.006    -559.018     -93.749\n",
       "GROSS SQUARE FEET   725.6004     16.721     43.395      0.000     692.822     758.379\n",
       "==============================================================================\n",
       "Omnibus:                    14352.492   Durbin-Watson:                   1.994\n",
       "Prob(Omnibus):                  0.000   Jarque-Bera (JB):        483509138.655\n",
       "Skew:                          26.553   Prob(JB):                         0.00\n",
       "Kurtosis:                    1423.109   Cond. No.                     4.06e+18\n",
       "==============================================================================\n",
       "\n",
       "Warnings:\n",
       "[1] Standard Errors assume that the covariance matrix of the errors is correctly specified.\n",
       "[2] The smallest eigenvalue is 5.92e-25. This might indicate that there are\n",
       "strong multicollinearity problems or that the design matrix is singular.\n",
       "\"\"\""
      ]
     },
     "execution_count": 66,
     "metadata": {},
     "output_type": "execute_result"
    }
   ],
   "source": [
    "mod = sm.OLS(Y_train, X_train[selected_columns_top10]).fit()\n",
    "mod.summary()"
   ]
  },
  {
   "cell_type": "code",
   "execution_count": 67,
   "metadata": {
    "ExecuteTime": {
     "end_time": "2019-05-08T18:07:24.891727Z",
     "start_time": "2019-05-08T18:07:24.882751Z"
    }
   },
   "outputs": [
    {
     "data": {
      "text/plain": [
       "0.6970905633965228"
      ]
     },
     "execution_count": 67,
     "metadata": {},
     "output_type": "execute_result"
    }
   ],
   "source": [
    "from sklearn.metrics import r2_score\n",
    "Y_pred = mod.predict(X_test[selected_columns_top10])\n",
    "r2_score(Y_test, Y_pred)"
   ]
  },
  {
   "cell_type": "markdown",
   "metadata": {},
   "source": [
    "**Cross-validation**"
   ]
  },
  {
   "cell_type": "code",
   "execution_count": 68,
   "metadata": {
    "ExecuteTime": {
     "end_time": "2019-05-08T18:07:24.910677Z",
     "start_time": "2019-05-08T18:07:24.892725Z"
    },
    "scrolled": true
   },
   "outputs": [
    {
     "name": "stdout",
     "output_type": "stream",
     "text": [
      "In sample R-squared: 0.655632\n",
      "Out of sample R-squared: 0.699522\n"
     ]
    }
   ],
   "source": [
    "reg = LinearRegression().fit(X_train[selected_columns_top10], Y_train)\n",
    "print(\"In sample R-squared: %f\"%reg.score(X_train[selected_columns_top10], Y_train))\n",
    "print(\"Out of sample R-squared: %f\"%reg.score(X_test[selected_columns_top10], Y_test))"
   ]
  },
  {
   "cell_type": "code",
   "execution_count": 69,
   "metadata": {
    "ExecuteTime": {
     "end_time": "2019-05-08T18:07:24.965530Z",
     "start_time": "2019-05-08T18:07:24.911674Z"
    },
    "scrolled": true
   },
   "outputs": [
    {
     "name": "stdout",
     "output_type": "stream",
     "text": [
      "Accuracy: 0.39 (+/- 0.70)\n"
     ]
    },
    {
     "data": {
      "text/plain": [
       "array([ 0.80014702,  0.04110634,  0.80715878,  0.52402403,  0.47903945,\n",
       "        0.23396364, -0.00838267, -0.25271524,  0.65656123,  0.65608292])"
      ]
     },
     "execution_count": 69,
     "metadata": {},
     "output_type": "execute_result"
    }
   ],
   "source": [
    "reg = LinearRegression()\n",
    "scores = cross_val_score(reg, X_train[selected_columns_top10], Y_train, cv=10, scoring='r2')\n",
    "print(\"Accuracy: %0.2f (+/- %0.2f)\" % (scores.mean(), scores.std() * 2))\n",
    "scores"
   ]
  },
  {
   "cell_type": "markdown",
   "metadata": {},
   "source": [
    "#### log"
   ]
  },
  {
   "cell_type": "code",
   "execution_count": 70,
   "metadata": {
    "ExecuteTime": {
     "end_time": "2019-05-08T18:07:24.975503Z",
     "start_time": "2019-05-08T18:07:24.967526Z"
    }
   },
   "outputs": [
    {
     "data": {
      "text/plain": [
       "Index(['SALE PRICE', 'YEAR BUILT', 'RESIDENTIAL UNITS', 'COMMERCIAL UNITS',\n",
       "       'TOTAL UNITS', 'LAND SQUARE FEET', 'GROSS SQUARE FEET', 'easements',\n",
       "       'lotarea', 'comarea', 'officearea', 'retailarea', 'strgearea',\n",
       "       'factryarea', 'otherarea', 'numbldgs', 'numfloors', 'lotdepth',\n",
       "       'bldgfront', 'bldgdepth', 'exempttot', 'builtfar', 'residfar',\n",
       "       'commfar', 'facilfar', 'DensityPop', 'IncomePerCap', 'Poverty',\n",
       "       'Professional', 'Service', 'Office', 'Construction', 'Production',\n",
       "       'Employed', 'Unemployment', 'distance_subway', 'distance_bus',\n",
       "       'park_num', 'park_area', 'park_top_level', 'park_distance',\n",
       "       'Num of SAT Test Takers', 'sat', 'crime'],\n",
       "      dtype='object')"
      ]
     },
     "execution_count": 70,
     "metadata": {},
     "output_type": "execute_result"
    }
   ],
   "source": [
    "selected_columns"
   ]
  },
  {
   "cell_type": "code",
   "execution_count": 71,
   "metadata": {
    "ExecuteTime": {
     "end_time": "2019-05-08T18:07:25.044319Z",
     "start_time": "2019-05-08T18:07:24.976500Z"
    },
    "scrolled": true
   },
   "outputs": [
    {
     "data": {
      "text/html": [
       "<table class=\"simpletable\">\n",
       "<caption>OLS Regression Results</caption>\n",
       "<tr>\n",
       "  <th>Dep. Variable:</th>       <td>SALE PRICE</td>    <th>  R-squared:         </th> <td>   0.996</td> \n",
       "</tr>\n",
       "<tr>\n",
       "  <th>Model:</th>                   <td>OLS</td>       <th>  Adj. R-squared:    </th> <td>   0.996</td> \n",
       "</tr>\n",
       "<tr>\n",
       "  <th>Method:</th>             <td>Least Squares</td>  <th>  F-statistic:       </th> <td>3.793e+04</td>\n",
       "</tr>\n",
       "<tr>\n",
       "  <th>Date:</th>             <td>Wed, 08 May 2019</td> <th>  Prob (F-statistic):</th>  <td>  0.00</td>  \n",
       "</tr>\n",
       "<tr>\n",
       "  <th>Time:</th>                 <td>14:07:25</td>     <th>  Log-Likelihood:    </th> <td> -7123.7</td> \n",
       "</tr>\n",
       "<tr>\n",
       "  <th>No. Observations:</th>      <td>  5746</td>      <th>  AIC:               </th> <td>1.433e+04</td>\n",
       "</tr>\n",
       "<tr>\n",
       "  <th>Df Residuals:</th>          <td>  5704</td>      <th>  BIC:               </th> <td>1.461e+04</td>\n",
       "</tr>\n",
       "<tr>\n",
       "  <th>Df Model:</th>              <td>    42</td>      <th>                     </th>     <td> </td>    \n",
       "</tr>\n",
       "<tr>\n",
       "  <th>Covariance Type:</th>      <td>nonrobust</td>    <th>                     </th>     <td> </td>    \n",
       "</tr>\n",
       "</table>\n",
       "<table class=\"simpletable\">\n",
       "<tr>\n",
       "             <td></td>               <th>coef</th>     <th>std err</th>      <th>t</th>      <th>P>|t|</th>  <th>[0.025</th>    <th>0.975]</th>  \n",
       "</tr>\n",
       "<tr>\n",
       "  <th>YEAR BUILT</th>             <td>    0.0015</td> <td>    0.000</td> <td>    6.129</td> <td> 0.000</td> <td>    0.001</td> <td>    0.002</td>\n",
       "</tr>\n",
       "<tr>\n",
       "  <th>RESIDENTIAL UNITS</th>      <td>    0.0012</td> <td>    0.001</td> <td>    1.406</td> <td> 0.160</td> <td>   -0.000</td> <td>    0.003</td>\n",
       "</tr>\n",
       "<tr>\n",
       "  <th>COMMERCIAL UNITS</th>       <td>    0.0057</td> <td>    0.001</td> <td>    6.120</td> <td> 0.000</td> <td>    0.004</td> <td>    0.008</td>\n",
       "</tr>\n",
       "<tr>\n",
       "  <th>TOTAL UNITS</th>            <td>    0.0069</td> <td>    0.001</td> <td>   10.898</td> <td> 0.000</td> <td>    0.006</td> <td>    0.008</td>\n",
       "</tr>\n",
       "<tr>\n",
       "  <th>LAND SQUARE FEET</th>       <td>    0.0001</td> <td> 6.15e-06</td> <td>   16.994</td> <td> 0.000</td> <td> 9.25e-05</td> <td>    0.000</td>\n",
       "</tr>\n",
       "<tr>\n",
       "  <th>GROSS SQUARE FEET</th>      <td> 2.083e-06</td> <td> 8.78e-07</td> <td>    2.373</td> <td> 0.018</td> <td> 3.62e-07</td> <td>  3.8e-06</td>\n",
       "</tr>\n",
       "<tr>\n",
       "  <th>easements</th>              <td>   -0.1986</td> <td>    0.130</td> <td>   -1.531</td> <td> 0.126</td> <td>   -0.453</td> <td>    0.056</td>\n",
       "</tr>\n",
       "<tr>\n",
       "  <th>lotarea</th>                <td> 7.371e-07</td> <td> 3.68e-07</td> <td>    2.001</td> <td> 0.045</td> <td>  1.5e-08</td> <td> 1.46e-06</td>\n",
       "</tr>\n",
       "<tr>\n",
       "  <th>comarea</th>                <td> 8.402e-07</td> <td> 4.13e-07</td> <td>    2.036</td> <td> 0.042</td> <td> 3.12e-08</td> <td> 1.65e-06</td>\n",
       "</tr>\n",
       "<tr>\n",
       "  <th>officearea</th>             <td>-3.752e-06</td> <td>  9.9e-07</td> <td>   -3.789</td> <td> 0.000</td> <td>-5.69e-06</td> <td>-1.81e-06</td>\n",
       "</tr>\n",
       "<tr>\n",
       "  <th>retailarea</th>             <td>-2.185e-06</td> <td> 8.81e-07</td> <td>   -2.479</td> <td> 0.013</td> <td>-3.91e-06</td> <td>-4.57e-07</td>\n",
       "</tr>\n",
       "<tr>\n",
       "  <th>strgearea</th>              <td> 1.615e-05</td> <td> 4.58e-06</td> <td>    3.526</td> <td> 0.000</td> <td> 7.17e-06</td> <td> 2.51e-05</td>\n",
       "</tr>\n",
       "<tr>\n",
       "  <th>factryarea</th>             <td> -1.48e-05</td> <td> 1.46e-06</td> <td>  -10.115</td> <td> 0.000</td> <td>-1.77e-05</td> <td>-1.19e-05</td>\n",
       "</tr>\n",
       "<tr>\n",
       "  <th>otherarea</th>              <td> 1.231e-05</td> <td> 2.65e-06</td> <td>    4.638</td> <td> 0.000</td> <td>  7.1e-06</td> <td> 1.75e-05</td>\n",
       "</tr>\n",
       "<tr>\n",
       "  <th>numbldgs</th>               <td>   -0.0232</td> <td>    0.005</td> <td>   -4.718</td> <td> 0.000</td> <td>   -0.033</td> <td>   -0.014</td>\n",
       "</tr>\n",
       "<tr>\n",
       "  <th>numfloors</th>              <td>   -0.0018</td> <td>    0.003</td> <td>   -0.600</td> <td> 0.549</td> <td>   -0.007</td> <td>    0.004</td>\n",
       "</tr>\n",
       "<tr>\n",
       "  <th>lotdepth</th>               <td>   -0.0010</td> <td>    0.000</td> <td>   -5.720</td> <td> 0.000</td> <td>   -0.001</td> <td>   -0.001</td>\n",
       "</tr>\n",
       "<tr>\n",
       "  <th>bldgfront</th>              <td>   -0.0015</td> <td>    0.000</td> <td>   -9.050</td> <td> 0.000</td> <td>   -0.002</td> <td>   -0.001</td>\n",
       "</tr>\n",
       "<tr>\n",
       "  <th>bldgdepth</th>              <td>    0.0011</td> <td>    0.000</td> <td>    7.314</td> <td> 0.000</td> <td>    0.001</td> <td>    0.001</td>\n",
       "</tr>\n",
       "<tr>\n",
       "  <th>exempttot</th>              <td> 6.024e-09</td> <td> 3.11e-09</td> <td>    1.935</td> <td> 0.053</td> <td>-8.03e-11</td> <td> 1.21e-08</td>\n",
       "</tr>\n",
       "<tr>\n",
       "  <th>builtfar</th>               <td>   -0.0320</td> <td>    0.006</td> <td>   -5.522</td> <td> 0.000</td> <td>   -0.043</td> <td>   -0.021</td>\n",
       "</tr>\n",
       "<tr>\n",
       "  <th>residfar</th>               <td>   -0.0172</td> <td>    0.009</td> <td>   -1.905</td> <td> 0.057</td> <td>   -0.035</td> <td>    0.001</td>\n",
       "</tr>\n",
       "<tr>\n",
       "  <th>commfar</th>                <td>   -0.0081</td> <td>    0.006</td> <td>   -1.454</td> <td> 0.146</td> <td>   -0.019</td> <td>    0.003</td>\n",
       "</tr>\n",
       "<tr>\n",
       "  <th>facilfar</th>               <td>    0.0757</td> <td>    0.010</td> <td>    7.211</td> <td> 0.000</td> <td>    0.055</td> <td>    0.096</td>\n",
       "</tr>\n",
       "<tr>\n",
       "  <th>DensityPop</th>             <td>    2.8927</td> <td>   14.037</td> <td>    0.206</td> <td> 0.837</td> <td>  -24.625</td> <td>   30.411</td>\n",
       "</tr>\n",
       "<tr>\n",
       "  <th>IncomePerCap</th>           <td> 5.639e-06</td> <td> 5.76e-07</td> <td>    9.783</td> <td> 0.000</td> <td> 4.51e-06</td> <td> 6.77e-06</td>\n",
       "</tr>\n",
       "<tr>\n",
       "  <th>Poverty</th>                <td>    0.0127</td> <td>    0.003</td> <td>    4.522</td> <td> 0.000</td> <td>    0.007</td> <td>    0.018</td>\n",
       "</tr>\n",
       "<tr>\n",
       "  <th>Professional</th>           <td>    0.1084</td> <td>    0.005</td> <td>   19.902</td> <td> 0.000</td> <td>    0.098</td> <td>    0.119</td>\n",
       "</tr>\n",
       "<tr>\n",
       "  <th>Service</th>                <td>    0.1175</td> <td>    0.006</td> <td>   19.926</td> <td> 0.000</td> <td>    0.106</td> <td>    0.129</td>\n",
       "</tr>\n",
       "<tr>\n",
       "  <th>Office</th>                 <td>    0.1128</td> <td>    0.006</td> <td>   19.703</td> <td> 0.000</td> <td>    0.102</td> <td>    0.124</td>\n",
       "</tr>\n",
       "<tr>\n",
       "  <th>Construction</th>           <td>    0.1036</td> <td>    0.010</td> <td>   10.235</td> <td> 0.000</td> <td>    0.084</td> <td>    0.123</td>\n",
       "</tr>\n",
       "<tr>\n",
       "  <th>Production</th>             <td>    0.1151</td> <td>    0.008</td> <td>   14.157</td> <td> 0.000</td> <td>    0.099</td> <td>    0.131</td>\n",
       "</tr>\n",
       "<tr>\n",
       "  <th>Employed</th>               <td>-5.086e-05</td> <td> 1.04e-05</td> <td>   -4.872</td> <td> 0.000</td> <td>-7.13e-05</td> <td>-3.04e-05</td>\n",
       "</tr>\n",
       "<tr>\n",
       "  <th>Unemployment</th>           <td>   -0.0174</td> <td>    0.005</td> <td>   -3.350</td> <td> 0.001</td> <td>   -0.028</td> <td>   -0.007</td>\n",
       "</tr>\n",
       "<tr>\n",
       "  <th>distance_subway</th>        <td>  -49.7911</td> <td>    8.465</td> <td>   -5.882</td> <td> 0.000</td> <td>  -66.386</td> <td>  -33.196</td>\n",
       "</tr>\n",
       "<tr>\n",
       "  <th>distance_bus</th>           <td>   18.6635</td> <td>   25.871</td> <td>    0.721</td> <td> 0.471</td> <td>  -32.053</td> <td>   69.380</td>\n",
       "</tr>\n",
       "<tr>\n",
       "  <th>park_num</th>               <td>   -0.0020</td> <td>    0.005</td> <td>   -0.442</td> <td> 0.659</td> <td>   -0.011</td> <td>    0.007</td>\n",
       "</tr>\n",
       "<tr>\n",
       "  <th>park_area</th>              <td>    0.0002</td> <td> 7.26e-05</td> <td>    2.111</td> <td> 0.035</td> <td> 1.09e-05</td> <td>    0.000</td>\n",
       "</tr>\n",
       "<tr>\n",
       "  <th>park_top_level</th>         <td>    0.0049</td> <td>    0.033</td> <td>    0.148</td> <td> 0.882</td> <td>   -0.060</td> <td>    0.070</td>\n",
       "</tr>\n",
       "<tr>\n",
       "  <th>park_distance</th>          <td>  -17.3773</td> <td>   14.530</td> <td>   -1.196</td> <td> 0.232</td> <td>  -45.862</td> <td>   11.107</td>\n",
       "</tr>\n",
       "<tr>\n",
       "  <th>Num of SAT Test Takers</th> <td>  3.82e-05</td> <td> 1.01e-05</td> <td>    3.773</td> <td> 0.000</td> <td> 1.84e-05</td> <td> 5.81e-05</td>\n",
       "</tr>\n",
       "<tr>\n",
       "  <th>sat</th>                    <td>    0.0017</td> <td>    0.000</td> <td>    4.938</td> <td> 0.000</td> <td>    0.001</td> <td>    0.002</td>\n",
       "</tr>\n",
       "<tr>\n",
       "  <th>crime</th>                  <td>-4.788e-06</td> <td> 3.56e-05</td> <td>   -0.135</td> <td> 0.893</td> <td>-7.45e-05</td> <td>  6.5e-05</td>\n",
       "</tr>\n",
       "</table>\n",
       "<table class=\"simpletable\">\n",
       "<tr>\n",
       "  <th>Omnibus:</th>       <td>933.000</td> <th>  Durbin-Watson:     </th> <td>   1.981</td> \n",
       "</tr>\n",
       "<tr>\n",
       "  <th>Prob(Omnibus):</th> <td> 0.000</td>  <th>  Jarque-Bera (JB):  </th> <td>13506.626</td>\n",
       "</tr>\n",
       "<tr>\n",
       "  <th>Skew:</th>          <td> 0.306</td>  <th>  Prob(JB):          </th> <td>    0.00</td> \n",
       "</tr>\n",
       "<tr>\n",
       "  <th>Kurtosis:</th>      <td>10.486</td>  <th>  Cond. No.          </th> <td>1.02e+16</td> \n",
       "</tr>\n",
       "</table><br/><br/>Warnings:<br/>[1] Standard Errors assume that the covariance matrix of the errors is correctly specified.<br/>[2] The smallest eigenvalue is 1.12e-15. This might indicate that there are<br/>strong multicollinearity problems or that the design matrix is singular."
      ],
      "text/plain": [
       "<class 'statsmodels.iolib.summary.Summary'>\n",
       "\"\"\"\n",
       "                            OLS Regression Results                            \n",
       "==============================================================================\n",
       "Dep. Variable:             SALE PRICE   R-squared:                       0.996\n",
       "Model:                            OLS   Adj. R-squared:                  0.996\n",
       "Method:                 Least Squares   F-statistic:                 3.793e+04\n",
       "Date:                Wed, 08 May 2019   Prob (F-statistic):               0.00\n",
       "Time:                        14:07:25   Log-Likelihood:                -7123.7\n",
       "No. Observations:                5746   AIC:                         1.433e+04\n",
       "Df Residuals:                    5704   BIC:                         1.461e+04\n",
       "Df Model:                          42                                         \n",
       "Covariance Type:            nonrobust                                         \n",
       "==========================================================================================\n",
       "                             coef    std err          t      P>|t|      [0.025      0.975]\n",
       "------------------------------------------------------------------------------------------\n",
       "YEAR BUILT                 0.0015      0.000      6.129      0.000       0.001       0.002\n",
       "RESIDENTIAL UNITS          0.0012      0.001      1.406      0.160      -0.000       0.003\n",
       "COMMERCIAL UNITS           0.0057      0.001      6.120      0.000       0.004       0.008\n",
       "TOTAL UNITS                0.0069      0.001     10.898      0.000       0.006       0.008\n",
       "LAND SQUARE FEET           0.0001   6.15e-06     16.994      0.000    9.25e-05       0.000\n",
       "GROSS SQUARE FEET       2.083e-06   8.78e-07      2.373      0.018    3.62e-07     3.8e-06\n",
       "easements                 -0.1986      0.130     -1.531      0.126      -0.453       0.056\n",
       "lotarea                 7.371e-07   3.68e-07      2.001      0.045     1.5e-08    1.46e-06\n",
       "comarea                 8.402e-07   4.13e-07      2.036      0.042    3.12e-08    1.65e-06\n",
       "officearea             -3.752e-06    9.9e-07     -3.789      0.000   -5.69e-06   -1.81e-06\n",
       "retailarea             -2.185e-06   8.81e-07     -2.479      0.013   -3.91e-06   -4.57e-07\n",
       "strgearea               1.615e-05   4.58e-06      3.526      0.000    7.17e-06    2.51e-05\n",
       "factryarea              -1.48e-05   1.46e-06    -10.115      0.000   -1.77e-05   -1.19e-05\n",
       "otherarea               1.231e-05   2.65e-06      4.638      0.000     7.1e-06    1.75e-05\n",
       "numbldgs                  -0.0232      0.005     -4.718      0.000      -0.033      -0.014\n",
       "numfloors                 -0.0018      0.003     -0.600      0.549      -0.007       0.004\n",
       "lotdepth                  -0.0010      0.000     -5.720      0.000      -0.001      -0.001\n",
       "bldgfront                 -0.0015      0.000     -9.050      0.000      -0.002      -0.001\n",
       "bldgdepth                  0.0011      0.000      7.314      0.000       0.001       0.001\n",
       "exempttot               6.024e-09   3.11e-09      1.935      0.053   -8.03e-11    1.21e-08\n",
       "builtfar                  -0.0320      0.006     -5.522      0.000      -0.043      -0.021\n",
       "residfar                  -0.0172      0.009     -1.905      0.057      -0.035       0.001\n",
       "commfar                   -0.0081      0.006     -1.454      0.146      -0.019       0.003\n",
       "facilfar                   0.0757      0.010      7.211      0.000       0.055       0.096\n",
       "DensityPop                 2.8927     14.037      0.206      0.837     -24.625      30.411\n",
       "IncomePerCap            5.639e-06   5.76e-07      9.783      0.000    4.51e-06    6.77e-06\n",
       "Poverty                    0.0127      0.003      4.522      0.000       0.007       0.018\n",
       "Professional               0.1084      0.005     19.902      0.000       0.098       0.119\n",
       "Service                    0.1175      0.006     19.926      0.000       0.106       0.129\n",
       "Office                     0.1128      0.006     19.703      0.000       0.102       0.124\n",
       "Construction               0.1036      0.010     10.235      0.000       0.084       0.123\n",
       "Production                 0.1151      0.008     14.157      0.000       0.099       0.131\n",
       "Employed               -5.086e-05   1.04e-05     -4.872      0.000   -7.13e-05   -3.04e-05\n",
       "Unemployment              -0.0174      0.005     -3.350      0.001      -0.028      -0.007\n",
       "distance_subway          -49.7911      8.465     -5.882      0.000     -66.386     -33.196\n",
       "distance_bus              18.6635     25.871      0.721      0.471     -32.053      69.380\n",
       "park_num                  -0.0020      0.005     -0.442      0.659      -0.011       0.007\n",
       "park_area                  0.0002   7.26e-05      2.111      0.035    1.09e-05       0.000\n",
       "park_top_level             0.0049      0.033      0.148      0.882      -0.060       0.070\n",
       "park_distance            -17.3773     14.530     -1.196      0.232     -45.862      11.107\n",
       "Num of SAT Test Takers   3.82e-05   1.01e-05      3.773      0.000    1.84e-05    5.81e-05\n",
       "sat                        0.0017      0.000      4.938      0.000       0.001       0.002\n",
       "crime                  -4.788e-06   3.56e-05     -0.135      0.893   -7.45e-05     6.5e-05\n",
       "==============================================================================\n",
       "Omnibus:                      933.000   Durbin-Watson:                   1.981\n",
       "Prob(Omnibus):                  0.000   Jarque-Bera (JB):            13506.626\n",
       "Skew:                           0.306   Prob(JB):                         0.00\n",
       "Kurtosis:                      10.486   Cond. No.                     1.02e+16\n",
       "==============================================================================\n",
       "\n",
       "Warnings:\n",
       "[1] Standard Errors assume that the covariance matrix of the errors is correctly specified.\n",
       "[2] The smallest eigenvalue is 1.12e-15. This might indicate that there are\n",
       "strong multicollinearity problems or that the design matrix is singular.\n",
       "\"\"\""
      ]
     },
     "execution_count": 71,
     "metadata": {},
     "output_type": "execute_result"
    }
   ],
   "source": [
    "mod = sm.OLS(np.log(Y_train), X_train[selected_columns[1:]]).fit()\n",
    "mod.summary()"
   ]
  },
  {
   "cell_type": "code",
   "execution_count": 72,
   "metadata": {
    "ExecuteTime": {
     "end_time": "2019-05-08T18:07:25.054294Z",
     "start_time": "2019-05-08T18:07:25.045317Z"
    }
   },
   "outputs": [
    {
     "data": {
      "text/plain": [
       "0.34812740735405745"
      ]
     },
     "execution_count": 72,
     "metadata": {},
     "output_type": "execute_result"
    }
   ],
   "source": [
    "Y_pred =  mod.predict(X_test[selected_columns[1:]]) \n",
    "r2_score(np.log(Y_test), Y_pred)"
   ]
  },
  {
   "cell_type": "markdown",
   "metadata": {},
   "source": [
    "**Cross-validation**"
   ]
  },
  {
   "cell_type": "code",
   "execution_count": 73,
   "metadata": {
    "ExecuteTime": {
     "end_time": "2019-05-08T18:07:25.083215Z",
     "start_time": "2019-05-08T18:07:25.055290Z"
    },
    "scrolled": true
   },
   "outputs": [
    {
     "name": "stdout",
     "output_type": "stream",
     "text": [
      "In sample R-squared: 0.381761\n",
      "Out of sample R-squared: 0.348262\n"
     ]
    }
   ],
   "source": [
    "reg = LinearRegression().fit(X_train[selected_columns[1:]], np.log(Y_train))\n",
    "print(\"In sample R-squared: %f\"%reg.score(X_train[selected_columns[1:]], np.log(Y_train)))\n",
    "print(\"Out of sample R-squared: %f\"%reg.score(X_test[selected_columns[1:]], np.log(Y_test)))"
   ]
  },
  {
   "cell_type": "code",
   "execution_count": 74,
   "metadata": {
    "ExecuteTime": {
     "end_time": "2019-05-08T18:07:25.236804Z",
     "start_time": "2019-05-08T18:07:25.084213Z"
    },
    "scrolled": true
   },
   "outputs": [
    {
     "name": "stdout",
     "output_type": "stream",
     "text": [
      "Accuracy: -1.98 (+/- 13.50)\n"
     ]
    },
    {
     "data": {
      "text/plain": [
       "array([  0.31238086,   0.34094919,   0.37768829,   0.17807972,\n",
       "       -22.23032005,   0.08552464,   0.36439448,   0.07429024,\n",
       "         0.2866976 ,   0.42167422])"
      ]
     },
     "execution_count": 74,
     "metadata": {},
     "output_type": "execute_result"
    }
   ],
   "source": [
    "reg = LinearRegression()\n",
    "scores = cross_val_score(reg, X_train[selected_columns[1:]], np.log(Y_train), cv=10, scoring='r2')\n",
    "print(\"Accuracy: %0.2f (+/- %0.2f)\" % (scores.mean(), scores.std() * 2))\n",
    "scores"
   ]
  },
  {
   "cell_type": "markdown",
   "metadata": {},
   "source": [
    "#### stardardized"
   ]
  },
  {
   "cell_type": "code",
   "execution_count": 75,
   "metadata": {
    "ExecuteTime": {
     "end_time": "2019-05-08T18:07:25.306624Z",
     "start_time": "2019-05-08T18:07:25.237802Z"
    },
    "scrolled": true
   },
   "outputs": [
    {
     "data": {
      "text/html": [
       "<table class=\"simpletable\">\n",
       "<caption>OLS Regression Results</caption>\n",
       "<tr>\n",
       "  <th>Dep. Variable:</th>       <td>SALE PRICE</td>    <th>  R-squared:         </th> <td>   0.677</td> \n",
       "</tr>\n",
       "<tr>\n",
       "  <th>Model:</th>                   <td>OLS</td>       <th>  Adj. R-squared:    </th> <td>   0.675</td> \n",
       "</tr>\n",
       "<tr>\n",
       "  <th>Method:</th>             <td>Least Squares</td>  <th>  F-statistic:       </th> <td>   284.9</td> \n",
       "</tr>\n",
       "<tr>\n",
       "  <th>Date:</th>             <td>Wed, 08 May 2019</td> <th>  Prob (F-statistic):</th>  <td>  0.00</td>  \n",
       "</tr>\n",
       "<tr>\n",
       "  <th>Time:</th>                 <td>14:07:25</td>     <th>  Log-Likelihood:    </th> <td> -4985.5</td> \n",
       "</tr>\n",
       "<tr>\n",
       "  <th>No. Observations:</th>      <td>  5746</td>      <th>  AIC:               </th> <td>1.005e+04</td>\n",
       "</tr>\n",
       "<tr>\n",
       "  <th>Df Residuals:</th>          <td>  5704</td>      <th>  BIC:               </th> <td>1.033e+04</td>\n",
       "</tr>\n",
       "<tr>\n",
       "  <th>Df Model:</th>              <td>    42</td>      <th>                     </th>     <td> </td>    \n",
       "</tr>\n",
       "<tr>\n",
       "  <th>Covariance Type:</th>      <td>nonrobust</td>    <th>                     </th>     <td> </td>    \n",
       "</tr>\n",
       "</table>\n",
       "<table class=\"simpletable\">\n",
       "<tr>\n",
       "             <td></td>               <th>coef</th>     <th>std err</th>      <th>t</th>      <th>P>|t|</th>  <th>[0.025</th>    <th>0.975]</th>  \n",
       "</tr>\n",
       "<tr>\n",
       "  <th>YEAR BUILT</th>             <td>    0.0612</td> <td>    0.009</td> <td>    6.901</td> <td> 0.000</td> <td>    0.044</td> <td>    0.079</td>\n",
       "</tr>\n",
       "<tr>\n",
       "  <th>RESIDENTIAL UNITS</th>      <td>   -0.0466</td> <td>    0.007</td> <td>   -6.864</td> <td> 0.000</td> <td>   -0.060</td> <td>   -0.033</td>\n",
       "</tr>\n",
       "<tr>\n",
       "  <th>COMMERCIAL UNITS</th>       <td>    0.0760</td> <td>    0.006</td> <td>   12.245</td> <td> 0.000</td> <td>    0.064</td> <td>    0.088</td>\n",
       "</tr>\n",
       "<tr>\n",
       "  <th>TOTAL UNITS</th>            <td>   -0.0048</td> <td>    0.005</td> <td>   -0.899</td> <td> 0.369</td> <td>   -0.015</td> <td>    0.006</td>\n",
       "</tr>\n",
       "<tr>\n",
       "  <th>LAND SQUARE FEET</th>       <td>   -0.0927</td> <td>    0.016</td> <td>   -5.950</td> <td> 0.000</td> <td>   -0.123</td> <td>   -0.062</td>\n",
       "</tr>\n",
       "<tr>\n",
       "  <th>GROSS SQUARE FEET</th>      <td>    0.8437</td> <td>    0.021</td> <td>   40.842</td> <td> 0.000</td> <td>    0.803</td> <td>    0.884</td>\n",
       "</tr>\n",
       "<tr>\n",
       "  <th>easements</th>              <td>   -0.0012</td> <td>    0.008</td> <td>   -0.156</td> <td> 0.876</td> <td>   -0.017</td> <td>    0.014</td>\n",
       "</tr>\n",
       "<tr>\n",
       "  <th>lotarea</th>                <td>   -0.1596</td> <td>    0.029</td> <td>   -5.598</td> <td> 0.000</td> <td>   -0.215</td> <td>   -0.104</td>\n",
       "</tr>\n",
       "<tr>\n",
       "  <th>comarea</th>                <td>    0.1452</td> <td>    0.022</td> <td>    6.665</td> <td> 0.000</td> <td>    0.102</td> <td>    0.188</td>\n",
       "</tr>\n",
       "<tr>\n",
       "  <th>officearea</th>             <td>   -0.1222</td> <td>    0.014</td> <td>   -8.429</td> <td> 0.000</td> <td>   -0.151</td> <td>   -0.094</td>\n",
       "</tr>\n",
       "<tr>\n",
       "  <th>retailarea</th>             <td>    0.1625</td> <td>    0.012</td> <td>   13.353</td> <td> 0.000</td> <td>    0.139</td> <td>    0.186</td>\n",
       "</tr>\n",
       "<tr>\n",
       "  <th>strgearea</th>              <td>   -0.0395</td> <td>    0.007</td> <td>   -5.749</td> <td> 0.000</td> <td>   -0.053</td> <td>   -0.026</td>\n",
       "</tr>\n",
       "<tr>\n",
       "  <th>factryarea</th>             <td>    0.0288</td> <td>    0.009</td> <td>    3.323</td> <td> 0.001</td> <td>    0.012</td> <td>    0.046</td>\n",
       "</tr>\n",
       "<tr>\n",
       "  <th>otherarea</th>              <td>    0.0517</td> <td>    0.008</td> <td>    6.261</td> <td> 0.000</td> <td>    0.035</td> <td>    0.068</td>\n",
       "</tr>\n",
       "<tr>\n",
       "  <th>numbldgs</th>               <td>    0.0265</td> <td>    0.012</td> <td>    2.171</td> <td> 0.030</td> <td>    0.003</td> <td>    0.050</td>\n",
       "</tr>\n",
       "<tr>\n",
       "  <th>numfloors</th>              <td>   -0.0148</td> <td>    0.016</td> <td>   -0.908</td> <td> 0.364</td> <td>   -0.047</td> <td>    0.017</td>\n",
       "</tr>\n",
       "<tr>\n",
       "  <th>lotdepth</th>               <td>   -0.0388</td> <td>    0.018</td> <td>   -2.193</td> <td> 0.028</td> <td>   -0.074</td> <td>   -0.004</td>\n",
       "</tr>\n",
       "<tr>\n",
       "  <th>bldgfront</th>              <td>    0.0334</td> <td>    0.016</td> <td>    2.036</td> <td> 0.042</td> <td>    0.001</td> <td>    0.066</td>\n",
       "</tr>\n",
       "<tr>\n",
       "  <th>bldgdepth</th>              <td>   -0.0193</td> <td>    0.016</td> <td>   -1.211</td> <td> 0.226</td> <td>   -0.051</td> <td>    0.012</td>\n",
       "</tr>\n",
       "<tr>\n",
       "  <th>exempttot</th>              <td>   -0.0437</td> <td>    0.009</td> <td>   -4.667</td> <td> 0.000</td> <td>   -0.062</td> <td>   -0.025</td>\n",
       "</tr>\n",
       "<tr>\n",
       "  <th>builtfar</th>               <td>   -0.0762</td> <td>    0.018</td> <td>   -4.205</td> <td> 0.000</td> <td>   -0.112</td> <td>   -0.041</td>\n",
       "</tr>\n",
       "<tr>\n",
       "  <th>residfar</th>               <td>    0.0654</td> <td>    0.018</td> <td>    3.633</td> <td> 0.000</td> <td>    0.030</td> <td>    0.101</td>\n",
       "</tr>\n",
       "<tr>\n",
       "  <th>commfar</th>                <td>    0.0317</td> <td>    0.011</td> <td>    2.853</td> <td> 0.004</td> <td>    0.010</td> <td>    0.053</td>\n",
       "</tr>\n",
       "<tr>\n",
       "  <th>facilfar</th>               <td>   -0.0112</td> <td>    0.018</td> <td>   -0.624</td> <td> 0.533</td> <td>   -0.046</td> <td>    0.024</td>\n",
       "</tr>\n",
       "<tr>\n",
       "  <th>DensityPop</th>             <td>   -0.0124</td> <td>    0.015</td> <td>   -0.848</td> <td> 0.397</td> <td>   -0.041</td> <td>    0.016</td>\n",
       "</tr>\n",
       "<tr>\n",
       "  <th>IncomePerCap</th>           <td>   -0.0410</td> <td>    0.017</td> <td>   -2.429</td> <td> 0.015</td> <td>   -0.074</td> <td>   -0.008</td>\n",
       "</tr>\n",
       "<tr>\n",
       "  <th>Poverty</th>                <td>   -0.0804</td> <td>    0.015</td> <td>   -5.397</td> <td> 0.000</td> <td>   -0.110</td> <td>   -0.051</td>\n",
       "</tr>\n",
       "<tr>\n",
       "  <th>Professional</th>           <td>   -3.3617</td> <td>    1.760</td> <td>   -1.910</td> <td> 0.056</td> <td>   -6.812</td> <td>    0.089</td>\n",
       "</tr>\n",
       "<tr>\n",
       "  <th>Service</th>                <td>   -2.0807</td> <td>    1.094</td> <td>   -1.901</td> <td> 0.057</td> <td>   -4.226</td> <td>    0.065</td>\n",
       "</tr>\n",
       "<tr>\n",
       "  <th>Office</th>                 <td>   -1.2736</td> <td>    0.670</td> <td>   -1.902</td> <td> 0.057</td> <td>   -2.586</td> <td>    0.039</td>\n",
       "</tr>\n",
       "<tr>\n",
       "  <th>Construction</th>           <td>   -0.4699</td> <td>    0.241</td> <td>   -1.950</td> <td> 0.051</td> <td>   -0.943</td> <td>    0.003</td>\n",
       "</tr>\n",
       "<tr>\n",
       "  <th>Production</th>             <td>   -0.7246</td> <td>    0.380</td> <td>   -1.908</td> <td> 0.056</td> <td>   -1.469</td> <td>    0.020</td>\n",
       "</tr>\n",
       "<tr>\n",
       "  <th>Employed</th>               <td>   -0.0031</td> <td>    0.014</td> <td>   -0.224</td> <td> 0.823</td> <td>   -0.030</td> <td>    0.024</td>\n",
       "</tr>\n",
       "<tr>\n",
       "  <th>Unemployment</th>           <td>    0.0550</td> <td>    0.012</td> <td>    4.620</td> <td> 0.000</td> <td>    0.032</td> <td>    0.078</td>\n",
       "</tr>\n",
       "<tr>\n",
       "  <th>distance_subway</th>        <td>    0.0304</td> <td>    0.010</td> <td>    2.916</td> <td> 0.004</td> <td>    0.010</td> <td>    0.051</td>\n",
       "</tr>\n",
       "<tr>\n",
       "  <th>distance_bus</th>           <td>   -0.0007</td> <td>    0.009</td> <td>   -0.079</td> <td> 0.937</td> <td>   -0.018</td> <td>    0.016</td>\n",
       "</tr>\n",
       "<tr>\n",
       "  <th>park_num</th>               <td>   -0.0011</td> <td>    0.011</td> <td>   -0.105</td> <td> 0.917</td> <td>   -0.022</td> <td>    0.020</td>\n",
       "</tr>\n",
       "<tr>\n",
       "  <th>park_area</th>              <td>    0.0617</td> <td>    0.013</td> <td>    4.596</td> <td> 0.000</td> <td>    0.035</td> <td>    0.088</td>\n",
       "</tr>\n",
       "<tr>\n",
       "  <th>park_top_level</th>         <td>   -0.0384</td> <td>    0.013</td> <td>   -2.966</td> <td> 0.003</td> <td>   -0.064</td> <td>   -0.013</td>\n",
       "</tr>\n",
       "<tr>\n",
       "  <th>park_distance</th>          <td>   -0.0212</td> <td>    0.011</td> <td>   -1.906</td> <td> 0.057</td> <td>   -0.043</td> <td>    0.001</td>\n",
       "</tr>\n",
       "<tr>\n",
       "  <th>Num of SAT Test Takers</th> <td>    0.0504</td> <td>    0.017</td> <td>    2.951</td> <td> 0.003</td> <td>    0.017</td> <td>    0.084</td>\n",
       "</tr>\n",
       "<tr>\n",
       "  <th>sat</th>                    <td>    0.0351</td> <td>    0.013</td> <td>    2.646</td> <td> 0.008</td> <td>    0.009</td> <td>    0.061</td>\n",
       "</tr>\n",
       "<tr>\n",
       "  <th>crime</th>                  <td>   -0.0099</td> <td>    0.012</td> <td>   -0.846</td> <td> 0.398</td> <td>   -0.033</td> <td>    0.013</td>\n",
       "</tr>\n",
       "</table>\n",
       "<table class=\"simpletable\">\n",
       "<tr>\n",
       "  <th>Omnibus:</th>       <td>14735.300</td> <th>  Durbin-Watson:     </th>   <td>   2.005</td>   \n",
       "</tr>\n",
       "<tr>\n",
       "  <th>Prob(Omnibus):</th>  <td> 0.000</td>   <th>  Jarque-Bera (JB):  </th> <td>584933566.013</td>\n",
       "</tr>\n",
       "<tr>\n",
       "  <th>Skew:</th>           <td>28.389</td>   <th>  Prob(JB):          </th>   <td>    0.00</td>   \n",
       "</tr>\n",
       "<tr>\n",
       "  <th>Kurtosis:</th>      <td>1565.030</td>  <th>  Cond. No.          </th>   <td>2.25e+15</td>   \n",
       "</tr>\n",
       "</table><br/><br/>Warnings:<br/>[1] Standard Errors assume that the covariance matrix of the errors is correctly specified.<br/>[2] The smallest eigenvalue is 7.49e-27. This might indicate that there are<br/>strong multicollinearity problems or that the design matrix is singular."
      ],
      "text/plain": [
       "<class 'statsmodels.iolib.summary.Summary'>\n",
       "\"\"\"\n",
       "                            OLS Regression Results                            \n",
       "==============================================================================\n",
       "Dep. Variable:             SALE PRICE   R-squared:                       0.677\n",
       "Model:                            OLS   Adj. R-squared:                  0.675\n",
       "Method:                 Least Squares   F-statistic:                     284.9\n",
       "Date:                Wed, 08 May 2019   Prob (F-statistic):               0.00\n",
       "Time:                        14:07:25   Log-Likelihood:                -4985.5\n",
       "No. Observations:                5746   AIC:                         1.005e+04\n",
       "Df Residuals:                    5704   BIC:                         1.033e+04\n",
       "Df Model:                          42                                         \n",
       "Covariance Type:            nonrobust                                         \n",
       "==========================================================================================\n",
       "                             coef    std err          t      P>|t|      [0.025      0.975]\n",
       "------------------------------------------------------------------------------------------\n",
       "YEAR BUILT                 0.0612      0.009      6.901      0.000       0.044       0.079\n",
       "RESIDENTIAL UNITS         -0.0466      0.007     -6.864      0.000      -0.060      -0.033\n",
       "COMMERCIAL UNITS           0.0760      0.006     12.245      0.000       0.064       0.088\n",
       "TOTAL UNITS               -0.0048      0.005     -0.899      0.369      -0.015       0.006\n",
       "LAND SQUARE FEET          -0.0927      0.016     -5.950      0.000      -0.123      -0.062\n",
       "GROSS SQUARE FEET          0.8437      0.021     40.842      0.000       0.803       0.884\n",
       "easements                 -0.0012      0.008     -0.156      0.876      -0.017       0.014\n",
       "lotarea                   -0.1596      0.029     -5.598      0.000      -0.215      -0.104\n",
       "comarea                    0.1452      0.022      6.665      0.000       0.102       0.188\n",
       "officearea                -0.1222      0.014     -8.429      0.000      -0.151      -0.094\n",
       "retailarea                 0.1625      0.012     13.353      0.000       0.139       0.186\n",
       "strgearea                 -0.0395      0.007     -5.749      0.000      -0.053      -0.026\n",
       "factryarea                 0.0288      0.009      3.323      0.001       0.012       0.046\n",
       "otherarea                  0.0517      0.008      6.261      0.000       0.035       0.068\n",
       "numbldgs                   0.0265      0.012      2.171      0.030       0.003       0.050\n",
       "numfloors                 -0.0148      0.016     -0.908      0.364      -0.047       0.017\n",
       "lotdepth                  -0.0388      0.018     -2.193      0.028      -0.074      -0.004\n",
       "bldgfront                  0.0334      0.016      2.036      0.042       0.001       0.066\n",
       "bldgdepth                 -0.0193      0.016     -1.211      0.226      -0.051       0.012\n",
       "exempttot                 -0.0437      0.009     -4.667      0.000      -0.062      -0.025\n",
       "builtfar                  -0.0762      0.018     -4.205      0.000      -0.112      -0.041\n",
       "residfar                   0.0654      0.018      3.633      0.000       0.030       0.101\n",
       "commfar                    0.0317      0.011      2.853      0.004       0.010       0.053\n",
       "facilfar                  -0.0112      0.018     -0.624      0.533      -0.046       0.024\n",
       "DensityPop                -0.0124      0.015     -0.848      0.397      -0.041       0.016\n",
       "IncomePerCap              -0.0410      0.017     -2.429      0.015      -0.074      -0.008\n",
       "Poverty                   -0.0804      0.015     -5.397      0.000      -0.110      -0.051\n",
       "Professional              -3.3617      1.760     -1.910      0.056      -6.812       0.089\n",
       "Service                   -2.0807      1.094     -1.901      0.057      -4.226       0.065\n",
       "Office                    -1.2736      0.670     -1.902      0.057      -2.586       0.039\n",
       "Construction              -0.4699      0.241     -1.950      0.051      -0.943       0.003\n",
       "Production                -0.7246      0.380     -1.908      0.056      -1.469       0.020\n",
       "Employed                  -0.0031      0.014     -0.224      0.823      -0.030       0.024\n",
       "Unemployment               0.0550      0.012      4.620      0.000       0.032       0.078\n",
       "distance_subway            0.0304      0.010      2.916      0.004       0.010       0.051\n",
       "distance_bus              -0.0007      0.009     -0.079      0.937      -0.018       0.016\n",
       "park_num                  -0.0011      0.011     -0.105      0.917      -0.022       0.020\n",
       "park_area                  0.0617      0.013      4.596      0.000       0.035       0.088\n",
       "park_top_level            -0.0384      0.013     -2.966      0.003      -0.064      -0.013\n",
       "park_distance             -0.0212      0.011     -1.906      0.057      -0.043       0.001\n",
       "Num of SAT Test Takers     0.0504      0.017      2.951      0.003       0.017       0.084\n",
       "sat                        0.0351      0.013      2.646      0.008       0.009       0.061\n",
       "crime                     -0.0099      0.012     -0.846      0.398      -0.033       0.013\n",
       "==============================================================================\n",
       "Omnibus:                    14735.300   Durbin-Watson:                   2.005\n",
       "Prob(Omnibus):                  0.000   Jarque-Bera (JB):        584933566.013\n",
       "Skew:                          28.389   Prob(JB):                         0.00\n",
       "Kurtosis:                    1565.030   Cond. No.                     2.25e+15\n",
       "==============================================================================\n",
       "\n",
       "Warnings:\n",
       "[1] Standard Errors assume that the covariance matrix of the errors is correctly specified.\n",
       "[2] The smallest eigenvalue is 7.49e-27. This might indicate that there are\n",
       "strong multicollinearity problems or that the design matrix is singular.\n",
       "\"\"\""
      ]
     },
     "execution_count": 75,
     "metadata": {},
     "output_type": "execute_result"
    }
   ],
   "source": [
    "mod = sm.OLS(Y_standardized_train, X_standardized_train[selected_columns[1:]]).fit()\n",
    "mod.summary()"
   ]
  },
  {
   "cell_type": "code",
   "execution_count": 76,
   "metadata": {
    "ExecuteTime": {
     "end_time": "2019-05-08T18:07:25.317588Z",
     "start_time": "2019-05-08T18:07:25.308614Z"
    }
   },
   "outputs": [
    {
     "data": {
      "text/plain": [
       "0.7260135112119694"
      ]
     },
     "execution_count": 76,
     "metadata": {},
     "output_type": "execute_result"
    }
   ],
   "source": [
    "from sklearn.metrics import r2_score\n",
    "Y_pred = mod.predict(X_standardized_test[selected_columns[1:]])\n",
    "r2_score(Y_standardized_test, Y_pred)"
   ]
  },
  {
   "cell_type": "markdown",
   "metadata": {},
   "source": [
    "**Cross-validation**"
   ]
  },
  {
   "cell_type": "code",
   "execution_count": 77,
   "metadata": {
    "ExecuteTime": {
     "end_time": "2019-05-08T18:07:25.350501Z",
     "start_time": "2019-05-08T18:07:25.319585Z"
    },
    "scrolled": true
   },
   "outputs": [
    {
     "name": "stdout",
     "output_type": "stream",
     "text": [
      "In sample R-squared: 0.677215\n",
      "Out of sample R-squared: 0.726461\n"
     ]
    }
   ],
   "source": [
    "reg = LinearRegression().fit(X_standardized_train[selected_columns[1:]], Y_standardized_train)\n",
    "print(\"In sample R-squared: %f\"%reg.score(X_standardized_train[selected_columns[1:]], Y_standardized_train))\n",
    "print(\"Out of sample R-squared: %f\"%reg.score(X_standardized_test[selected_columns[1:]], Y_standardized_test))"
   ]
  },
  {
   "cell_type": "code",
   "execution_count": 78,
   "metadata": {
    "ExecuteTime": {
     "end_time": "2019-05-08T18:07:25.474170Z",
     "start_time": "2019-05-08T18:07:25.351497Z"
    },
    "scrolled": true
   },
   "outputs": [
    {
     "name": "stdout",
     "output_type": "stream",
     "text": [
      "Accuracy: 0.38 (+/- 0.68)\n"
     ]
    },
    {
     "data": {
      "text/plain": [
       "array([ 0.78296324,  0.02200782,  0.81544343,  0.29714901,  0.37816935,\n",
       "        0.23884698,  0.20236381, -0.26700772,  0.67593789,  0.70229601])"
      ]
     },
     "execution_count": 78,
     "metadata": {},
     "output_type": "execute_result"
    }
   ],
   "source": [
    "reg = LinearRegression()\n",
    "scores = cross_val_score(reg, X_standardized_train[selected_columns[1:]], Y_standardized_train, cv=10, scoring='r2')\n",
    "print(\"Accuracy: %0.2f (+/- %0.2f)\" % (scores.mean(), scores.std() * 2))\n",
    "scores"
   ]
  },
  {
   "cell_type": "markdown",
   "metadata": {},
   "source": [
    "## Lasso\n",
    "https://scikit-learn.org/stable/modules/generated/sklearn.linear_model.Lasso.html"
   ]
  },
  {
   "cell_type": "markdown",
   "metadata": {},
   "source": [
    "### original"
   ]
  },
  {
   "cell_type": "code",
   "execution_count": 79,
   "metadata": {
    "ExecuteTime": {
     "end_time": "2019-05-08T18:07:25.739460Z",
     "start_time": "2019-05-08T18:07:25.475167Z"
    },
    "scrolled": true
   },
   "outputs": [
    {
     "name": "stdout",
     "output_type": "stream",
     "text": [
      "0.6844645641866296\n",
      "0.7340881539271089\n",
      "[ 3.43186771e+04 -6.12841889e+04  3.18338162e+05 -3.11223611e+03\n",
      " -7.60710720e+02  7.00270249e+02  1.22689337e+06 -7.62001453e+01\n",
      " -3.50703418e+01  2.24797381e+01  3.87155710e+01 -1.01584246e+02\n",
      "  3.60883278e+02  3.73395022e+01 -4.54080255e+02  1.92507559e+02\n",
      "  3.75432699e+02  1.65893420e+04 -1.44029700e+05  2.64148957e+03\n",
      " -1.70542773e+04  2.25950880e+04 -4.99425346e+03  3.45776027e+03\n",
      " -1.81046086e+03  1.61644123e+00 -2.07551798e-01  1.24646244e+00\n",
      " -2.82917735e-01 -3.54912084e+05  5.72366567e+05  3.53408618e+05\n",
      " -1.65432352e+05 -9.54588994e+07 -5.01820569e+01 -2.65455906e+05\n",
      " -1.12313865e+05 -1.18333307e+05 -9.63363053e+04 -3.83824129e+05\n",
      " -1.67626679e+05  1.66684494e+01  4.27192358e+05  4.84044386e+08\n",
      " -3.01594928e+08 -8.03043178e+04  4.71445799e+03 -1.58273864e+06\n",
      " -6.84525477e+08 -2.70123979e+02  4.97592108e+02  1.22554525e+04]\n",
      "[-1379043.5831844]\n"
     ]
    },
    {
     "name": "stderr",
     "output_type": "stream",
     "text": [
      "C:\\ProgramData\\Anaconda3\\lib\\site-packages\\sklearn\\linear_model\\coordinate_descent.py:492: ConvergenceWarning: Objective did not converge. You might want to increase the number of iterations. Fitting data with very small alpha may cause precision problems.\n",
      "  ConvergenceWarning)\n"
     ]
    }
   ],
   "source": [
    "from sklearn import linear_model\n",
    "clf = linear_model.Lasso(alpha=0.1)\n",
    "clf.fit(X_train, Y_train)\n",
    "Y_pred = clf.predict(X_test)\n",
    "print(r2_score(Y_train, clf.predict(X_train)))\n",
    "print(r2_score(Y_test, Y_pred))\n",
    "print(clf.coef_)\n",
    "print(clf.intercept_) "
   ]
  },
  {
   "cell_type": "markdown",
   "metadata": {},
   "source": [
    "### stardardized"
   ]
  },
  {
   "cell_type": "code",
   "execution_count": 80,
   "metadata": {
    "ExecuteTime": {
     "end_time": "2019-05-08T18:07:26.005748Z",
     "start_time": "2019-05-08T18:07:25.740458Z"
    },
    "scrolled": true
   },
   "outputs": [
    {
     "name": "stdout",
     "output_type": "stream",
     "text": [
      "0.6844645641866296\n",
      "0.7340881539271089\n",
      "[ 3.43186771e+04 -6.12841889e+04  3.18338162e+05 -3.11223611e+03\n",
      " -7.60710720e+02  7.00270249e+02  1.22689337e+06 -7.62001453e+01\n",
      " -3.50703418e+01  2.24797381e+01  3.87155710e+01 -1.01584246e+02\n",
      "  3.60883278e+02  3.73395022e+01 -4.54080255e+02  1.92507559e+02\n",
      "  3.75432699e+02  1.65893420e+04 -1.44029700e+05  2.64148957e+03\n",
      " -1.70542773e+04  2.25950880e+04 -4.99425346e+03  3.45776027e+03\n",
      " -1.81046086e+03  1.61644123e+00 -2.07551798e-01  1.24646244e+00\n",
      " -2.82917735e-01 -3.54912084e+05  5.72366567e+05  3.53408618e+05\n",
      " -1.65432352e+05 -9.54588994e+07 -5.01820569e+01 -2.65455906e+05\n",
      " -1.12313865e+05 -1.18333307e+05 -9.63363053e+04 -3.83824129e+05\n",
      " -1.67626679e+05  1.66684494e+01  4.27192358e+05  4.84044386e+08\n",
      " -3.01594928e+08 -8.03043178e+04  4.71445799e+03 -1.58273864e+06\n",
      " -6.84525477e+08 -2.70123979e+02  4.97592108e+02  1.22554525e+04]\n",
      "[-1379043.5831844]\n"
     ]
    },
    {
     "name": "stderr",
     "output_type": "stream",
     "text": [
      "C:\\ProgramData\\Anaconda3\\lib\\site-packages\\sklearn\\linear_model\\coordinate_descent.py:492: ConvergenceWarning: Objective did not converge. You might want to increase the number of iterations. Fitting data with very small alpha may cause precision problems.\n",
      "  ConvergenceWarning)\n"
     ]
    }
   ],
   "source": [
    "clf = linear_model.Lasso(alpha=0.1)\n",
    "clf.fit(X_train, Y_train)\n",
    "Y_pred = clf.predict(X_test)\n",
    "print(r2_score(Y_train, clf.predict(X_train)))\n",
    "print(r2_score(Y_test, Y_pred))\n",
    "print(clf.coef_)\n",
    "print(clf.intercept_) "
   ]
  },
  {
   "cell_type": "markdown",
   "metadata": {},
   "source": [
    "### log"
   ]
  },
  {
   "cell_type": "code",
   "execution_count": 81,
   "metadata": {
    "ExecuteTime": {
     "end_time": "2019-05-08T18:07:26.229149Z",
     "start_time": "2019-05-08T18:07:26.006745Z"
    }
   },
   "outputs": [
    {
     "name": "stdout",
     "output_type": "stream",
     "text": [
      "0.4315395376652099\n",
      "0.3901980535429159\n",
      "[ 1.32674253e-03  0.00000000e+00  0.00000000e+00  1.24850833e-02\n",
      "  1.07089897e-04 -1.50535220e-06  0.00000000e+00  7.38101171e-06\n",
      "  4.85731945e-07 -3.30329067e-06  1.34746294e-07  3.73433046e-07\n",
      "  5.36027185e-06  1.23073251e-06  1.99101846e-05 -8.84632070e-06\n",
      "  1.42512202e-05  0.00000000e+00 -7.63610013e-03 -3.36041927e-03\n",
      " -5.19030865e-04 -1.50692699e-03 -1.21051081e-03 -3.14007791e-04\n",
      "  2.06823634e-04  2.39495631e-08  1.84833025e-08  1.15065705e-07\n",
      " -1.46232902e-08 -0.00000000e+00  0.00000000e+00  0.00000000e+00\n",
      "  1.61774320e-02 -0.00000000e+00  1.95551922e-06  3.84404360e-04\n",
      " -4.81863605e-03  0.00000000e+00  0.00000000e+00  0.00000000e+00\n",
      "  0.00000000e+00 -3.69191342e-05 -0.00000000e+00 -0.00000000e+00\n",
      " -0.00000000e+00 -0.00000000e+00  1.94452300e-04 -0.00000000e+00\n",
      " -0.00000000e+00  8.33319920e-05  3.08670852e-05  1.19476490e-03]\n",
      "[12.37409675]\n"
     ]
    },
    {
     "name": "stderr",
     "output_type": "stream",
     "text": [
      "C:\\ProgramData\\Anaconda3\\lib\\site-packages\\sklearn\\linear_model\\coordinate_descent.py:492: ConvergenceWarning: Objective did not converge. You might want to increase the number of iterations. Fitting data with very small alpha may cause precision problems.\n",
      "  ConvergenceWarning)\n"
     ]
    }
   ],
   "source": [
    "clf = linear_model.Lasso(alpha=0.1)\n",
    "clf.fit(X_train, np.log(Y_train))\n",
    "Y_pred = clf.predict(X_test)\n",
    "print(r2_score(np.log(Y_train), clf.predict(X_train)))\n",
    "print(r2_score(np.log(Y_test), Y_pred))\n",
    "print(clf.coef_)\n",
    "print(clf.intercept_) "
   ]
  },
  {
   "cell_type": "markdown",
   "metadata": {},
   "source": [
    "## Lasso_CV\n",
    "https://scikit-learn.org/stable/modules/generated/sklearn.linear_model.LassoCV.html"
   ]
  },
  {
   "cell_type": "code",
   "execution_count": 82,
   "metadata": {
    "ExecuteTime": {
     "end_time": "2019-05-08T18:07:26.273032Z",
     "start_time": "2019-05-08T18:07:26.230148Z"
    }
   },
   "outputs": [],
   "source": [
    "from sklearn.linear_model import LassoCV\n",
    "from sklearn.datasets import make_regression"
   ]
  },
  {
   "cell_type": "code",
   "execution_count": 83,
   "metadata": {
    "ExecuteTime": {
     "end_time": "2019-05-08T18:07:26.277022Z",
     "start_time": "2019-05-08T18:07:26.274030Z"
    }
   },
   "outputs": [],
   "source": [
    "alpha = np.logspace(-3,3,10)"
   ]
  },
  {
   "cell_type": "markdown",
   "metadata": {},
   "source": [
    "### original"
   ]
  },
  {
   "cell_type": "code",
   "execution_count": 84,
   "metadata": {
    "ExecuteTime": {
     "end_time": "2019-05-08T18:07:26.985128Z",
     "start_time": "2019-05-08T18:07:26.278019Z"
    },
    "scrolled": true
   },
   "outputs": [
    {
     "name": "stderr",
     "output_type": "stream",
     "text": [
      "C:\\ProgramData\\Anaconda3\\lib\\site-packages\\sklearn\\linear_model\\coordinate_descent.py:1109: DataConversionWarning: A column-vector y was passed when a 1d array was expected. Please change the shape of y to (n_samples, ), for example using ravel().\n",
      "  y = column_or_1d(y, warn=True)\n",
      "C:\\ProgramData\\Anaconda3\\lib\\site-packages\\sklearn\\linear_model\\coordinate_descent.py:492: ConvergenceWarning: Objective did not converge. You might want to increase the number of iterations. Fitting data with very small alpha may cause precision problems.\n",
      "  ConvergenceWarning)\n",
      "C:\\ProgramData\\Anaconda3\\lib\\site-packages\\sklearn\\linear_model\\coordinate_descent.py:492: ConvergenceWarning: Objective did not converge. You might want to increase the number of iterations. Fitting data with very small alpha may cause precision problems.\n",
      "  ConvergenceWarning)\n",
      "C:\\ProgramData\\Anaconda3\\lib\\site-packages\\sklearn\\linear_model\\coordinate_descent.py:492: ConvergenceWarning: Objective did not converge. You might want to increase the number of iterations. Fitting data with very small alpha may cause precision problems.\n",
      "  ConvergenceWarning)\n",
      "C:\\ProgramData\\Anaconda3\\lib\\site-packages\\sklearn\\linear_model\\coordinate_descent.py:492: ConvergenceWarning: Objective did not converge. You might want to increase the number of iterations. Fitting data with very small alpha may cause precision problems.\n",
      "  ConvergenceWarning)\n",
      "C:\\ProgramData\\Anaconda3\\lib\\site-packages\\sklearn\\linear_model\\coordinate_descent.py:492: ConvergenceWarning: Objective did not converge. You might want to increase the number of iterations. Fitting data with very small alpha may cause precision problems.\n",
      "  ConvergenceWarning)\n",
      "C:\\ProgramData\\Anaconda3\\lib\\site-packages\\sklearn\\linear_model\\coordinate_descent.py:492: ConvergenceWarning: Objective did not converge. You might want to increase the number of iterations. Fitting data with very small alpha may cause precision problems.\n",
      "  ConvergenceWarning)\n",
      "C:\\ProgramData\\Anaconda3\\lib\\site-packages\\sklearn\\linear_model\\coordinate_descent.py:492: ConvergenceWarning: Objective did not converge. You might want to increase the number of iterations. Fitting data with very small alpha may cause precision problems.\n",
      "  ConvergenceWarning)\n",
      "C:\\ProgramData\\Anaconda3\\lib\\site-packages\\sklearn\\linear_model\\coordinate_descent.py:492: ConvergenceWarning: Objective did not converge. You might want to increase the number of iterations. Fitting data with very small alpha may cause precision problems.\n",
      "  ConvergenceWarning)\n",
      "C:\\ProgramData\\Anaconda3\\lib\\site-packages\\sklearn\\linear_model\\coordinate_descent.py:492: ConvergenceWarning: Objective did not converge. You might want to increase the number of iterations. Fitting data with very small alpha may cause precision problems.\n",
      "  ConvergenceWarning)\n",
      "C:\\ProgramData\\Anaconda3\\lib\\site-packages\\sklearn\\linear_model\\coordinate_descent.py:492: ConvergenceWarning: Objective did not converge. You might want to increase the number of iterations. Fitting data with very small alpha may cause precision problems.\n",
      "  ConvergenceWarning)\n",
      "C:\\ProgramData\\Anaconda3\\lib\\site-packages\\sklearn\\linear_model\\coordinate_descent.py:492: ConvergenceWarning: Objective did not converge. You might want to increase the number of iterations. Fitting data with very small alpha may cause precision problems.\n",
      "  ConvergenceWarning)\n",
      "C:\\ProgramData\\Anaconda3\\lib\\site-packages\\sklearn\\linear_model\\coordinate_descent.py:492: ConvergenceWarning: Objective did not converge. You might want to increase the number of iterations. Fitting data with very small alpha may cause precision problems.\n",
      "  ConvergenceWarning)\n",
      "C:\\ProgramData\\Anaconda3\\lib\\site-packages\\sklearn\\linear_model\\coordinate_descent.py:492: ConvergenceWarning: Objective did not converge. You might want to increase the number of iterations. Fitting data with very small alpha may cause precision problems.\n",
      "  ConvergenceWarning)\n",
      "C:\\ProgramData\\Anaconda3\\lib\\site-packages\\sklearn\\linear_model\\coordinate_descent.py:492: ConvergenceWarning: Objective did not converge. You might want to increase the number of iterations. Fitting data with very small alpha may cause precision problems.\n",
      "  ConvergenceWarning)\n",
      "C:\\ProgramData\\Anaconda3\\lib\\site-packages\\sklearn\\linear_model\\coordinate_descent.py:492: ConvergenceWarning: Objective did not converge. You might want to increase the number of iterations. Fitting data with very small alpha may cause precision problems.\n",
      "  ConvergenceWarning)\n",
      "C:\\ProgramData\\Anaconda3\\lib\\site-packages\\sklearn\\linear_model\\coordinate_descent.py:492: ConvergenceWarning: Objective did not converge. You might want to increase the number of iterations. Fitting data with very small alpha may cause precision problems.\n",
      "  ConvergenceWarning)\n",
      "C:\\ProgramData\\Anaconda3\\lib\\site-packages\\sklearn\\linear_model\\coordinate_descent.py:492: ConvergenceWarning: Objective did not converge. You might want to increase the number of iterations. Fitting data with very small alpha may cause precision problems.\n",
      "  ConvergenceWarning)\n",
      "C:\\ProgramData\\Anaconda3\\lib\\site-packages\\sklearn\\linear_model\\coordinate_descent.py:492: ConvergenceWarning: Objective did not converge. You might want to increase the number of iterations. Fitting data with very small alpha may cause precision problems.\n",
      "  ConvergenceWarning)\n",
      "C:\\ProgramData\\Anaconda3\\lib\\site-packages\\sklearn\\linear_model\\coordinate_descent.py:492: ConvergenceWarning: Objective did not converge. You might want to increase the number of iterations. Fitting data with very small alpha may cause precision problems.\n",
      "  ConvergenceWarning)\n",
      "C:\\ProgramData\\Anaconda3\\lib\\site-packages\\sklearn\\linear_model\\coordinate_descent.py:492: ConvergenceWarning: Objective did not converge. You might want to increase the number of iterations. Fitting data with very small alpha may cause precision problems.\n",
      "  ConvergenceWarning)\n",
      "C:\\ProgramData\\Anaconda3\\lib\\site-packages\\sklearn\\linear_model\\coordinate_descent.py:492: ConvergenceWarning: Objective did not converge. You might want to increase the number of iterations. Fitting data with very small alpha may cause precision problems.\n",
      "  ConvergenceWarning)\n",
      "C:\\ProgramData\\Anaconda3\\lib\\site-packages\\sklearn\\linear_model\\coordinate_descent.py:492: ConvergenceWarning: Objective did not converge. You might want to increase the number of iterations. Fitting data with very small alpha may cause precision problems.\n",
      "  ConvergenceWarning)\n",
      "C:\\ProgramData\\Anaconda3\\lib\\site-packages\\sklearn\\linear_model\\coordinate_descent.py:492: ConvergenceWarning: Objective did not converge. You might want to increase the number of iterations. Fitting data with very small alpha may cause precision problems.\n",
      "  ConvergenceWarning)\n",
      "C:\\ProgramData\\Anaconda3\\lib\\site-packages\\sklearn\\linear_model\\coordinate_descent.py:492: ConvergenceWarning: Objective did not converge. You might want to increase the number of iterations. Fitting data with very small alpha may cause precision problems.\n",
      "  ConvergenceWarning)\n",
      "C:\\ProgramData\\Anaconda3\\lib\\site-packages\\sklearn\\linear_model\\coordinate_descent.py:492: ConvergenceWarning: Objective did not converge. You might want to increase the number of iterations. Fitting data with very small alpha may cause precision problems.\n",
      "  ConvergenceWarning)\n",
      "C:\\ProgramData\\Anaconda3\\lib\\site-packages\\sklearn\\linear_model\\coordinate_descent.py:492: ConvergenceWarning: Objective did not converge. You might want to increase the number of iterations. Fitting data with very small alpha may cause precision problems.\n",
      "  ConvergenceWarning)\n",
      "C:\\ProgramData\\Anaconda3\\lib\\site-packages\\sklearn\\linear_model\\coordinate_descent.py:492: ConvergenceWarning: Objective did not converge. You might want to increase the number of iterations. Fitting data with very small alpha may cause precision problems.\n",
      "  ConvergenceWarning)\n",
      "C:\\ProgramData\\Anaconda3\\lib\\site-packages\\sklearn\\linear_model\\coordinate_descent.py:492: ConvergenceWarning: Objective did not converge. You might want to increase the number of iterations. Fitting data with very small alpha may cause precision problems.\n",
      "  ConvergenceWarning)\n",
      "C:\\ProgramData\\Anaconda3\\lib\\site-packages\\sklearn\\linear_model\\coordinate_descent.py:492: ConvergenceWarning: Objective did not converge. You might want to increase the number of iterations. Fitting data with very small alpha may cause precision problems.\n",
      "  ConvergenceWarning)\n",
      "C:\\ProgramData\\Anaconda3\\lib\\site-packages\\sklearn\\linear_model\\coordinate_descent.py:492: ConvergenceWarning: Objective did not converge. You might want to increase the number of iterations. Fitting data with very small alpha may cause precision problems.\n",
      "  ConvergenceWarning)\n",
      "C:\\ProgramData\\Anaconda3\\lib\\site-packages\\sklearn\\linear_model\\coordinate_descent.py:492: ConvergenceWarning: Objective did not converge. You might want to increase the number of iterations. Fitting data with very small alpha may cause precision problems.\n",
      "  ConvergenceWarning)\n",
      "C:\\ProgramData\\Anaconda3\\lib\\site-packages\\sklearn\\linear_model\\coordinate_descent.py:492: ConvergenceWarning: Objective did not converge. You might want to increase the number of iterations. Fitting data with very small alpha may cause precision problems.\n",
      "  ConvergenceWarning)\n",
      "C:\\ProgramData\\Anaconda3\\lib\\site-packages\\sklearn\\linear_model\\coordinate_descent.py:492: ConvergenceWarning: Objective did not converge. You might want to increase the number of iterations. Fitting data with very small alpha may cause precision problems.\n",
      "  ConvergenceWarning)\n",
      "C:\\ProgramData\\Anaconda3\\lib\\site-packages\\sklearn\\linear_model\\coordinate_descent.py:492: ConvergenceWarning: Objective did not converge. You might want to increase the number of iterations. Fitting data with very small alpha may cause precision problems.\n",
      "  ConvergenceWarning)\n",
      "C:\\ProgramData\\Anaconda3\\lib\\site-packages\\sklearn\\linear_model\\coordinate_descent.py:492: ConvergenceWarning: Objective did not converge. You might want to increase the number of iterations. Fitting data with very small alpha may cause precision problems.\n",
      "  ConvergenceWarning)\n",
      "C:\\ProgramData\\Anaconda3\\lib\\site-packages\\sklearn\\linear_model\\coordinate_descent.py:492: ConvergenceWarning: Objective did not converge. You might want to increase the number of iterations. Fitting data with very small alpha may cause precision problems.\n",
      "  ConvergenceWarning)\n",
      "C:\\ProgramData\\Anaconda3\\lib\\site-packages\\sklearn\\linear_model\\coordinate_descent.py:492: ConvergenceWarning: Objective did not converge. You might want to increase the number of iterations. Fitting data with very small alpha may cause precision problems.\n",
      "  ConvergenceWarning)\n",
      "C:\\ProgramData\\Anaconda3\\lib\\site-packages\\sklearn\\linear_model\\coordinate_descent.py:492: ConvergenceWarning: Objective did not converge. You might want to increase the number of iterations. Fitting data with very small alpha may cause precision problems.\n",
      "  ConvergenceWarning)\n",
      "C:\\ProgramData\\Anaconda3\\lib\\site-packages\\sklearn\\linear_model\\coordinate_descent.py:492: ConvergenceWarning: Objective did not converge. You might want to increase the number of iterations. Fitting data with very small alpha may cause precision problems.\n",
      "  ConvergenceWarning)\n",
      "C:\\ProgramData\\Anaconda3\\lib\\site-packages\\sklearn\\linear_model\\coordinate_descent.py:492: ConvergenceWarning: Objective did not converge. You might want to increase the number of iterations. Fitting data with very small alpha may cause precision problems.\n",
      "  ConvergenceWarning)\n",
      "C:\\ProgramData\\Anaconda3\\lib\\site-packages\\sklearn\\linear_model\\coordinate_descent.py:492: ConvergenceWarning: Objective did not converge. You might want to increase the number of iterations. Fitting data with very small alpha may cause precision problems.\n",
      "  ConvergenceWarning)\n"
     ]
    },
    {
     "name": "stderr",
     "output_type": "stream",
     "text": [
      "C:\\ProgramData\\Anaconda3\\lib\\site-packages\\sklearn\\linear_model\\coordinate_descent.py:492: ConvergenceWarning: Objective did not converge. You might want to increase the number of iterations. Fitting data with very small alpha may cause precision problems.\n",
      "  ConvergenceWarning)\n",
      "C:\\ProgramData\\Anaconda3\\lib\\site-packages\\sklearn\\linear_model\\coordinate_descent.py:492: ConvergenceWarning: Objective did not converge. You might want to increase the number of iterations. Fitting data with very small alpha may cause precision problems.\n",
      "  ConvergenceWarning)\n",
      "C:\\ProgramData\\Anaconda3\\lib\\site-packages\\sklearn\\linear_model\\coordinate_descent.py:492: ConvergenceWarning: Objective did not converge. You might want to increase the number of iterations. Fitting data with very small alpha may cause precision problems.\n",
      "  ConvergenceWarning)\n",
      "C:\\ProgramData\\Anaconda3\\lib\\site-packages\\sklearn\\linear_model\\coordinate_descent.py:492: ConvergenceWarning: Objective did not converge. You might want to increase the number of iterations. Fitting data with very small alpha may cause precision problems.\n",
      "  ConvergenceWarning)\n",
      "C:\\ProgramData\\Anaconda3\\lib\\site-packages\\sklearn\\linear_model\\coordinate_descent.py:492: ConvergenceWarning: Objective did not converge. You might want to increase the number of iterations. Fitting data with very small alpha may cause precision problems.\n",
      "  ConvergenceWarning)\n",
      "C:\\ProgramData\\Anaconda3\\lib\\site-packages\\sklearn\\linear_model\\coordinate_descent.py:492: ConvergenceWarning: Objective did not converge. You might want to increase the number of iterations. Fitting data with very small alpha may cause precision problems.\n",
      "  ConvergenceWarning)\n",
      "C:\\ProgramData\\Anaconda3\\lib\\site-packages\\sklearn\\linear_model\\coordinate_descent.py:492: ConvergenceWarning: Objective did not converge. You might want to increase the number of iterations. Fitting data with very small alpha may cause precision problems.\n",
      "  ConvergenceWarning)\n",
      "C:\\ProgramData\\Anaconda3\\lib\\site-packages\\sklearn\\linear_model\\coordinate_descent.py:492: ConvergenceWarning: Objective did not converge. You might want to increase the number of iterations. Fitting data with very small alpha may cause precision problems.\n",
      "  ConvergenceWarning)\n",
      "C:\\ProgramData\\Anaconda3\\lib\\site-packages\\sklearn\\linear_model\\coordinate_descent.py:492: ConvergenceWarning: Objective did not converge. You might want to increase the number of iterations. Fitting data with very small alpha may cause precision problems.\n",
      "  ConvergenceWarning)\n",
      "C:\\ProgramData\\Anaconda3\\lib\\site-packages\\sklearn\\linear_model\\coordinate_descent.py:492: ConvergenceWarning: Objective did not converge. You might want to increase the number of iterations. Fitting data with very small alpha may cause precision problems.\n",
      "  ConvergenceWarning)\n",
      "C:\\ProgramData\\Anaconda3\\lib\\site-packages\\sklearn\\linear_model\\coordinate_descent.py:492: ConvergenceWarning: Objective did not converge. You might want to increase the number of iterations. Fitting data with very small alpha may cause precision problems.\n",
      "  ConvergenceWarning)\n",
      "C:\\ProgramData\\Anaconda3\\lib\\site-packages\\sklearn\\linear_model\\coordinate_descent.py:492: ConvergenceWarning: Objective did not converge. You might want to increase the number of iterations. Fitting data with very small alpha may cause precision problems.\n",
      "  ConvergenceWarning)\n",
      "C:\\ProgramData\\Anaconda3\\lib\\site-packages\\sklearn\\linear_model\\coordinate_descent.py:492: ConvergenceWarning: Objective did not converge. You might want to increase the number of iterations. Fitting data with very small alpha may cause precision problems.\n",
      "  ConvergenceWarning)\n",
      "C:\\ProgramData\\Anaconda3\\lib\\site-packages\\sklearn\\linear_model\\coordinate_descent.py:492: ConvergenceWarning: Objective did not converge. You might want to increase the number of iterations. Fitting data with very small alpha may cause precision problems.\n",
      "  ConvergenceWarning)\n",
      "C:\\ProgramData\\Anaconda3\\lib\\site-packages\\sklearn\\linear_model\\coordinate_descent.py:492: ConvergenceWarning: Objective did not converge. You might want to increase the number of iterations. Fitting data with very small alpha may cause precision problems.\n",
      "  ConvergenceWarning)\n",
      "C:\\ProgramData\\Anaconda3\\lib\\site-packages\\sklearn\\linear_model\\coordinate_descent.py:492: ConvergenceWarning: Objective did not converge. You might want to increase the number of iterations. Fitting data with very small alpha may cause precision problems.\n",
      "  ConvergenceWarning)\n",
      "C:\\ProgramData\\Anaconda3\\lib\\site-packages\\sklearn\\linear_model\\coordinate_descent.py:492: ConvergenceWarning: Objective did not converge. You might want to increase the number of iterations. Fitting data with very small alpha may cause precision problems.\n",
      "  ConvergenceWarning)\n",
      "C:\\ProgramData\\Anaconda3\\lib\\site-packages\\sklearn\\linear_model\\coordinate_descent.py:492: ConvergenceWarning: Objective did not converge. You might want to increase the number of iterations. Fitting data with very small alpha may cause precision problems.\n",
      "  ConvergenceWarning)\n",
      "C:\\ProgramData\\Anaconda3\\lib\\site-packages\\sklearn\\linear_model\\coordinate_descent.py:492: ConvergenceWarning: Objective did not converge. You might want to increase the number of iterations. Fitting data with very small alpha may cause precision problems.\n",
      "  ConvergenceWarning)\n",
      "C:\\ProgramData\\Anaconda3\\lib\\site-packages\\sklearn\\linear_model\\coordinate_descent.py:492: ConvergenceWarning: Objective did not converge. You might want to increase the number of iterations. Fitting data with very small alpha may cause precision problems.\n",
      "  ConvergenceWarning)\n",
      "C:\\ProgramData\\Anaconda3\\lib\\site-packages\\sklearn\\linear_model\\coordinate_descent.py:492: ConvergenceWarning: Objective did not converge. You might want to increase the number of iterations. Fitting data with very small alpha may cause precision problems.\n",
      "  ConvergenceWarning)\n",
      "C:\\ProgramData\\Anaconda3\\lib\\site-packages\\sklearn\\linear_model\\coordinate_descent.py:492: ConvergenceWarning: Objective did not converge. You might want to increase the number of iterations. Fitting data with very small alpha may cause precision problems.\n",
      "  ConvergenceWarning)\n",
      "C:\\ProgramData\\Anaconda3\\lib\\site-packages\\sklearn\\linear_model\\coordinate_descent.py:492: ConvergenceWarning: Objective did not converge. You might want to increase the number of iterations. Fitting data with very small alpha may cause precision problems.\n",
      "  ConvergenceWarning)\n",
      "C:\\ProgramData\\Anaconda3\\lib\\site-packages\\sklearn\\linear_model\\coordinate_descent.py:492: ConvergenceWarning: Objective did not converge. You might want to increase the number of iterations. Fitting data with very small alpha may cause precision problems.\n",
      "  ConvergenceWarning)\n",
      "C:\\ProgramData\\Anaconda3\\lib\\site-packages\\sklearn\\linear_model\\coordinate_descent.py:492: ConvergenceWarning: Objective did not converge. You might want to increase the number of iterations. Fitting data with very small alpha may cause precision problems.\n",
      "  ConvergenceWarning)\n",
      "C:\\ProgramData\\Anaconda3\\lib\\site-packages\\sklearn\\linear_model\\coordinate_descent.py:492: ConvergenceWarning: Objective did not converge. You might want to increase the number of iterations. Fitting data with very small alpha may cause precision problems.\n",
      "  ConvergenceWarning)\n",
      "C:\\ProgramData\\Anaconda3\\lib\\site-packages\\sklearn\\linear_model\\coordinate_descent.py:492: ConvergenceWarning: Objective did not converge. You might want to increase the number of iterations. Fitting data with very small alpha may cause precision problems.\n",
      "  ConvergenceWarning)\n",
      "C:\\ProgramData\\Anaconda3\\lib\\site-packages\\sklearn\\linear_model\\coordinate_descent.py:492: ConvergenceWarning: Objective did not converge. You might want to increase the number of iterations. Fitting data with very small alpha may cause precision problems.\n",
      "  ConvergenceWarning)\n",
      "C:\\ProgramData\\Anaconda3\\lib\\site-packages\\sklearn\\linear_model\\coordinate_descent.py:492: ConvergenceWarning: Objective did not converge. You might want to increase the number of iterations. Fitting data with very small alpha may cause precision problems.\n",
      "  ConvergenceWarning)\n",
      "C:\\ProgramData\\Anaconda3\\lib\\site-packages\\sklearn\\linear_model\\coordinate_descent.py:492: ConvergenceWarning: Objective did not converge. You might want to increase the number of iterations. Fitting data with very small alpha may cause precision problems.\n",
      "  ConvergenceWarning)\n",
      "C:\\ProgramData\\Anaconda3\\lib\\site-packages\\sklearn\\linear_model\\coordinate_descent.py:492: ConvergenceWarning: Objective did not converge. You might want to increase the number of iterations. Fitting data with very small alpha may cause precision problems.\n",
      "  ConvergenceWarning)\n",
      "C:\\ProgramData\\Anaconda3\\lib\\site-packages\\sklearn\\linear_model\\coordinate_descent.py:492: ConvergenceWarning: Objective did not converge. You might want to increase the number of iterations. Fitting data with very small alpha may cause precision problems.\n",
      "  ConvergenceWarning)\n",
      "C:\\ProgramData\\Anaconda3\\lib\\site-packages\\sklearn\\linear_model\\coordinate_descent.py:492: ConvergenceWarning: Objective did not converge. You might want to increase the number of iterations. Fitting data with very small alpha may cause precision problems.\n",
      "  ConvergenceWarning)\n",
      "C:\\ProgramData\\Anaconda3\\lib\\site-packages\\sklearn\\linear_model\\coordinate_descent.py:492: ConvergenceWarning: Objective did not converge. You might want to increase the number of iterations. Fitting data with very small alpha may cause precision problems.\n",
      "  ConvergenceWarning)\n",
      "C:\\ProgramData\\Anaconda3\\lib\\site-packages\\sklearn\\linear_model\\coordinate_descent.py:492: ConvergenceWarning: Objective did not converge. You might want to increase the number of iterations. Fitting data with very small alpha may cause precision problems.\n",
      "  ConvergenceWarning)\n",
      "C:\\ProgramData\\Anaconda3\\lib\\site-packages\\sklearn\\linear_model\\coordinate_descent.py:492: ConvergenceWarning: Objective did not converge. You might want to increase the number of iterations. Fitting data with very small alpha may cause precision problems.\n",
      "  ConvergenceWarning)\n",
      "C:\\ProgramData\\Anaconda3\\lib\\site-packages\\sklearn\\linear_model\\coordinate_descent.py:492: ConvergenceWarning: Objective did not converge. You might want to increase the number of iterations. Fitting data with very small alpha may cause precision problems.\n",
      "  ConvergenceWarning)\n",
      "C:\\ProgramData\\Anaconda3\\lib\\site-packages\\sklearn\\linear_model\\coordinate_descent.py:492: ConvergenceWarning: Objective did not converge. You might want to increase the number of iterations. Fitting data with very small alpha may cause precision problems.\n",
      "  ConvergenceWarning)\n",
      "C:\\ProgramData\\Anaconda3\\lib\\site-packages\\sklearn\\linear_model\\coordinate_descent.py:492: ConvergenceWarning: Objective did not converge. You might want to increase the number of iterations. Fitting data with very small alpha may cause precision problems.\n",
      "  ConvergenceWarning)\n",
      "C:\\ProgramData\\Anaconda3\\lib\\site-packages\\sklearn\\linear_model\\coordinate_descent.py:492: ConvergenceWarning: Objective did not converge. You might want to increase the number of iterations. Fitting data with very small alpha may cause precision problems.\n",
      "  ConvergenceWarning)\n"
     ]
    },
    {
     "name": "stderr",
     "output_type": "stream",
     "text": [
      "C:\\ProgramData\\Anaconda3\\lib\\site-packages\\sklearn\\linear_model\\coordinate_descent.py:492: ConvergenceWarning: Objective did not converge. You might want to increase the number of iterations. Fitting data with very small alpha may cause precision problems.\n",
      "  ConvergenceWarning)\n",
      "C:\\ProgramData\\Anaconda3\\lib\\site-packages\\sklearn\\linear_model\\coordinate_descent.py:492: ConvergenceWarning: Objective did not converge. You might want to increase the number of iterations. Fitting data with very small alpha may cause precision problems.\n",
      "  ConvergenceWarning)\n",
      "C:\\ProgramData\\Anaconda3\\lib\\site-packages\\sklearn\\linear_model\\coordinate_descent.py:492: ConvergenceWarning: Objective did not converge. You might want to increase the number of iterations. Fitting data with very small alpha may cause precision problems.\n",
      "  ConvergenceWarning)\n",
      "C:\\ProgramData\\Anaconda3\\lib\\site-packages\\sklearn\\linear_model\\coordinate_descent.py:492: ConvergenceWarning: Objective did not converge. You might want to increase the number of iterations. Fitting data with very small alpha may cause precision problems.\n",
      "  ConvergenceWarning)\n",
      "C:\\ProgramData\\Anaconda3\\lib\\site-packages\\sklearn\\linear_model\\coordinate_descent.py:492: ConvergenceWarning: Objective did not converge. You might want to increase the number of iterations. Fitting data with very small alpha may cause precision problems.\n",
      "  ConvergenceWarning)\n",
      "C:\\ProgramData\\Anaconda3\\lib\\site-packages\\sklearn\\linear_model\\coordinate_descent.py:492: ConvergenceWarning: Objective did not converge. You might want to increase the number of iterations. Fitting data with very small alpha may cause precision problems.\n",
      "  ConvergenceWarning)\n",
      "C:\\ProgramData\\Anaconda3\\lib\\site-packages\\sklearn\\linear_model\\coordinate_descent.py:492: ConvergenceWarning: Objective did not converge. You might want to increase the number of iterations. Fitting data with very small alpha may cause precision problems.\n",
      "  ConvergenceWarning)\n",
      "C:\\ProgramData\\Anaconda3\\lib\\site-packages\\sklearn\\linear_model\\coordinate_descent.py:492: ConvergenceWarning: Objective did not converge. You might want to increase the number of iterations. Fitting data with very small alpha may cause precision problems.\n",
      "  ConvergenceWarning)\n",
      "C:\\ProgramData\\Anaconda3\\lib\\site-packages\\sklearn\\linear_model\\coordinate_descent.py:492: ConvergenceWarning: Objective did not converge. You might want to increase the number of iterations. Fitting data with very small alpha may cause precision problems.\n",
      "  ConvergenceWarning)\n",
      "C:\\ProgramData\\Anaconda3\\lib\\site-packages\\sklearn\\linear_model\\coordinate_descent.py:492: ConvergenceWarning: Objective did not converge. You might want to increase the number of iterations. Fitting data with very small alpha may cause precision problems.\n",
      "  ConvergenceWarning)\n",
      "C:\\ProgramData\\Anaconda3\\lib\\site-packages\\sklearn\\linear_model\\coordinate_descent.py:492: ConvergenceWarning: Objective did not converge. You might want to increase the number of iterations. Fitting data with very small alpha may cause precision problems.\n",
      "  ConvergenceWarning)\n",
      "C:\\ProgramData\\Anaconda3\\lib\\site-packages\\sklearn\\linear_model\\coordinate_descent.py:492: ConvergenceWarning: Objective did not converge. You might want to increase the number of iterations. Fitting data with very small alpha may cause precision problems.\n",
      "  ConvergenceWarning)\n",
      "C:\\ProgramData\\Anaconda3\\lib\\site-packages\\sklearn\\linear_model\\coordinate_descent.py:492: ConvergenceWarning: Objective did not converge. You might want to increase the number of iterations. Fitting data with very small alpha may cause precision problems.\n",
      "  ConvergenceWarning)\n",
      "C:\\ProgramData\\Anaconda3\\lib\\site-packages\\sklearn\\linear_model\\coordinate_descent.py:492: ConvergenceWarning: Objective did not converge. You might want to increase the number of iterations. Fitting data with very small alpha may cause precision problems.\n",
      "  ConvergenceWarning)\n",
      "C:\\ProgramData\\Anaconda3\\lib\\site-packages\\sklearn\\linear_model\\coordinate_descent.py:492: ConvergenceWarning: Objective did not converge. You might want to increase the number of iterations. Fitting data with very small alpha may cause precision problems.\n",
      "  ConvergenceWarning)\n",
      "C:\\ProgramData\\Anaconda3\\lib\\site-packages\\sklearn\\linear_model\\coordinate_descent.py:492: ConvergenceWarning: Objective did not converge. You might want to increase the number of iterations. Fitting data with very small alpha may cause precision problems.\n",
      "  ConvergenceWarning)\n",
      "C:\\ProgramData\\Anaconda3\\lib\\site-packages\\sklearn\\linear_model\\coordinate_descent.py:492: ConvergenceWarning: Objective did not converge. You might want to increase the number of iterations. Fitting data with very small alpha may cause precision problems.\n",
      "  ConvergenceWarning)\n",
      "C:\\ProgramData\\Anaconda3\\lib\\site-packages\\sklearn\\linear_model\\coordinate_descent.py:492: ConvergenceWarning: Objective did not converge. You might want to increase the number of iterations. Fitting data with very small alpha may cause precision problems.\n",
      "  ConvergenceWarning)\n",
      "C:\\ProgramData\\Anaconda3\\lib\\site-packages\\sklearn\\linear_model\\coordinate_descent.py:492: ConvergenceWarning: Objective did not converge. You might want to increase the number of iterations. Fitting data with very small alpha may cause precision problems.\n",
      "  ConvergenceWarning)\n"
     ]
    },
    {
     "name": "stdout",
     "output_type": "stream",
     "text": [
      "In sample R-squared: 0.683933\n",
      "Out of sample R-squared: 0.732378\n",
      "alpha: 1000.000000\n"
     ]
    },
    {
     "name": "stderr",
     "output_type": "stream",
     "text": [
      "C:\\ProgramData\\Anaconda3\\lib\\site-packages\\sklearn\\linear_model\\coordinate_descent.py:492: ConvergenceWarning: Objective did not converge. You might want to increase the number of iterations. Fitting data with very small alpha may cause precision problems.\n",
      "  ConvergenceWarning)\n"
     ]
    },
    {
     "data": {
      "text/plain": [
       "array([ 3.50382142e+04, -6.68331283e+04,  3.16140080e+05, -0.00000000e+00,\n",
       "       -7.52504712e+02,  7.01560658e+02,  1.13197083e+06, -7.18717007e+01,\n",
       "       -3.77551881e+01,  5.59992512e+00,  4.15033464e+01, -8.28770650e+01,\n",
       "        3.71139085e+02,  4.35512501e+01, -4.30039276e+02,  2.07602352e+02,\n",
       "        3.96704576e+02, -3.26908391e+04, -1.70026490e+05,  4.55817653e+03,\n",
       "       -1.72473794e+04,  2.09910815e+04, -4.75909238e+03,  2.95339136e+03,\n",
       "       -1.37173419e+03,  1.66695618e+00, -2.12269159e-01,  1.29489896e+00,\n",
       "       -2.91224979e-01, -3.24455102e+05,  6.03756822e+05,  3.15516878e+05,\n",
       "       -1.40274967e+05, -0.00000000e+00, -4.75012040e+01, -2.32200009e+05,\n",
       "       -5.21605450e+04, -5.52681894e+04, -5.09849204e+04, -2.38617647e+05,\n",
       "       -1.56579405e+05, -7.17918366e+01,  4.19184457e+05,  0.00000000e+00,\n",
       "       -0.00000000e+00,  3.17742097e+04,  2.92811938e+03, -5.91192603e+05,\n",
       "       -0.00000000e+00, -1.45449294e+03,  5.45086295e+02,  1.22759583e+04])"
      ]
     },
     "execution_count": 84,
     "metadata": {},
     "output_type": "execute_result"
    }
   ],
   "source": [
    "reg = LassoCV(alphas=alpha, cv=10, random_state=0).fit(X_train, Y_train)\n",
    "print(\"In sample R-squared: %f\"%reg.score(X_train, Y_train))\n",
    "print(\"Out of sample R-squared: %f\"%reg.score(X_test, Y_test))\n",
    "print(\"alpha: %f\"%reg.alpha_)\n",
    "reg.coef_"
   ]
  },
  {
   "cell_type": "markdown",
   "metadata": {},
   "source": [
    "### log"
   ]
  },
  {
   "cell_type": "code",
   "execution_count": 85,
   "metadata": {
    "ExecuteTime": {
     "end_time": "2019-05-08T18:07:27.498754Z",
     "start_time": "2019-05-08T18:07:26.987124Z"
    },
    "scrolled": true
   },
   "outputs": [
    {
     "name": "stderr",
     "output_type": "stream",
     "text": [
      "C:\\ProgramData\\Anaconda3\\lib\\site-packages\\sklearn\\linear_model\\coordinate_descent.py:1109: DataConversionWarning: A column-vector y was passed when a 1d array was expected. Please change the shape of y to (n_samples, ), for example using ravel().\n",
      "  y = column_or_1d(y, warn=True)\n",
      "C:\\ProgramData\\Anaconda3\\lib\\site-packages\\sklearn\\linear_model\\coordinate_descent.py:492: ConvergenceWarning: Objective did not converge. You might want to increase the number of iterations. Fitting data with very small alpha may cause precision problems.\n",
      "  ConvergenceWarning)\n",
      "C:\\ProgramData\\Anaconda3\\lib\\site-packages\\sklearn\\linear_model\\coordinate_descent.py:492: ConvergenceWarning: Objective did not converge. You might want to increase the number of iterations. Fitting data with very small alpha may cause precision problems.\n",
      "  ConvergenceWarning)\n",
      "C:\\ProgramData\\Anaconda3\\lib\\site-packages\\sklearn\\linear_model\\coordinate_descent.py:492: ConvergenceWarning: Objective did not converge. You might want to increase the number of iterations. Fitting data with very small alpha may cause precision problems.\n",
      "  ConvergenceWarning)\n",
      "C:\\ProgramData\\Anaconda3\\lib\\site-packages\\sklearn\\linear_model\\coordinate_descent.py:492: ConvergenceWarning: Objective did not converge. You might want to increase the number of iterations. Fitting data with very small alpha may cause precision problems.\n",
      "  ConvergenceWarning)\n",
      "C:\\ProgramData\\Anaconda3\\lib\\site-packages\\sklearn\\linear_model\\coordinate_descent.py:492: ConvergenceWarning: Objective did not converge. You might want to increase the number of iterations. Fitting data with very small alpha may cause precision problems.\n",
      "  ConvergenceWarning)\n",
      "C:\\ProgramData\\Anaconda3\\lib\\site-packages\\sklearn\\linear_model\\coordinate_descent.py:492: ConvergenceWarning: Objective did not converge. You might want to increase the number of iterations. Fitting data with very small alpha may cause precision problems.\n",
      "  ConvergenceWarning)\n",
      "C:\\ProgramData\\Anaconda3\\lib\\site-packages\\sklearn\\linear_model\\coordinate_descent.py:492: ConvergenceWarning: Objective did not converge. You might want to increase the number of iterations. Fitting data with very small alpha may cause precision problems.\n",
      "  ConvergenceWarning)\n",
      "C:\\ProgramData\\Anaconda3\\lib\\site-packages\\sklearn\\linear_model\\coordinate_descent.py:492: ConvergenceWarning: Objective did not converge. You might want to increase the number of iterations. Fitting data with very small alpha may cause precision problems.\n",
      "  ConvergenceWarning)\n",
      "C:\\ProgramData\\Anaconda3\\lib\\site-packages\\sklearn\\linear_model\\coordinate_descent.py:492: ConvergenceWarning: Objective did not converge. You might want to increase the number of iterations. Fitting data with very small alpha may cause precision problems.\n",
      "  ConvergenceWarning)\n",
      "C:\\ProgramData\\Anaconda3\\lib\\site-packages\\sklearn\\linear_model\\coordinate_descent.py:492: ConvergenceWarning: Objective did not converge. You might want to increase the number of iterations. Fitting data with very small alpha may cause precision problems.\n",
      "  ConvergenceWarning)\n",
      "C:\\ProgramData\\Anaconda3\\lib\\site-packages\\sklearn\\linear_model\\coordinate_descent.py:492: ConvergenceWarning: Objective did not converge. You might want to increase the number of iterations. Fitting data with very small alpha may cause precision problems.\n",
      "  ConvergenceWarning)\n",
      "C:\\ProgramData\\Anaconda3\\lib\\site-packages\\sklearn\\linear_model\\coordinate_descent.py:492: ConvergenceWarning: Objective did not converge. You might want to increase the number of iterations. Fitting data with very small alpha may cause precision problems.\n",
      "  ConvergenceWarning)\n",
      "C:\\ProgramData\\Anaconda3\\lib\\site-packages\\sklearn\\linear_model\\coordinate_descent.py:492: ConvergenceWarning: Objective did not converge. You might want to increase the number of iterations. Fitting data with very small alpha may cause precision problems.\n",
      "  ConvergenceWarning)\n",
      "C:\\ProgramData\\Anaconda3\\lib\\site-packages\\sklearn\\linear_model\\coordinate_descent.py:492: ConvergenceWarning: Objective did not converge. You might want to increase the number of iterations. Fitting data with very small alpha may cause precision problems.\n",
      "  ConvergenceWarning)\n",
      "C:\\ProgramData\\Anaconda3\\lib\\site-packages\\sklearn\\linear_model\\coordinate_descent.py:492: ConvergenceWarning: Objective did not converge. You might want to increase the number of iterations. Fitting data with very small alpha may cause precision problems.\n",
      "  ConvergenceWarning)\n",
      "C:\\ProgramData\\Anaconda3\\lib\\site-packages\\sklearn\\linear_model\\coordinate_descent.py:492: ConvergenceWarning: Objective did not converge. You might want to increase the number of iterations. Fitting data with very small alpha may cause precision problems.\n",
      "  ConvergenceWarning)\n",
      "C:\\ProgramData\\Anaconda3\\lib\\site-packages\\sklearn\\linear_model\\coordinate_descent.py:492: ConvergenceWarning: Objective did not converge. You might want to increase the number of iterations. Fitting data with very small alpha may cause precision problems.\n",
      "  ConvergenceWarning)\n",
      "C:\\ProgramData\\Anaconda3\\lib\\site-packages\\sklearn\\linear_model\\coordinate_descent.py:492: ConvergenceWarning: Objective did not converge. You might want to increase the number of iterations. Fitting data with very small alpha may cause precision problems.\n",
      "  ConvergenceWarning)\n",
      "C:\\ProgramData\\Anaconda3\\lib\\site-packages\\sklearn\\linear_model\\coordinate_descent.py:492: ConvergenceWarning: Objective did not converge. You might want to increase the number of iterations. Fitting data with very small alpha may cause precision problems.\n",
      "  ConvergenceWarning)\n",
      "C:\\ProgramData\\Anaconda3\\lib\\site-packages\\sklearn\\linear_model\\coordinate_descent.py:492: ConvergenceWarning: Objective did not converge. You might want to increase the number of iterations. Fitting data with very small alpha may cause precision problems.\n",
      "  ConvergenceWarning)\n",
      "C:\\ProgramData\\Anaconda3\\lib\\site-packages\\sklearn\\linear_model\\coordinate_descent.py:492: ConvergenceWarning: Objective did not converge. You might want to increase the number of iterations. Fitting data with very small alpha may cause precision problems.\n",
      "  ConvergenceWarning)\n",
      "C:\\ProgramData\\Anaconda3\\lib\\site-packages\\sklearn\\linear_model\\coordinate_descent.py:492: ConvergenceWarning: Objective did not converge. You might want to increase the number of iterations. Fitting data with very small alpha may cause precision problems.\n",
      "  ConvergenceWarning)\n",
      "C:\\ProgramData\\Anaconda3\\lib\\site-packages\\sklearn\\linear_model\\coordinate_descent.py:492: ConvergenceWarning: Objective did not converge. You might want to increase the number of iterations. Fitting data with very small alpha may cause precision problems.\n",
      "  ConvergenceWarning)\n",
      "C:\\ProgramData\\Anaconda3\\lib\\site-packages\\sklearn\\linear_model\\coordinate_descent.py:492: ConvergenceWarning: Objective did not converge. You might want to increase the number of iterations. Fitting data with very small alpha may cause precision problems.\n",
      "  ConvergenceWarning)\n",
      "C:\\ProgramData\\Anaconda3\\lib\\site-packages\\sklearn\\linear_model\\coordinate_descent.py:492: ConvergenceWarning: Objective did not converge. You might want to increase the number of iterations. Fitting data with very small alpha may cause precision problems.\n",
      "  ConvergenceWarning)\n",
      "C:\\ProgramData\\Anaconda3\\lib\\site-packages\\sklearn\\linear_model\\coordinate_descent.py:492: ConvergenceWarning: Objective did not converge. You might want to increase the number of iterations. Fitting data with very small alpha may cause precision problems.\n",
      "  ConvergenceWarning)\n",
      "C:\\ProgramData\\Anaconda3\\lib\\site-packages\\sklearn\\linear_model\\coordinate_descent.py:492: ConvergenceWarning: Objective did not converge. You might want to increase the number of iterations. Fitting data with very small alpha may cause precision problems.\n",
      "  ConvergenceWarning)\n",
      "C:\\ProgramData\\Anaconda3\\lib\\site-packages\\sklearn\\linear_model\\coordinate_descent.py:492: ConvergenceWarning: Objective did not converge. You might want to increase the number of iterations. Fitting data with very small alpha may cause precision problems.\n",
      "  ConvergenceWarning)\n",
      "C:\\ProgramData\\Anaconda3\\lib\\site-packages\\sklearn\\linear_model\\coordinate_descent.py:492: ConvergenceWarning: Objective did not converge. You might want to increase the number of iterations. Fitting data with very small alpha may cause precision problems.\n",
      "  ConvergenceWarning)\n",
      "C:\\ProgramData\\Anaconda3\\lib\\site-packages\\sklearn\\linear_model\\coordinate_descent.py:492: ConvergenceWarning: Objective did not converge. You might want to increase the number of iterations. Fitting data with very small alpha may cause precision problems.\n",
      "  ConvergenceWarning)\n",
      "C:\\ProgramData\\Anaconda3\\lib\\site-packages\\sklearn\\linear_model\\coordinate_descent.py:492: ConvergenceWarning: Objective did not converge. You might want to increase the number of iterations. Fitting data with very small alpha may cause precision problems.\n",
      "  ConvergenceWarning)\n",
      "C:\\ProgramData\\Anaconda3\\lib\\site-packages\\sklearn\\linear_model\\coordinate_descent.py:492: ConvergenceWarning: Objective did not converge. You might want to increase the number of iterations. Fitting data with very small alpha may cause precision problems.\n",
      "  ConvergenceWarning)\n",
      "C:\\ProgramData\\Anaconda3\\lib\\site-packages\\sklearn\\linear_model\\coordinate_descent.py:492: ConvergenceWarning: Objective did not converge. You might want to increase the number of iterations. Fitting data with very small alpha may cause precision problems.\n",
      "  ConvergenceWarning)\n",
      "C:\\ProgramData\\Anaconda3\\lib\\site-packages\\sklearn\\linear_model\\coordinate_descent.py:492: ConvergenceWarning: Objective did not converge. You might want to increase the number of iterations. Fitting data with very small alpha may cause precision problems.\n",
      "  ConvergenceWarning)\n",
      "C:\\ProgramData\\Anaconda3\\lib\\site-packages\\sklearn\\linear_model\\coordinate_descent.py:492: ConvergenceWarning: Objective did not converge. You might want to increase the number of iterations. Fitting data with very small alpha may cause precision problems.\n",
      "  ConvergenceWarning)\n",
      "C:\\ProgramData\\Anaconda3\\lib\\site-packages\\sklearn\\linear_model\\coordinate_descent.py:492: ConvergenceWarning: Objective did not converge. You might want to increase the number of iterations. Fitting data with very small alpha may cause precision problems.\n",
      "  ConvergenceWarning)\n",
      "C:\\ProgramData\\Anaconda3\\lib\\site-packages\\sklearn\\linear_model\\coordinate_descent.py:492: ConvergenceWarning: Objective did not converge. You might want to increase the number of iterations. Fitting data with very small alpha may cause precision problems.\n",
      "  ConvergenceWarning)\n",
      "C:\\ProgramData\\Anaconda3\\lib\\site-packages\\sklearn\\linear_model\\coordinate_descent.py:492: ConvergenceWarning: Objective did not converge. You might want to increase the number of iterations. Fitting data with very small alpha may cause precision problems.\n",
      "  ConvergenceWarning)\n",
      "C:\\ProgramData\\Anaconda3\\lib\\site-packages\\sklearn\\linear_model\\coordinate_descent.py:492: ConvergenceWarning: Objective did not converge. You might want to increase the number of iterations. Fitting data with very small alpha may cause precision problems.\n",
      "  ConvergenceWarning)\n",
      "C:\\ProgramData\\Anaconda3\\lib\\site-packages\\sklearn\\linear_model\\coordinate_descent.py:492: ConvergenceWarning: Objective did not converge. You might want to increase the number of iterations. Fitting data with very small alpha may cause precision problems.\n",
      "  ConvergenceWarning)\n",
      "C:\\ProgramData\\Anaconda3\\lib\\site-packages\\sklearn\\linear_model\\coordinate_descent.py:492: ConvergenceWarning: Objective did not converge. You might want to increase the number of iterations. Fitting data with very small alpha may cause precision problems.\n",
      "  ConvergenceWarning)\n",
      "C:\\ProgramData\\Anaconda3\\lib\\site-packages\\sklearn\\linear_model\\coordinate_descent.py:492: ConvergenceWarning: Objective did not converge. You might want to increase the number of iterations. Fitting data with very small alpha may cause precision problems.\n",
      "  ConvergenceWarning)\n",
      "C:\\ProgramData\\Anaconda3\\lib\\site-packages\\sklearn\\linear_model\\coordinate_descent.py:492: ConvergenceWarning: Objective did not converge. You might want to increase the number of iterations. Fitting data with very small alpha may cause precision problems.\n",
      "  ConvergenceWarning)\n",
      "C:\\ProgramData\\Anaconda3\\lib\\site-packages\\sklearn\\linear_model\\coordinate_descent.py:492: ConvergenceWarning: Objective did not converge. You might want to increase the number of iterations. Fitting data with very small alpha may cause precision problems.\n",
      "  ConvergenceWarning)\n",
      "C:\\ProgramData\\Anaconda3\\lib\\site-packages\\sklearn\\linear_model\\coordinate_descent.py:492: ConvergenceWarning: Objective did not converge. You might want to increase the number of iterations. Fitting data with very small alpha may cause precision problems.\n",
      "  ConvergenceWarning)\n"
     ]
    },
    {
     "name": "stderr",
     "output_type": "stream",
     "text": [
      "C:\\ProgramData\\Anaconda3\\lib\\site-packages\\sklearn\\linear_model\\coordinate_descent.py:492: ConvergenceWarning: Objective did not converge. You might want to increase the number of iterations. Fitting data with very small alpha may cause precision problems.\n",
      "  ConvergenceWarning)\n",
      "C:\\ProgramData\\Anaconda3\\lib\\site-packages\\sklearn\\linear_model\\coordinate_descent.py:492: ConvergenceWarning: Objective did not converge. You might want to increase the number of iterations. Fitting data with very small alpha may cause precision problems.\n",
      "  ConvergenceWarning)\n",
      "C:\\ProgramData\\Anaconda3\\lib\\site-packages\\sklearn\\linear_model\\coordinate_descent.py:492: ConvergenceWarning: Objective did not converge. You might want to increase the number of iterations. Fitting data with very small alpha may cause precision problems.\n",
      "  ConvergenceWarning)\n",
      "C:\\ProgramData\\Anaconda3\\lib\\site-packages\\sklearn\\linear_model\\coordinate_descent.py:492: ConvergenceWarning: Objective did not converge. You might want to increase the number of iterations. Fitting data with very small alpha may cause precision problems.\n",
      "  ConvergenceWarning)\n",
      "C:\\ProgramData\\Anaconda3\\lib\\site-packages\\sklearn\\linear_model\\coordinate_descent.py:492: ConvergenceWarning: Objective did not converge. You might want to increase the number of iterations. Fitting data with very small alpha may cause precision problems.\n",
      "  ConvergenceWarning)\n",
      "C:\\ProgramData\\Anaconda3\\lib\\site-packages\\sklearn\\linear_model\\coordinate_descent.py:492: ConvergenceWarning: Objective did not converge. You might want to increase the number of iterations. Fitting data with very small alpha may cause precision problems.\n",
      "  ConvergenceWarning)\n",
      "C:\\ProgramData\\Anaconda3\\lib\\site-packages\\sklearn\\linear_model\\coordinate_descent.py:492: ConvergenceWarning: Objective did not converge. You might want to increase the number of iterations. Fitting data with very small alpha may cause precision problems.\n",
      "  ConvergenceWarning)\n",
      "C:\\ProgramData\\Anaconda3\\lib\\site-packages\\sklearn\\linear_model\\coordinate_descent.py:492: ConvergenceWarning: Objective did not converge. You might want to increase the number of iterations. Fitting data with very small alpha may cause precision problems.\n",
      "  ConvergenceWarning)\n",
      "C:\\ProgramData\\Anaconda3\\lib\\site-packages\\sklearn\\linear_model\\coordinate_descent.py:492: ConvergenceWarning: Objective did not converge. You might want to increase the number of iterations. Fitting data with very small alpha may cause precision problems.\n",
      "  ConvergenceWarning)\n",
      "C:\\ProgramData\\Anaconda3\\lib\\site-packages\\sklearn\\linear_model\\coordinate_descent.py:492: ConvergenceWarning: Objective did not converge. You might want to increase the number of iterations. Fitting data with very small alpha may cause precision problems.\n",
      "  ConvergenceWarning)\n",
      "C:\\ProgramData\\Anaconda3\\lib\\site-packages\\sklearn\\linear_model\\coordinate_descent.py:492: ConvergenceWarning: Objective did not converge. You might want to increase the number of iterations. Fitting data with very small alpha may cause precision problems.\n",
      "  ConvergenceWarning)\n",
      "C:\\ProgramData\\Anaconda3\\lib\\site-packages\\sklearn\\linear_model\\coordinate_descent.py:492: ConvergenceWarning: Objective did not converge. You might want to increase the number of iterations. Fitting data with very small alpha may cause precision problems.\n",
      "  ConvergenceWarning)\n",
      "C:\\ProgramData\\Anaconda3\\lib\\site-packages\\sklearn\\linear_model\\coordinate_descent.py:492: ConvergenceWarning: Objective did not converge. You might want to increase the number of iterations. Fitting data with very small alpha may cause precision problems.\n",
      "  ConvergenceWarning)\n",
      "C:\\ProgramData\\Anaconda3\\lib\\site-packages\\sklearn\\linear_model\\coordinate_descent.py:492: ConvergenceWarning: Objective did not converge. You might want to increase the number of iterations. Fitting data with very small alpha may cause precision problems.\n",
      "  ConvergenceWarning)\n",
      "C:\\ProgramData\\Anaconda3\\lib\\site-packages\\sklearn\\linear_model\\coordinate_descent.py:492: ConvergenceWarning: Objective did not converge. You might want to increase the number of iterations. Fitting data with very small alpha may cause precision problems.\n",
      "  ConvergenceWarning)\n",
      "C:\\ProgramData\\Anaconda3\\lib\\site-packages\\sklearn\\linear_model\\coordinate_descent.py:492: ConvergenceWarning: Objective did not converge. You might want to increase the number of iterations. Fitting data with very small alpha may cause precision problems.\n",
      "  ConvergenceWarning)\n",
      "C:\\ProgramData\\Anaconda3\\lib\\site-packages\\sklearn\\linear_model\\coordinate_descent.py:492: ConvergenceWarning: Objective did not converge. You might want to increase the number of iterations. Fitting data with very small alpha may cause precision problems.\n",
      "  ConvergenceWarning)\n",
      "C:\\ProgramData\\Anaconda3\\lib\\site-packages\\sklearn\\linear_model\\coordinate_descent.py:492: ConvergenceWarning: Objective did not converge. You might want to increase the number of iterations. Fitting data with very small alpha may cause precision problems.\n",
      "  ConvergenceWarning)\n",
      "C:\\ProgramData\\Anaconda3\\lib\\site-packages\\sklearn\\linear_model\\coordinate_descent.py:492: ConvergenceWarning: Objective did not converge. You might want to increase the number of iterations. Fitting data with very small alpha may cause precision problems.\n",
      "  ConvergenceWarning)\n",
      "C:\\ProgramData\\Anaconda3\\lib\\site-packages\\sklearn\\linear_model\\coordinate_descent.py:492: ConvergenceWarning: Objective did not converge. You might want to increase the number of iterations. Fitting data with very small alpha may cause precision problems.\n",
      "  ConvergenceWarning)\n",
      "C:\\ProgramData\\Anaconda3\\lib\\site-packages\\sklearn\\linear_model\\coordinate_descent.py:492: ConvergenceWarning: Objective did not converge. You might want to increase the number of iterations. Fitting data with very small alpha may cause precision problems.\n",
      "  ConvergenceWarning)\n",
      "C:\\ProgramData\\Anaconda3\\lib\\site-packages\\sklearn\\linear_model\\coordinate_descent.py:492: ConvergenceWarning: Objective did not converge. You might want to increase the number of iterations. Fitting data with very small alpha may cause precision problems.\n",
      "  ConvergenceWarning)\n",
      "C:\\ProgramData\\Anaconda3\\lib\\site-packages\\sklearn\\linear_model\\coordinate_descent.py:492: ConvergenceWarning: Objective did not converge. You might want to increase the number of iterations. Fitting data with very small alpha may cause precision problems.\n",
      "  ConvergenceWarning)\n",
      "C:\\ProgramData\\Anaconda3\\lib\\site-packages\\sklearn\\linear_model\\coordinate_descent.py:492: ConvergenceWarning: Objective did not converge. You might want to increase the number of iterations. Fitting data with very small alpha may cause precision problems.\n",
      "  ConvergenceWarning)\n",
      "C:\\ProgramData\\Anaconda3\\lib\\site-packages\\sklearn\\linear_model\\coordinate_descent.py:492: ConvergenceWarning: Objective did not converge. You might want to increase the number of iterations. Fitting data with very small alpha may cause precision problems.\n",
      "  ConvergenceWarning)\n",
      "C:\\ProgramData\\Anaconda3\\lib\\site-packages\\sklearn\\linear_model\\coordinate_descent.py:492: ConvergenceWarning: Objective did not converge. You might want to increase the number of iterations. Fitting data with very small alpha may cause precision problems.\n",
      "  ConvergenceWarning)\n",
      "C:\\ProgramData\\Anaconda3\\lib\\site-packages\\sklearn\\linear_model\\coordinate_descent.py:492: ConvergenceWarning: Objective did not converge. You might want to increase the number of iterations. Fitting data with very small alpha may cause precision problems.\n",
      "  ConvergenceWarning)\n",
      "C:\\ProgramData\\Anaconda3\\lib\\site-packages\\sklearn\\linear_model\\coordinate_descent.py:492: ConvergenceWarning: Objective did not converge. You might want to increase the number of iterations. Fitting data with very small alpha may cause precision problems.\n",
      "  ConvergenceWarning)\n",
      "C:\\ProgramData\\Anaconda3\\lib\\site-packages\\sklearn\\linear_model\\coordinate_descent.py:492: ConvergenceWarning: Objective did not converge. You might want to increase the number of iterations. Fitting data with very small alpha may cause precision problems.\n",
      "  ConvergenceWarning)\n",
      "C:\\ProgramData\\Anaconda3\\lib\\site-packages\\sklearn\\linear_model\\coordinate_descent.py:492: ConvergenceWarning: Objective did not converge. You might want to increase the number of iterations. Fitting data with very small alpha may cause precision problems.\n",
      "  ConvergenceWarning)\n",
      "C:\\ProgramData\\Anaconda3\\lib\\site-packages\\sklearn\\linear_model\\coordinate_descent.py:492: ConvergenceWarning: Objective did not converge. You might want to increase the number of iterations. Fitting data with very small alpha may cause precision problems.\n",
      "  ConvergenceWarning)\n",
      "C:\\ProgramData\\Anaconda3\\lib\\site-packages\\sklearn\\linear_model\\coordinate_descent.py:492: ConvergenceWarning: Objective did not converge. You might want to increase the number of iterations. Fitting data with very small alpha may cause precision problems.\n",
      "  ConvergenceWarning)\n",
      "C:\\ProgramData\\Anaconda3\\lib\\site-packages\\sklearn\\linear_model\\coordinate_descent.py:492: ConvergenceWarning: Objective did not converge. You might want to increase the number of iterations. Fitting data with very small alpha may cause precision problems.\n",
      "  ConvergenceWarning)\n",
      "C:\\ProgramData\\Anaconda3\\lib\\site-packages\\sklearn\\linear_model\\coordinate_descent.py:492: ConvergenceWarning: Objective did not converge. You might want to increase the number of iterations. Fitting data with very small alpha may cause precision problems.\n",
      "  ConvergenceWarning)\n",
      "C:\\ProgramData\\Anaconda3\\lib\\site-packages\\sklearn\\linear_model\\coordinate_descent.py:492: ConvergenceWarning: Objective did not converge. You might want to increase the number of iterations. Fitting data with very small alpha may cause precision problems.\n",
      "  ConvergenceWarning)\n",
      "C:\\ProgramData\\Anaconda3\\lib\\site-packages\\sklearn\\linear_model\\coordinate_descent.py:492: ConvergenceWarning: Objective did not converge. You might want to increase the number of iterations. Fitting data with very small alpha may cause precision problems.\n",
      "  ConvergenceWarning)\n",
      "C:\\ProgramData\\Anaconda3\\lib\\site-packages\\sklearn\\linear_model\\coordinate_descent.py:492: ConvergenceWarning: Objective did not converge. You might want to increase the number of iterations. Fitting data with very small alpha may cause precision problems.\n",
      "  ConvergenceWarning)\n",
      "C:\\ProgramData\\Anaconda3\\lib\\site-packages\\sklearn\\linear_model\\coordinate_descent.py:492: ConvergenceWarning: Objective did not converge. You might want to increase the number of iterations. Fitting data with very small alpha may cause precision problems.\n",
      "  ConvergenceWarning)\n",
      "C:\\ProgramData\\Anaconda3\\lib\\site-packages\\sklearn\\linear_model\\coordinate_descent.py:492: ConvergenceWarning: Objective did not converge. You might want to increase the number of iterations. Fitting data with very small alpha may cause precision problems.\n",
      "  ConvergenceWarning)\n",
      "C:\\ProgramData\\Anaconda3\\lib\\site-packages\\sklearn\\linear_model\\coordinate_descent.py:492: ConvergenceWarning: Objective did not converge. You might want to increase the number of iterations. Fitting data with very small alpha may cause precision problems.\n",
      "  ConvergenceWarning)\n",
      "C:\\ProgramData\\Anaconda3\\lib\\site-packages\\sklearn\\linear_model\\coordinate_descent.py:492: ConvergenceWarning: Objective did not converge. You might want to increase the number of iterations. Fitting data with very small alpha may cause precision problems.\n",
      "  ConvergenceWarning)\n",
      "C:\\ProgramData\\Anaconda3\\lib\\site-packages\\sklearn\\linear_model\\coordinate_descent.py:492: ConvergenceWarning: Objective did not converge. You might want to increase the number of iterations. Fitting data with very small alpha may cause precision problems.\n",
      "  ConvergenceWarning)\n",
      "C:\\ProgramData\\Anaconda3\\lib\\site-packages\\sklearn\\linear_model\\coordinate_descent.py:492: ConvergenceWarning: Objective did not converge. You might want to increase the number of iterations. Fitting data with very small alpha may cause precision problems.\n",
      "  ConvergenceWarning)\n",
      "C:\\ProgramData\\Anaconda3\\lib\\site-packages\\sklearn\\linear_model\\coordinate_descent.py:492: ConvergenceWarning: Objective did not converge. You might want to increase the number of iterations. Fitting data with very small alpha may cause precision problems.\n",
      "  ConvergenceWarning)\n",
      "C:\\ProgramData\\Anaconda3\\lib\\site-packages\\sklearn\\linear_model\\coordinate_descent.py:492: ConvergenceWarning: Objective did not converge. You might want to increase the number of iterations. Fitting data with very small alpha may cause precision problems.\n",
      "  ConvergenceWarning)\n",
      "C:\\ProgramData\\Anaconda3\\lib\\site-packages\\sklearn\\linear_model\\coordinate_descent.py:492: ConvergenceWarning: Objective did not converge. You might want to increase the number of iterations. Fitting data with very small alpha may cause precision problems.\n",
      "  ConvergenceWarning)\n"
     ]
    },
    {
     "name": "stdout",
     "output_type": "stream",
     "text": [
      "In sample R-squared: 0.366344\n",
      "Out of sample R-squared: 0.330030\n",
      "10.0\n"
     ]
    },
    {
     "name": "stderr",
     "output_type": "stream",
     "text": [
      "C:\\ProgramData\\Anaconda3\\lib\\site-packages\\sklearn\\linear_model\\coordinate_descent.py:492: ConvergenceWarning: Objective did not converge. You might want to increase the number of iterations. Fitting data with very small alpha may cause precision problems.\n",
      "  ConvergenceWarning)\n"
     ]
    },
    {
     "data": {
      "text/plain": [
       "array([ 0.00000000e+00,  0.00000000e+00,  0.00000000e+00,  0.00000000e+00,\n",
       "        1.29057580e-04,  3.60204111e-06, -0.00000000e+00,  1.40626910e-06,\n",
       "       -9.46420266e-08,  2.84422388e-06,  5.62573965e-08, -9.84169885e-06,\n",
       "       -9.03848630e-07, -3.38343216e-06,  6.70577026e-06, -2.18956823e-05,\n",
       "        1.90081944e-06, -0.00000000e+00, -0.00000000e+00, -1.74861437e-03,\n",
       "       -0.00000000e+00, -0.00000000e+00, -0.00000000e+00, -0.00000000e+00,\n",
       "       -0.00000000e+00,  2.73907771e-08,  5.81793170e-09,  1.81738252e-09,\n",
       "       -2.34695338e-09, -0.00000000e+00,  0.00000000e+00,  0.00000000e+00,\n",
       "        0.00000000e+00, -0.00000000e+00,  3.69875975e-06,  0.00000000e+00,\n",
       "       -0.00000000e+00,  0.00000000e+00,  0.00000000e+00,  0.00000000e+00,\n",
       "        0.00000000e+00, -4.70803089e-05, -0.00000000e+00, -0.00000000e+00,\n",
       "       -0.00000000e+00, -0.00000000e+00,  9.93892077e-05,  0.00000000e+00,\n",
       "       -0.00000000e+00,  1.24046825e-04, -2.14913751e-05,  0.00000000e+00])"
      ]
     },
     "execution_count": 85,
     "metadata": {},
     "output_type": "execute_result"
    }
   ],
   "source": [
    "reg = LassoCV(alphas=alpha, cv=10, random_state=0).fit(X_train, np.log(Y_train))\n",
    "print(\"In sample R-squared: %f\"%reg.score(X_train, np.log(Y_train)))\n",
    "print(\"Out of sample R-squared: %f\"%reg.score(X_test, np.log(Y_test)))\n",
    "print(reg.alpha_)\n",
    "reg.coef_"
   ]
  },
  {
   "cell_type": "markdown",
   "metadata": {},
   "source": [
    "### stardardized"
   ]
  },
  {
   "cell_type": "code",
   "execution_count": 86,
   "metadata": {
    "ExecuteTime": {
     "end_time": "2019-05-08T18:07:27.621428Z",
     "start_time": "2019-05-08T18:07:27.499752Z"
    },
    "scrolled": true
   },
   "outputs": [
    {
     "name": "stdout",
     "output_type": "stream",
     "text": [
      "In sample R-squared: 0.657554\n",
      "Out of sample R-squared: 0.669111\n",
      "alpha: 0.021544\n"
     ]
    },
    {
     "name": "stderr",
     "output_type": "stream",
     "text": [
      "C:\\ProgramData\\Anaconda3\\lib\\site-packages\\sklearn\\linear_model\\coordinate_descent.py:1109: DataConversionWarning: A column-vector y was passed when a 1d array was expected. Please change the shape of y to (n_samples, ), for example using ravel().\n",
      "  y = column_or_1d(y, warn=True)\n"
     ]
    },
    {
     "data": {
      "text/plain": [
       "array([ 3.44391759e-02, -1.06389844e-03,  6.24305529e-02, -0.00000000e+00,\n",
       "       -0.00000000e+00,  6.76516299e-01, -0.00000000e+00, -8.60099700e-04,\n",
       "       -0.00000000e+00,  0.00000000e+00, -0.00000000e+00, -0.00000000e+00,\n",
       "        8.15858521e-02, -0.00000000e+00, -2.00896455e-02,  5.06859789e-02,\n",
       "        4.21570917e-02, -0.00000000e+00, -2.22183021e-02, -0.00000000e+00,\n",
       "       -0.00000000e+00, -0.00000000e+00, -4.84861262e-03,  0.00000000e+00,\n",
       "       -0.00000000e+00,  0.00000000e+00, -0.00000000e+00, -0.00000000e+00,\n",
       "       -1.71719073e-02, -0.00000000e+00,  2.31437145e-02,  6.00319295e-03,\n",
       "        0.00000000e+00,  0.00000000e+00,  0.00000000e+00, -1.97504849e-02,\n",
       "        0.00000000e+00, -0.00000000e+00,  0.00000000e+00, -0.00000000e+00,\n",
       "       -0.00000000e+00,  0.00000000e+00, -0.00000000e+00, -0.00000000e+00,\n",
       "       -0.00000000e+00, -0.00000000e+00,  5.14949263e-04,  0.00000000e+00,\n",
       "        0.00000000e+00, -0.00000000e+00,  0.00000000e+00,  0.00000000e+00])"
      ]
     },
     "execution_count": 86,
     "metadata": {},
     "output_type": "execute_result"
    }
   ],
   "source": [
    "reg = LassoCV(alphas=alpha, cv=10, random_state=0).fit(X_standardized_train, Y_standardized_train)\n",
    "print(\"In sample R-squared: %f\"%reg.score(X_standardized_train, Y_standardized_train))\n",
    "print(\"Out of sample R-squared: %f\"%reg.score(X_standardized_test, Y_standardized_test))\n",
    "print(\"alpha: %f\"%reg.alpha_)\n",
    "reg.coef_"
   ]
  },
  {
   "cell_type": "markdown",
   "metadata": {},
   "source": [
    "### PCA"
   ]
  },
  {
   "cell_type": "code",
   "execution_count": 87,
   "metadata": {
    "ExecuteTime": {
     "end_time": "2019-05-08T18:07:27.664312Z",
     "start_time": "2019-05-08T18:07:27.622424Z"
    },
    "scrolled": true
   },
   "outputs": [
    {
     "name": "stdout",
     "output_type": "stream",
     "text": [
      "In sample R-squared: 0.582912\n",
      "Out of sample R-squared: 0.471556\n",
      "alpha: 0.021544\n"
     ]
    },
    {
     "name": "stderr",
     "output_type": "stream",
     "text": [
      "C:\\ProgramData\\Anaconda3\\lib\\site-packages\\sklearn\\linear_model\\coordinate_descent.py:1109: DataConversionWarning: A column-vector y was passed when a 1d array was expected. Please change the shape of y to (n_samples, ), for example using ravel().\n",
      "  y = column_or_1d(y, warn=True)\n"
     ]
    },
    {
     "data": {
      "text/plain": [
       "array([-0.00000000e+00, -2.54881924e-02,  7.21023640e-01, -4.51472870e-02,\n",
       "       -1.67528234e-02,  1.42808877e-01,  0.00000000e+00,  3.05410638e-03,\n",
       "        4.95995404e-03,  5.12578107e-04, -0.00000000e+00,  8.37890959e-03,\n",
       "       -0.00000000e+00, -2.63309907e-02, -9.35304158e-02])"
      ]
     },
     "execution_count": 87,
     "metadata": {},
     "output_type": "execute_result"
    }
   ],
   "source": [
    "reg = LassoCV(alphas=alpha, cv=10, random_state=0).fit(X_standardized_train_PCA, Y_standardized_train)\n",
    "print(\"In sample R-squared: %f\"%reg.score(X_standardized_train_PCA, Y_standardized_train))\n",
    "print(\"Out of sample R-squared: %f\"%reg.score(X_standardized_test_PCA, Y_standardized_test))\n",
    "print(\"alpha: %f\"%reg.alpha_)\n",
    "reg.coef_"
   ]
  },
  {
   "cell_type": "markdown",
   "metadata": {},
   "source": [
    "### feature selection"
   ]
  },
  {
   "cell_type": "markdown",
   "metadata": {},
   "source": [
    "#### TOP 10 & stardardized"
   ]
  },
  {
   "cell_type": "code",
   "execution_count": 88,
   "metadata": {
    "ExecuteTime": {
     "end_time": "2019-05-08T18:07:27.755068Z",
     "start_time": "2019-05-08T18:07:27.675283Z"
    }
   },
   "outputs": [],
   "source": [
    "selected_columns_top10 = abs(df.corr().iloc[:,:1]).sort_values('SALE PRICE')[-10:-1].index"
   ]
  },
  {
   "cell_type": "code",
   "execution_count": 89,
   "metadata": {
    "ExecuteTime": {
     "end_time": "2019-05-08T18:07:27.796958Z",
     "start_time": "2019-05-08T18:07:27.756066Z"
    },
    "scrolled": true
   },
   "outputs": [
    {
     "name": "stdout",
     "output_type": "stream",
     "text": [
      "In sample R-squared: 0.647389\n",
      "Out of sample R-squared: 0.655650\n",
      "alpha: 0.021544\n"
     ]
    },
    {
     "name": "stderr",
     "output_type": "stream",
     "text": [
      "C:\\ProgramData\\Anaconda3\\lib\\site-packages\\sklearn\\linear_model\\coordinate_descent.py:1109: DataConversionWarning: A column-vector y was passed when a 1d array was expected. Please change the shape of y to (n_samples, ), for example using ravel().\n",
      "  y = column_or_1d(y, warn=True)\n"
     ]
    },
    {
     "data": {
      "text/plain": [
       "array([ 0.06303912,  0.0423792 , -0.00416473,  0.06280448,  0.05293991,\n",
       "       -0.        , -0.        ,  0.        ,  0.67011712])"
      ]
     },
     "execution_count": 89,
     "metadata": {},
     "output_type": "execute_result"
    }
   ],
   "source": [
    "reg = LassoCV(alphas=alpha, cv=10, random_state=0).fit(X_standardized_train[selected_columns_top10], Y_standardized_train)\n",
    "print(\"In sample R-squared: %f\"%reg.score(X_standardized_train[selected_columns_top10], Y_standardized_train))\n",
    "print(\"Out of sample R-squared: %f\"%reg.score(X_standardized_test[selected_columns_top10], Y_standardized_test))\n",
    "print(\"alpha: %f\"%reg.alpha_)\n",
    "reg.coef_"
   ]
  },
  {
   "cell_type": "markdown",
   "metadata": {},
   "source": [
    "#### stardardized"
   ]
  },
  {
   "cell_type": "code",
   "execution_count": 90,
   "metadata": {
    "ExecuteTime": {
     "end_time": "2019-05-08T18:07:27.896691Z",
     "start_time": "2019-05-08T18:07:27.798952Z"
    },
    "scrolled": true
   },
   "outputs": [
    {
     "name": "stderr",
     "output_type": "stream",
     "text": [
      "C:\\ProgramData\\Anaconda3\\lib\\site-packages\\sklearn\\linear_model\\coordinate_descent.py:1109: DataConversionWarning: A column-vector y was passed when a 1d array was expected. Please change the shape of y to (n_samples, ), for example using ravel().\n",
      "  y = column_or_1d(y, warn=True)\n"
     ]
    },
    {
     "name": "stdout",
     "output_type": "stream",
     "text": [
      "In sample R-squared: 0.657554\n",
      "Out of sample R-squared: 0.669112\n",
      "alpha: 0.021544\n"
     ]
    },
    {
     "data": {
      "text/plain": [
       "array([ 3.44396607e-02, -1.06600086e-03,  6.24295569e-02, -0.00000000e+00,\n",
       "       -0.00000000e+00,  6.76518936e-01, -0.00000000e+00, -8.49417375e-04,\n",
       "        0.00000000e+00, -0.00000000e+00,  8.15853854e-02, -2.00902318e-02,\n",
       "        5.06857974e-02,  4.21566246e-02, -0.00000000e+00, -2.22178357e-02,\n",
       "       -4.85767222e-03,  0.00000000e+00, -0.00000000e+00, -1.71720689e-02,\n",
       "       -0.00000000e+00,  2.31445521e-02,  6.00350632e-03,  0.00000000e+00,\n",
       "        0.00000000e+00,  0.00000000e+00, -1.97504995e-02,  0.00000000e+00,\n",
       "       -0.00000000e+00,  0.00000000e+00, -0.00000000e+00, -0.00000000e+00,\n",
       "        0.00000000e+00, -0.00000000e+00, -0.00000000e+00, -0.00000000e+00,\n",
       "       -0.00000000e+00,  5.14811429e-04,  0.00000000e+00,  0.00000000e+00,\n",
       "        0.00000000e+00,  0.00000000e+00, -0.00000000e+00])"
      ]
     },
     "execution_count": 90,
     "metadata": {},
     "output_type": "execute_result"
    }
   ],
   "source": [
    "reg = LassoCV(alphas=alpha, cv=10, random_state=0).fit(X_standardized_train[selected_columns[1:]], Y_standardized_train)\n",
    "print(\"In sample R-squared: %f\"%reg.score(X_standardized_train[selected_columns[1:]], Y_standardized_train))\n",
    "print(\"Out of sample R-squared: %f\"%reg.score(X_standardized_test[selected_columns[1:]], Y_standardized_test))\n",
    "print(\"alpha: %f\"%reg.alpha_)\n",
    "reg.coef_"
   ]
  },
  {
   "cell_type": "markdown",
   "metadata": {},
   "source": [
    "## Ridge"
   ]
  },
  {
   "cell_type": "code",
   "execution_count": null,
   "metadata": {},
   "outputs": [],
   "source": []
  },
  {
   "cell_type": "markdown",
   "metadata": {},
   "source": [
    "## Decision Tree"
   ]
  },
  {
   "cell_type": "markdown",
   "metadata": {},
   "source": [
    "## Random forest"
   ]
  },
  {
   "cell_type": "code",
   "execution_count": null,
   "metadata": {},
   "outputs": [],
   "source": []
  },
  {
   "cell_type": "markdown",
   "metadata": {},
   "source": [
    "## SVM (missed)"
   ]
  },
  {
   "cell_type": "markdown",
   "metadata": {},
   "source": [
    "## Bayesian Methods"
   ]
  },
  {
   "cell_type": "markdown",
   "metadata": {},
   "source": [
    "## Bayesian Networks"
   ]
  },
  {
   "cell_type": "code",
   "execution_count": null,
   "metadata": {},
   "outputs": [],
   "source": []
  },
  {
   "cell_type": "code",
   "execution_count": null,
   "metadata": {},
   "outputs": [],
   "source": []
  },
  {
   "cell_type": "markdown",
   "metadata": {},
   "source": [
    "## Gaussian Processes"
   ]
  },
  {
   "cell_type": "code",
   "execution_count": null,
   "metadata": {},
   "outputs": [],
   "source": []
  },
  {
   "cell_type": "code",
   "execution_count": null,
   "metadata": {},
   "outputs": [],
   "source": []
  },
  {
   "cell_type": "markdown",
   "metadata": {},
   "source": [
    "## Clustering"
   ]
  },
  {
   "cell_type": "code",
   "execution_count": null,
   "metadata": {},
   "outputs": [],
   "source": []
  }
 ],
 "metadata": {
  "kernelspec": {
   "display_name": "Python 3",
   "language": "python",
   "name": "python3"
  },
  "language_info": {
   "codemirror_mode": {
    "name": "ipython",
    "version": 3
   },
   "file_extension": ".py",
   "mimetype": "text/x-python",
   "name": "python",
   "nbconvert_exporter": "python",
   "pygments_lexer": "ipython3",
   "version": "3.6.8"
  },
  "toc": {
   "base_numbering": 1,
   "nav_menu": {},
   "number_sections": true,
   "sideBar": true,
   "skip_h1_title": false,
   "title_cell": "Table of Contents",
   "title_sidebar": "Contents",
   "toc_cell": false,
   "toc_position": {
    "height": "calc(100% - 180px)",
    "left": "10px",
    "top": "150px",
    "width": "279.263px"
   },
   "toc_section_display": true,
   "toc_window_display": true
  }
 },
 "nbformat": 4,
 "nbformat_minor": 2
}
