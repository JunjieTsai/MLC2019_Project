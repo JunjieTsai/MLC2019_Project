{
 "cells": [
  {
   "cell_type": "code",
   "execution_count": 10,
   "metadata": {
    "ExecuteTime": {
     "end_time": "2019-05-08T00:10:51.034504Z",
     "start_time": "2019-05-08T00:10:51.029239Z"
    }
   },
   "outputs": [],
   "source": [
    "import pandas as pd\n",
    "from matplotlib import pyplot as plt\n",
    "import numpy as np\n",
    "import math\n",
    "%matplotlib inline\n",
    "from sklearn.model_selection import train_test_split\n"
   ]
  },
  {
   "cell_type": "code",
   "execution_count": 81,
   "metadata": {
    "ExecuteTime": {
     "end_time": "2019-05-08T18:13:57.896269Z",
     "start_time": "2019-05-08T18:13:57.618659Z"
    }
   },
   "outputs": [
    {
     "name": "stdout",
     "output_type": "stream",
     "text": [
      "  % Total    % Received % Xferd  Average Speed   Time    Time     Time  Current\n",
      "                                 Dload  Upload   Total   Spent    Left  Speed\n",
      "100  327k  100  327k    0     0  2460k      0 --:--:-- --:--:-- --:--:-- 2460k\n"
     ]
    }
   ],
   "source": [
    "# ! curl -O https://raw.githubusercontent.com/JunjieTsai/MLC2019_Project/master/0507%20Preprocessing4%20%26%20Modeling.ipynb"
   ]
  },
  {
   "cell_type": "code",
   "execution_count": 12,
   "metadata": {
    "ExecuteTime": {
     "end_time": "2019-05-08T00:10:51.814168Z",
     "start_time": "2019-05-08T00:10:51.621035Z"
    },
    "scrolled": true
   },
   "outputs": [
    {
     "name": "stdout",
     "output_type": "stream",
     "text": [
      "(8890, 61)\n"
     ]
    },
    {
     "data": {
      "text/html": [
       "<div>\n",
       "<style scoped>\n",
       "    .dataframe tbody tr th:only-of-type {\n",
       "        vertical-align: middle;\n",
       "    }\n",
       "\n",
       "    .dataframe tbody tr th {\n",
       "        vertical-align: top;\n",
       "    }\n",
       "\n",
       "    .dataframe thead th {\n",
       "        text-align: right;\n",
       "    }\n",
       "</style>\n",
       "<table border=\"1\" class=\"dataframe\">\n",
       "  <thead>\n",
       "    <tr style=\"text-align: right;\">\n",
       "      <th></th>\n",
       "      <th>SALE PRICE</th>\n",
       "      <th>SALE DATE</th>\n",
       "      <th>histdist</th>\n",
       "      <th>landmark</th>\n",
       "      <th>landuse</th>\n",
       "      <th>YEAR BUILT</th>\n",
       "      <th>RESIDENTIAL UNITS</th>\n",
       "      <th>COMMERCIAL UNITS</th>\n",
       "      <th>TOTAL UNITS</th>\n",
       "      <th>LAND SQUARE FEET</th>\n",
       "      <th>...</th>\n",
       "      <th>park_area</th>\n",
       "      <th>park_top_level</th>\n",
       "      <th>park_distance</th>\n",
       "      <th>FELONY</th>\n",
       "      <th>VIOLATION</th>\n",
       "      <th>MISDEMEANOR</th>\n",
       "      <th>Num of SAT Test Takers</th>\n",
       "      <th>satReadingSum</th>\n",
       "      <th>satMathSum</th>\n",
       "      <th>satWritingSum</th>\n",
       "    </tr>\n",
       "  </thead>\n",
       "  <tbody>\n",
       "    <tr>\n",
       "      <th>0</th>\n",
       "      <td>3750000</td>\n",
       "      <td>2018-08-01 00:00:00</td>\n",
       "      <td>Mount Morris Park Historic District</td>\n",
       "      <td>NaN</td>\n",
       "      <td>2.0</td>\n",
       "      <td>110.0</td>\n",
       "      <td>3.0</td>\n",
       "      <td>0.0</td>\n",
       "      <td>3.0</td>\n",
       "      <td>2018.0</td>\n",
       "      <td>...</td>\n",
       "      <td>22.051</td>\n",
       "      <td>2.0</td>\n",
       "      <td>0.001133</td>\n",
       "      <td>462.0</td>\n",
       "      <td>195.0</td>\n",
       "      <td>869.0</td>\n",
       "      <td>3825.0</td>\n",
       "      <td>498.0</td>\n",
       "      <td>525.0</td>\n",
       "      <td>496.0</td>\n",
       "    </tr>\n",
       "    <tr>\n",
       "      <th>1</th>\n",
       "      <td>5000000</td>\n",
       "      <td>2018-10-25 00:00:00</td>\n",
       "      <td>NaN</td>\n",
       "      <td>NaN</td>\n",
       "      <td>4.0</td>\n",
       "      <td>119.0</td>\n",
       "      <td>26.0</td>\n",
       "      <td>4.0</td>\n",
       "      <td>30.0</td>\n",
       "      <td>5060.0</td>\n",
       "      <td>...</td>\n",
       "      <td>179.671</td>\n",
       "      <td>2.0</td>\n",
       "      <td>0.001841</td>\n",
       "      <td>306.0</td>\n",
       "      <td>156.0</td>\n",
       "      <td>677.0</td>\n",
       "      <td>4005.0</td>\n",
       "      <td>441.0</td>\n",
       "      <td>487.0</td>\n",
       "      <td>442.0</td>\n",
       "    </tr>\n",
       "    <tr>\n",
       "      <th>2</th>\n",
       "      <td>5000000</td>\n",
       "      <td>2018-10-25 00:00:00</td>\n",
       "      <td>NaN</td>\n",
       "      <td>NaN</td>\n",
       "      <td>4.0</td>\n",
       "      <td>119.0</td>\n",
       "      <td>26.0</td>\n",
       "      <td>4.0</td>\n",
       "      <td>30.0</td>\n",
       "      <td>5060.0</td>\n",
       "      <td>...</td>\n",
       "      <td>179.671</td>\n",
       "      <td>2.0</td>\n",
       "      <td>0.001792</td>\n",
       "      <td>303.0</td>\n",
       "      <td>156.0</td>\n",
       "      <td>672.0</td>\n",
       "      <td>4005.0</td>\n",
       "      <td>441.0</td>\n",
       "      <td>487.0</td>\n",
       "      <td>442.0</td>\n",
       "    </tr>\n",
       "    <tr>\n",
       "      <th>3</th>\n",
       "      <td>29100000</td>\n",
       "      <td>2018-10-22 00:00:00</td>\n",
       "      <td>NaN</td>\n",
       "      <td>NaN</td>\n",
       "      <td>4.0</td>\n",
       "      <td>99.0</td>\n",
       "      <td>26.0</td>\n",
       "      <td>1.0</td>\n",
       "      <td>27.0</td>\n",
       "      <td>4642.0</td>\n",
       "      <td>...</td>\n",
       "      <td>843.074</td>\n",
       "      <td>3.0</td>\n",
       "      <td>0.000745</td>\n",
       "      <td>509.0</td>\n",
       "      <td>266.0</td>\n",
       "      <td>897.0</td>\n",
       "      <td>3825.0</td>\n",
       "      <td>498.0</td>\n",
       "      <td>525.0</td>\n",
       "      <td>496.0</td>\n",
       "    </tr>\n",
       "    <tr>\n",
       "      <th>4</th>\n",
       "      <td>2350000</td>\n",
       "      <td>2019-02-11 00:00:00</td>\n",
       "      <td>Upper East Side Historic District</td>\n",
       "      <td>NaN</td>\n",
       "      <td>3.0</td>\n",
       "      <td>116.0</td>\n",
       "      <td>0.0</td>\n",
       "      <td>0.0</td>\n",
       "      <td>0.0</td>\n",
       "      <td>0.0</td>\n",
       "      <td>...</td>\n",
       "      <td>844.633</td>\n",
       "      <td>3.0</td>\n",
       "      <td>0.001081</td>\n",
       "      <td>102.0</td>\n",
       "      <td>21.0</td>\n",
       "      <td>83.0</td>\n",
       "      <td>9100.0</td>\n",
       "      <td>451.0</td>\n",
       "      <td>476.0</td>\n",
       "      <td>447.0</td>\n",
       "    </tr>\n",
       "  </tbody>\n",
       "</table>\n",
       "<p>5 rows × 61 columns</p>\n",
       "</div>"
      ],
      "text/plain": [
       "   SALE PRICE            SALE DATE                             histdist  \\\n",
       "0     3750000  2018-08-01 00:00:00  Mount Morris Park Historic District   \n",
       "1     5000000  2018-10-25 00:00:00                                  NaN   \n",
       "2     5000000  2018-10-25 00:00:00                                  NaN   \n",
       "3    29100000  2018-10-22 00:00:00                                  NaN   \n",
       "4     2350000  2019-02-11 00:00:00    Upper East Side Historic District   \n",
       "\n",
       "  landmark  landuse  YEAR BUILT  RESIDENTIAL UNITS  COMMERCIAL UNITS  \\\n",
       "0      NaN      2.0       110.0                3.0               0.0   \n",
       "1      NaN      4.0       119.0               26.0               4.0   \n",
       "2      NaN      4.0       119.0               26.0               4.0   \n",
       "3      NaN      4.0        99.0               26.0               1.0   \n",
       "4      NaN      3.0       116.0                0.0               0.0   \n",
       "\n",
       "   TOTAL UNITS  LAND SQUARE FEET      ...        park_area  park_top_level  \\\n",
       "0          3.0            2018.0      ...           22.051             2.0   \n",
       "1         30.0            5060.0      ...          179.671             2.0   \n",
       "2         30.0            5060.0      ...          179.671             2.0   \n",
       "3         27.0            4642.0      ...          843.074             3.0   \n",
       "4          0.0               0.0      ...          844.633             3.0   \n",
       "\n",
       "   park_distance  FELONY  VIOLATION  MISDEMEANOR  Num of SAT Test Takers  \\\n",
       "0       0.001133   462.0      195.0        869.0                  3825.0   \n",
       "1       0.001841   306.0      156.0        677.0                  4005.0   \n",
       "2       0.001792   303.0      156.0        672.0                  4005.0   \n",
       "3       0.000745   509.0      266.0        897.0                  3825.0   \n",
       "4       0.001081   102.0       21.0         83.0                  9100.0   \n",
       "\n",
       "   satReadingSum  satMathSum  satWritingSum  \n",
       "0          498.0       525.0          496.0  \n",
       "1          441.0       487.0          442.0  \n",
       "2          441.0       487.0          442.0  \n",
       "3          498.0       525.0          496.0  \n",
       "4          451.0       476.0          447.0  \n",
       "\n",
       "[5 rows x 61 columns]"
      ]
     },
     "execution_count": 12,
     "metadata": {},
     "output_type": "execute_result"
    }
   ],
   "source": [
    "df = pd.read_csv('data/sale_training.csv', usecols = ['SALE PRICE','SALE DATE', 'histdist', 'landmark', 'landuse', 'YEAR BUILT',\n",
    "       'RESIDENTIAL UNITS', 'COMMERCIAL UNITS', 'TOTAL UNITS',\n",
    "       'LAND SQUARE FEET', 'GROSS SQUARE FEET', 'easements', 'lotarea',\n",
    "       'bldgarea', 'comarea', 'resarea', 'officearea', 'retailarea',\n",
    "       'garagearea', 'strgearea', 'factryarea', 'otherarea', 'numbldgs',\n",
    "       'numfloors', 'unitsres', 'unitstotal', 'lotfront', 'lotdepth',\n",
    "       'bldgfront', 'bldgdepth', 'assessland', 'assesstot', 'exemptland',\n",
    "       'exempttot', 'builtfar', 'residfar', 'commfar', 'facilfar',\n",
    "       'DensityPop', 'IncomePerCap', 'Poverty', 'Professional', 'Service',\n",
    "       'Office', 'Construction', 'Production', 'Employed', 'Unemployment',\n",
    "       'distance_subway', 'distance_bus', 'park_num', 'park_area',\n",
    "       'park_top_level', 'park_distance', 'FELONY', 'VIOLATION', 'MISDEMEANOR',\n",
    "       'Num of SAT Test Takers', 'satReadingSum', 'satMathSum',\n",
    "       'satWritingSum'])\n",
    "print(df.shape)\n",
    "df.head()"
   ]
  },
  {
   "cell_type": "code",
   "execution_count": 28,
   "metadata": {
    "ExecuteTime": {
     "end_time": "2019-05-08T00:33:27.735600Z",
     "start_time": "2019-05-08T00:33:27.546430Z"
    }
   },
   "outputs": [],
   "source": [
    "df = df.fillna(0)"
   ]
  },
  {
   "cell_type": "markdown",
   "metadata": {},
   "source": [
    "# Train Test Split"
   ]
  },
  {
   "cell_type": "code",
   "execution_count": 29,
   "metadata": {
    "ExecuteTime": {
     "end_time": "2019-05-08T00:33:29.959627Z",
     "start_time": "2019-05-08T00:33:29.941519Z"
    },
    "scrolled": true
   },
   "outputs": [
    {
     "name": "stdout",
     "output_type": "stream",
     "text": [
      "      landuse  YEAR BUILT  RESIDENTIAL UNITS  COMMERCIAL UNITS  TOTAL UNITS  \\\n",
      "5299      2.0       119.0                0.0               0.0          0.0   \n",
      "1148      3.0        89.0                0.0               0.0          0.0   \n",
      "4303      3.0        78.0                0.0               0.0          0.0   \n",
      "2841      2.0        99.0                0.0               0.0          0.0   \n",
      "4032      3.0        64.0                0.0               0.0          0.0   \n",
      "\n",
      "      LAND SQUARE FEET  GROSS SQUARE FEET  easements  lotarea  bldgarea  \\\n",
      "5299               0.0                0.0        0.0   8180.0   25281.0   \n",
      "1148               0.0                0.0        0.0  31000.0  196920.0   \n",
      "4303               0.0                0.0        0.0  10067.0   62272.0   \n",
      "2841               0.0                0.0        0.0   5021.0   19465.0   \n",
      "4032               0.0                0.0        0.0  23246.0  319696.0   \n",
      "\n",
      "          ...        park_area  park_top_level  park_distance  FELONY  \\\n",
      "5299      ...            0.699             2.0       0.002405   284.0   \n",
      "1148      ...           10.812             2.0       0.000283   475.0   \n",
      "4303      ...            6.406             2.0       0.002279   344.0   \n",
      "2841      ...            2.562             2.0       0.000172   588.0   \n",
      "4032      ...            3.115             2.0       0.000470   134.0   \n",
      "\n",
      "      VIOLATION  MISDEMEANOR  Num of SAT Test Takers  satReadingSum  \\\n",
      "5299      133.0        380.0                  9100.0          451.0   \n",
      "1148       90.0        676.0                  9100.0          451.0   \n",
      "4303      105.0        538.0                  9100.0          451.0   \n",
      "2841      339.0        958.0                  9100.0          451.0   \n",
      "4032       63.0        104.0                  9100.0          451.0   \n",
      "\n",
      "      satMathSum  satWritingSum  \n",
      "5299       476.0          447.0  \n",
      "1148       476.0          447.0  \n",
      "4303       476.0          447.0  \n",
      "2841       476.0          447.0  \n",
      "4032       476.0          447.0  \n",
      "\n",
      "[5 rows x 57 columns]\n"
     ]
    }
   ],
   "source": [
    "y=df.loc[:,\"SALE PRICE\"]\n",
    "X=df.loc[:,\"landuse\":\"satWritingSum\"]\n",
    "# X=pd.get_dummies(X)\n",
    "\n",
    "# Split data into 70% train, 30% test\n",
    "X_train,X_test,y_train,y_test=train_test_split(X, y, test_size=0.3, random_state=999)\n",
    "print (X_train.head())"
   ]
  },
  {
   "cell_type": "markdown",
   "metadata": {},
   "source": [
    "# GridSearch CV with fillna(0) "
   ]
  },
  {
   "cell_type": "code",
   "execution_count": 60,
   "metadata": {
    "ExecuteTime": {
     "end_time": "2019-05-08T01:08:34.854568Z",
     "start_time": "2019-05-08T01:08:25.648731Z"
    }
   },
   "outputs": [
    {
     "name": "stderr",
     "output_type": "stream",
     "text": [
      "/Users/zhengwenjie/anaconda3/lib/python3.6/site-packages/sklearn/model_selection/_split.py:605: Warning: The least populated class in y has only 1 members, which is too few. The minimum number of members in any class cannot be less than n_splits=3.\n",
      "  % (min_groups, self.n_splits)), Warning)\n"
     ]
    },
    {
     "name": "stdout",
     "output_type": "stream",
     "text": [
      "{'max_depth': 5}\n",
      "0.01949756280464942\n"
     ]
    }
   ],
   "source": [
    "param_grid = {'max_depth':range(1,11)}\n",
    "dt=DecisionTreeClassifier()\n",
    "gr=GridSearchCV(dt,param_grid=param_grid)\n",
    "rs=gr.fit(X_train,y_train)\n",
    "print (rs.best_params_)\n",
    "print (rs.score(X_test, y_test))"
   ]
  },
  {
   "cell_type": "code",
   "execution_count": 61,
   "metadata": {
    "ExecuteTime": {
     "end_time": "2019-05-08T01:09:25.823295Z",
     "start_time": "2019-05-08T01:08:47.393531Z"
    }
   },
   "outputs": [
    {
     "name": "stdout",
     "output_type": "stream",
     "text": [
      "0.022122234720659918\n",
      "[0.02249718785151856, 0.021747281589801274, 0.022122234720659918, 0.022122234720659918, 0.022122234720659918, 0.022122234720659918, 0.022122234720659918, 0.022122234720659918, 0.021747281589801274, 0.02249718785151856]\n"
     ]
    }
   ],
   "source": [
    "OS1=[]\n",
    "param_grid = {'max_depth':range(1,11)}\n",
    "X_train, X_test, y_train, y_test = train_test_split(X, y, test_size = 0.3, random_state = 999)    \n",
    "\n",
    "for i in range(1,11):\n",
    "    dt=DecisionTreeClassifier()\n",
    "    rs = dt.fit(X_train,y_train)\n",
    "    OS1.append(rs.score(X_test,y_test)) # or equivalently: OS.append(lm.score(X_test,y_test))\n",
    "print (np.mean(OS1))\n",
    "print (OS1)"
   ]
  },
  {
   "cell_type": "markdown",
   "metadata": {
    "ExecuteTime": {
     "end_time": "2019-05-08T00:11:50.446197Z",
     "start_time": "2019-05-08T00:11:50.443877Z"
    }
   },
   "source": [
    "# Decision Tree Classifier"
   ]
  },
  {
   "cell_type": "code",
   "execution_count": 62,
   "metadata": {
    "ExecuteTime": {
     "end_time": "2019-05-08T01:09:47.763688Z",
     "start_time": "2019-05-08T01:09:43.842746Z"
    }
   },
   "outputs": [
    {
     "name": "stdout",
     "output_type": "stream",
     "text": [
      "In sample accuracy: 0.4235899084043066\n",
      "Out of sample accuracy: 0.021747281589801274\n"
     ]
    }
   ],
   "source": [
    "from sklearn.tree import DecisionTreeClassifier\n",
    "\n",
    "# learn model\n",
    "dt=DecisionTreeClassifier()\n",
    "dt.fit(X_train,y_train)\n",
    "\n",
    "# in sample accuracy\n",
    "print ('In sample accuracy:',dt.score(X_train,y_train))\n",
    "\n",
    "# out of sample accuracy\n",
    "print ('Out of sample accuracy:',dt.score(X_test,y_test))"
   ]
  },
  {
   "cell_type": "markdown",
   "metadata": {},
   "source": [
    "# average OS Accuracy over 10 times"
   ]
  },
  {
   "cell_type": "code",
   "execution_count": 34,
   "metadata": {
    "ExecuteTime": {
     "end_time": "2019-05-08T00:39:06.261923Z",
     "start_time": "2019-05-08T00:38:28.155451Z"
    }
   },
   "outputs": [
    {
     "name": "stdout",
     "output_type": "stream",
     "text": [
      "0.02230971128608924\n",
      "[0.021747281589801274, 0.022122234720659918, 0.022122234720659918, 0.022122234720659918, 0.022872140982377203, 0.022872140982377203, 0.02249718785151856, 0.022122234720659918, 0.02249718785151856, 0.022122234720659918]\n"
     ]
    }
   ],
   "source": [
    "OS1=[]\n",
    "param_grid = {'max_depth':range(1,11)}\n",
    "X_train, X_test, y_train, y_test = train_test_split(X, y, test_size = 0.3, random_state = 999)    \n",
    "\n",
    "for i in range(1,11):\n",
    "    dt=DecisionTreeClassifier()\n",
    "    rs = dt.fit(X_train,y_train)\n",
    "    OS1.append(rs.score(X_test,y_test)) # or equivalently: OS.append(lm.score(X_test,y_test))\n",
    "print (np.mean(OS1))\n",
    "print (OS1)"
   ]
  },
  {
   "cell_type": "code",
   "execution_count": 35,
   "metadata": {
    "ExecuteTime": {
     "end_time": "2019-05-08T00:40:26.692185Z",
     "start_time": "2019-05-08T00:40:23.353124Z"
    },
    "scrolled": false
   },
   "outputs": [
    {
     "name": "stdout",
     "output_type": "stream",
     "text": [
      "Populating the interactive namespace from numpy and matplotlib\n"
     ]
    },
    {
     "name": "stderr",
     "output_type": "stream",
     "text": [
      "/Users/zhengwenjie/anaconda3/lib/python3.6/site-packages/IPython/core/magics/pylab.py:160: UserWarning: pylab import has clobbered these variables: ['plt']\n",
      "`%matplotlib` prevents importing * from pylab and numpy\n",
      "  \"\\n`%matplotlib` prevents importing * from pylab and numpy\"\n"
     ]
    },
    {
     "name": "stdout",
     "output_type": "stream",
     "text": [
      "0.019272590926134238\n",
      "[0.01687289088863892, 0.019122609673790775, 0.014248218972628422, 0.016122984626921636, 0.018747656542932135, 0.01949756280464942, 0.01987251593550806, 0.021372328458942633, 0.023247094113235847, 0.023622047244094488]\n"
     ]
    },
    {
     "data": {
      "image/png": "[encoded data removed]",
      "text/plain": [
       "<Figure size 504x360 with 1 Axes>"
      ]
     },
     "metadata": {},
     "output_type": "display_data"
    }
   ],
   "source": [
    "import matplotlib.pylab as plt\n",
    "% pylab inline\n",
    "OS1 = []\n",
    "\n",
    "for i in range(1, 11):\n",
    "    dt = DecisionTreeClassifier(max_leaf_nodes=i + 1)\n",
    "    rs = dt.fit(X_train, y_train)\n",
    "    # or equivalently: OS.append(lm.score(X_test,y_test))\n",
    "    OS1.append(rs.score(X_test, y_test))\n",
    "print(np.mean(OS1))\n",
    "print(OS1)\n",
    "\n",
    "plt.figure(figsize=(7, 5))\n",
    "plt.plot(OS1)\n",
    "plt.xlabel(\"Nodes (Hyper Parameter Value)\")\n",
    "plt.ylabel(\"OS (Accuracy)\")\n",
    "plt.title(\"OS vs Simplicity (max leaf nodes)\")\n",
    "plt.xlim(0, 10)\n",
    "plt.ylim(0, 1)\n",
    "plt.show()"
   ]
  },
  {
   "cell_type": "markdown",
   "metadata": {},
   "source": [
    "# Param Search and OS "
   ]
  },
  {
   "cell_type": "code",
   "execution_count": 63,
   "metadata": {
    "ExecuteTime": {
     "end_time": "2019-05-08T01:10:57.505159Z",
     "start_time": "2019-05-08T01:10:48.153088Z"
    }
   },
   "outputs": [
    {
     "name": "stderr",
     "output_type": "stream",
     "text": [
      "/Users/zhengwenjie/anaconda3/lib/python3.6/site-packages/sklearn/model_selection/_split.py:605: Warning: The least populated class in y has only 1 members, which is too few. The minimum number of members in any class cannot be less than n_splits=3.\n",
      "  % (min_groups, self.n_splits)), Warning)\n"
     ]
    },
    {
     "name": "stdout",
     "output_type": "stream",
     "text": [
      "0.01949756280464942\n"
     ]
    }
   ],
   "source": [
    "param_grid = {'max_depth': range(1, 11)}\n",
    "X_train, X_test, y_train, y_test = train_test_split(\n",
    "    X, y, test_size=0.3, random_state=999)\n",
    "dt = DecisionTreeClassifier()\n",
    "gs = GridSearchCV(dt, param_grid=param_grid)\n",
    "rs = gs.fit(X_train, y_train)\n",
    "# pred=rs.predict_proba(X_test)[:,1]\n",
    "# print (rs.best_params_)\n",
    "print(rs.score(X_test, y_test))"
   ]
  },
  {
   "cell_type": "code",
   "execution_count": 68,
   "metadata": {
    "ExecuteTime": {
     "end_time": "2019-05-08T01:12:10.748733Z",
     "start_time": "2019-05-08T01:12:10.517906Z"
    },
    "code_folding": [],
    "scrolled": true
   },
   "outputs": [
    {
     "name": "stdout",
     "output_type": "stream",
     "text": [
      "digraph Tree {\n",
      "node [shape=box, style=\"filled, rounded\", color=\"black\", fontname=helvetica] ;\n",
      "edge [fontname=helvetica] ;\n",
      "0 [label=\"numbldgs <= 16.0, samples = 6223, value = [13, 2, 1 ... 1, 2, 1]\", fillcolor=\"#39aee500\"] ;\n",
      "1 [label=\"numbldgs <= 12.0, samples = 6130, value = [13, 2, 1 ... 1, 2, 1]\", fillcolor=\"#39aee501\"] ;\n",
      "0 -> 1 [labeldistance=2.5, labelangle=45, headlabel=\"True\"] ;\n",
      "2 [label=\"numbldgs <= 9.0, samples = 6026, value = [13, 2, 1 ... 1, 2, 1]\", fillcolor=\"#39aee501\"] ;\n",
      "1 -> 2 ;\n",
      "3 [label=\"samples = 5590, value = [13, 2, 1 ... 1, 2, 1]\", fillcolor=\"#39e58100\"] ;\n",
      "2 -> 3 ;\n",
      "4 [label=\"samples = 436, value = [0, 0, 0 ... 0, 0, 0]\", fillcolor=\"#39aee508\"] ;\n",
      "2 -> 4 ;\n",
      "5 [label=\"distance_bus <= 0.002, samples = 104, value = [0, 0, 0 ... 0, 0, 0]\", fillcolor=\"#39e5c81c\"] ;\n",
      "1 -> 5 ;\n",
      "6 [label=\"samples = 100, value = [0, 0, 0 ... 0, 0, 0]\", fillcolor=\"#39e5c81a\"] ;\n",
      "5 -> 6 ;\n",
      "7 [label=\"samples = 4, value = [0, 0, 0 ... 0, 0, 0]\", fillcolor=\"#39e5c855\"] ;\n",
      "5 -> 7 ;\n",
      "8 [label=\"distance_subway <= 0.005, samples = 93, value = [0, 0, 0 ... 0, 0, 0]\", fillcolor=\"#39c3e524\"] ;\n",
      "0 -> 8 [labeldistance=2.5, labelangle=-45, headlabel=\"False\"] ;\n",
      "9 [label=\"FELONY <= 160.0, samples = 27, value = [0, 0, 0 ... 0, 0, 0]\", fillcolor=\"#39c3e543\"] ;\n",
      "8 -> 9 ;\n",
      "10 [label=\"samples = 21, value = [0, 0, 0 ... 0, 0, 0]\", fillcolor=\"#39c3e53c\"] ;\n",
      "9 -> 10 ;\n",
      "11 [label=\"samples = 6, value = [0, 0, 0 ... 0, 0, 0]\", fillcolor=\"#39c3e533\"] ;\n",
      "9 -> 11 ;\n",
      "12 [label=\"MISDEMEANOR <= 127.5, samples = 66, value = [0, 0, 0 ... 0, 0, 0]\", fillcolor=\"#39c3e518\"] ;\n",
      "8 -> 12 ;\n",
      "13 [label=\"samples = 23, value = [0, 0, 0 ... 0, 0, 0]\", fillcolor=\"#39c3e536\"] ;\n",
      "12 -> 13 ;\n",
      "14 [label=\"samples = 43, value = [0, 0, 0 ... 0, 0, 0]\", fillcolor=\"#39c3e507\"] ;\n",
      "12 -> 14 ;\n",
      "}\n"
     ]
    }
   ],
   "source": [
    "from sklearn import tree\n",
    "\n",
    "# just to keep it simple for visualization\n",
    "dt = DecisionTreeClassifier(max_depth=3)\n",
    "dt.fit(X_train, y_train)\n",
    "\n",
    "# your code here\n",
    "\n",
    "thestring = tree.export_graphviz(dt, out_file=None,\n",
    "                                 feature_names=X_train.columns.values,\n",
    "                                 filled=True, rounded=True,\n",
    "                                 special_characters=True, impurity=False).replace(\"<br/>\", \", \").replace(\"&le;\", \"<=\").replace(\"=<\", \"=\\\"\").replace(\">,\", \"\\\",\")\n",
    "print(thestring)"
   ]
  },
  {
   "cell_type": "code",
   "execution_count": 69,
   "metadata": {
    "ExecuteTime": {
     "end_time": "2019-05-08T01:12:38.247762Z",
     "start_time": "2019-05-08T01:12:37.638686Z"
    }
   },
   "outputs": [
    {
     "data": {
      "image/png": "[encoded data removed]",
      "text/plain": [
       "<IPython.core.display.Image object>"
      ]
     },
     "execution_count": 69,
     "metadata": {},
     "output_type": "execute_result"
    }
   ],
   "source": [
    "from sklearn import tree\n",
    "from IPython.display import Image\n",
    "import pydotplus\n",
    "thestring = tree.export_graphviz(dt, out_file=None,\n",
    "                                 feature_names=X_train.columns.values,\n",
    "                                 filled=True, rounded=True,\n",
    "                                 special_characters=True, impurity=False)\n",
    "graph = pydotplus.graph_from_dot_data(thestring)\n",
    "Image(graph.create_png())"
   ]
  },
  {
   "cell_type": "code",
   "execution_count": 70,
   "metadata": {
    "ExecuteTime": {
     "end_time": "2019-05-08T01:12:54.163660Z",
     "start_time": "2019-05-08T01:12:54.160185Z"
    }
   },
   "outputs": [],
   "source": [
    "# class_names=['awful', 'low', 'medium', 'high'],"
   ]
  },
  {
   "cell_type": "markdown",
   "metadata": {},
   "source": [
    "# Random Forest "
   ]
  },
  {
   "cell_type": "code",
   "execution_count": 78,
   "metadata": {
    "ExecuteTime": {
     "end_time": "2019-05-08T01:25:31.140005Z",
     "start_time": "2019-05-08T01:25:27.429501Z"
    }
   },
   "outputs": [
    {
     "name": "stdout",
     "output_type": "stream",
     "text": [
      "[0.00515281 0.00960113 0.00352542 0.0015351  0.00233796 0.00081856\n",
      " 0.0016498  0.00036533 0.03162716 0.03238254 0.01655751 0.0262077\n",
      " 0.00178286 0.01561728 0.01328182 0.00099415 0.         0.00138254\n",
      " 0.1227638  0.00520324 0.03426975 0.02477223 0.0374817  0.01234727\n",
      " 0.02062012 0.02013489 0.01917339 0.01684933 0.03255858 0.03898671\n",
      " 0.01489483 0.00182411 0.0055036  0.00424137 0.01416564 0.01191871\n",
      " 0.01198324 0.02143111 0.0173335  0.03853157 0.00796775 0.01546002\n",
      " 0.00870132 0.01137209 0.04353895 0.05220895 0.01274302 0.01485665\n",
      " 0.00033137 0.03244755 0.03490424 0.03571994 0.02873525 0.00392543\n",
      " 0.00276129 0.0014182  0.00109957]\n"
     ]
    }
   ],
   "source": [
    "from sklearn.ensemble import RandomForestClassifier\n",
    "from sklearn.model_selection import GridSearchCV\n",
    "\n",
    "clf = RandomForestClassifier(n_estimators=100, max_depth=5,\n",
    "                             random_state=999)\n",
    "clf.fit(X_train, y_train)\n",
    "\n",
    "\n",
    "print(clf.feature_importances_)\n",
    "\n",
    "# print(clf.predict([[0, 0, 0, 0]]))"
   ]
  },
  {
   "cell_type": "code",
   "execution_count": 79,
   "metadata": {
    "ExecuteTime": {
     "end_time": "2019-05-08T01:26:05.638077Z",
     "start_time": "2019-05-08T01:26:03.324110Z"
    }
   },
   "outputs": [
    {
     "data": {
      "text/plain": [
       "0.02699662542182227"
      ]
     },
     "execution_count": 79,
     "metadata": {},
     "output_type": "execute_result"
    }
   ],
   "source": [
    "clf.score(X_test, y_test)"
   ]
  },
  {
   "cell_type": "code",
   "execution_count": null,
   "metadata": {},
   "outputs": [],
   "source": []
  }
 ],
 "metadata": {
  "kernelspec": {
   "display_name": "Python 3",
   "language": "python",
   "name": "python3"
  },
  "language_info": {
   "codemirror_mode": {
    "name": "ipython",
    "version": 3
   },
   "file_extension": ".py",
   "mimetype": "text/x-python",
   "name": "python",
   "nbconvert_exporter": "python",
   "pygments_lexer": "ipython3",
   "version": "3.6.5"
  },
  "toc": {
   "base_numbering": 1,
   "nav_menu": {},
   "number_sections": true,
   "sideBar": true,
   "skip_h1_title": false,
   "title_cell": "Table of Contents",
   "title_sidebar": "Contents",
   "toc_cell": false,
   "toc_position": {
    "height": "calc(100% - 180px)",
    "left": "10px",
    "top": "150px",
    "width": "230px"
   },
   "toc_section_display": true,
   "toc_window_display": true
  }
 },
 "nbformat": 4,
 "nbformat_minor": 2
}
