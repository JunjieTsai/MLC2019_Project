{
 "cells": [
  {
   "cell_type": "code",
   "execution_count": 77,
   "metadata": {
    "ExecuteTime": {
     "end_time": "2019-05-08T00:00:02.846821Z",
     "start_time": "2019-05-08T00:00:02.838439Z"
    }
   },
   "outputs": [],
   "source": [
    "import pandas as pd\n",
    "from matplotlib import pyplot as plt\n",
    "import numpy as np\n",
    "import math\n",
    "%matplotlib inline"
   ]
  },
  {
   "cell_type": "code",
   "execution_count": 79,
   "metadata": {
    "ExecuteTime": {
     "end_time": "2019-05-08T00:04:55.656643Z",
     "start_time": "2019-05-08T00:04:55.322341Z"
    }
   },
   "outputs": [
    {
     "name": "stdout",
     "output_type": "stream",
     "text": [
      "(8885, 61)\n"
     ]
    },
    {
     "data": {
      "text/html": [
       "<div>\n",
       "<style scoped>\n",
       "    .dataframe tbody tr th:only-of-type {\n",
       "        vertical-align: middle;\n",
       "    }\n",
       "\n",
       "    .dataframe tbody tr th {\n",
       "        vertical-align: top;\n",
       "    }\n",
       "\n",
       "    .dataframe thead th {\n",
       "        text-align: right;\n",
       "    }\n",
       "</style>\n",
       "<table border=\"1\" class=\"dataframe\">\n",
       "  <thead>\n",
       "    <tr style=\"text-align: right;\">\n",
       "      <th></th>\n",
       "      <th>SALE PRICE</th>\n",
       "      <th>SALE DATE</th>\n",
       "      <th>YEAR BUILT</th>\n",
       "      <th>RESIDENTIAL UNITS</th>\n",
       "      <th>COMMERCIAL UNITS</th>\n",
       "      <th>TOTAL UNITS</th>\n",
       "      <th>LAND SQUARE FEET</th>\n",
       "      <th>GROSS SQUARE FEET</th>\n",
       "      <th>easements</th>\n",
       "      <th>lotarea</th>\n",
       "      <th>...</th>\n",
       "      <th>FELONY</th>\n",
       "      <th>VIOLATION</th>\n",
       "      <th>MISDEMEANOR</th>\n",
       "      <th>Num of SAT Test Takers</th>\n",
       "      <th>satReadingSum</th>\n",
       "      <th>satMathSum</th>\n",
       "      <th>satWritingSum</th>\n",
       "      <th>histdist</th>\n",
       "      <th>landmark</th>\n",
       "      <th>landuse</th>\n",
       "    </tr>\n",
       "  </thead>\n",
       "  <tbody>\n",
       "    <tr>\n",
       "      <th>0</th>\n",
       "      <td>3750000</td>\n",
       "      <td>2018-08-01 00:00:00</td>\n",
       "      <td>110</td>\n",
       "      <td>3</td>\n",
       "      <td>0</td>\n",
       "      <td>3</td>\n",
       "      <td>2018</td>\n",
       "      <td>3354</td>\n",
       "      <td>0.0</td>\n",
       "      <td>2018.0</td>\n",
       "      <td>...</td>\n",
       "      <td>462.0</td>\n",
       "      <td>195.0</td>\n",
       "      <td>869.0</td>\n",
       "      <td>3825</td>\n",
       "      <td>498.0</td>\n",
       "      <td>525.0</td>\n",
       "      <td>496.0</td>\n",
       "      <td>Mount Morris Park Historic District</td>\n",
       "      <td>NaN</td>\n",
       "      <td>2.0</td>\n",
       "    </tr>\n",
       "    <tr>\n",
       "      <th>1</th>\n",
       "      <td>5000000</td>\n",
       "      <td>2018-10-25 00:00:00</td>\n",
       "      <td>119</td>\n",
       "      <td>26</td>\n",
       "      <td>4</td>\n",
       "      <td>30</td>\n",
       "      <td>5060</td>\n",
       "      <td>20310</td>\n",
       "      <td>0.0</td>\n",
       "      <td>5060.0</td>\n",
       "      <td>...</td>\n",
       "      <td>306.0</td>\n",
       "      <td>156.0</td>\n",
       "      <td>677.0</td>\n",
       "      <td>4005</td>\n",
       "      <td>441.0</td>\n",
       "      <td>487.0</td>\n",
       "      <td>442.0</td>\n",
       "      <td>NaN</td>\n",
       "      <td>NaN</td>\n",
       "      <td>4.0</td>\n",
       "    </tr>\n",
       "    <tr>\n",
       "      <th>2</th>\n",
       "      <td>5000000</td>\n",
       "      <td>2018-10-25 00:00:00</td>\n",
       "      <td>119</td>\n",
       "      <td>26</td>\n",
       "      <td>4</td>\n",
       "      <td>30</td>\n",
       "      <td>5060</td>\n",
       "      <td>20310</td>\n",
       "      <td>0.0</td>\n",
       "      <td>5060.0</td>\n",
       "      <td>...</td>\n",
       "      <td>303.0</td>\n",
       "      <td>156.0</td>\n",
       "      <td>672.0</td>\n",
       "      <td>4005</td>\n",
       "      <td>441.0</td>\n",
       "      <td>487.0</td>\n",
       "      <td>442.0</td>\n",
       "      <td>NaN</td>\n",
       "      <td>NaN</td>\n",
       "      <td>4.0</td>\n",
       "    </tr>\n",
       "    <tr>\n",
       "      <th>3</th>\n",
       "      <td>29100000</td>\n",
       "      <td>2018-10-22 00:00:00</td>\n",
       "      <td>99</td>\n",
       "      <td>26</td>\n",
       "      <td>1</td>\n",
       "      <td>27</td>\n",
       "      <td>4642</td>\n",
       "      <td>27141</td>\n",
       "      <td>0.0</td>\n",
       "      <td>4642.0</td>\n",
       "      <td>...</td>\n",
       "      <td>509.0</td>\n",
       "      <td>266.0</td>\n",
       "      <td>897.0</td>\n",
       "      <td>3825</td>\n",
       "      <td>498.0</td>\n",
       "      <td>525.0</td>\n",
       "      <td>496.0</td>\n",
       "      <td>NaN</td>\n",
       "      <td>NaN</td>\n",
       "      <td>4.0</td>\n",
       "    </tr>\n",
       "    <tr>\n",
       "      <th>4</th>\n",
       "      <td>2350000</td>\n",
       "      <td>2019-02-11 00:00:00</td>\n",
       "      <td>116</td>\n",
       "      <td>0</td>\n",
       "      <td>0</td>\n",
       "      <td>0</td>\n",
       "      <td>0</td>\n",
       "      <td>0</td>\n",
       "      <td>0.0</td>\n",
       "      <td>10013.0</td>\n",
       "      <td>...</td>\n",
       "      <td>102.0</td>\n",
       "      <td>21.0</td>\n",
       "      <td>83.0</td>\n",
       "      <td>9100</td>\n",
       "      <td>451.0</td>\n",
       "      <td>476.0</td>\n",
       "      <td>447.0</td>\n",
       "      <td>Upper East Side Historic District</td>\n",
       "      <td>NaN</td>\n",
       "      <td>3.0</td>\n",
       "    </tr>\n",
       "  </tbody>\n",
       "</table>\n",
       "<p>5 rows × 61 columns</p>\n",
       "</div>"
      ],
      "text/plain": [
       "   SALE PRICE            SALE DATE  YEAR BUILT  RESIDENTIAL UNITS  \\\n",
       "0     3750000  2018-08-01 00:00:00         110                  3   \n",
       "1     5000000  2018-10-25 00:00:00         119                 26   \n",
       "2     5000000  2018-10-25 00:00:00         119                 26   \n",
       "3    29100000  2018-10-22 00:00:00          99                 26   \n",
       "4     2350000  2019-02-11 00:00:00         116                  0   \n",
       "\n",
       "   COMMERCIAL UNITS  TOTAL UNITS  LAND SQUARE FEET  GROSS SQUARE FEET  \\\n",
       "0                 0            3              2018               3354   \n",
       "1                 4           30              5060              20310   \n",
       "2                 4           30              5060              20310   \n",
       "3                 1           27              4642              27141   \n",
       "4                 0            0                 0                  0   \n",
       "\n",
       "   easements  lotarea   ...     FELONY  VIOLATION  MISDEMEANOR  \\\n",
       "0        0.0   2018.0   ...      462.0      195.0        869.0   \n",
       "1        0.0   5060.0   ...      306.0      156.0        677.0   \n",
       "2        0.0   5060.0   ...      303.0      156.0        672.0   \n",
       "3        0.0   4642.0   ...      509.0      266.0        897.0   \n",
       "4        0.0  10013.0   ...      102.0       21.0         83.0   \n",
       "\n",
       "   Num of SAT Test Takers  satReadingSum  satMathSum  satWritingSum  \\\n",
       "0                    3825          498.0       525.0          496.0   \n",
       "1                    4005          441.0       487.0          442.0   \n",
       "2                    4005          441.0       487.0          442.0   \n",
       "3                    3825          498.0       525.0          496.0   \n",
       "4                    9100          451.0       476.0          447.0   \n",
       "\n",
       "                              histdist  landmark  landuse  \n",
       "0  Mount Morris Park Historic District       NaN      2.0  \n",
       "1                                  NaN       NaN      4.0  \n",
       "2                                  NaN       NaN      4.0  \n",
       "3                                  NaN       NaN      4.0  \n",
       "4    Upper East Side Historic District       NaN      3.0  \n",
       "\n",
       "[5 rows x 61 columns]"
      ]
     },
     "execution_count": 79,
     "metadata": {},
     "output_type": "execute_result"
    }
   ],
   "source": [
    "df = pd.read_csv('data/data_train.csv', usecols = [\n",
    "       'SALE PRICE','SALE DATE', 'histdist', 'landmark', 'landuse', 'YEAR BUILT',\n",
    "       'RESIDENTIAL UNITS', 'COMMERCIAL UNITS', 'TOTAL UNITS',\n",
    "       'LAND SQUARE FEET', 'GROSS SQUARE FEET', 'easements', 'lotarea',\n",
    "       'bldgarea', 'comarea', 'resarea', 'officearea', 'retailarea',\n",
    "       'garagearea', 'strgearea', 'factryarea', 'otherarea', 'numbldgs',\n",
    "       'numfloors', 'unitsres', 'unitstotal', 'lotfront', 'lotdepth',\n",
    "       'bldgfront', 'bldgdepth', 'assessland', 'assesstot', 'exemptland',\n",
    "       'exempttot', 'builtfar', 'residfar', 'commfar', 'facilfar',\n",
    "       'DensityPop', 'IncomePerCap', 'Poverty', 'Professional', 'Service',\n",
    "       'Office', 'Construction', 'Production', 'Employed', 'Unemployment',\n",
    "       'distance_subway', 'distance_bus', 'park_num', 'park_area',\n",
    "       'park_top_level', 'park_distance', 'FELONY', 'VIOLATION', 'MISDEMEANOR',\n",
    "       'Num of SAT Test Takers', 'satReadingSum', 'satMathSum',\n",
    "       'satWritingSum'])\n",
    "print(df.shape)\n",
    "df.head()"
   ]
  },
  {
   "cell_type": "code",
   "execution_count": null,
   "metadata": {},
   "outputs": [],
   "source": []
  },
  {
   "cell_type": "markdown",
   "metadata": {},
   "source": [
    "# Preprocessing"
   ]
  },
  {
   "cell_type": "markdown",
   "metadata": {},
   "source": [
    "## Inspection"
   ]
  },
  {
   "cell_type": "code",
   "execution_count": 4,
   "metadata": {
    "ExecuteTime": {
     "end_time": "2019-05-07T22:14:54.268048Z",
     "start_time": "2019-05-07T22:14:54.253157Z"
    }
   },
   "outputs": [],
   "source": [
    "sale_price = sorted(df['SALE PRICE'])"
   ]
  },
  {
   "cell_type": "code",
   "execution_count": 5,
   "metadata": {
    "ExecuteTime": {
     "end_time": "2019-05-07T22:14:54.620170Z",
     "start_time": "2019-05-07T22:14:54.273036Z"
    },
    "scrolled": true
   },
   "outputs": [
    {
     "data": {
      "text/plain": [
       "(array([8.687e+03, 9.000e+01, 2.100e+01, 1.200e+01, 2.000e+01, 2.000e+00,\n",
       "        3.000e+00, 7.000e+00, 1.400e+01, 5.000e+00, 2.000e+00, 3.000e+00,\n",
       "        0.000e+00, 4.000e+00, 3.000e+00, 0.000e+00, 0.000e+00, 1.000e+00,\n",
       "        0.000e+00, 1.000e+00, 0.000e+00, 2.000e+00, 0.000e+00, 0.000e+00,\n",
       "        0.000e+00, 0.000e+00, 0.000e+00, 0.000e+00, 1.000e+00, 0.000e+00,\n",
       "        0.000e+00, 0.000e+00, 1.000e+00, 0.000e+00, 0.000e+00, 1.000e+00,\n",
       "        1.000e+00, 0.000e+00, 0.000e+00, 0.000e+00, 0.000e+00, 0.000e+00,\n",
       "        0.000e+00, 2.000e+00, 1.000e+00, 0.000e+00, 0.000e+00, 0.000e+00,\n",
       "        0.000e+00, 1.000e+00]),\n",
       " array([1.00000000e+00, 1.96000010e+07, 3.92000010e+07, 5.88000009e+07,\n",
       "        7.84000009e+07, 9.80000009e+07, 1.17600001e+08, 1.37200001e+08,\n",
       "        1.56800001e+08, 1.76400001e+08, 1.96000001e+08, 2.15600001e+08,\n",
       "        2.35200001e+08, 2.54800001e+08, 2.74400001e+08, 2.94000001e+08,\n",
       "        3.13600001e+08, 3.33200001e+08, 3.52800001e+08, 3.72400001e+08,\n",
       "        3.92000001e+08, 4.11600001e+08, 4.31200001e+08, 4.50800001e+08,\n",
       "        4.70400001e+08, 4.90000000e+08, 5.09600000e+08, 5.29200000e+08,\n",
       "        5.48800000e+08, 5.68400000e+08, 5.88000000e+08, 6.07600000e+08,\n",
       "        6.27200000e+08, 6.46800000e+08, 6.66400000e+08, 6.86000000e+08,\n",
       "        7.05600000e+08, 7.25200000e+08, 7.44800000e+08, 7.64400000e+08,\n",
       "        7.84000000e+08, 8.03600000e+08, 8.23200000e+08, 8.42800000e+08,\n",
       "        8.62400000e+08, 8.82000000e+08, 9.01600000e+08, 9.21200000e+08,\n",
       "        9.40800000e+08, 9.60400000e+08, 9.80000000e+08]),\n",
       " <a list of 50 Patch objects>)"
      ]
     },
     "execution_count": 5,
     "metadata": {},
     "output_type": "execute_result"
    },
    {
     "data": {
      "image/png": "[encoded data removed]",
      "text/plain": [
       "<Figure size 432x288 with 1 Axes>"
      ]
     },
     "metadata": {
      "needs_background": "light"
     },
     "output_type": "display_data"
    }
   ],
   "source": [
    "plt.hist(sale_price, bins=50)"
   ]
  },
  {
   "cell_type": "markdown",
   "metadata": {},
   "source": [
    "### Extremum filter"
   ]
  },
  {
   "cell_type": "markdown",
   "metadata": {},
   "source": [
    "https://en.wikipedia.org/wiki/List_of_probability_distributions  \n",
    "out of 2 std: 95.45%  \n",
    "out of 3 std: 99.73%  \n"
   ]
  },
  {
   "cell_type": "code",
   "execution_count": 6,
   "metadata": {
    "ExecuteTime": {
     "end_time": "2019-05-07T22:14:54.632157Z",
     "start_time": "2019-05-07T22:14:54.622091Z"
    }
   },
   "outputs": [],
   "source": [
    "import statistics"
   ]
  },
  {
   "cell_type": "code",
   "execution_count": 7,
   "metadata": {
    "ExecuteTime": {
     "end_time": "2019-05-07T22:14:54.651227Z",
     "start_time": "2019-05-07T22:14:54.634166Z"
    }
   },
   "outputs": [
    {
     "data": {
      "text/plain": [
       "825000"
      ]
     },
     "execution_count": 7,
     "metadata": {},
     "output_type": "execute_result"
    }
   ],
   "source": [
    "# https://stackoverflow.com/questions/24101524/finding-median-of-list-in-python\n",
    "median = statistics.median(sale_price)\n",
    "median"
   ]
  },
  {
   "cell_type": "code",
   "execution_count": 8,
   "metadata": {
    "ExecuteTime": {
     "end_time": "2019-05-07T22:14:55.317043Z",
     "start_time": "2019-05-07T22:14:54.653195Z"
    },
    "scrolled": true
   },
   "outputs": [
    {
     "data": {
      "text/plain": [
       "(array([ 62.,  20.,  14.,  10.,  19.,  25.,  15.,  19.,  22.,  40.,  13.,\n",
       "         30.,   4.,  10.,   5.,   7.,  10.,   2.,  21.,  28.,  38.,  30.,\n",
       "         70.,  53.,  77.,  84.,  88.,  73.,  96., 121.,  99., 102.,  59.,\n",
       "         91.,  94.,  69., 105., 133., 134.,  93.,  92., 123., 107., 134.,\n",
       "        143.,  96.,  86., 155.,  86., 148.,  77., 112., 138., 143.,  96.,\n",
       "        190.,  92.,  63., 149.,  69.,  67.,  75., 100.,  60.,  52.,  68.,\n",
       "         67.,  41.,  47.,  61.,  66.,  68.,  71., 131.,  20.,  62.,  22.,\n",
       "         38.,  16.,  37., 114.,  11.,  16.,  16.,  47.,  14.,  52.,  29.,\n",
       "         70.,  17.,  29.,  38.,  17.,  24.,  20.,  41.,  11.,  26.,  23.,\n",
       "         51.]),\n",
       " array([1.00000000e+00, 1.36009900e+04, 2.72009800e+04, 4.08009700e+04,\n",
       "        5.44009600e+04, 6.80009500e+04, 8.16009400e+04, 9.52009300e+04,\n",
       "        1.08800920e+05, 1.22400910e+05, 1.36000900e+05, 1.49600890e+05,\n",
       "        1.63200880e+05, 1.76800870e+05, 1.90400860e+05, 2.04000850e+05,\n",
       "        2.17600840e+05, 2.31200830e+05, 2.44800820e+05, 2.58400810e+05,\n",
       "        2.72000800e+05, 2.85600790e+05, 2.99200780e+05, 3.12800770e+05,\n",
       "        3.26400760e+05, 3.40000750e+05, 3.53600740e+05, 3.67200730e+05,\n",
       "        3.80800720e+05, 3.94400710e+05, 4.08000700e+05, 4.21600690e+05,\n",
       "        4.35200680e+05, 4.48800670e+05, 4.62400660e+05, 4.76000650e+05,\n",
       "        4.89600640e+05, 5.03200630e+05, 5.16800620e+05, 5.30400610e+05,\n",
       "        5.44000600e+05, 5.57600590e+05, 5.71200580e+05, 5.84800570e+05,\n",
       "        5.98400560e+05, 6.12000550e+05, 6.25600540e+05, 6.39200530e+05,\n",
       "        6.52800520e+05, 6.66400510e+05, 6.80000500e+05, 6.93600490e+05,\n",
       "        7.07200480e+05, 7.20800470e+05, 7.34400460e+05, 7.48000450e+05,\n",
       "        7.61600440e+05, 7.75200430e+05, 7.88800420e+05, 8.02400410e+05,\n",
       "        8.16000400e+05, 8.29600390e+05, 8.43200380e+05, 8.56800370e+05,\n",
       "        8.70400360e+05, 8.84000350e+05, 8.97600340e+05, 9.11200330e+05,\n",
       "        9.24800320e+05, 9.38400310e+05, 9.52000300e+05, 9.65600290e+05,\n",
       "        9.79200280e+05, 9.92800270e+05, 1.00640026e+06, 1.02000025e+06,\n",
       "        1.03360024e+06, 1.04720023e+06, 1.06080022e+06, 1.07440021e+06,\n",
       "        1.08800020e+06, 1.10160019e+06, 1.11520018e+06, 1.12880017e+06,\n",
       "        1.14240016e+06, 1.15600015e+06, 1.16960014e+06, 1.18320013e+06,\n",
       "        1.19680012e+06, 1.21040011e+06, 1.22400010e+06, 1.23760009e+06,\n",
       "        1.25120008e+06, 1.26480007e+06, 1.27840006e+06, 1.29200005e+06,\n",
       "        1.30560004e+06, 1.31920003e+06, 1.33280002e+06, 1.34640001e+06,\n",
       "        1.36000000e+06]),\n",
       " <a list of 100 Patch objects>)"
      ]
     },
     "execution_count": 8,
     "metadata": {},
     "output_type": "execute_result"
    },
    {
     "data": {
      "image/png": "[encoded data removed]",
      "text/plain": [
       "<Figure size 432x288 with 1 Axes>"
      ]
     },
     "metadata": {
      "needs_background": "light"
     },
     "output_type": "display_data"
    }
   ],
   "source": [
    "# filter 30% of the right side\n",
    "percent = 0.3\n",
    "sale_price_percent = sale_price[0:int(len(sale_price)*(1-percent))]\n",
    "plt.hist(sale_price_percent, bins=100)\n"
   ]
  },
  {
   "cell_type": "code",
   "execution_count": 9,
   "metadata": {
    "ExecuteTime": {
     "end_time": "2019-05-07T22:14:55.327459Z",
     "start_time": "2019-05-07T22:14:55.319477Z"
    },
    "scrolled": true
   },
   "outputs": [
    {
     "data": {
      "text/plain": [
       "0.03421496904895892"
      ]
     },
     "execution_count": 9,
     "metadata": {},
     "output_type": "execute_result"
    }
   ],
   "source": [
    "percent_right = 0.9973\n",
    "percent_right = 0.9545\n",
    "percent_left = len(list(filter(lambda x: x<200000, sale_price)))/len(sale_price)\n",
    "percent_left"
   ]
  },
  {
   "cell_type": "code",
   "execution_count": null,
   "metadata": {},
   "outputs": [],
   "source": []
  },
  {
   "cell_type": "code",
   "execution_count": 10,
   "metadata": {
    "ExecuteTime": {
     "end_time": "2019-05-07T22:14:55.906103Z",
     "start_time": "2019-05-07T22:14:55.329013Z"
    },
    "scrolled": true
   },
   "outputs": [
    {
     "data": {
      "text/plain": [
       "(array([132., 484., 660., 764., 772., 901., 612., 393., 440., 244., 250.,\n",
       "        187., 188., 159., 153., 145.,  94.,  98.,  77.,  90.,  63.,  70.,\n",
       "         52.,  81.,  59.,  35.,  47.,  35.,  52.,  39.,  34.,  22.,  35.,\n",
       "         19.,  24.,  24.,  20.,  19.,  24.,  23.,  24.,  17.,  19.,  27.,\n",
       "          9.,  12.,  12.,   9.,  13.,   4.,   6.,  20.,   9.,  14.,  15.,\n",
       "         10.,  14.,   7.,   5.,  10.,   4.,  10.,  15.,   7.,  16.,   7.,\n",
       "          1.,  11.,   9.,  10.,  13.,   5.,  21.,   5.,   9.,   3.,   9.,\n",
       "          9.,   5.,   2.,  10.,   4.,   8.,  10.,   4.,   4.,   7.,   5.,\n",
       "          8.,   5.,   7.,   4.,   6.,   9.,   3.,   4.,   8.,   4.,  13.,\n",
       "          6.]),\n",
       " array([ 200000.,  294000.,  388000.,  482000.,  576000.,  670000.,\n",
       "         764000.,  858000.,  952000., 1046000., 1140000., 1234000.,\n",
       "        1328000., 1422000., 1516000., 1610000., 1704000., 1798000.,\n",
       "        1892000., 1986000., 2080000., 2174000., 2268000., 2362000.,\n",
       "        2456000., 2550000., 2644000., 2738000., 2832000., 2926000.,\n",
       "        3020000., 3114000., 3208000., 3302000., 3396000., 3490000.,\n",
       "        3584000., 3678000., 3772000., 3866000., 3960000., 4054000.,\n",
       "        4148000., 4242000., 4336000., 4430000., 4524000., 4618000.,\n",
       "        4712000., 4806000., 4900000., 4994000., 5088000., 5182000.,\n",
       "        5276000., 5370000., 5464000., 5558000., 5652000., 5746000.,\n",
       "        5840000., 5934000., 6028000., 6122000., 6216000., 6310000.,\n",
       "        6404000., 6498000., 6592000., 6686000., 6780000., 6874000.,\n",
       "        6968000., 7062000., 7156000., 7250000., 7344000., 7438000.,\n",
       "        7532000., 7626000., 7720000., 7814000., 7908000., 8002000.,\n",
       "        8096000., 8190000., 8284000., 8378000., 8472000., 8566000.,\n",
       "        8660000., 8754000., 8848000., 8942000., 9036000., 9130000.,\n",
       "        9224000., 9318000., 9412000., 9506000., 9600000.]),\n",
       " <a list of 100 Patch objects>)"
      ]
     },
     "execution_count": 10,
     "metadata": {},
     "output_type": "execute_result"
    },
    {
     "data": {
      "image/png": "[encoded data removed]",
      "text/plain": [
       "<Figure size 432x288 with 1 Axes>"
      ]
     },
     "metadata": {
      "needs_background": "light"
     },
     "output_type": "display_data"
    }
   ],
   "source": [
    "sale_price_percent = sale_price[int(len(sale_price) * percent_left):int(len(sale_price) * percent_right)] \n",
    "plt.hist(sale_price_percent, bins=100)"
   ]
  },
  {
   "cell_type": "code",
   "execution_count": 11,
   "metadata": {
    "ExecuteTime": {
     "end_time": "2019-05-07T22:14:56.507635Z",
     "start_time": "2019-05-07T22:14:55.908031Z"
    },
    "scrolled": true
   },
   "outputs": [
    {
     "data": {
      "text/plain": [
       "(array([  4.,   6.,   4.,   8.,   1.,  12.,  11.,  26.,  32.,  29.,  52.,\n",
       "         37.,  67.,  56., 102.,  77.,  89., 155.,  95., 125., 106.,  96.,\n",
       "        116., 157., 191., 153., 135., 256., 186., 173., 216., 237., 242.,\n",
       "        264., 283., 222., 179., 182., 174., 109., 181., 215., 131.,  65.,\n",
       "        149., 128., 118., 106.,  83., 143.,  74.,  83., 101.,  98., 102.,\n",
       "         79.,  85.,  70.,  69.,  70.,  60.,  67.,  51.,  47.,  77.,  60.,\n",
       "         49.,  40.,  50.,  59.,  35.,  23.,  53.,  38.,  26.,  25.,  40.,\n",
       "         32.,  38.,  31.,  23.,  13.,  20.,  29.,  29.,  26.,  18.,  19.,\n",
       "         27.,  25.,  21.,  38.,  18.,  23.,  16.,  25.,  20.,  18.,  21.,\n",
       "         31.]),\n",
       " array([12.20607265, 12.24478466, 12.28349667, 12.32220868, 12.36092069,\n",
       "        12.3996327 , 12.43834471, 12.47705672, 12.51576873, 12.55448074,\n",
       "        12.59319275, 12.63190476, 12.67061677, 12.70932878, 12.74804079,\n",
       "        12.7867528 , 12.82546481, 12.86417682, 12.90288883, 12.94160084,\n",
       "        12.98031285, 13.01902486, 13.05773687, 13.09644888, 13.13516089,\n",
       "        13.1738729 , 13.21258491, 13.25129692, 13.29000893, 13.32872094,\n",
       "        13.36743295, 13.40614496, 13.44485697, 13.48356898, 13.52228099,\n",
       "        13.560993  , 13.59970501, 13.63841702, 13.67712903, 13.71584104,\n",
       "        13.75455305, 13.79326506, 13.83197707, 13.87068908, 13.90940109,\n",
       "        13.9481131 , 13.98682511, 14.02553712, 14.06424913, 14.10296114,\n",
       "        14.14167315, 14.18038516, 14.21909717, 14.25780918, 14.29652119,\n",
       "        14.3352332 , 14.37394521, 14.41265722, 14.45136923, 14.49008124,\n",
       "        14.52879325, 14.56750526, 14.60621727, 14.64492928, 14.68364129,\n",
       "        14.7223533 , 14.76106531, 14.79977732, 14.83848933, 14.87720134,\n",
       "        14.91591335, 14.95462536, 14.99333737, 15.03204938, 15.07076139,\n",
       "        15.1094734 , 15.14818541, 15.18689742, 15.22560943, 15.26432144,\n",
       "        15.30303345, 15.34174546, 15.38045747, 15.41916948, 15.45788149,\n",
       "        15.4965935 , 15.53530551, 15.57401753, 15.61272954, 15.65144155,\n",
       "        15.69015356, 15.72886557, 15.76757758, 15.80628959, 15.8450016 ,\n",
       "        15.88371361, 15.92242562, 15.96113763, 15.99984964, 16.03856165,\n",
       "        16.07727366]),\n",
       " <a list of 100 Patch objects>)"
      ]
     },
     "execution_count": 11,
     "metadata": {},
     "output_type": "execute_result"
    },
    {
     "data": {
      "image/png": "[encoded data removed]",
      "text/plain": [
       "<Figure size 432x288 with 1 Axes>"
      ]
     },
     "metadata": {
      "needs_background": "light"
     },
     "output_type": "display_data"
    }
   ],
   "source": [
    "sale_price_percent_log = np.log(sale_price_percent)\n",
    "plt.hist(sale_price_percent_log, bins=100)"
   ]
  },
  {
   "cell_type": "code",
   "execution_count": 12,
   "metadata": {
    "ExecuteTime": {
     "end_time": "2019-05-07T22:14:57.052905Z",
     "start_time": "2019-05-07T22:14:56.509588Z"
    },
    "scrolled": true
   },
   "outputs": [
    {
     "data": {
      "text/plain": [
       "(array([  4.,   6.,   4.,   8.,   1.,  12.,  11.,  26.,  32.,  29.,  52.,\n",
       "         37.,  67.,  56., 102.,  77.,  89., 155.,  95., 125., 106.,  96.,\n",
       "        116., 157., 191., 153., 135., 256., 186., 173., 216., 237., 242.,\n",
       "        264., 283., 222., 179., 182., 174., 109., 181., 215., 131.,  65.,\n",
       "        149., 128., 118., 106.,  83., 143.,  74.,  83., 101.,  98., 102.,\n",
       "         79.,  85.,  70.,  69.,  70.,  60.,  67.,  51.,  47.,  77.,  60.,\n",
       "         49.,  40.,  50.,  59.,  35.,  23.,  53.,  38.,  26.,  25.,  40.,\n",
       "         32.,  38.,  31.,  23.,  13.,  20.,  29.,  29.,  26.,  18.,  19.,\n",
       "         27.,  25.,  21.,  38.,  18.,  23.,  16.,  25.,  20.,  18.,  21.,\n",
       "         31.]),\n",
       " array([5.30103   , 5.31784241, 5.33465482, 5.35146723, 5.36827965,\n",
       "        5.38509206, 5.40190447, 5.41871688, 5.43552929, 5.45234171,\n",
       "        5.46915412, 5.48596653, 5.50277894, 5.51959136, 5.53640377,\n",
       "        5.55321618, 5.57002859, 5.58684101, 5.60365342, 5.62046583,\n",
       "        5.63727824, 5.65409066, 5.67090307, 5.68771548, 5.70452789,\n",
       "        5.72134031, 5.73815272, 5.75496513, 5.77177754, 5.78858995,\n",
       "        5.80540237, 5.82221478, 5.83902719, 5.8558396 , 5.87265202,\n",
       "        5.88946443, 5.90627684, 5.92308925, 5.93990167, 5.95671408,\n",
       "        5.97352649, 5.9903389 , 6.00715132, 6.02396373, 6.04077614,\n",
       "        6.05758855, 6.07440096, 6.09121338, 6.10802579, 6.1248382 ,\n",
       "        6.14165061, 6.15846303, 6.17527544, 6.19208785, 6.20890026,\n",
       "        6.22571268, 6.24252509, 6.2593375 , 6.27614991, 6.29296233,\n",
       "        6.30977474, 6.32658715, 6.34339956, 6.36021198, 6.37702439,\n",
       "        6.3938368 , 6.41064921, 6.42746162, 6.44427404, 6.46108645,\n",
       "        6.47789886, 6.49471127, 6.51152369, 6.5283361 , 6.54514851,\n",
       "        6.56196092, 6.57877334, 6.59558575, 6.61239816, 6.62921057,\n",
       "        6.64602299, 6.6628354 , 6.67964781, 6.69646022, 6.71327264,\n",
       "        6.73008505, 6.74689746, 6.76370987, 6.78052228, 6.7973347 ,\n",
       "        6.81414711, 6.83095952, 6.84777193, 6.86458435, 6.88139676,\n",
       "        6.89820917, 6.91502158, 6.931834  , 6.94864641, 6.96545882,\n",
       "        6.98227123]),\n",
       " <a list of 100 Patch objects>)"
      ]
     },
     "execution_count": 12,
     "metadata": {},
     "output_type": "execute_result"
    },
    {
     "data": {
      "image/png": "[encoded data removed]",
      "text/plain": [
       "<Figure size 432x288 with 1 Axes>"
      ]
     },
     "metadata": {
      "needs_background": "light"
     },
     "output_type": "display_data"
    }
   ],
   "source": [
    "sale_price_percent_log = np.log10(sale_price_percent)\n",
    "plt.hist(sale_price_percent_log, bins=100)"
   ]
  },
  {
   "cell_type": "code",
   "execution_count": 13,
   "metadata": {
    "ExecuteTime": {
     "end_time": "2019-05-07T22:14:57.058888Z",
     "start_time": "2019-05-07T22:14:57.053901Z"
    }
   },
   "outputs": [],
   "source": [
    "def standardize(df):\n",
    "    return (df-df.mean())/df.std()"
   ]
  },
  {
   "cell_type": "code",
   "execution_count": 14,
   "metadata": {
    "ExecuteTime": {
     "end_time": "2019-05-07T22:14:57.101022Z",
     "start_time": "2019-05-07T22:14:57.060882Z"
    }
   },
   "outputs": [],
   "source": [
    "sale_price_percent_standardize = standardize(pd.DataFrame(sale_price_percent))"
   ]
  },
  {
   "cell_type": "code",
   "execution_count": 15,
   "metadata": {
    "ExecuteTime": {
     "end_time": "2019-05-07T22:14:57.677158Z",
     "start_time": "2019-05-07T22:14:57.104018Z"
    },
    "scrolled": true
   },
   "outputs": [
    {
     "data": {
      "text/plain": [
       "(array([132., 484., 660., 764., 772., 901., 612., 393., 440., 244., 250.,\n",
       "        187., 188., 159., 153., 145.,  94.,  98.,  77.,  90.,  63.,  70.,\n",
       "         52.,  81.,  59.,  35.,  47.,  35.,  52.,  39.,  34.,  22.,  35.,\n",
       "         19.,  24.,  24.,  20.,  20.,  23.,  23.,  24.,  17.,  19.,  27.,\n",
       "          9.,  12.,  12.,   9.,  13.,   4.,   6.,  20.,   9.,  14.,  15.,\n",
       "         10.,  14.,   7.,   5.,  10.,   4.,  10.,  15.,   7.,  16.,   7.,\n",
       "          1.,  11.,   9.,  10.,  13.,   5.,  21.,   5.,   9.,   3.,   9.,\n",
       "          9.,   5.,   2.,  10.,   4.,   8.,  10.,   4.,   4.,   7.,   5.,\n",
       "          8.,   5.,   7.,   4.,   6.,   9.,   3.,   4.,   8.,   4.,  13.,\n",
       "          6.]),\n",
       " array([-0.76953487, -0.70904996, -0.64856505, -0.58808014, -0.52759523,\n",
       "        -0.46711031, -0.4066254 , -0.34614049, -0.28565558, -0.22517067,\n",
       "        -0.16468575, -0.10420084, -0.04371593,  0.01676898,  0.07725389,\n",
       "         0.13773881,  0.19822372,  0.25870863,  0.31919354,  0.37967846,\n",
       "         0.44016337,  0.50064828,  0.56113319,  0.6216181 ,  0.68210302,\n",
       "         0.74258793,  0.80307284,  0.86355775,  0.92404266,  0.98452758,\n",
       "         1.04501249,  1.1054974 ,  1.16598231,  1.22646723,  1.28695214,\n",
       "         1.34743705,  1.40792196,  1.46840687,  1.52889179,  1.5893767 ,\n",
       "         1.64986161,  1.71034652,  1.77083143,  1.83131635,  1.89180126,\n",
       "         1.95228617,  2.01277108,  2.07325599,  2.13374091,  2.19422582,\n",
       "         2.25471073,  2.31519564,  2.37568056,  2.43616547,  2.49665038,\n",
       "         2.55713529,  2.6176202 ,  2.67810512,  2.73859003,  2.79907494,\n",
       "         2.85955985,  2.92004476,  2.98052968,  3.04101459,  3.1014995 ,\n",
       "         3.16198441,  3.22246933,  3.28295424,  3.34343915,  3.40392406,\n",
       "         3.46440897,  3.52489389,  3.5853788 ,  3.64586371,  3.70634862,\n",
       "         3.76683353,  3.82731845,  3.88780336,  3.94828827,  4.00877318,\n",
       "         4.06925809,  4.12974301,  4.19022792,  4.25071283,  4.31119774,\n",
       "         4.37168266,  4.43216757,  4.49265248,  4.55313739,  4.6136223 ,\n",
       "         4.67410722,  4.73459213,  4.79507704,  4.85556195,  4.91604686,\n",
       "         4.97653178,  5.03701669,  5.0975016 ,  5.15798651,  5.21847142,\n",
       "         5.27895634]),\n",
       " <a list of 100 Patch objects>)"
      ]
     },
     "execution_count": 15,
     "metadata": {},
     "output_type": "execute_result"
    },
    {
     "data": {
      "image/png": "[encoded data removed]",
      "text/plain": [
       "<Figure size 432x288 with 1 Axes>"
      ]
     },
     "metadata": {
      "needs_background": "light"
     },
     "output_type": "display_data"
    }
   ],
   "source": [
    "plt.hist(sale_price_percent_standardize[0], bins=100)"
   ]
  },
  {
   "cell_type": "markdown",
   "metadata": {},
   "source": [
    "## Gaussian distribution Test\n"
   ]
  },
  {
   "cell_type": "markdown",
   "metadata": {},
   "source": [
    "**setting a significance threshold : alpha = 0.05**"
   ]
  },
  {
   "cell_type": "code",
   "execution_count": 16,
   "metadata": {
    "ExecuteTime": {
     "end_time": "2019-05-07T22:14:57.683113Z",
     "start_time": "2019-05-07T22:14:57.679097Z"
    }
   },
   "outputs": [],
   "source": [
    "alpha = 0.05"
   ]
  },
  {
   "cell_type": "markdown",
   "metadata": {},
   "source": [
    "**declaring the null hypothesis**  \n",
    "Null Hypothesis: the vairiable sample for the feature is drawn from a Gaussian distribution, p-value 0.05"
   ]
  },
  {
   "cell_type": "markdown",
   "metadata": {},
   "source": [
    "### testing\n",
    "\n",
    "**Note** this can be answered with a KS test, in which case the data has to be standardized, or with an Anderson Darling test.\n",
    "### KS test"
   ]
  },
  {
   "cell_type": "code",
   "execution_count": 17,
   "metadata": {
    "ExecuteTime": {
     "end_time": "2019-05-07T22:14:58.439876Z",
     "start_time": "2019-05-07T22:14:57.685108Z"
    }
   },
   "outputs": [],
   "source": [
    "import scipy as sp\n",
    "from scipy import stats"
   ]
  },
  {
   "cell_type": "code",
   "execution_count": 18,
   "metadata": {
    "ExecuteTime": {
     "end_time": "2019-05-07T22:14:58.461818Z",
     "start_time": "2019-05-07T22:14:58.449853Z"
    }
   },
   "outputs": [
    {
     "name": "stdout",
     "output_type": "stream",
     "text": [
      "0.0\n",
      "we reject the Null hypothesis that the samples are drawn from a Gaussian distribution at a p-value of 0.05\n"
     ]
    }
   ],
   "source": [
    "p = sp.stats.kstest((sale_price_percent - np.mean(sale_price_percent))/\n",
    "                np.std(sale_price_percent), \"norm\")[1]\n",
    "print(p)\n",
    "if p > alpha:\n",
    "    print(\"the Null hypothesis that the samples are drawn from a Gaussian distribution cannot be rejected\")\n",
    "else: \n",
    "    print(\"we reject the Null hypothesis that the samples are drawn from a Gaussian distribution at a p-value of\", alpha)"
   ]
  },
  {
   "cell_type": "code",
   "execution_count": 19,
   "metadata": {
    "ExecuteTime": {
     "end_time": "2019-05-07T22:14:58.477965Z",
     "start_time": "2019-05-07T22:14:58.467824Z"
    }
   },
   "outputs": [
    {
     "name": "stdout",
     "output_type": "stream",
     "text": [
      "5.332536676466759e-80\n",
      "we reject the Null hypothesis that the samples are drawn from a Gaussian distribution at a p-value of 0.05\n"
     ]
    }
   ],
   "source": [
    "p = sp.stats.kstest((sale_price_percent_log - np.mean(sale_price_percent_log))/\n",
    "                np.std(sale_price_percent_log), \"norm\")[1]\n",
    "print(p)\n",
    "if p > alpha:\n",
    "    print(\"the Null hypothesis that the samples are drawn from a Gaussian distribution cannot be rejected\")\n",
    "else: \n",
    "    print(\"we reject the Null hypothesis that the samples are drawn from a Gaussian distribution at a p-value of\", alpha)"
   ]
  },
  {
   "cell_type": "markdown",
   "metadata": {},
   "source": [
    "### AD test"
   ]
  },
  {
   "cell_type": "code",
   "execution_count": 20,
   "metadata": {
    "ExecuteTime": {
     "end_time": "2019-05-07T22:14:58.494115Z",
     "start_time": "2019-05-07T22:14:58.479922Z"
    }
   },
   "outputs": [
    {
     "name": "stdout",
     "output_type": "stream",
     "text": [
      "we reject the Null hypothesis that the samples are drawn from a Gaussian distribution at a p-value of 0.05\n"
     ]
    }
   ],
   "source": [
    "ad = sp.stats.anderson(sale_price_percent, \"norm\")\n",
    "if ad[0] < ad[1][ad[2] == int(alpha * 100)]:\n",
    "     print(\"the Null hypothesis that the samples are drawn from a Gaussian distribution cannot be rejected\")\n",
    "else: \n",
    "    print(\"we reject the Null hypothesis that the samples are drawn from a Gaussian distribution at a p-value of\", alpha)\n"
   ]
  },
  {
   "cell_type": "code",
   "execution_count": 21,
   "metadata": {
    "ExecuteTime": {
     "end_time": "2019-05-07T22:14:58.507110Z",
     "start_time": "2019-05-07T22:14:58.496083Z"
    }
   },
   "outputs": [
    {
     "name": "stdout",
     "output_type": "stream",
     "text": [
      "we reject the Null hypothesis that the samples are drawn from a Gaussian distribution at a p-value of 0.05\n"
     ]
    }
   ],
   "source": [
    "ad = sp.stats.anderson(sale_price_percent_log, \"norm\")\n",
    "if ad[0] < ad[1][ad[2] == int(alpha * 100)]:\n",
    "     print(\"the Null hypothesis that the samples are drawn from a Gaussian distribution cannot be rejected\")\n",
    "else: \n",
    "    print(\"we reject the Null hypothesis that the samples are drawn from a Gaussian distribution at a p-value of\", alpha)\n"
   ]
  },
  {
   "cell_type": "markdown",
   "metadata": {},
   "source": [
    "### other test"
   ]
  },
  {
   "cell_type": "code",
   "execution_count": 22,
   "metadata": {
    "ExecuteTime": {
     "end_time": "2019-05-07T22:14:58.519078Z",
     "start_time": "2019-05-07T22:14:58.509105Z"
    }
   },
   "outputs": [
    {
     "data": {
      "text/plain": [
       "<scipy.stats._distn_infrastructure.rv_frozen at 0x1fe17408940>"
      ]
     },
     "execution_count": 22,
     "metadata": {},
     "output_type": "execute_result"
    }
   ],
   "source": [
    "sp.stats.gamma(sale_price_percent)"
   ]
  },
  {
   "cell_type": "code",
   "execution_count": 23,
   "metadata": {
    "ExecuteTime": {
     "end_time": "2019-05-07T22:14:58.533041Z",
     "start_time": "2019-05-07T22:14:58.521101Z"
    }
   },
   "outputs": [
    {
     "data": {
      "text/plain": [
       "Power_divergenceResult(statistic=14144345406.356565, pvalue=0.0)"
      ]
     },
     "execution_count": 23,
     "metadata": {},
     "output_type": "execute_result"
    }
   ],
   "source": [
    "# https://docs.scipy.org/doc/scipy-0.14.0/reference/generated/scipy.stats.chisquare.html\n",
    "sp.stats.chisquare(sale_price_percent)"
   ]
  },
  {
   "cell_type": "code",
   "execution_count": 24,
   "metadata": {
    "ExecuteTime": {
     "end_time": "2019-05-07T22:14:58.546006Z",
     "start_time": "2019-05-07T22:14:58.535038Z"
    }
   },
   "outputs": [
    {
     "data": {
      "text/plain": [
       "Power_divergenceResult(statistic=151.88706516847873, pvalue=1.0)"
      ]
     },
     "execution_count": 24,
     "metadata": {},
     "output_type": "execute_result"
    }
   ],
   "source": [
    "sp.stats.chisquare(sale_price_percent_log)"
   ]
  }
 ],
 "metadata": {
  "kernelspec": {
   "display_name": "Python 3",
   "language": "python",
   "name": "python3"
  },
  "language_info": {
   "codemirror_mode": {
    "name": "ipython",
    "version": 3
   },
   "file_extension": ".py",
   "mimetype": "text/x-python",
   "name": "python",
   "nbconvert_exporter": "python",
   "pygments_lexer": "ipython3",
   "version": "3.6.8"
  },
  "toc": {
   "base_numbering": 1,
   "nav_menu": {},
   "number_sections": true,
   "sideBar": true,
   "skip_h1_title": false,
   "title_cell": "Table of Contents",
   "title_sidebar": "Contents",
   "toc_cell": false,
   "toc_position": {
    "height": "calc(100% - 180px)",
    "left": "10px",
    "top": "150px",
    "width": "279.273px"
   },
   "toc_section_display": true,
   "toc_window_display": true
  }
 },
 "nbformat": 4,
 "nbformat_minor": 2
}
