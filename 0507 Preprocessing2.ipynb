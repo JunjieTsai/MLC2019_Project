{
 "cells": [
  {
   "cell_type": "code",
   "execution_count": 1,
   "metadata": {
    "ExecuteTime": {
     "end_time": "2019-05-07T15:36:32.241539Z",
     "start_time": "2019-05-07T15:36:30.872980Z"
    }
   },
   "outputs": [],
   "source": [
    "import pandas as pd\n",
    "from matplotlib import pyplot as plt\n",
    "import numpy as np\n",
    "import math\n",
    "%matplotlib inline"
   ]
  },
  {
   "cell_type": "code",
   "execution_count": 2,
   "metadata": {
    "ExecuteTime": {
     "end_time": "2019-05-07T15:36:32.610683Z",
     "start_time": "2019-05-07T15:36:32.244311Z"
    },
    "scrolled": false
   },
   "outputs": [
    {
     "name": "stdout",
     "output_type": "stream",
     "text": [
      "(8890, 61)\n"
     ]
    },
    {
     "data": {
      "text/html": [
       "<div>\n",
       "<style scoped>\n",
       "    .dataframe tbody tr th:only-of-type {\n",
       "        vertical-align: middle;\n",
       "    }\n",
       "\n",
       "    .dataframe tbody tr th {\n",
       "        vertical-align: top;\n",
       "    }\n",
       "\n",
       "    .dataframe thead th {\n",
       "        text-align: right;\n",
       "    }\n",
       "</style>\n",
       "<table border=\"1\" class=\"dataframe\">\n",
       "  <thead>\n",
       "    <tr style=\"text-align: right;\">\n",
       "      <th></th>\n",
       "      <th>SALE PRICE</th>\n",
       "      <th>SALE DATE</th>\n",
       "      <th>histdist</th>\n",
       "      <th>landmark</th>\n",
       "      <th>landuse</th>\n",
       "      <th>YEAR BUILT</th>\n",
       "      <th>RESIDENTIAL UNITS</th>\n",
       "      <th>COMMERCIAL UNITS</th>\n",
       "      <th>TOTAL UNITS</th>\n",
       "      <th>LAND SQUARE FEET</th>\n",
       "      <th>...</th>\n",
       "      <th>park_area</th>\n",
       "      <th>park_top_level</th>\n",
       "      <th>park_distance</th>\n",
       "      <th>FELONY</th>\n",
       "      <th>VIOLATION</th>\n",
       "      <th>MISDEMEANOR</th>\n",
       "      <th>Num of SAT Test Takers</th>\n",
       "      <th>satReadingSum</th>\n",
       "      <th>satMathSum</th>\n",
       "      <th>satWritingSum</th>\n",
       "    </tr>\n",
       "  </thead>\n",
       "  <tbody>\n",
       "    <tr>\n",
       "      <th>0</th>\n",
       "      <td>3750000</td>\n",
       "      <td>2018-08-01 00:00:00</td>\n",
       "      <td>Mount Morris Park Historic District</td>\n",
       "      <td>NaN</td>\n",
       "      <td>2.0</td>\n",
       "      <td>110.0</td>\n",
       "      <td>3.0</td>\n",
       "      <td>0.0</td>\n",
       "      <td>3.0</td>\n",
       "      <td>2018.0</td>\n",
       "      <td>...</td>\n",
       "      <td>22.051</td>\n",
       "      <td>2.0</td>\n",
       "      <td>0.001133</td>\n",
       "      <td>462.0</td>\n",
       "      <td>195.0</td>\n",
       "      <td>869.0</td>\n",
       "      <td>3825.0</td>\n",
       "      <td>498.0</td>\n",
       "      <td>525.0</td>\n",
       "      <td>496.0</td>\n",
       "    </tr>\n",
       "    <tr>\n",
       "      <th>1</th>\n",
       "      <td>5000000</td>\n",
       "      <td>2018-10-25 00:00:00</td>\n",
       "      <td>NaN</td>\n",
       "      <td>NaN</td>\n",
       "      <td>4.0</td>\n",
       "      <td>119.0</td>\n",
       "      <td>26.0</td>\n",
       "      <td>4.0</td>\n",
       "      <td>30.0</td>\n",
       "      <td>5060.0</td>\n",
       "      <td>...</td>\n",
       "      <td>179.671</td>\n",
       "      <td>2.0</td>\n",
       "      <td>0.001841</td>\n",
       "      <td>306.0</td>\n",
       "      <td>156.0</td>\n",
       "      <td>677.0</td>\n",
       "      <td>4005.0</td>\n",
       "      <td>441.0</td>\n",
       "      <td>487.0</td>\n",
       "      <td>442.0</td>\n",
       "    </tr>\n",
       "    <tr>\n",
       "      <th>2</th>\n",
       "      <td>5000000</td>\n",
       "      <td>2018-10-25 00:00:00</td>\n",
       "      <td>NaN</td>\n",
       "      <td>NaN</td>\n",
       "      <td>4.0</td>\n",
       "      <td>119.0</td>\n",
       "      <td>26.0</td>\n",
       "      <td>4.0</td>\n",
       "      <td>30.0</td>\n",
       "      <td>5060.0</td>\n",
       "      <td>...</td>\n",
       "      <td>179.671</td>\n",
       "      <td>2.0</td>\n",
       "      <td>0.001792</td>\n",
       "      <td>303.0</td>\n",
       "      <td>156.0</td>\n",
       "      <td>672.0</td>\n",
       "      <td>4005.0</td>\n",
       "      <td>441.0</td>\n",
       "      <td>487.0</td>\n",
       "      <td>442.0</td>\n",
       "    </tr>\n",
       "    <tr>\n",
       "      <th>3</th>\n",
       "      <td>29100000</td>\n",
       "      <td>2018-10-22 00:00:00</td>\n",
       "      <td>NaN</td>\n",
       "      <td>NaN</td>\n",
       "      <td>4.0</td>\n",
       "      <td>99.0</td>\n",
       "      <td>26.0</td>\n",
       "      <td>1.0</td>\n",
       "      <td>27.0</td>\n",
       "      <td>4642.0</td>\n",
       "      <td>...</td>\n",
       "      <td>843.074</td>\n",
       "      <td>3.0</td>\n",
       "      <td>0.000745</td>\n",
       "      <td>509.0</td>\n",
       "      <td>266.0</td>\n",
       "      <td>897.0</td>\n",
       "      <td>3825.0</td>\n",
       "      <td>498.0</td>\n",
       "      <td>525.0</td>\n",
       "      <td>496.0</td>\n",
       "    </tr>\n",
       "    <tr>\n",
       "      <th>4</th>\n",
       "      <td>2350000</td>\n",
       "      <td>2019-02-11 00:00:00</td>\n",
       "      <td>Upper East Side Historic District</td>\n",
       "      <td>NaN</td>\n",
       "      <td>3.0</td>\n",
       "      <td>116.0</td>\n",
       "      <td>0.0</td>\n",
       "      <td>0.0</td>\n",
       "      <td>0.0</td>\n",
       "      <td>0.0</td>\n",
       "      <td>...</td>\n",
       "      <td>844.633</td>\n",
       "      <td>3.0</td>\n",
       "      <td>0.001081</td>\n",
       "      <td>102.0</td>\n",
       "      <td>21.0</td>\n",
       "      <td>83.0</td>\n",
       "      <td>9100.0</td>\n",
       "      <td>451.0</td>\n",
       "      <td>476.0</td>\n",
       "      <td>447.0</td>\n",
       "    </tr>\n",
       "  </tbody>\n",
       "</table>\n",
       "<p>5 rows × 61 columns</p>\n",
       "</div>"
      ],
      "text/plain": [
       "   SALE PRICE            SALE DATE                             histdist  \\\n",
       "0     3750000  2018-08-01 00:00:00  Mount Morris Park Historic District   \n",
       "1     5000000  2018-10-25 00:00:00                                  NaN   \n",
       "2     5000000  2018-10-25 00:00:00                                  NaN   \n",
       "3    29100000  2018-10-22 00:00:00                                  NaN   \n",
       "4     2350000  2019-02-11 00:00:00    Upper East Side Historic District   \n",
       "\n",
       "  landmark  landuse  YEAR BUILT  RESIDENTIAL UNITS  COMMERCIAL UNITS  \\\n",
       "0      NaN      2.0       110.0                3.0               0.0   \n",
       "1      NaN      4.0       119.0               26.0               4.0   \n",
       "2      NaN      4.0       119.0               26.0               4.0   \n",
       "3      NaN      4.0        99.0               26.0               1.0   \n",
       "4      NaN      3.0       116.0                0.0               0.0   \n",
       "\n",
       "   TOTAL UNITS  LAND SQUARE FEET      ...        park_area  park_top_level  \\\n",
       "0          3.0            2018.0      ...           22.051             2.0   \n",
       "1         30.0            5060.0      ...          179.671             2.0   \n",
       "2         30.0            5060.0      ...          179.671             2.0   \n",
       "3         27.0            4642.0      ...          843.074             3.0   \n",
       "4          0.0               0.0      ...          844.633             3.0   \n",
       "\n",
       "   park_distance  FELONY  VIOLATION  MISDEMEANOR  Num of SAT Test Takers  \\\n",
       "0       0.001133   462.0      195.0        869.0                  3825.0   \n",
       "1       0.001841   306.0      156.0        677.0                  4005.0   \n",
       "2       0.001792   303.0      156.0        672.0                  4005.0   \n",
       "3       0.000745   509.0      266.0        897.0                  3825.0   \n",
       "4       0.001081   102.0       21.0         83.0                  9100.0   \n",
       "\n",
       "   satReadingSum  satMathSum  satWritingSum  \n",
       "0          498.0       525.0          496.0  \n",
       "1          441.0       487.0          442.0  \n",
       "2          441.0       487.0          442.0  \n",
       "3          498.0       525.0          496.0  \n",
       "4          451.0       476.0          447.0  \n",
       "\n",
       "[5 rows x 61 columns]"
      ]
     },
     "execution_count": 2,
     "metadata": {},
     "output_type": "execute_result"
    }
   ],
   "source": [
    "df = pd.read_csv('data/sale_training.csv', usecols = ['SALE PRICE','SALE DATE', 'histdist', 'landmark', 'landuse', 'YEAR BUILT',\n",
    "       'RESIDENTIAL UNITS', 'COMMERCIAL UNITS', 'TOTAL UNITS',\n",
    "       'LAND SQUARE FEET', 'GROSS SQUARE FEET', 'easements', 'lotarea',\n",
    "       'bldgarea', 'comarea', 'resarea', 'officearea', 'retailarea',\n",
    "       'garagearea', 'strgearea', 'factryarea', 'otherarea', 'numbldgs',\n",
    "       'numfloors', 'unitsres', 'unitstotal', 'lotfront', 'lotdepth',\n",
    "       'bldgfront', 'bldgdepth', 'assessland', 'assesstot', 'exemptland',\n",
    "       'exempttot', 'builtfar', 'residfar', 'commfar', 'facilfar',\n",
    "       'DensityPop', 'IncomePerCap', 'Poverty', 'Professional', 'Service',\n",
    "       'Office', 'Construction', 'Production', 'Employed', 'Unemployment',\n",
    "       'distance_subway', 'distance_bus', 'park_num', 'park_area',\n",
    "       'park_top_level', 'park_distance', 'FELONY', 'VIOLATION', 'MISDEMEANOR',\n",
    "       'Num of SAT Test Takers', 'satReadingSum', 'satMathSum',\n",
    "       'satWritingSum'])\n",
    "print(df.shape)\n",
    "df.head()"
   ]
  },
  {
   "cell_type": "markdown",
   "metadata": {},
   "source": [
    "# Preprocessing"
   ]
  },
  {
   "cell_type": "markdown",
   "metadata": {},
   "source": [
    "## Inspection"
   ]
  },
  {
   "cell_type": "code",
   "execution_count": 3,
   "metadata": {
    "ExecuteTime": {
     "end_time": "2019-05-07T15:36:32.619134Z",
     "start_time": "2019-05-07T15:36:32.612870Z"
    }
   },
   "outputs": [],
   "source": [
    "sale_price = sorted(df['SALE PRICE'])"
   ]
  },
  {
   "cell_type": "code",
   "execution_count": 4,
   "metadata": {
    "ExecuteTime": {
     "end_time": "2019-05-07T15:36:33.019311Z",
     "start_time": "2019-05-07T15:36:32.623100Z"
    },
    "scrolled": true
   },
   "outputs": [
    {
     "data": {
      "text/plain": [
       "(array([8.692e+03, 9.000e+01, 2.100e+01, 1.200e+01, 2.000e+01, 2.000e+00,\n",
       "        3.000e+00, 7.000e+00, 1.400e+01, 5.000e+00, 2.000e+00, 3.000e+00,\n",
       "        0.000e+00, 4.000e+00, 3.000e+00, 0.000e+00, 0.000e+00, 1.000e+00,\n",
       "        0.000e+00, 1.000e+00, 0.000e+00, 2.000e+00, 0.000e+00, 0.000e+00,\n",
       "        0.000e+00, 0.000e+00, 0.000e+00, 0.000e+00, 1.000e+00, 0.000e+00,\n",
       "        0.000e+00, 0.000e+00, 1.000e+00, 0.000e+00, 0.000e+00, 1.000e+00,\n",
       "        1.000e+00, 0.000e+00, 0.000e+00, 0.000e+00, 0.000e+00, 0.000e+00,\n",
       "        0.000e+00, 2.000e+00, 1.000e+00, 0.000e+00, 0.000e+00, 0.000e+00,\n",
       "        0.000e+00, 1.000e+00]),\n",
       " array([1.00000000e+00, 1.96000010e+07, 3.92000010e+07, 5.88000009e+07,\n",
       "        7.84000009e+07, 9.80000009e+07, 1.17600001e+08, 1.37200001e+08,\n",
       "        1.56800001e+08, 1.76400001e+08, 1.96000001e+08, 2.15600001e+08,\n",
       "        2.35200001e+08, 2.54800001e+08, 2.74400001e+08, 2.94000001e+08,\n",
       "        3.13600001e+08, 3.33200001e+08, 3.52800001e+08, 3.72400001e+08,\n",
       "        3.92000001e+08, 4.11600001e+08, 4.31200001e+08, 4.50800001e+08,\n",
       "        4.70400001e+08, 4.90000000e+08, 5.09600000e+08, 5.29200000e+08,\n",
       "        5.48800000e+08, 5.68400000e+08, 5.88000000e+08, 6.07600000e+08,\n",
       "        6.27200000e+08, 6.46800000e+08, 6.66400000e+08, 6.86000000e+08,\n",
       "        7.05600000e+08, 7.25200000e+08, 7.44800000e+08, 7.64400000e+08,\n",
       "        7.84000000e+08, 8.03600000e+08, 8.23200000e+08, 8.42800000e+08,\n",
       "        8.62400000e+08, 8.82000000e+08, 9.01600000e+08, 9.21200000e+08,\n",
       "        9.40800000e+08, 9.60400000e+08, 9.80000000e+08]),\n",
       " <a list of 50 Patch objects>)"
      ]
     },
     "execution_count": 4,
     "metadata": {},
     "output_type": "execute_result"
    },
    {
     "data": {
      "image/png": "[encoded data removed]",
      "text/plain": [
       "<Figure size 432x288 with 1 Axes>"
      ]
     },
     "metadata": {
      "needs_background": "light"
     },
     "output_type": "display_data"
    }
   ],
   "source": [
    "plt.hist(sale_price, bins=50)"
   ]
  },
  {
   "cell_type": "markdown",
   "metadata": {},
   "source": [
    "### Extremum filter"
   ]
  },
  {
   "cell_type": "markdown",
   "metadata": {},
   "source": [
    "https://en.wikipedia.org/wiki/List_of_probability_distributions  \n",
    "out of 2 std: 95.45%  \n",
    "out of 3 std: 99.73%  \n"
   ]
  },
  {
   "cell_type": "code",
   "execution_count": 5,
   "metadata": {
    "ExecuteTime": {
     "end_time": "2019-05-07T15:36:33.037336Z",
     "start_time": "2019-05-07T15:36:33.025293Z"
    }
   },
   "outputs": [],
   "source": [
    "import statistics"
   ]
  },
  {
   "cell_type": "code",
   "execution_count": 6,
   "metadata": {
    "ExecuteTime": {
     "end_time": "2019-05-07T15:36:33.047261Z",
     "start_time": "2019-05-07T15:36:33.039279Z"
    }
   },
   "outputs": [
    {
     "data": {
      "text/plain": [
       "825000.0"
      ]
     },
     "execution_count": 6,
     "metadata": {},
     "output_type": "execute_result"
    }
   ],
   "source": [
    "# https://stackoverflow.com/questions/24101524/finding-median-of-list-in-python\n",
    "median = statistics.median(sale_price)\n",
    "median"
   ]
  },
  {
   "cell_type": "code",
   "execution_count": 7,
   "metadata": {
    "ExecuteTime": {
     "end_time": "2019-05-07T15:36:33.605167Z",
     "start_time": "2019-05-07T15:36:33.050287Z"
    },
    "scrolled": true
   },
   "outputs": [
    {
     "data": {
      "text/plain": [
       "(array([ 60.,   4.,  17.,   4.,  11.,   4.,   6.,  18.,  13.,  13.,   9.,\n",
       "         14.,  11.,  21.,   1.,  36.,   6.,  11.,  10.,  22.,   0.,   5.,\n",
       "          6.,   2.,   4.,   3.,   6.,   8.,   2.,   1.,  15.,   8.,  25.,\n",
       "         31.,  11.,  22.,  48.,  26.,  29.,  50.,  18.,  49.,  70.,  64.,\n",
       "         34.,  36.,  56.,  85.,  71.,  60.,  60.,  63.,  52.,  50.,  52.,\n",
       "         45.,  56.,  50.,  45.,  51.,  66.,  84.,  57.,  95.,  58.,  66.,\n",
       "         78.,  40.,  52.,  92., 106.,  55.,  90.,  82.,  35.,  77.,  53.,\n",
       "         62., 101.,  64.,  39., 100.,  51.,  70.,  91.,  39.,  96.,  98.,\n",
       "         70.,  85., 105.,  67.,  49.,  73.,  33.,  63., 113.,  16.,  56.,\n",
       "         58.]),\n",
       " array([1.0000000e+00, 8.2509900e+03, 1.6500980e+04, 2.4750970e+04,\n",
       "        3.3000960e+04, 4.1250950e+04, 4.9500940e+04, 5.7750930e+04,\n",
       "        6.6000920e+04, 7.4250910e+04, 8.2500900e+04, 9.0750890e+04,\n",
       "        9.9000880e+04, 1.0725087e+05, 1.1550086e+05, 1.2375085e+05,\n",
       "        1.3200084e+05, 1.4025083e+05, 1.4850082e+05, 1.5675081e+05,\n",
       "        1.6500080e+05, 1.7325079e+05, 1.8150078e+05, 1.8975077e+05,\n",
       "        1.9800076e+05, 2.0625075e+05, 2.1450074e+05, 2.2275073e+05,\n",
       "        2.3100072e+05, 2.3925071e+05, 2.4750070e+05, 2.5575069e+05,\n",
       "        2.6400068e+05, 2.7225067e+05, 2.8050066e+05, 2.8875065e+05,\n",
       "        2.9700064e+05, 3.0525063e+05, 3.1350062e+05, 3.2175061e+05,\n",
       "        3.3000060e+05, 3.3825059e+05, 3.4650058e+05, 3.5475057e+05,\n",
       "        3.6300056e+05, 3.7125055e+05, 3.7950054e+05, 3.8775053e+05,\n",
       "        3.9600052e+05, 4.0425051e+05, 4.1250050e+05, 4.2075049e+05,\n",
       "        4.2900048e+05, 4.3725047e+05, 4.4550046e+05, 4.5375045e+05,\n",
       "        4.6200044e+05, 4.7025043e+05, 4.7850042e+05, 4.8675041e+05,\n",
       "        4.9500040e+05, 5.0325039e+05, 5.1150038e+05, 5.1975037e+05,\n",
       "        5.2800036e+05, 5.3625035e+05, 5.4450034e+05, 5.5275033e+05,\n",
       "        5.6100032e+05, 5.6925031e+05, 5.7750030e+05, 5.8575029e+05,\n",
       "        5.9400028e+05, 6.0225027e+05, 6.1050026e+05, 6.1875025e+05,\n",
       "        6.2700024e+05, 6.3525023e+05, 6.4350022e+05, 6.5175021e+05,\n",
       "        6.6000020e+05, 6.6825019e+05, 6.7650018e+05, 6.8475017e+05,\n",
       "        6.9300016e+05, 7.0125015e+05, 7.0950014e+05, 7.1775013e+05,\n",
       "        7.2600012e+05, 7.3425011e+05, 7.4250010e+05, 7.5075009e+05,\n",
       "        7.5900008e+05, 7.6725007e+05, 7.7550006e+05, 7.8375005e+05,\n",
       "        7.9200004e+05, 8.0025003e+05, 8.0850002e+05, 8.1675001e+05,\n",
       "        8.2500000e+05]),\n",
       " <a list of 100 Patch objects>)"
      ]
     },
     "execution_count": 7,
     "metadata": {},
     "output_type": "execute_result"
    },
    {
     "data": {
      "image/png": "[encoded data removed]",
      "text/plain": [
       "<Figure size 432x288 with 1 Axes>"
      ]
     },
     "metadata": {
      "needs_background": "light"
     },
     "output_type": "display_data"
    }
   ],
   "source": [
    "# left\n",
    "percent = 0.5\n",
    "sale_price_percent = sale_price[0:int(len(sale_price)*(1-percent))]\n",
    "plt.hist(sale_price_percent, bins=100)\n"
   ]
  },
  {
   "cell_type": "code",
   "execution_count": 8,
   "metadata": {
    "ExecuteTime": {
     "end_time": "2019-05-07T15:36:33.619130Z",
     "start_time": "2019-05-07T15:36:33.608293Z"
    },
    "scrolled": true
   },
   "outputs": [
    {
     "data": {
      "text/plain": [
       "0.03419572553430821"
      ]
     },
     "execution_count": 8,
     "metadata": {},
     "output_type": "execute_result"
    }
   ],
   "source": [
    "percent_right = 0.9973\n",
    "percent_right = 0.9545\n",
    "percent_left = len(list(filter(lambda x: x<200000, sale_price)))/len(sale_price)\n",
    "percent_left"
   ]
  },
  {
   "cell_type": "code",
   "execution_count": null,
   "metadata": {},
   "outputs": [],
   "source": []
  },
  {
   "cell_type": "code",
   "execution_count": 9,
   "metadata": {
    "ExecuteTime": {
     "end_time": "2019-05-07T15:36:34.211177Z",
     "start_time": "2019-05-07T15:36:33.623064Z"
    },
    "scrolled": true
   },
   "outputs": [
    {
     "data": {
      "text/plain": [
       "(array([132., 484., 661., 764., 773., 902., 612., 393., 440., 244., 250.,\n",
       "        187., 189., 159., 153., 145.,  94.,  98.,  77.,  90.,  63.,  70.,\n",
       "         52.,  81.,  59.,  35.,  47.,  35.,  52.,  39.,  34.,  22.,  35.,\n",
       "         20.,  24.,  24.,  20.,  19.,  24.,  23.,  24.,  17.,  19.,  27.,\n",
       "          9.,  12.,  12.,   9.,  13.,   4.,   6.,  20.,   9.,  14.,  15.,\n",
       "         10.,  14.,   7.,   5.,  10.,   4.,  10.,  15.,   7.,  16.,   7.,\n",
       "          1.,  11.,   9.,  10.,  13.,   5.,  21.,   5.,   9.,   3.,   9.,\n",
       "          9.,   5.,   2.,  10.,   4.,   8.,  10.,   4.,   4.,   7.,   5.,\n",
       "          8.,   5.,   7.,   4.,   6.,   9.,   3.,   4.,   8.,   4.,  13.,\n",
       "          6.]),\n",
       " array([ 200000.,  294000.,  388000.,  482000.,  576000.,  670000.,\n",
       "         764000.,  858000.,  952000., 1046000., 1140000., 1234000.,\n",
       "        1328000., 1422000., 1516000., 1610000., 1704000., 1798000.,\n",
       "        1892000., 1986000., 2080000., 2174000., 2268000., 2362000.,\n",
       "        2456000., 2550000., 2644000., 2738000., 2832000., 2926000.,\n",
       "        3020000., 3114000., 3208000., 3302000., 3396000., 3490000.,\n",
       "        3584000., 3678000., 3772000., 3866000., 3960000., 4054000.,\n",
       "        4148000., 4242000., 4336000., 4430000., 4524000., 4618000.,\n",
       "        4712000., 4806000., 4900000., 4994000., 5088000., 5182000.,\n",
       "        5276000., 5370000., 5464000., 5558000., 5652000., 5746000.,\n",
       "        5840000., 5934000., 6028000., 6122000., 6216000., 6310000.,\n",
       "        6404000., 6498000., 6592000., 6686000., 6780000., 6874000.,\n",
       "        6968000., 7062000., 7156000., 7250000., 7344000., 7438000.,\n",
       "        7532000., 7626000., 7720000., 7814000., 7908000., 8002000.,\n",
       "        8096000., 8190000., 8284000., 8378000., 8472000., 8566000.,\n",
       "        8660000., 8754000., 8848000., 8942000., 9036000., 9130000.,\n",
       "        9224000., 9318000., 9412000., 9506000., 9600000.]),\n",
       " <a list of 100 Patch objects>)"
      ]
     },
     "execution_count": 9,
     "metadata": {},
     "output_type": "execute_result"
    },
    {
     "data": {
      "image/png": "[encoded data removed]",
      "text/plain": [
       "<Figure size 432x288 with 1 Axes>"
      ]
     },
     "metadata": {
      "needs_background": "light"
     },
     "output_type": "display_data"
    }
   ],
   "source": [
    "sale_price_percent = sale_price[int(len(sale_price) * percent_left):int(len(sale_price) * percent_right)] \n",
    "plt.hist(sale_price_percent, bins=100)"
   ]
  },
  {
   "cell_type": "code",
   "execution_count": 10,
   "metadata": {
    "ExecuteTime": {
     "end_time": "2019-05-07T15:36:34.788162Z",
     "start_time": "2019-05-07T15:36:34.214171Z"
    },
    "scrolled": true
   },
   "outputs": [
    {
     "data": {
      "text/plain": [
       "(array([  4.,   6.,   4.,   8.,   1.,  12.,  11.,  26.,  32.,  29.,  52.,\n",
       "         37.,  67.,  56., 102.,  77.,  89., 155.,  96., 125., 106.,  96.,\n",
       "        116., 157., 191., 153., 135., 256., 186., 173., 217., 237., 242.,\n",
       "        265., 283., 222., 179., 182., 174., 109., 181., 215., 131.,  65.,\n",
       "        149., 128., 118., 106.,  83., 144.,  74.,  83., 101.,  98., 102.,\n",
       "         79.,  85.,  70.,  69.,  70.,  60.,  67.,  51.,  47.,  77.,  60.,\n",
       "         49.,  40.,  50.,  59.,  35.,  23.,  54.,  38.,  26.,  25.,  40.,\n",
       "         32.,  38.,  31.,  23.,  13.,  20.,  29.,  29.,  26.,  18.,  19.,\n",
       "         27.,  25.,  21.,  38.,  18.,  23.,  16.,  25.,  20.,  18.,  21.,\n",
       "         31.]),\n",
       " array([12.20607265, 12.24478466, 12.28349667, 12.32220868, 12.36092069,\n",
       "        12.3996327 , 12.43834471, 12.47705672, 12.51576873, 12.55448074,\n",
       "        12.59319275, 12.63190476, 12.67061677, 12.70932878, 12.74804079,\n",
       "        12.7867528 , 12.82546481, 12.86417682, 12.90288883, 12.94160084,\n",
       "        12.98031285, 13.01902486, 13.05773687, 13.09644888, 13.13516089,\n",
       "        13.1738729 , 13.21258491, 13.25129692, 13.29000893, 13.32872094,\n",
       "        13.36743295, 13.40614496, 13.44485697, 13.48356898, 13.52228099,\n",
       "        13.560993  , 13.59970501, 13.63841702, 13.67712903, 13.71584104,\n",
       "        13.75455305, 13.79326506, 13.83197707, 13.87068908, 13.90940109,\n",
       "        13.9481131 , 13.98682511, 14.02553712, 14.06424913, 14.10296114,\n",
       "        14.14167315, 14.18038516, 14.21909717, 14.25780918, 14.29652119,\n",
       "        14.3352332 , 14.37394521, 14.41265722, 14.45136923, 14.49008124,\n",
       "        14.52879325, 14.56750526, 14.60621727, 14.64492928, 14.68364129,\n",
       "        14.7223533 , 14.76106531, 14.79977732, 14.83848933, 14.87720134,\n",
       "        14.91591335, 14.95462536, 14.99333737, 15.03204938, 15.07076139,\n",
       "        15.1094734 , 15.14818541, 15.18689742, 15.22560943, 15.26432144,\n",
       "        15.30303345, 15.34174546, 15.38045747, 15.41916948, 15.45788149,\n",
       "        15.4965935 , 15.53530551, 15.57401753, 15.61272954, 15.65144155,\n",
       "        15.69015356, 15.72886557, 15.76757758, 15.80628959, 15.8450016 ,\n",
       "        15.88371361, 15.92242562, 15.96113763, 15.99984964, 16.03856165,\n",
       "        16.07727366]),\n",
       " <a list of 100 Patch objects>)"
      ]
     },
     "execution_count": 10,
     "metadata": {},
     "output_type": "execute_result"
    },
    {
     "data": {
      "image/png": "[encoded data removed]",
      "text/plain": [
       "<Figure size 432x288 with 1 Axes>"
      ]
     },
     "metadata": {
      "needs_background": "light"
     },
     "output_type": "display_data"
    }
   ],
   "source": [
    "sale_price_percent_log = np.log(sale_price_percent)\n",
    "plt.hist(sale_price_percent_log, bins=100)"
   ]
  },
  {
   "cell_type": "code",
   "execution_count": 11,
   "metadata": {
    "ExecuteTime": {
     "end_time": "2019-05-07T15:36:35.369081Z",
     "start_time": "2019-05-07T15:36:34.790302Z"
    },
    "scrolled": true
   },
   "outputs": [
    {
     "data": {
      "text/plain": [
       "(array([  4.,   6.,   4.,   8.,   1.,  12.,  11.,  26.,  32.,  29.,  52.,\n",
       "         37.,  67.,  56., 102.,  77.,  89., 155.,  96., 125., 106.,  96.,\n",
       "        116., 157., 191., 153., 135., 256., 186., 173., 217., 237., 242.,\n",
       "        265., 283., 222., 179., 182., 174., 109., 181., 215., 131.,  65.,\n",
       "        149., 128., 118., 106.,  83., 144.,  74.,  83., 101.,  98., 102.,\n",
       "         79.,  85.,  70.,  69.,  70.,  60.,  67.,  51.,  47.,  77.,  60.,\n",
       "         49.,  40.,  50.,  59.,  35.,  23.,  54.,  38.,  26.,  25.,  40.,\n",
       "         32.,  38.,  31.,  23.,  13.,  20.,  29.,  29.,  26.,  18.,  19.,\n",
       "         27.,  25.,  21.,  38.,  18.,  23.,  16.,  25.,  20.,  18.,  21.,\n",
       "         31.]),\n",
       " array([5.30103   , 5.31784241, 5.33465482, 5.35146723, 5.36827965,\n",
       "        5.38509206, 5.40190447, 5.41871688, 5.43552929, 5.45234171,\n",
       "        5.46915412, 5.48596653, 5.50277894, 5.51959136, 5.53640377,\n",
       "        5.55321618, 5.57002859, 5.58684101, 5.60365342, 5.62046583,\n",
       "        5.63727824, 5.65409066, 5.67090307, 5.68771548, 5.70452789,\n",
       "        5.72134031, 5.73815272, 5.75496513, 5.77177754, 5.78858995,\n",
       "        5.80540237, 5.82221478, 5.83902719, 5.8558396 , 5.87265202,\n",
       "        5.88946443, 5.90627684, 5.92308925, 5.93990167, 5.95671408,\n",
       "        5.97352649, 5.9903389 , 6.00715132, 6.02396373, 6.04077614,\n",
       "        6.05758855, 6.07440096, 6.09121338, 6.10802579, 6.1248382 ,\n",
       "        6.14165061, 6.15846303, 6.17527544, 6.19208785, 6.20890026,\n",
       "        6.22571268, 6.24252509, 6.2593375 , 6.27614991, 6.29296233,\n",
       "        6.30977474, 6.32658715, 6.34339956, 6.36021198, 6.37702439,\n",
       "        6.3938368 , 6.41064921, 6.42746162, 6.44427404, 6.46108645,\n",
       "        6.47789886, 6.49471127, 6.51152369, 6.5283361 , 6.54514851,\n",
       "        6.56196092, 6.57877334, 6.59558575, 6.61239816, 6.62921057,\n",
       "        6.64602299, 6.6628354 , 6.67964781, 6.69646022, 6.71327264,\n",
       "        6.73008505, 6.74689746, 6.76370987, 6.78052228, 6.7973347 ,\n",
       "        6.81414711, 6.83095952, 6.84777193, 6.86458435, 6.88139676,\n",
       "        6.89820917, 6.91502158, 6.931834  , 6.94864641, 6.96545882,\n",
       "        6.98227123]),\n",
       " <a list of 100 Patch objects>)"
      ]
     },
     "execution_count": 11,
     "metadata": {},
     "output_type": "execute_result"
    },
    {
     "data": {
      "image/png": "[encoded data removed]",
      "text/plain": [
       "<Figure size 432x288 with 1 Axes>"
      ]
     },
     "metadata": {
      "needs_background": "light"
     },
     "output_type": "display_data"
    }
   ],
   "source": [
    "sale_price_percent_log = np.log10(sale_price_percent)\n",
    "plt.hist(sale_price_percent_log, bins=100)"
   ]
  },
  {
   "cell_type": "code",
   "execution_count": 12,
   "metadata": {
    "ExecuteTime": {
     "end_time": "2019-05-07T15:36:35.377058Z",
     "start_time": "2019-05-07T15:36:35.372155Z"
    }
   },
   "outputs": [],
   "source": [
    "def standardize(df):\n",
    "    return (df-df.mean())/df.std()"
   ]
  },
  {
   "cell_type": "code",
   "execution_count": 13,
   "metadata": {
    "ExecuteTime": {
     "end_time": "2019-05-07T15:36:35.443362Z",
     "start_time": "2019-05-07T15:36:35.382082Z"
    }
   },
   "outputs": [],
   "source": [
    "sale_price_percent_standardize = standardize(pd.DataFrame(sale_price_percent))"
   ]
  },
  {
   "cell_type": "code",
   "execution_count": 14,
   "metadata": {
    "ExecuteTime": {
     "end_time": "2019-05-07T15:36:35.992272Z",
     "start_time": "2019-05-07T15:36:35.446219Z"
    },
    "scrolled": true
   },
   "outputs": [
    {
     "data": {
      "text/plain": [
       "(array([132., 484., 661., 764., 773., 902., 612., 393., 440., 244., 250.,\n",
       "        187., 189., 159., 153., 145.,  94.,  98.,  77.,  90.,  63.,  70.,\n",
       "         52.,  81.,  59.,  35.,  47.,  35.,  52.,  39.,  34.,  22.,  35.,\n",
       "         20.,  24.,  24.,  20.,  19.,  24.,  23.,  24.,  17.,  19.,  27.,\n",
       "          9.,  12.,  12.,   9.,  13.,   4.,   6.,  20.,   9.,  14.,  15.,\n",
       "         10.,  14.,   7.,   5.,  10.,   4.,  10.,  15.,   7.,  16.,   7.,\n",
       "          1.,  11.,   9.,  10.,  13.,   5.,  21.,   5.,   9.,   3.,   9.,\n",
       "          9.,   5.,   2.,  10.,   4.,   8.,  10.,   4.,   4.,   7.,   5.,\n",
       "          8.,   5.,   7.,   4.,   6.,   9.,   3.,   4.,   8.,   4.,  13.,\n",
       "          6.]),\n",
       " array([-0.76962276, -0.7091282 , -0.64863365, -0.58813909, -0.52764453,\n",
       "        -0.46714998, -0.40665542, -0.34616087, -0.28566631, -0.22517175,\n",
       "        -0.1646772 , -0.10418264, -0.04368808,  0.01680647,  0.07730103,\n",
       "         0.13779559,  0.19829014,  0.2587847 ,  0.31927926,  0.37977381,\n",
       "         0.44026837,  0.50076292,  0.56125748,  0.62175204,  0.68224659,\n",
       "         0.74274115,  0.80323571,  0.86373026,  0.92422482,  0.98471938,\n",
       "         1.04521393,  1.10570849,  1.16620304,  1.2266976 ,  1.28719216,\n",
       "         1.34768671,  1.40818127,  1.46867583,  1.52917038,  1.58966494,\n",
       "         1.6501595 ,  1.71065405,  1.77114861,  1.83164317,  1.89213772,\n",
       "         1.95263228,  2.01312683,  2.07362139,  2.13411595,  2.1946105 ,\n",
       "         2.25510506,  2.31559962,  2.37609417,  2.43658873,  2.49708329,\n",
       "         2.55757784,  2.6180724 ,  2.67856695,  2.73906151,  2.79955607,\n",
       "         2.86005062,  2.92054518,  2.98103974,  3.04153429,  3.10202885,\n",
       "         3.16252341,  3.22301796,  3.28351252,  3.34400708,  3.40450163,\n",
       "         3.46499619,  3.52549074,  3.5859853 ,  3.64647986,  3.70697441,\n",
       "         3.76746897,  3.82796353,  3.88845808,  3.94895264,  4.0094472 ,\n",
       "         4.06994175,  4.13043631,  4.19093086,  4.25142542,  4.31191998,\n",
       "         4.37241453,  4.43290909,  4.49340365,  4.5538982 ,  4.61439276,\n",
       "         4.67488732,  4.73538187,  4.79587643,  4.85637099,  4.91686554,\n",
       "         4.9773601 ,  5.03785465,  5.09834921,  5.15884377,  5.21933832,\n",
       "         5.27983288]),\n",
       " <a list of 100 Patch objects>)"
      ]
     },
     "execution_count": 14,
     "metadata": {},
     "output_type": "execute_result"
    },
    {
     "data": {
      "image/png": "[encoded data removed]",
      "text/plain": [
       "<Figure size 432x288 with 1 Axes>"
      ]
     },
     "metadata": {
      "needs_background": "light"
     },
     "output_type": "display_data"
    }
   ],
   "source": [
    "plt.hist(sale_price_percent_standardize[0], bins=100)"
   ]
  },
  {
   "cell_type": "markdown",
   "metadata": {},
   "source": [
    "## Gaussian distribution Test\n"
   ]
  },
  {
   "cell_type": "markdown",
   "metadata": {},
   "source": [
    "**setting a significance threshold : alpha = 0.05**"
   ]
  },
  {
   "cell_type": "code",
   "execution_count": 15,
   "metadata": {
    "ExecuteTime": {
     "end_time": "2019-05-07T15:36:35.998257Z",
     "start_time": "2019-05-07T15:36:35.994541Z"
    }
   },
   "outputs": [],
   "source": [
    "alpha = 0.05"
   ]
  },
  {
   "cell_type": "markdown",
   "metadata": {},
   "source": [
    "**declaring the null hypothesis**  \n",
    "Null Hypothesis: the vairiable sample for the feature is drawn from a Gaussian distribution, p-value 0.05"
   ]
  },
  {
   "cell_type": "markdown",
   "metadata": {},
   "source": [
    "### testing\n",
    "\n",
    "**Note** this can be answered with a KS test, in which case the data has to be standardized, or with an Anderson Darling test.\n",
    "### KS test"
   ]
  },
  {
   "cell_type": "code",
   "execution_count": 16,
   "metadata": {
    "ExecuteTime": {
     "end_time": "2019-05-07T15:36:36.736401Z",
     "start_time": "2019-05-07T15:36:36.000289Z"
    }
   },
   "outputs": [],
   "source": [
    "import scipy as sp\n",
    "from scipy import stats"
   ]
  },
  {
   "cell_type": "code",
   "execution_count": 17,
   "metadata": {
    "ExecuteTime": {
     "end_time": "2019-05-07T15:36:36.755278Z",
     "start_time": "2019-05-07T15:36:36.739348Z"
    }
   },
   "outputs": [
    {
     "name": "stdout",
     "output_type": "stream",
     "text": [
      "0.0\n",
      "we reject the Null hypothesis that the samples are drawn from a Gaussian distribution at a p-value of 0.05\n"
     ]
    }
   ],
   "source": [
    "p = sp.stats.kstest((sale_price_percent - np.mean(sale_price_percent))/\n",
    "                np.std(sale_price_percent), \"norm\")[1]\n",
    "print(p)\n",
    "if p > alpha:\n",
    "    print(\"the Null hypothesis that the samples are drawn from a Gaussian distribution cannot be rejected\")\n",
    "else: \n",
    "    print(\"we reject the Null hypothesis that the samples are drawn from a Gaussian distribution at a p-value of\", alpha)"
   ]
  },
  {
   "cell_type": "code",
   "execution_count": 18,
   "metadata": {
    "ExecuteTime": {
     "end_time": "2019-05-07T15:36:36.788254Z",
     "start_time": "2019-05-07T15:36:36.775281Z"
    }
   },
   "outputs": [
    {
     "name": "stdout",
     "output_type": "stream",
     "text": [
      "4.931562418502016e-80\n",
      "we reject the Null hypothesis that the samples are drawn from a Gaussian distribution at a p-value of 0.05\n"
     ]
    }
   ],
   "source": [
    "p = sp.stats.kstest((sale_price_percent_log - np.mean(sale_price_percent_log))/\n",
    "                np.std(sale_price_percent_log), \"norm\")[1]\n",
    "print(p)\n",
    "if p > alpha:\n",
    "    print(\"the Null hypothesis that the samples are drawn from a Gaussian distribution cannot be rejected\")\n",
    "else: \n",
    "    print(\"we reject the Null hypothesis that the samples are drawn from a Gaussian distribution at a p-value of\", alpha)"
   ]
  },
  {
   "cell_type": "markdown",
   "metadata": {},
   "source": [
    "### AD test"
   ]
  },
  {
   "cell_type": "code",
   "execution_count": 19,
   "metadata": {
    "ExecuteTime": {
     "end_time": "2019-05-07T15:36:36.811275Z",
     "start_time": "2019-05-07T15:36:36.794197Z"
    }
   },
   "outputs": [
    {
     "name": "stdout",
     "output_type": "stream",
     "text": [
      "we reject the Null hypothesis that the samples are drawn from a Gaussian distribution at a p-value of 0.05\n"
     ]
    }
   ],
   "source": [
    "ad = sp.stats.anderson(sale_price_percent, \"norm\")\n",
    "if ad[0] < ad[1][ad[2] == int(alpha * 100)]:\n",
    "     print(\"the Null hypothesis that the samples are drawn from a Gaussian distribution cannot be rejected\")\n",
    "else: \n",
    "    print(\"we reject the Null hypothesis that the samples are drawn from a Gaussian distribution at a p-value of\", alpha)\n"
   ]
  },
  {
   "cell_type": "code",
   "execution_count": 20,
   "metadata": {
    "ExecuteTime": {
     "end_time": "2019-05-07T15:36:36.829451Z",
     "start_time": "2019-05-07T15:36:36.816502Z"
    }
   },
   "outputs": [
    {
     "name": "stdout",
     "output_type": "stream",
     "text": [
      "we reject the Null hypothesis that the samples are drawn from a Gaussian distribution at a p-value of 0.05\n"
     ]
    }
   ],
   "source": [
    "ad = sp.stats.anderson(sale_price_percent_log, \"norm\")\n",
    "if ad[0] < ad[1][ad[2] == int(alpha * 100)]:\n",
    "     print(\"the Null hypothesis that the samples are drawn from a Gaussian distribution cannot be rejected\")\n",
    "else: \n",
    "    print(\"we reject the Null hypothesis that the samples are drawn from a Gaussian distribution at a p-value of\", alpha)\n"
   ]
  },
  {
   "cell_type": "markdown",
   "metadata": {},
   "source": [
    "### other test"
   ]
  },
  {
   "cell_type": "code",
   "execution_count": 21,
   "metadata": {
    "ExecuteTime": {
     "end_time": "2019-05-07T15:36:36.846459Z",
     "start_time": "2019-05-07T15:36:36.834464Z"
    }
   },
   "outputs": [
    {
     "data": {
      "text/plain": [
       "<scipy.stats._distn_infrastructure.rv_frozen at 0x1c8e6a767b8>"
      ]
     },
     "execution_count": 21,
     "metadata": {},
     "output_type": "execute_result"
    }
   ],
   "source": [
    "sp.stats.gamma(sale_price_percent)"
   ]
  },
  {
   "cell_type": "code",
   "execution_count": 22,
   "metadata": {
    "ExecuteTime": {
     "end_time": "2019-05-07T15:36:36.866534Z",
     "start_time": "2019-05-07T15:36:36.850481Z"
    }
   },
   "outputs": [
    {
     "data": {
      "text/plain": [
       "Power_divergenceResult(statistic=14149032436.588583, pvalue=0.0)"
      ]
     },
     "execution_count": 22,
     "metadata": {},
     "output_type": "execute_result"
    }
   ],
   "source": [
    "# https://docs.scipy.org/doc/scipy-0.14.0/reference/generated/scipy.stats.chisquare.html\n",
    "sp.stats.chisquare(sale_price_percent)"
   ]
  },
  {
   "cell_type": "code",
   "execution_count": 23,
   "metadata": {
    "ExecuteTime": {
     "end_time": "2019-05-07T15:36:36.886525Z",
     "start_time": "2019-05-07T15:36:36.869525Z"
    }
   },
   "outputs": [
    {
     "data": {
      "text/plain": [
       "Power_divergenceResult(statistic=151.97065630836238, pvalue=1.0)"
      ]
     },
     "execution_count": 23,
     "metadata": {},
     "output_type": "execute_result"
    }
   ],
   "source": [
    "sp.stats.chisquare(sale_price_percent_log)"
   ]
  },
  {
   "cell_type": "markdown",
   "metadata": {},
   "source": [
    "## Cleaning"
   ]
  },
  {
   "cell_type": "markdown",
   "metadata": {},
   "source": [
    "### Extremum filter"
   ]
  },
  {
   "cell_type": "code",
   "execution_count": 24,
   "metadata": {
    "ExecuteTime": {
     "end_time": "2019-05-07T15:36:36.907678Z",
     "start_time": "2019-05-07T15:36:36.889598Z"
    }
   },
   "outputs": [],
   "source": [
    "sale_price = sorted(df['SALE PRICE'])"
   ]
  },
  {
   "cell_type": "code",
   "execution_count": 25,
   "metadata": {
    "ExecuteTime": {
     "end_time": "2019-05-07T15:36:36.928678Z",
     "start_time": "2019-05-07T15:36:36.910628Z"
    }
   },
   "outputs": [
    {
     "data": {
      "text/plain": [
       "0.03419572553430821"
      ]
     },
     "execution_count": 25,
     "metadata": {},
     "output_type": "execute_result"
    }
   ],
   "source": [
    "# percent_right = 0.9973 # 3 std\n",
    "percent_right = 0.9545 # 2 std\n",
    "percent_left = len(list(filter(lambda x: x<200000, sale_price)))/len(sale_price)\n",
    "percent_left"
   ]
  },
  {
   "cell_type": "code",
   "execution_count": 26,
   "metadata": {
    "ExecuteTime": {
     "end_time": "2019-05-07T15:36:36.946595Z",
     "start_time": "2019-05-07T15:36:36.932045Z"
    }
   },
   "outputs": [],
   "source": [
    "price_left = sale_price[int(len(sale_price) * percent_left)]\n",
    "price_right = sale_price[int(len(sale_price) * percent_right)]"
   ]
  },
  {
   "cell_type": "code",
   "execution_count": 27,
   "metadata": {
    "ExecuteTime": {
     "end_time": "2019-05-07T15:36:37.030723Z",
     "start_time": "2019-05-07T15:36:36.949490Z"
    }
   },
   "outputs": [
    {
     "name": "stdout",
     "output_type": "stream",
     "text": [
      "(8177, 61)\n"
     ]
    },
    {
     "data": {
      "text/html": [
       "<div>\n",
       "<style scoped>\n",
       "    .dataframe tbody tr th:only-of-type {\n",
       "        vertical-align: middle;\n",
       "    }\n",
       "\n",
       "    .dataframe tbody tr th {\n",
       "        vertical-align: top;\n",
       "    }\n",
       "\n",
       "    .dataframe thead th {\n",
       "        text-align: right;\n",
       "    }\n",
       "</style>\n",
       "<table border=\"1\" class=\"dataframe\">\n",
       "  <thead>\n",
       "    <tr style=\"text-align: right;\">\n",
       "      <th></th>\n",
       "      <th>SALE PRICE</th>\n",
       "      <th>SALE DATE</th>\n",
       "      <th>histdist</th>\n",
       "      <th>landmark</th>\n",
       "      <th>landuse</th>\n",
       "      <th>YEAR BUILT</th>\n",
       "      <th>RESIDENTIAL UNITS</th>\n",
       "      <th>COMMERCIAL UNITS</th>\n",
       "      <th>TOTAL UNITS</th>\n",
       "      <th>LAND SQUARE FEET</th>\n",
       "      <th>...</th>\n",
       "      <th>park_area</th>\n",
       "      <th>park_top_level</th>\n",
       "      <th>park_distance</th>\n",
       "      <th>FELONY</th>\n",
       "      <th>VIOLATION</th>\n",
       "      <th>MISDEMEANOR</th>\n",
       "      <th>Num of SAT Test Takers</th>\n",
       "      <th>satReadingSum</th>\n",
       "      <th>satMathSum</th>\n",
       "      <th>satWritingSum</th>\n",
       "    </tr>\n",
       "  </thead>\n",
       "  <tbody>\n",
       "    <tr>\n",
       "      <th>0</th>\n",
       "      <td>3750000</td>\n",
       "      <td>2018-08-01 00:00:00</td>\n",
       "      <td>Mount Morris Park Historic District</td>\n",
       "      <td>0</td>\n",
       "      <td>2.0</td>\n",
       "      <td>110.0</td>\n",
       "      <td>3.0</td>\n",
       "      <td>0.0</td>\n",
       "      <td>3.0</td>\n",
       "      <td>2018.0</td>\n",
       "      <td>...</td>\n",
       "      <td>22.051</td>\n",
       "      <td>2.0</td>\n",
       "      <td>0.001133</td>\n",
       "      <td>462.0</td>\n",
       "      <td>195.0</td>\n",
       "      <td>869.0</td>\n",
       "      <td>3825.0</td>\n",
       "      <td>498.0</td>\n",
       "      <td>525.0</td>\n",
       "      <td>496.0</td>\n",
       "    </tr>\n",
       "    <tr>\n",
       "      <th>1</th>\n",
       "      <td>5000000</td>\n",
       "      <td>2018-10-25 00:00:00</td>\n",
       "      <td>0</td>\n",
       "      <td>0</td>\n",
       "      <td>4.0</td>\n",
       "      <td>119.0</td>\n",
       "      <td>26.0</td>\n",
       "      <td>4.0</td>\n",
       "      <td>30.0</td>\n",
       "      <td>5060.0</td>\n",
       "      <td>...</td>\n",
       "      <td>179.671</td>\n",
       "      <td>2.0</td>\n",
       "      <td>0.001841</td>\n",
       "      <td>306.0</td>\n",
       "      <td>156.0</td>\n",
       "      <td>677.0</td>\n",
       "      <td>4005.0</td>\n",
       "      <td>441.0</td>\n",
       "      <td>487.0</td>\n",
       "      <td>442.0</td>\n",
       "    </tr>\n",
       "    <tr>\n",
       "      <th>2</th>\n",
       "      <td>5000000</td>\n",
       "      <td>2018-10-25 00:00:00</td>\n",
       "      <td>0</td>\n",
       "      <td>0</td>\n",
       "      <td>4.0</td>\n",
       "      <td>119.0</td>\n",
       "      <td>26.0</td>\n",
       "      <td>4.0</td>\n",
       "      <td>30.0</td>\n",
       "      <td>5060.0</td>\n",
       "      <td>...</td>\n",
       "      <td>179.671</td>\n",
       "      <td>2.0</td>\n",
       "      <td>0.001792</td>\n",
       "      <td>303.0</td>\n",
       "      <td>156.0</td>\n",
       "      <td>672.0</td>\n",
       "      <td>4005.0</td>\n",
       "      <td>441.0</td>\n",
       "      <td>487.0</td>\n",
       "      <td>442.0</td>\n",
       "    </tr>\n",
       "    <tr>\n",
       "      <th>4</th>\n",
       "      <td>2350000</td>\n",
       "      <td>2019-02-11 00:00:00</td>\n",
       "      <td>Upper East Side Historic District</td>\n",
       "      <td>0</td>\n",
       "      <td>3.0</td>\n",
       "      <td>116.0</td>\n",
       "      <td>0.0</td>\n",
       "      <td>0.0</td>\n",
       "      <td>0.0</td>\n",
       "      <td>0.0</td>\n",
       "      <td>...</td>\n",
       "      <td>844.633</td>\n",
       "      <td>3.0</td>\n",
       "      <td>0.001081</td>\n",
       "      <td>102.0</td>\n",
       "      <td>21.0</td>\n",
       "      <td>83.0</td>\n",
       "      <td>9100.0</td>\n",
       "      <td>451.0</td>\n",
       "      <td>476.0</td>\n",
       "      <td>447.0</td>\n",
       "    </tr>\n",
       "    <tr>\n",
       "      <th>5</th>\n",
       "      <td>950000</td>\n",
       "      <td>2018-05-23 00:00:00</td>\n",
       "      <td>Upper East Side Historic District</td>\n",
       "      <td>0</td>\n",
       "      <td>3.0</td>\n",
       "      <td>116.0</td>\n",
       "      <td>0.0</td>\n",
       "      <td>0.0</td>\n",
       "      <td>0.0</td>\n",
       "      <td>0.0</td>\n",
       "      <td>...</td>\n",
       "      <td>844.633</td>\n",
       "      <td>3.0</td>\n",
       "      <td>0.001081</td>\n",
       "      <td>102.0</td>\n",
       "      <td>21.0</td>\n",
       "      <td>83.0</td>\n",
       "      <td>9100.0</td>\n",
       "      <td>451.0</td>\n",
       "      <td>476.0</td>\n",
       "      <td>447.0</td>\n",
       "    </tr>\n",
       "  </tbody>\n",
       "</table>\n",
       "<p>5 rows × 61 columns</p>\n",
       "</div>"
      ],
      "text/plain": [
       "   SALE PRICE            SALE DATE                             histdist  \\\n",
       "0     3750000  2018-08-01 00:00:00  Mount Morris Park Historic District   \n",
       "1     5000000  2018-10-25 00:00:00                                    0   \n",
       "2     5000000  2018-10-25 00:00:00                                    0   \n",
       "4     2350000  2019-02-11 00:00:00    Upper East Side Historic District   \n",
       "5      950000  2018-05-23 00:00:00    Upper East Side Historic District   \n",
       "\n",
       "  landmark  landuse  YEAR BUILT  RESIDENTIAL UNITS  COMMERCIAL UNITS  \\\n",
       "0        0      2.0       110.0                3.0               0.0   \n",
       "1        0      4.0       119.0               26.0               4.0   \n",
       "2        0      4.0       119.0               26.0               4.0   \n",
       "4        0      3.0       116.0                0.0               0.0   \n",
       "5        0      3.0       116.0                0.0               0.0   \n",
       "\n",
       "   TOTAL UNITS  LAND SQUARE FEET      ...        park_area  park_top_level  \\\n",
       "0          3.0            2018.0      ...           22.051             2.0   \n",
       "1         30.0            5060.0      ...          179.671             2.0   \n",
       "2         30.0            5060.0      ...          179.671             2.0   \n",
       "4          0.0               0.0      ...          844.633             3.0   \n",
       "5          0.0               0.0      ...          844.633             3.0   \n",
       "\n",
       "   park_distance  FELONY  VIOLATION  MISDEMEANOR  Num of SAT Test Takers  \\\n",
       "0       0.001133   462.0      195.0        869.0                  3825.0   \n",
       "1       0.001841   306.0      156.0        677.0                  4005.0   \n",
       "2       0.001792   303.0      156.0        672.0                  4005.0   \n",
       "4       0.001081   102.0       21.0         83.0                  9100.0   \n",
       "5       0.001081   102.0       21.0         83.0                  9100.0   \n",
       "\n",
       "   satReadingSum  satMathSum  satWritingSum  \n",
       "0          498.0       525.0          496.0  \n",
       "1          441.0       487.0          442.0  \n",
       "2          441.0       487.0          442.0  \n",
       "4          451.0       476.0          447.0  \n",
       "5          451.0       476.0          447.0  \n",
       "\n",
       "[5 rows x 61 columns]"
      ]
     },
     "execution_count": 27,
     "metadata": {},
     "output_type": "execute_result"
    }
   ],
   "source": [
    "# fillna\n",
    "df = df.fillna(0)\n",
    "df = df[(df['SALE PRICE'] > price_left) \\\n",
    "         & (df['SALE PRICE'] < price_right)]\n",
    "print(df.shape)\n",
    "df.head()"
   ]
  },
  {
   "cell_type": "markdown",
   "metadata": {},
   "source": [
    "### Numeric & Categoric split"
   ]
  },
  {
   "cell_type": "code",
   "execution_count": 28,
   "metadata": {
    "ExecuteTime": {
     "end_time": "2019-05-07T15:36:37.040316Z",
     "start_time": "2019-05-07T15:36:37.032689Z"
    }
   },
   "outputs": [],
   "source": [
    "numeric_list = ['YEAR BUILT',\n",
    "       'RESIDENTIAL UNITS', 'COMMERCIAL UNITS', 'TOTAL UNITS',\n",
    "       'LAND SQUARE FEET', 'GROSS SQUARE FEET', 'easements', 'lotarea',\n",
    "       'bldgarea', 'comarea', 'resarea', 'officearea', 'retailarea',\n",
    "       'garagearea', 'strgearea', 'factryarea', 'otherarea', 'numbldgs',\n",
    "       'numfloors', 'unitsres', 'unitstotal', 'lotfront', 'lotdepth',\n",
    "       'bldgfront', 'bldgdepth', 'assessland', 'assesstot', 'exemptland',\n",
    "       'exempttot', 'builtfar', 'residfar', 'commfar', 'facilfar',\n",
    "       'DensityPop', 'IncomePerCap', 'Poverty', 'Professional', 'Service',\n",
    "       'Office', 'Construction', 'Production', 'Employed', 'Unemployment',\n",
    "       'distance_subway', 'distance_bus', 'park_num', 'park_area',\n",
    "       'park_top_level', 'park_distance', 'FELONY', 'VIOLATION', 'MISDEMEANOR',\n",
    "       'Num of SAT Test Takers', 'satReadingSum', 'satMathSum',\n",
    "       'satWritingSum']\n",
    "\n",
    "categoric_list = ['histdist', 'landmark', 'landuse']"
   ]
  },
  {
   "cell_type": "code",
   "execution_count": null,
   "metadata": {},
   "outputs": [],
   "source": []
  },
  {
   "cell_type": "markdown",
   "metadata": {},
   "source": [
    "## Standardize\n"
   ]
  },
  {
   "cell_type": "markdown",
   "metadata": {},
   "source": [
    "### method 1\n",
    "https://blog.csdn.net/FrankieHello/article/details/79659111"
   ]
  },
  {
   "cell_type": "code",
   "execution_count": 29,
   "metadata": {
    "ExecuteTime": {
     "end_time": "2019-05-07T15:36:39.446978Z",
     "start_time": "2019-05-07T15:36:37.042305Z"
    }
   },
   "outputs": [],
   "source": [
    "from sklearn.preprocessing import StandardScaler"
   ]
  },
  {
   "cell_type": "code",
   "execution_count": 30,
   "metadata": {
    "ExecuteTime": {
     "end_time": "2019-05-07T15:36:39.496120Z",
     "start_time": "2019-05-07T15:36:39.450087Z"
    }
   },
   "outputs": [],
   "source": [
    "ss = StandardScaler()\n",
    "std_data = ss.fit_transform(df[numeric_list])\n",
    "origin_data = ss.inverse_transform(std_data)"
   ]
  },
  {
   "cell_type": "markdown",
   "metadata": {},
   "source": [
    "### method 2\n",
    "https://stackoverflow.com/questions/26414913/normalize-columns-of-pandas-data-frame"
   ]
  },
  {
   "cell_type": "code",
   "execution_count": 31,
   "metadata": {
    "ExecuteTime": {
     "end_time": "2019-05-07T15:36:39.505097Z",
     "start_time": "2019-05-07T15:36:39.499112Z"
    }
   },
   "outputs": [],
   "source": [
    "def standardize(df):\n",
    "    return (df-df.mean())/df.std()"
   ]
  },
  {
   "cell_type": "code",
   "execution_count": 32,
   "metadata": {
    "ExecuteTime": {
     "end_time": "2019-05-07T15:36:39.518102Z",
     "start_time": "2019-05-07T15:36:39.507411Z"
    }
   },
   "outputs": [],
   "source": [
    "def standardize_inverse(df, mean, std):\n",
    "    return std * df + mean"
   ]
  },
  {
   "cell_type": "code",
   "execution_count": 33,
   "metadata": {
    "ExecuteTime": {
     "end_time": "2019-05-07T15:36:39.535999Z",
     "start_time": "2019-05-07T15:36:39.521003Z"
    },
    "scrolled": true
   },
   "outputs": [
    {
     "data": {
      "text/plain": [
       "0    0.657647\n",
       "1    0.859388\n",
       "2    0.859388\n",
       "4    0.792141\n",
       "5    0.792141\n",
       "Name: YEAR BUILT, dtype: float64"
      ]
     },
     "execution_count": 33,
     "metadata": {},
     "output_type": "execute_result"
    }
   ],
   "source": [
    "temp = standardize(df['YEAR BUILT'])\n",
    "temp.head()"
   ]
  },
  {
   "cell_type": "code",
   "execution_count": 34,
   "metadata": {
    "ExecuteTime": {
     "end_time": "2019-05-07T15:36:39.550058Z",
     "start_time": "2019-05-07T15:36:39.538954Z"
    }
   },
   "outputs": [],
   "source": [
    "mean, std = df['YEAR BUILT'].mean(), df['YEAR BUILT'].std()"
   ]
  },
  {
   "cell_type": "code",
   "execution_count": 35,
   "metadata": {
    "ExecuteTime": {
     "end_time": "2019-05-07T15:36:39.566274Z",
     "start_time": "2019-05-07T15:36:39.551971Z"
    },
    "scrolled": true
   },
   "outputs": [
    {
     "data": {
      "text/plain": [
       "0    110.0\n",
       "1    119.0\n",
       "2    119.0\n",
       "4    116.0\n",
       "5    116.0\n",
       "Name: YEAR BUILT, dtype: float64"
      ]
     },
     "execution_count": 35,
     "metadata": {},
     "output_type": "execute_result"
    }
   ],
   "source": [
    "standardize_inverse(temp, mean, std).head()"
   ]
  },
  {
   "cell_type": "code",
   "execution_count": null,
   "metadata": {},
   "outputs": [],
   "source": []
  },
  {
   "cell_type": "code",
   "execution_count": 36,
   "metadata": {
    "ExecuteTime": {
     "end_time": "2019-05-07T15:36:39.949385Z",
     "start_time": "2019-05-07T15:36:39.569321Z"
    },
    "scrolled": true
   },
   "outputs": [
    {
     "data": {
      "text/html": [
       "<div>\n",
       "<style scoped>\n",
       "    .dataframe tbody tr th:only-of-type {\n",
       "        vertical-align: middle;\n",
       "    }\n",
       "\n",
       "    .dataframe tbody tr th {\n",
       "        vertical-align: top;\n",
       "    }\n",
       "\n",
       "    .dataframe thead th {\n",
       "        text-align: right;\n",
       "    }\n",
       "</style>\n",
       "<table border=\"1\" class=\"dataframe\">\n",
       "  <thead>\n",
       "    <tr style=\"text-align: right;\">\n",
       "      <th></th>\n",
       "      <th>YEAR BUILT</th>\n",
       "      <th>RESIDENTIAL UNITS</th>\n",
       "      <th>COMMERCIAL UNITS</th>\n",
       "      <th>TOTAL UNITS</th>\n",
       "      <th>LAND SQUARE FEET</th>\n",
       "      <th>GROSS SQUARE FEET</th>\n",
       "      <th>easements</th>\n",
       "      <th>lotarea</th>\n",
       "      <th>bldgarea</th>\n",
       "      <th>comarea</th>\n",
       "      <th>...</th>\n",
       "      <th>park_area</th>\n",
       "      <th>park_top_level</th>\n",
       "      <th>park_distance</th>\n",
       "      <th>FELONY</th>\n",
       "      <th>VIOLATION</th>\n",
       "      <th>MISDEMEANOR</th>\n",
       "      <th>Num of SAT Test Takers</th>\n",
       "      <th>satReadingSum</th>\n",
       "      <th>satMathSum</th>\n",
       "      <th>satWritingSum</th>\n",
       "    </tr>\n",
       "  </thead>\n",
       "  <tbody>\n",
       "    <tr>\n",
       "      <th>count</th>\n",
       "      <td>8.177000e+03</td>\n",
       "      <td>8.177000e+03</td>\n",
       "      <td>8.177000e+03</td>\n",
       "      <td>8.177000e+03</td>\n",
       "      <td>8.177000e+03</td>\n",
       "      <td>8.177000e+03</td>\n",
       "      <td>8.177000e+03</td>\n",
       "      <td>8.177000e+03</td>\n",
       "      <td>8.177000e+03</td>\n",
       "      <td>8.177000e+03</td>\n",
       "      <td>...</td>\n",
       "      <td>8.177000e+03</td>\n",
       "      <td>8.177000e+03</td>\n",
       "      <td>8.177000e+03</td>\n",
       "      <td>8.177000e+03</td>\n",
       "      <td>8.177000e+03</td>\n",
       "      <td>8.177000e+03</td>\n",
       "      <td>8.177000e+03</td>\n",
       "      <td>8.177000e+03</td>\n",
       "      <td>8.177000e+03</td>\n",
       "      <td>8.177000e+03</td>\n",
       "    </tr>\n",
       "    <tr>\n",
       "      <th>mean</th>\n",
       "      <td>9.643747e-16</td>\n",
       "      <td>-6.243766e-16</td>\n",
       "      <td>-1.363000e-17</td>\n",
       "      <td>-2.556517e-15</td>\n",
       "      <td>4.273612e-15</td>\n",
       "      <td>2.662679e-15</td>\n",
       "      <td>-2.647003e-15</td>\n",
       "      <td>-1.259221e-15</td>\n",
       "      <td>2.761505e-15</td>\n",
       "      <td>-6.708248e-15</td>\n",
       "      <td>...</td>\n",
       "      <td>-4.322470e-15</td>\n",
       "      <td>-7.491460e-16</td>\n",
       "      <td>-6.661012e-15</td>\n",
       "      <td>9.863158e-16</td>\n",
       "      <td>-2.919138e-15</td>\n",
       "      <td>-4.292084e-16</td>\n",
       "      <td>-1.098465e-15</td>\n",
       "      <td>4.528982e-15</td>\n",
       "      <td>2.806718e-15</td>\n",
       "      <td>-1.651010e-15</td>\n",
       "    </tr>\n",
       "    <tr>\n",
       "      <th>std</th>\n",
       "      <td>1.000000e+00</td>\n",
       "      <td>1.000000e+00</td>\n",
       "      <td>1.000000e+00</td>\n",
       "      <td>1.000000e+00</td>\n",
       "      <td>1.000000e+00</td>\n",
       "      <td>1.000000e+00</td>\n",
       "      <td>1.000000e+00</td>\n",
       "      <td>1.000000e+00</td>\n",
       "      <td>1.000000e+00</td>\n",
       "      <td>1.000000e+00</td>\n",
       "      <td>...</td>\n",
       "      <td>1.000000e+00</td>\n",
       "      <td>1.000000e+00</td>\n",
       "      <td>1.000000e+00</td>\n",
       "      <td>1.000000e+00</td>\n",
       "      <td>1.000000e+00</td>\n",
       "      <td>1.000000e+00</td>\n",
       "      <td>1.000000e+00</td>\n",
       "      <td>1.000000e+00</td>\n",
       "      <td>1.000000e+00</td>\n",
       "      <td>1.000000e+00</td>\n",
       "    </tr>\n",
       "    <tr>\n",
       "      <th>min</th>\n",
       "      <td>-1.808083e+00</td>\n",
       "      <td>-1.155659e-01</td>\n",
       "      <td>-5.069312e-02</td>\n",
       "      <td>-1.240927e-01</td>\n",
       "      <td>-1.510247e-01</td>\n",
       "      <td>-1.075416e-01</td>\n",
       "      <td>-8.881221e-02</td>\n",
       "      <td>-5.719218e-01</td>\n",
       "      <td>-6.385392e-01</td>\n",
       "      <td>-4.264144e-01</td>\n",
       "      <td>...</td>\n",
       "      <td>-5.324343e-01</td>\n",
       "      <td>-3.543299e+00</td>\n",
       "      <td>-1.341697e+00</td>\n",
       "      <td>-1.912896e+00</td>\n",
       "      <td>-2.043942e+00</td>\n",
       "      <td>-1.778845e+00</td>\n",
       "      <td>-3.042027e+00</td>\n",
       "      <td>-2.126634e+01</td>\n",
       "      <td>-2.223183e+01</td>\n",
       "      <td>-2.072371e+01</td>\n",
       "    </tr>\n",
       "    <tr>\n",
       "      <th>25%</th>\n",
       "      <td>-4.855552e-01</td>\n",
       "      <td>-1.155659e-01</td>\n",
       "      <td>-5.069312e-02</td>\n",
       "      <td>-1.240927e-01</td>\n",
       "      <td>-1.510247e-01</td>\n",
       "      <td>-1.075416e-01</td>\n",
       "      <td>-8.881221e-02</td>\n",
       "      <td>-5.063384e-01</td>\n",
       "      <td>-5.578551e-01</td>\n",
       "      <td>-4.264144e-01</td>\n",
       "      <td>...</td>\n",
       "      <td>-5.195060e-01</td>\n",
       "      <td>3.522949e-02</td>\n",
       "      <td>-7.786123e-01</td>\n",
       "      <td>-8.095546e-01</td>\n",
       "      <td>-7.638155e-01</td>\n",
       "      <td>-7.699792e-01</td>\n",
       "      <td>-1.396516e+00</td>\n",
       "      <td>-1.803202e-01</td>\n",
       "      <td>-2.927761e-01</td>\n",
       "      <td>-2.091018e-01</td>\n",
       "    </tr>\n",
       "    <tr>\n",
       "      <th>50%</th>\n",
       "      <td>-1.482502e-02</td>\n",
       "      <td>-1.155659e-01</td>\n",
       "      <td>-5.069312e-02</td>\n",
       "      <td>-1.240927e-01</td>\n",
       "      <td>-1.510247e-01</td>\n",
       "      <td>-1.075416e-01</td>\n",
       "      <td>-8.881221e-02</td>\n",
       "      <td>-4.470948e-01</td>\n",
       "      <td>-3.792678e-01</td>\n",
       "      <td>-3.910887e-01</td>\n",
       "      <td>...</td>\n",
       "      <td>-4.951057e-01</td>\n",
       "      <td>3.522949e-02</td>\n",
       "      <td>-2.969712e-01</td>\n",
       "      <td>-2.421218e-01</td>\n",
       "      <td>-1.147373e-01</td>\n",
       "      <td>-8.689313e-02</td>\n",
       "      <td>6.968360e-01</td>\n",
       "      <td>-1.803202e-01</td>\n",
       "      <td>-2.927761e-01</td>\n",
       "      <td>-2.091018e-01</td>\n",
       "    </tr>\n",
       "    <tr>\n",
       "      <th>75%</th>\n",
       "      <td>4.110737e-01</td>\n",
       "      <td>-1.155659e-01</td>\n",
       "      <td>-5.069312e-02</td>\n",
       "      <td>-1.240927e-01</td>\n",
       "      <td>-1.510247e-01</td>\n",
       "      <td>-1.075416e-01</td>\n",
       "      <td>-8.881221e-02</td>\n",
       "      <td>-2.265161e-01</td>\n",
       "      <td>-4.735956e-02</td>\n",
       "      <td>-2.024288e-01</td>\n",
       "      <td>...</td>\n",
       "      <td>1.918471e-01</td>\n",
       "      <td>3.522949e-02</td>\n",
       "      <td>5.912108e-01</td>\n",
       "      <td>6.909900e-01</td>\n",
       "      <td>6.244908e-01</td>\n",
       "      <td>6.312230e-01</td>\n",
       "      <td>6.968360e-01</td>\n",
       "      <td>-1.803202e-01</td>\n",
       "      <td>-2.927761e-01</td>\n",
       "      <td>-2.091018e-01</td>\n",
       "    </tr>\n",
       "    <tr>\n",
       "      <th>max</th>\n",
       "      <td>4.344926e+01</td>\n",
       "      <td>3.937318e+01</td>\n",
       "      <td>7.638898e+01</td>\n",
       "      <td>3.810849e+01</td>\n",
       "      <td>3.749889e+01</td>\n",
       "      <td>3.316728e+01</td>\n",
       "      <td>1.125834e+01</td>\n",
       "      <td>2.865521e+00</td>\n",
       "      <td>3.284094e+00</td>\n",
       "      <td>1.408207e+01</td>\n",
       "      <td>...</td>\n",
       "      <td>2.778466e+00</td>\n",
       "      <td>1.824494e+00</td>\n",
       "      <td>4.036350e+00</td>\n",
       "      <td>6.560767e+00</td>\n",
       "      <td>4.663200e+00</td>\n",
       "      <td>8.337835e+00</td>\n",
       "      <td>6.968360e-01</td>\n",
       "      <td>2.017114e+00</td>\n",
       "      <td>1.965656e+00</td>\n",
       "      <td>2.039703e+00</td>\n",
       "    </tr>\n",
       "  </tbody>\n",
       "</table>\n",
       "<p>8 rows × 56 columns</p>\n",
       "</div>"
      ],
      "text/plain": [
       "         YEAR BUILT  RESIDENTIAL UNITS  COMMERCIAL UNITS   TOTAL UNITS  \\\n",
       "count  8.177000e+03       8.177000e+03      8.177000e+03  8.177000e+03   \n",
       "mean   9.643747e-16      -6.243766e-16     -1.363000e-17 -2.556517e-15   \n",
       "std    1.000000e+00       1.000000e+00      1.000000e+00  1.000000e+00   \n",
       "min   -1.808083e+00      -1.155659e-01     -5.069312e-02 -1.240927e-01   \n",
       "25%   -4.855552e-01      -1.155659e-01     -5.069312e-02 -1.240927e-01   \n",
       "50%   -1.482502e-02      -1.155659e-01     -5.069312e-02 -1.240927e-01   \n",
       "75%    4.110737e-01      -1.155659e-01     -5.069312e-02 -1.240927e-01   \n",
       "max    4.344926e+01       3.937318e+01      7.638898e+01  3.810849e+01   \n",
       "\n",
       "       LAND SQUARE FEET  GROSS SQUARE FEET     easements       lotarea  \\\n",
       "count      8.177000e+03       8.177000e+03  8.177000e+03  8.177000e+03   \n",
       "mean       4.273612e-15       2.662679e-15 -2.647003e-15 -1.259221e-15   \n",
       "std        1.000000e+00       1.000000e+00  1.000000e+00  1.000000e+00   \n",
       "min       -1.510247e-01      -1.075416e-01 -8.881221e-02 -5.719218e-01   \n",
       "25%       -1.510247e-01      -1.075416e-01 -8.881221e-02 -5.063384e-01   \n",
       "50%       -1.510247e-01      -1.075416e-01 -8.881221e-02 -4.470948e-01   \n",
       "75%       -1.510247e-01      -1.075416e-01 -8.881221e-02 -2.265161e-01   \n",
       "max        3.749889e+01       3.316728e+01  1.125834e+01  2.865521e+00   \n",
       "\n",
       "           bldgarea       comarea      ...           park_area  \\\n",
       "count  8.177000e+03  8.177000e+03      ...        8.177000e+03   \n",
       "mean   2.761505e-15 -6.708248e-15      ...       -4.322470e-15   \n",
       "std    1.000000e+00  1.000000e+00      ...        1.000000e+00   \n",
       "min   -6.385392e-01 -4.264144e-01      ...       -5.324343e-01   \n",
       "25%   -5.578551e-01 -4.264144e-01      ...       -5.195060e-01   \n",
       "50%   -3.792678e-01 -3.910887e-01      ...       -4.951057e-01   \n",
       "75%   -4.735956e-02 -2.024288e-01      ...        1.918471e-01   \n",
       "max    3.284094e+00  1.408207e+01      ...        2.778466e+00   \n",
       "\n",
       "       park_top_level  park_distance        FELONY     VIOLATION  \\\n",
       "count    8.177000e+03   8.177000e+03  8.177000e+03  8.177000e+03   \n",
       "mean    -7.491460e-16  -6.661012e-15  9.863158e-16 -2.919138e-15   \n",
       "std      1.000000e+00   1.000000e+00  1.000000e+00  1.000000e+00   \n",
       "min     -3.543299e+00  -1.341697e+00 -1.912896e+00 -2.043942e+00   \n",
       "25%      3.522949e-02  -7.786123e-01 -8.095546e-01 -7.638155e-01   \n",
       "50%      3.522949e-02  -2.969712e-01 -2.421218e-01 -1.147373e-01   \n",
       "75%      3.522949e-02   5.912108e-01  6.909900e-01  6.244908e-01   \n",
       "max      1.824494e+00   4.036350e+00  6.560767e+00  4.663200e+00   \n",
       "\n",
       "        MISDEMEANOR  Num of SAT Test Takers  satReadingSum    satMathSum  \\\n",
       "count  8.177000e+03            8.177000e+03   8.177000e+03  8.177000e+03   \n",
       "mean  -4.292084e-16           -1.098465e-15   4.528982e-15  2.806718e-15   \n",
       "std    1.000000e+00            1.000000e+00   1.000000e+00  1.000000e+00   \n",
       "min   -1.778845e+00           -3.042027e+00  -2.126634e+01 -2.223183e+01   \n",
       "25%   -7.699792e-01           -1.396516e+00  -1.803202e-01 -2.927761e-01   \n",
       "50%   -8.689313e-02            6.968360e-01  -1.803202e-01 -2.927761e-01   \n",
       "75%    6.312230e-01            6.968360e-01  -1.803202e-01 -2.927761e-01   \n",
       "max    8.337835e+00            6.968360e-01   2.017114e+00  1.965656e+00   \n",
       "\n",
       "       satWritingSum  \n",
       "count   8.177000e+03  \n",
       "mean   -1.651010e-15  \n",
       "std     1.000000e+00  \n",
       "min    -2.072371e+01  \n",
       "25%    -2.091018e-01  \n",
       "50%    -2.091018e-01  \n",
       "75%    -2.091018e-01  \n",
       "max     2.039703e+00  \n",
       "\n",
       "[8 rows x 56 columns]"
      ]
     },
     "execution_count": 36,
     "metadata": {},
     "output_type": "execute_result"
    }
   ],
   "source": [
    "df[numeric_list] = df[numeric_list].apply(standardize)\n",
    "standardized_describe = df[numeric_list].describe()\n",
    "standardized_describe"
   ]
  },
  {
   "cell_type": "markdown",
   "metadata": {},
   "source": [
    "## Train & Test split\n"
   ]
  },
  {
   "cell_type": "code",
   "execution_count": 37,
   "metadata": {
    "ExecuteTime": {
     "end_time": "2019-05-07T15:36:39.957318Z",
     "start_time": "2019-05-07T15:36:39.951334Z"
    }
   },
   "outputs": [
    {
     "data": {
      "text/plain": [
       "8177"
      ]
     },
     "execution_count": 37,
     "metadata": {},
     "output_type": "execute_result"
    }
   ],
   "source": [
    "6465 + 1712 "
   ]
  },
  {
   "cell_type": "code",
   "execution_count": 38,
   "metadata": {
    "ExecuteTime": {
     "end_time": "2019-05-07T15:36:39.984308Z",
     "start_time": "2019-05-07T15:36:39.959550Z"
    },
    "scrolled": false
   },
   "outputs": [
    {
     "name": "stdout",
     "output_type": "stream",
     "text": [
      "(6465, 61)\n"
     ]
    }
   ],
   "source": [
    "train_df = df[list(map(lambda x: x[:4] == '2018', df['SALE DATE']))]\n",
    "print(train_df.shape)"
   ]
  },
  {
   "cell_type": "code",
   "execution_count": 39,
   "metadata": {
    "ExecuteTime": {
     "end_time": "2019-05-07T15:36:40.001487Z",
     "start_time": "2019-05-07T15:36:39.986303Z"
    }
   },
   "outputs": [
    {
     "name": "stdout",
     "output_type": "stream",
     "text": [
      "(1712, 61)\n"
     ]
    }
   ],
   "source": [
    "test_df = df[list(map(lambda x: x[:4] == '2019', df['SALE DATE']))]\n",
    "print(test_df.shape)"
   ]
  },
  {
   "cell_type": "code",
   "execution_count": 40,
   "metadata": {
    "ExecuteTime": {
     "end_time": "2019-05-07T15:36:40.023520Z",
     "start_time": "2019-05-07T15:36:40.004445Z"
    }
   },
   "outputs": [
    {
     "name": "stdout",
     "output_type": "stream",
     "text": [
      "(6465, 1)\n",
      "(6465, 56)\n",
      "(6465, 3)\n",
      "(1712, 1)\n",
      "(1712, 56)\n",
      "(1712, 3)\n"
     ]
    }
   ],
   "source": [
    "# train data\n",
    "Y_train = train_df[['SALE PRICE']]\n",
    "X_train_numeric = train_df[numeric_list]\n",
    "X__train_categoric = train_df[categoric_list]\n",
    "\n",
    "# test data\n",
    "Y_test = test_df[['SALE PRICE']]\n",
    "X_test_numeric = test_df[numeric_list]\n",
    "X_test_categoric = test_df[categoric_list]\n",
    "\n",
    "print(Y_train.shape)\n",
    "print(X_train_numeric.shape)\n",
    "print(X__train_categoric.shape)\n",
    "\n",
    "print(Y_test.shape)\n",
    "print(X_test_numeric.shape)\n",
    "print(X_test_categoric.shape)"
   ]
  },
  {
   "cell_type": "markdown",
   "metadata": {},
   "source": [
    "## Whitening"
   ]
  },
  {
   "cell_type": "markdown",
   "metadata": {},
   "source": [
    "http://ufldl.stanford.edu/tutorial/unsupervised/PCAWhitening/"
   ]
  },
  {
   "cell_type": "code",
   "execution_count": null,
   "metadata": {},
   "outputs": [],
   "source": []
  },
  {
   "cell_type": "markdown",
   "metadata": {},
   "source": [
    "## PCA"
   ]
  },
  {
   "cell_type": "markdown",
   "metadata": {},
   "source": [
    "https://www.analyticsvidhya.com/blog/2016/03/practical-guide-principal-component-analysis-python/  \n",
    "https://stackoverflow.com/questions/26182329/how-do-i-convert-new-data-into-the-pca-components-of-my-training-data"
   ]
  },
  {
   "cell_type": "markdown",
   "metadata": {},
   "source": [
    "n_components：  \n",
    "默认值为保留所有特征值维度，即不进行主成分降维；  \n",
    "取大于等于1的整数时，即指定我们希望降维后的维数；  \n",
    "取0-1的浮点数时，即指定降维后的方差和占比，比例越大，保留的信息越多。系统会自行计算保留的维度个数。  \n",
    "https://blog.csdn.net/Genius9_9/article/details/81098840  \n",
    "\n",
    "所以在实际使用PCA时，我们不需要选择k，而是直接设置n_components为float数据。  \n",
    "https://blog.csdn.net/ybdesire/article/details/64546435"
   ]
  },
  {
   "cell_type": "code",
   "execution_count": 41,
   "metadata": {
    "ExecuteTime": {
     "end_time": "2019-05-07T15:36:40.243508Z",
     "start_time": "2019-05-07T15:36:40.026593Z"
    }
   },
   "outputs": [],
   "source": [
    "from sklearn.decomposition import PCA"
   ]
  },
  {
   "cell_type": "markdown",
   "metadata": {},
   "source": [
    "### method 1"
   ]
  },
  {
   "cell_type": "code",
   "execution_count": 42,
   "metadata": {
    "ExecuteTime": {
     "end_time": "2019-05-07T15:36:40.276648Z",
     "start_time": "2019-05-07T15:36:40.245463Z"
    }
   },
   "outputs": [
    {
     "data": {
      "text/plain": [
       "PCA(copy=True, iterated_power='auto', n_components=56, random_state=None,\n",
       "  svd_solver='auto', tol=0.0, whiten=True)"
      ]
     },
     "execution_count": 42,
     "metadata": {},
     "output_type": "execute_result"
    }
   ],
   "source": [
    "n = 56 # how many eigenvectors we choose\n",
    "pca = PCA(n,whiten=True) #PCA model, paramerized by the target number of components or target percentage of variance\n",
    "\n",
    "pca.fit(X_train_numeric) #fit the model to the data"
   ]
  },
  {
   "cell_type": "code",
   "execution_count": 43,
   "metadata": {
    "ExecuteTime": {
     "end_time": "2019-05-07T15:36:40.283305Z",
     "start_time": "2019-05-07T15:36:40.279313Z"
    }
   },
   "outputs": [],
   "source": [
    "# X_train_numeric = pca.transform(X_train_numeric) #find principal components"
   ]
  },
  {
   "cell_type": "code",
   "execution_count": 44,
   "metadata": {
    "ExecuteTime": {
     "end_time": "2019-05-07T15:36:40.705897Z",
     "start_time": "2019-05-07T15:36:40.285298Z"
    }
   },
   "outputs": [
    {
     "data": {
      "text/plain": [
       "Text(0, 0.5, 'variance')"
      ]
     },
     "execution_count": 44,
     "metadata": {},
     "output_type": "execute_result"
    },
    {
     "data": {
      "image/png": "[encoded data removed]",
      "text/plain": [
       "<Figure size 432x288 with 1 Axes>"
      ]
     },
     "metadata": {
      "needs_background": "light"
     },
     "output_type": "display_data"
    }
   ],
   "source": [
    "#Plot explained variance per number of leading PC's to choose\n",
    "eigenvalues = pca.explained_variance_\n",
    "plt.bar(np.arange(n), eigenvalues.cumsum()/eigenvalues.sum(),align='center');\n",
    "plt.ylim(0,1)\n",
    "# plt.xlim(0,n)\n",
    "plt.xlabel('number of components')\n",
    "plt.ylabel('variance')"
   ]
  },
  {
   "cell_type": "code",
   "execution_count": 45,
   "metadata": {
    "ExecuteTime": {
     "end_time": "2019-05-07T15:36:40.734460Z",
     "start_time": "2019-05-07T15:36:40.707412Z"
    }
   },
   "outputs": [
    {
     "name": "stdout",
     "output_type": "stream",
     "text": [
      "we need 15 PCs to explain 80.00 percent of variance\n"
     ]
    }
   ],
   "source": [
    "p=0.8\n",
    "pca = PCA(p)\n",
    "P = pca.fit_transform(X_train_numeric)\n",
    "eigenvalues = pca.explained_variance_\n",
    "print(\"we need %d PCs to explain %.2f percent of variance\"%(P.shape[1],100*p))"
   ]
  },
  {
   "cell_type": "code",
   "execution_count": 46,
   "metadata": {
    "ExecuteTime": {
     "end_time": "2019-05-07T15:36:40.797617Z",
     "start_time": "2019-05-07T15:36:40.770357Z"
    }
   },
   "outputs": [
    {
     "name": "stdout",
     "output_type": "stream",
     "text": [
      "we need 22 PCs to explain 90.00 percent of variance\n"
     ]
    }
   ],
   "source": [
    "p=0.9\n",
    "pca = PCA(p)\n",
    "P = pca.fit_transform(X_train_numeric)\n",
    "eigenvalues = pca.explained_variance_\n",
    "print(\"we need %d PCs to explain %.2f percent of variance\"%(P.shape[1],100*p))"
   ]
  },
  {
   "cell_type": "code",
   "execution_count": 47,
   "metadata": {
    "ExecuteTime": {
     "end_time": "2019-05-07T15:36:40.797617Z",
     "start_time": "2019-05-07T15:36:40.770357Z"
    }
   },
   "outputs": [
    {
     "name": "stdout",
     "output_type": "stream",
     "text": [
      "we need 28 PCs to explain 95.00 percent of variance\n"
     ]
    }
   ],
   "source": [
    "p=0.95\n",
    "pca = PCA(p)\n",
    "P = pca.fit_transform(X_train_numeric)\n",
    "eigenvalues = pca.explained_variance_\n",
    "print(\"we need %d PCs to explain %.2f percent of variance\"%(P.shape[1],100*p))"
   ]
  },
  {
   "cell_type": "code",
   "execution_count": null,
   "metadata": {},
   "outputs": [],
   "source": []
  },
  {
   "cell_type": "markdown",
   "metadata": {},
   "source": [
    "### method 2"
   ]
  },
  {
   "cell_type": "code",
   "execution_count": 48,
   "metadata": {
    "ExecuteTime": {
     "end_time": "2019-05-07T15:36:40.839065Z",
     "start_time": "2019-05-07T15:36:40.800522Z"
    }
   },
   "outputs": [
    {
     "name": "stdout",
     "output_type": "stream",
     "text": [
      "we need 28 PCs to explain 95.00 percent of variance\n"
     ]
    }
   ],
   "source": [
    "p=0.95\n",
    "pca = PCA(p,whiten=True) #PCA model, paramerized by the target number of components or target percentage of variance\n",
    "\n",
    "pca.fit(X_train_numeric) #fit the model to the data\n",
    "eigenvalues = pca.explained_variance_\n",
    "\n",
    "X_train_numeric = pca.transform(X_train_numeric) #find principal components\n",
    "n = X_train_numeric.shape[1] # how many eigenvectors we choose\n",
    "\n",
    "print(\"we need %d PCs to explain %.2f percent of variance\"%(n,100*p))"
   ]
  },
  {
   "cell_type": "code",
   "execution_count": 49,
   "metadata": {
    "ExecuteTime": {
     "end_time": "2019-05-07T15:36:40.958217Z",
     "start_time": "2019-05-07T15:36:40.842119Z"
    },
    "scrolled": true
   },
   "outputs": [
    {
     "data": {
      "text/html": [
       "<div>\n",
       "<style scoped>\n",
       "    .dataframe tbody tr th:only-of-type {\n",
       "        vertical-align: middle;\n",
       "    }\n",
       "\n",
       "    .dataframe tbody tr th {\n",
       "        vertical-align: top;\n",
       "    }\n",
       "\n",
       "    .dataframe thead th {\n",
       "        text-align: right;\n",
       "    }\n",
       "</style>\n",
       "<table border=\"1\" class=\"dataframe\">\n",
       "  <thead>\n",
       "    <tr style=\"text-align: right;\">\n",
       "      <th></th>\n",
       "      <th>0</th>\n",
       "      <th>1</th>\n",
       "      <th>2</th>\n",
       "      <th>3</th>\n",
       "      <th>4</th>\n",
       "      <th>5</th>\n",
       "      <th>6</th>\n",
       "      <th>7</th>\n",
       "      <th>8</th>\n",
       "      <th>9</th>\n",
       "      <th>...</th>\n",
       "      <th>18</th>\n",
       "      <th>19</th>\n",
       "      <th>20</th>\n",
       "      <th>21</th>\n",
       "      <th>22</th>\n",
       "      <th>23</th>\n",
       "      <th>24</th>\n",
       "      <th>25</th>\n",
       "      <th>26</th>\n",
       "      <th>27</th>\n",
       "    </tr>\n",
       "  </thead>\n",
       "  <tbody>\n",
       "    <tr>\n",
       "      <th>0</th>\n",
       "      <td>1.000000e+00</td>\n",
       "      <td>-6.526682e-18</td>\n",
       "      <td>-1.684571e-16</td>\n",
       "      <td>-1.269611e-16</td>\n",
       "      <td>5.200735e-16</td>\n",
       "      <td>-2.445788e-17</td>\n",
       "      <td>7.777057e-17</td>\n",
       "      <td>-1.566404e-17</td>\n",
       "      <td>2.191591e-16</td>\n",
       "      <td>-8.443466e-17</td>\n",
       "      <td>...</td>\n",
       "      <td>-2.231438e-16</td>\n",
       "      <td>1.761689e-16</td>\n",
       "      <td>-3.134182e-16</td>\n",
       "      <td>-5.743480e-17</td>\n",
       "      <td>-5.022110e-17</td>\n",
       "      <td>3.197387e-16</td>\n",
       "      <td>6.526682e-16</td>\n",
       "      <td>-2.413155e-17</td>\n",
       "      <td>1.511442e-17</td>\n",
       "      <td>2.573316e-16</td>\n",
       "    </tr>\n",
       "    <tr>\n",
       "      <th>1</th>\n",
       "      <td>-6.526682e-18</td>\n",
       "      <td>1.000000e+00</td>\n",
       "      <td>-2.011592e-15</td>\n",
       "      <td>4.287000e-17</td>\n",
       "      <td>-2.472170e-15</td>\n",
       "      <td>-4.990507e-16</td>\n",
       "      <td>4.616769e-17</td>\n",
       "      <td>3.580744e-16</td>\n",
       "      <td>6.180425e-16</td>\n",
       "      <td>4.314481e-16</td>\n",
       "      <td>...</td>\n",
       "      <td>-1.154192e-17</td>\n",
       "      <td>1.000987e-16</td>\n",
       "      <td>-3.435096e-16</td>\n",
       "      <td>3.781354e-16</td>\n",
       "      <td>-5.468673e-17</td>\n",
       "      <td>-4.583792e-16</td>\n",
       "      <td>-3.716774e-16</td>\n",
       "      <td>3.312978e-16</td>\n",
       "      <td>7.507746e-16</td>\n",
       "      <td>2.277469e-17</td>\n",
       "    </tr>\n",
       "    <tr>\n",
       "      <th>2</th>\n",
       "      <td>-1.684571e-16</td>\n",
       "      <td>-2.011592e-15</td>\n",
       "      <td>1.000000e+00</td>\n",
       "      <td>1.494954e-16</td>\n",
       "      <td>-5.276307e-17</td>\n",
       "      <td>-2.418308e-16</td>\n",
       "      <td>8.574000e-17</td>\n",
       "      <td>-7.694615e-17</td>\n",
       "      <td>-1.061582e-15</td>\n",
       "      <td>6.474469e-16</td>\n",
       "      <td>...</td>\n",
       "      <td>7.254923e-17</td>\n",
       "      <td>7.035077e-17</td>\n",
       "      <td>1.593885e-16</td>\n",
       "      <td>6.815230e-17</td>\n",
       "      <td>-6.963627e-16</td>\n",
       "      <td>-1.824723e-16</td>\n",
       "      <td>-5.592336e-16</td>\n",
       "      <td>3.531279e-16</td>\n",
       "      <td>-2.770061e-16</td>\n",
       "      <td>-2.654642e-16</td>\n",
       "    </tr>\n",
       "    <tr>\n",
       "      <th>3</th>\n",
       "      <td>-1.269611e-16</td>\n",
       "      <td>4.287000e-17</td>\n",
       "      <td>1.494954e-16</td>\n",
       "      <td>1.000000e+00</td>\n",
       "      <td>1.714800e-16</td>\n",
       "      <td>4.308984e-16</td>\n",
       "      <td>-3.143800e-16</td>\n",
       "      <td>-1.099231e-16</td>\n",
       "      <td>1.593885e-17</td>\n",
       "      <td>2.693115e-16</td>\n",
       "      <td>...</td>\n",
       "      <td>-3.737384e-16</td>\n",
       "      <td>5.971571e-16</td>\n",
       "      <td>7.254923e-16</td>\n",
       "      <td>-8.617969e-16</td>\n",
       "      <td>-1.599381e-16</td>\n",
       "      <td>-1.297092e-16</td>\n",
       "      <td>-5.584092e-16</td>\n",
       "      <td>5.366994e-16</td>\n",
       "      <td>-1.714800e-16</td>\n",
       "      <td>-1.261367e-16</td>\n",
       "    </tr>\n",
       "    <tr>\n",
       "      <th>4</th>\n",
       "      <td>5.200735e-16</td>\n",
       "      <td>-2.472170e-15</td>\n",
       "      <td>-5.276307e-17</td>\n",
       "      <td>1.714800e-16</td>\n",
       "      <td>1.000000e+00</td>\n",
       "      <td>3.341661e-16</td>\n",
       "      <td>-7.914461e-17</td>\n",
       "      <td>-1.374038e-16</td>\n",
       "      <td>1.571900e-16</td>\n",
       "      <td>-2.242431e-16</td>\n",
       "      <td>...</td>\n",
       "      <td>7.573700e-16</td>\n",
       "      <td>1.423504e-16</td>\n",
       "      <td>-4.858600e-16</td>\n",
       "      <td>8.024384e-17</td>\n",
       "      <td>-1.335565e-16</td>\n",
       "      <td>-5.496154e-16</td>\n",
       "      <td>4.891577e-17</td>\n",
       "      <td>-2.100561e-16</td>\n",
       "      <td>-2.638154e-16</td>\n",
       "      <td>-8.329421e-16</td>\n",
       "    </tr>\n",
       "    <tr>\n",
       "      <th>5</th>\n",
       "      <td>-2.445788e-17</td>\n",
       "      <td>-4.990507e-16</td>\n",
       "      <td>-2.418308e-16</td>\n",
       "      <td>4.308984e-16</td>\n",
       "      <td>3.341661e-16</td>\n",
       "      <td>1.000000e+00</td>\n",
       "      <td>-1.055261e-16</td>\n",
       "      <td>-5.177377e-16</td>\n",
       "      <td>-2.819527e-16</td>\n",
       "      <td>5.726992e-16</td>\n",
       "      <td>...</td>\n",
       "      <td>-7.430800e-16</td>\n",
       "      <td>8.431100e-16</td>\n",
       "      <td>-2.220446e-16</td>\n",
       "      <td>5.199361e-16</td>\n",
       "      <td>1.647747e-15</td>\n",
       "      <td>2.565604e-15</td>\n",
       "      <td>-6.529430e-16</td>\n",
       "      <td>-2.343422e-16</td>\n",
       "      <td>-2.110523e-16</td>\n",
       "      <td>8.038125e-16</td>\n",
       "    </tr>\n",
       "    <tr>\n",
       "      <th>6</th>\n",
       "      <td>7.777057e-17</td>\n",
       "      <td>4.616769e-17</td>\n",
       "      <td>8.574000e-17</td>\n",
       "      <td>-3.143800e-16</td>\n",
       "      <td>-7.914461e-17</td>\n",
       "      <td>-1.055261e-16</td>\n",
       "      <td>1.000000e+00</td>\n",
       "      <td>-6.485461e-17</td>\n",
       "      <td>-4.589288e-17</td>\n",
       "      <td>-7.232938e-16</td>\n",
       "      <td>...</td>\n",
       "      <td>-5.397223e-16</td>\n",
       "      <td>1.618617e-16</td>\n",
       "      <td>-3.836315e-16</td>\n",
       "      <td>7.584692e-17</td>\n",
       "      <td>-1.978615e-17</td>\n",
       "      <td>5.694015e-16</td>\n",
       "      <td>-1.582892e-16</td>\n",
       "      <td>1.833654e-16</td>\n",
       "      <td>-4.396923e-16</td>\n",
       "      <td>2.209454e-16</td>\n",
       "    </tr>\n",
       "    <tr>\n",
       "      <th>7</th>\n",
       "      <td>-1.566404e-17</td>\n",
       "      <td>3.580744e-16</td>\n",
       "      <td>-7.694615e-17</td>\n",
       "      <td>-1.099231e-16</td>\n",
       "      <td>-1.374038e-16</td>\n",
       "      <td>-5.177377e-16</td>\n",
       "      <td>-6.485461e-17</td>\n",
       "      <td>1.000000e+00</td>\n",
       "      <td>-1.595259e-16</td>\n",
       "      <td>7.024084e-16</td>\n",
       "      <td>...</td>\n",
       "      <td>1.923654e-16</td>\n",
       "      <td>4.851730e-16</td>\n",
       "      <td>-1.423504e-16</td>\n",
       "      <td>1.011292e-16</td>\n",
       "      <td>3.682423e-17</td>\n",
       "      <td>-3.561508e-16</td>\n",
       "      <td>-1.092361e-16</td>\n",
       "      <td>-7.971140e-17</td>\n",
       "      <td>-3.165784e-16</td>\n",
       "      <td>9.484644e-16</td>\n",
       "    </tr>\n",
       "    <tr>\n",
       "      <th>8</th>\n",
       "      <td>2.191591e-16</td>\n",
       "      <td>6.180425e-16</td>\n",
       "      <td>-1.061582e-15</td>\n",
       "      <td>1.593885e-17</td>\n",
       "      <td>1.571900e-16</td>\n",
       "      <td>-2.819527e-16</td>\n",
       "      <td>-4.589288e-17</td>\n",
       "      <td>-1.595259e-16</td>\n",
       "      <td>1.000000e+00</td>\n",
       "      <td>7.451410e-16</td>\n",
       "      <td>...</td>\n",
       "      <td>3.028381e-16</td>\n",
       "      <td>4.068871e-16</td>\n",
       "      <td>7.412937e-16</td>\n",
       "      <td>3.984711e-17</td>\n",
       "      <td>1.273047e-16</td>\n",
       "      <td>-8.541023e-16</td>\n",
       "      <td>-5.290048e-17</td>\n",
       "      <td>9.085142e-16</td>\n",
       "      <td>2.836015e-16</td>\n",
       "      <td>1.203005e-15</td>\n",
       "    </tr>\n",
       "    <tr>\n",
       "      <th>9</th>\n",
       "      <td>-8.443466e-17</td>\n",
       "      <td>4.314481e-16</td>\n",
       "      <td>6.474469e-16</td>\n",
       "      <td>2.693115e-16</td>\n",
       "      <td>-2.242431e-16</td>\n",
       "      <td>5.726992e-16</td>\n",
       "      <td>-7.232938e-16</td>\n",
       "      <td>7.024084e-16</td>\n",
       "      <td>7.451410e-16</td>\n",
       "      <td>1.000000e+00</td>\n",
       "      <td>...</td>\n",
       "      <td>4.292496e-16</td>\n",
       "      <td>1.308772e-16</td>\n",
       "      <td>5.446688e-16</td>\n",
       "      <td>-4.083642e-16</td>\n",
       "      <td>9.123615e-17</td>\n",
       "      <td>-7.606677e-16</td>\n",
       "      <td>8.339039e-16</td>\n",
       "      <td>-5.411478e-16</td>\n",
       "      <td>1.055261e-16</td>\n",
       "      <td>-6.586110e-16</td>\n",
       "    </tr>\n",
       "    <tr>\n",
       "      <th>10</th>\n",
       "      <td>9.906130e-16</td>\n",
       "      <td>1.117540e-15</td>\n",
       "      <td>3.897460e-16</td>\n",
       "      <td>5.404093e-16</td>\n",
       "      <td>-7.377212e-16</td>\n",
       "      <td>6.581644e-17</td>\n",
       "      <td>-2.884794e-16</td>\n",
       "      <td>1.108849e-16</td>\n",
       "      <td>1.141482e-16</td>\n",
       "      <td>4.149252e-16</td>\n",
       "      <td>...</td>\n",
       "      <td>-9.482582e-16</td>\n",
       "      <td>-3.887241e-16</td>\n",
       "      <td>2.519643e-16</td>\n",
       "      <td>-6.750307e-16</td>\n",
       "      <td>-8.294898e-17</td>\n",
       "      <td>-3.142426e-16</td>\n",
       "      <td>3.729655e-17</td>\n",
       "      <td>-1.842650e-16</td>\n",
       "      <td>3.504485e-16</td>\n",
       "      <td>6.919271e-16</td>\n",
       "    </tr>\n",
       "    <tr>\n",
       "      <th>11</th>\n",
       "      <td>-5.441192e-17</td>\n",
       "      <td>-2.907465e-16</td>\n",
       "      <td>-8.903769e-17</td>\n",
       "      <td>1.286100e-16</td>\n",
       "      <td>4.034177e-16</td>\n",
       "      <td>2.638154e-17</td>\n",
       "      <td>-9.893076e-18</td>\n",
       "      <td>3.157540e-16</td>\n",
       "      <td>-2.834641e-16</td>\n",
       "      <td>4.276007e-16</td>\n",
       "      <td>...</td>\n",
       "      <td>3.896773e-16</td>\n",
       "      <td>1.878310e-16</td>\n",
       "      <td>1.396023e-16</td>\n",
       "      <td>-1.099231e-17</td>\n",
       "      <td>2.901969e-16</td>\n",
       "      <td>-1.022285e-16</td>\n",
       "      <td>-4.699211e-16</td>\n",
       "      <td>3.510668e-17</td>\n",
       "      <td>-8.793846e-18</td>\n",
       "      <td>-4.330626e-16</td>\n",
       "    </tr>\n",
       "    <tr>\n",
       "      <th>12</th>\n",
       "      <td>1.610373e-16</td>\n",
       "      <td>-2.737084e-16</td>\n",
       "      <td>-1.099231e-16</td>\n",
       "      <td>3.561508e-16</td>\n",
       "      <td>6.683323e-16</td>\n",
       "      <td>-7.079046e-16</td>\n",
       "      <td>7.254923e-17</td>\n",
       "      <td>1.066254e-16</td>\n",
       "      <td>1.017338e-15</td>\n",
       "      <td>1.111322e-15</td>\n",
       "      <td>...</td>\n",
       "      <td>-2.330369e-16</td>\n",
       "      <td>-4.993256e-16</td>\n",
       "      <td>-5.803938e-16</td>\n",
       "      <td>-5.606077e-17</td>\n",
       "      <td>1.423504e-16</td>\n",
       "      <td>3.297692e-17</td>\n",
       "      <td>3.374638e-16</td>\n",
       "      <td>1.492893e-16</td>\n",
       "      <td>-4.396923e-16</td>\n",
       "      <td>-2.988534e-16</td>\n",
       "    </tr>\n",
       "    <tr>\n",
       "      <th>13</th>\n",
       "      <td>2.966248e-16</td>\n",
       "      <td>1.767357e-17</td>\n",
       "      <td>-2.141267e-16</td>\n",
       "      <td>1.799303e-16</td>\n",
       "      <td>-3.302845e-17</td>\n",
       "      <td>7.625913e-18</td>\n",
       "      <td>2.845290e-16</td>\n",
       "      <td>1.229850e-16</td>\n",
       "      <td>-1.008302e-15</td>\n",
       "      <td>-5.388635e-16</td>\n",
       "      <td>...</td>\n",
       "      <td>1.143887e-16</td>\n",
       "      <td>-5.482327e-16</td>\n",
       "      <td>-4.879382e-16</td>\n",
       "      <td>2.989478e-16</td>\n",
       "      <td>-3.565544e-16</td>\n",
       "      <td>4.329595e-16</td>\n",
       "      <td>5.385372e-17</td>\n",
       "      <td>-5.949007e-16</td>\n",
       "      <td>7.158740e-17</td>\n",
       "      <td>-1.130544e-16</td>\n",
       "    </tr>\n",
       "    <tr>\n",
       "      <th>14</th>\n",
       "      <td>-6.567904e-17</td>\n",
       "      <td>5.661038e-16</td>\n",
       "      <td>7.408815e-16</td>\n",
       "      <td>2.374338e-16</td>\n",
       "      <td>-1.978615e-17</td>\n",
       "      <td>2.726092e-16</td>\n",
       "      <td>-4.111123e-16</td>\n",
       "      <td>3.720896e-16</td>\n",
       "      <td>1.527381e-15</td>\n",
       "      <td>5.584092e-16</td>\n",
       "      <td>...</td>\n",
       "      <td>3.286700e-16</td>\n",
       "      <td>-1.418008e-16</td>\n",
       "      <td>-2.231438e-16</td>\n",
       "      <td>5.748977e-16</td>\n",
       "      <td>1.434496e-16</td>\n",
       "      <td>6.573400e-16</td>\n",
       "      <td>-4.155092e-16</td>\n",
       "      <td>-7.288587e-16</td>\n",
       "      <td>-5.386231e-16</td>\n",
       "      <td>2.377086e-17</td>\n",
       "    </tr>\n",
       "    <tr>\n",
       "      <th>15</th>\n",
       "      <td>4.601311e-17</td>\n",
       "      <td>-1.277856e-16</td>\n",
       "      <td>1.327321e-16</td>\n",
       "      <td>-1.225642e-16</td>\n",
       "      <td>-2.552963e-16</td>\n",
       "      <td>3.572500e-17</td>\n",
       "      <td>3.083342e-16</td>\n",
       "      <td>-1.264115e-16</td>\n",
       "      <td>8.768083e-16</td>\n",
       "      <td>-1.571350e-15</td>\n",
       "      <td>...</td>\n",
       "      <td>-7.150496e-16</td>\n",
       "      <td>1.166456e-15</td>\n",
       "      <td>-9.640253e-16</td>\n",
       "      <td>9.093386e-16</td>\n",
       "      <td>-9.107814e-16</td>\n",
       "      <td>4.666234e-16</td>\n",
       "      <td>-2.315942e-16</td>\n",
       "      <td>-1.056335e-16</td>\n",
       "      <td>-5.199361e-16</td>\n",
       "      <td>-3.680705e-17</td>\n",
       "    </tr>\n",
       "    <tr>\n",
       "      <th>16</th>\n",
       "      <td>1.782815e-16</td>\n",
       "      <td>1.335565e-16</td>\n",
       "      <td>4.781654e-16</td>\n",
       "      <td>-2.803038e-16</td>\n",
       "      <td>3.874788e-16</td>\n",
       "      <td>1.253123e-16</td>\n",
       "      <td>6.870192e-17</td>\n",
       "      <td>2.481513e-16</td>\n",
       "      <td>-1.786937e-16</td>\n",
       "      <td>9.261019e-17</td>\n",
       "      <td>...</td>\n",
       "      <td>-2.709604e-16</td>\n",
       "      <td>6.350118e-16</td>\n",
       "      <td>-1.368542e-16</td>\n",
       "      <td>7.983163e-16</td>\n",
       "      <td>8.890028e-17</td>\n",
       "      <td>-4.946538e-16</td>\n",
       "      <td>6.317829e-16</td>\n",
       "      <td>1.058233e-15</td>\n",
       "      <td>1.044269e-16</td>\n",
       "      <td>-3.469790e-16</td>\n",
       "    </tr>\n",
       "    <tr>\n",
       "      <th>17</th>\n",
       "      <td>1.363046e-16</td>\n",
       "      <td>-5.243331e-16</td>\n",
       "      <td>8.354153e-16</td>\n",
       "      <td>-4.440892e-16</td>\n",
       "      <td>-2.638154e-17</td>\n",
       "      <td>1.319077e-17</td>\n",
       "      <td>-4.396923e-16</td>\n",
       "      <td>-2.418308e-17</td>\n",
       "      <td>-3.369142e-16</td>\n",
       "      <td>6.463477e-16</td>\n",
       "      <td>...</td>\n",
       "      <td>5.496154e-17</td>\n",
       "      <td>-2.385331e-16</td>\n",
       "      <td>-6.419507e-16</td>\n",
       "      <td>9.871092e-16</td>\n",
       "      <td>5.573100e-16</td>\n",
       "      <td>-2.814031e-16</td>\n",
       "      <td>-6.578896e-16</td>\n",
       "      <td>-4.252649e-17</td>\n",
       "      <td>3.957231e-16</td>\n",
       "      <td>-2.385331e-16</td>\n",
       "    </tr>\n",
       "    <tr>\n",
       "      <th>18</th>\n",
       "      <td>-2.231438e-16</td>\n",
       "      <td>-1.154192e-17</td>\n",
       "      <td>7.254923e-17</td>\n",
       "      <td>-3.737384e-16</td>\n",
       "      <td>7.573700e-16</td>\n",
       "      <td>-7.430800e-16</td>\n",
       "      <td>-5.397223e-16</td>\n",
       "      <td>1.923654e-16</td>\n",
       "      <td>3.028381e-16</td>\n",
       "      <td>4.292496e-16</td>\n",
       "      <td>...</td>\n",
       "      <td>1.000000e+00</td>\n",
       "      <td>9.234912e-16</td>\n",
       "      <td>2.154492e-16</td>\n",
       "      <td>5.886380e-16</td>\n",
       "      <td>1.291596e-17</td>\n",
       "      <td>-9.343461e-17</td>\n",
       "      <td>4.677227e-16</td>\n",
       "      <td>-3.177807e-16</td>\n",
       "      <td>6.375538e-17</td>\n",
       "      <td>-2.120828e-16</td>\n",
       "    </tr>\n",
       "    <tr>\n",
       "      <th>19</th>\n",
       "      <td>1.761689e-16</td>\n",
       "      <td>1.000987e-16</td>\n",
       "      <td>7.035077e-17</td>\n",
       "      <td>5.971571e-16</td>\n",
       "      <td>1.423504e-16</td>\n",
       "      <td>8.431100e-16</td>\n",
       "      <td>1.618617e-16</td>\n",
       "      <td>4.851730e-16</td>\n",
       "      <td>4.068871e-16</td>\n",
       "      <td>1.308772e-16</td>\n",
       "      <td>...</td>\n",
       "      <td>9.234912e-16</td>\n",
       "      <td>1.000000e+00</td>\n",
       "      <td>5.885006e-16</td>\n",
       "      <td>5.454932e-17</td>\n",
       "      <td>3.262654e-16</td>\n",
       "      <td>7.557211e-16</td>\n",
       "      <td>-8.414611e-16</td>\n",
       "      <td>-4.176690e-16</td>\n",
       "      <td>-4.754173e-17</td>\n",
       "      <td>-2.177078e-16</td>\n",
       "    </tr>\n",
       "    <tr>\n",
       "      <th>20</th>\n",
       "      <td>-3.134182e-16</td>\n",
       "      <td>-3.435096e-16</td>\n",
       "      <td>1.593885e-16</td>\n",
       "      <td>7.254923e-16</td>\n",
       "      <td>-4.858600e-16</td>\n",
       "      <td>-2.220446e-16</td>\n",
       "      <td>-3.836315e-16</td>\n",
       "      <td>-1.423504e-16</td>\n",
       "      <td>7.412937e-16</td>\n",
       "      <td>5.446688e-16</td>\n",
       "      <td>...</td>\n",
       "      <td>2.154492e-16</td>\n",
       "      <td>5.885006e-16</td>\n",
       "      <td>1.000000e+00</td>\n",
       "      <td>-7.854003e-16</td>\n",
       "      <td>-1.610373e-16</td>\n",
       "      <td>-6.485461e-16</td>\n",
       "      <td>1.593885e-17</td>\n",
       "      <td>-8.220185e-17</td>\n",
       "      <td>6.595384e-18</td>\n",
       "      <td>6.904543e-17</td>\n",
       "    </tr>\n",
       "    <tr>\n",
       "      <th>21</th>\n",
       "      <td>-5.743480e-17</td>\n",
       "      <td>3.781354e-16</td>\n",
       "      <td>6.815230e-17</td>\n",
       "      <td>-8.617969e-16</td>\n",
       "      <td>8.024384e-17</td>\n",
       "      <td>5.199361e-16</td>\n",
       "      <td>7.584692e-17</td>\n",
       "      <td>1.011292e-16</td>\n",
       "      <td>3.984711e-17</td>\n",
       "      <td>-4.083642e-16</td>\n",
       "      <td>...</td>\n",
       "      <td>5.886380e-16</td>\n",
       "      <td>5.454932e-17</td>\n",
       "      <td>-7.854003e-16</td>\n",
       "      <td>1.000000e+00</td>\n",
       "      <td>3.179525e-16</td>\n",
       "      <td>9.255523e-16</td>\n",
       "      <td>9.391552e-16</td>\n",
       "      <td>-7.042462e-16</td>\n",
       "      <td>5.166384e-16</td>\n",
       "      <td>2.588688e-16</td>\n",
       "    </tr>\n",
       "    <tr>\n",
       "      <th>22</th>\n",
       "      <td>-5.022110e-17</td>\n",
       "      <td>-5.468673e-17</td>\n",
       "      <td>-6.963627e-16</td>\n",
       "      <td>-1.599381e-16</td>\n",
       "      <td>-1.335565e-16</td>\n",
       "      <td>1.647747e-15</td>\n",
       "      <td>-1.978615e-17</td>\n",
       "      <td>3.682423e-17</td>\n",
       "      <td>1.273047e-16</td>\n",
       "      <td>9.123615e-17</td>\n",
       "      <td>...</td>\n",
       "      <td>1.291596e-17</td>\n",
       "      <td>3.262654e-16</td>\n",
       "      <td>-1.610373e-16</td>\n",
       "      <td>3.179525e-16</td>\n",
       "      <td>1.000000e+00</td>\n",
       "      <td>7.276907e-16</td>\n",
       "      <td>-2.409376e-16</td>\n",
       "      <td>2.937007e-17</td>\n",
       "      <td>-3.550515e-16</td>\n",
       "      <td>1.971195e-15</td>\n",
       "    </tr>\n",
       "    <tr>\n",
       "      <th>23</th>\n",
       "      <td>3.197387e-16</td>\n",
       "      <td>-4.583792e-16</td>\n",
       "      <td>-1.824723e-16</td>\n",
       "      <td>-1.297092e-16</td>\n",
       "      <td>-5.496154e-16</td>\n",
       "      <td>2.565604e-15</td>\n",
       "      <td>5.694015e-16</td>\n",
       "      <td>-3.561508e-16</td>\n",
       "      <td>-8.541023e-16</td>\n",
       "      <td>-7.606677e-16</td>\n",
       "      <td>...</td>\n",
       "      <td>-9.343461e-17</td>\n",
       "      <td>7.557211e-16</td>\n",
       "      <td>-6.485461e-16</td>\n",
       "      <td>9.255523e-16</td>\n",
       "      <td>7.276907e-16</td>\n",
       "      <td>1.000000e+00</td>\n",
       "      <td>-1.063506e-16</td>\n",
       "      <td>6.973245e-18</td>\n",
       "      <td>-2.682123e-16</td>\n",
       "      <td>-5.314781e-16</td>\n",
       "    </tr>\n",
       "    <tr>\n",
       "      <th>24</th>\n",
       "      <td>6.526682e-16</td>\n",
       "      <td>-3.716774e-16</td>\n",
       "      <td>-5.592336e-16</td>\n",
       "      <td>-5.584092e-16</td>\n",
       "      <td>4.891577e-17</td>\n",
       "      <td>-6.529430e-16</td>\n",
       "      <td>-1.582892e-16</td>\n",
       "      <td>-1.092361e-16</td>\n",
       "      <td>-5.290048e-17</td>\n",
       "      <td>8.339039e-16</td>\n",
       "      <td>...</td>\n",
       "      <td>4.677227e-16</td>\n",
       "      <td>-8.414611e-16</td>\n",
       "      <td>1.593885e-17</td>\n",
       "      <td>9.391552e-16</td>\n",
       "      <td>-2.409376e-16</td>\n",
       "      <td>-1.063506e-16</td>\n",
       "      <td>1.000000e+00</td>\n",
       "      <td>6.467341e-16</td>\n",
       "      <td>1.885181e-16</td>\n",
       "      <td>2.768344e-16</td>\n",
       "    </tr>\n",
       "    <tr>\n",
       "      <th>25</th>\n",
       "      <td>-2.413155e-17</td>\n",
       "      <td>3.312978e-16</td>\n",
       "      <td>3.531279e-16</td>\n",
       "      <td>5.366994e-16</td>\n",
       "      <td>-2.100561e-16</td>\n",
       "      <td>-2.343422e-16</td>\n",
       "      <td>1.833654e-16</td>\n",
       "      <td>-7.971140e-17</td>\n",
       "      <td>9.085142e-16</td>\n",
       "      <td>-5.411478e-16</td>\n",
       "      <td>...</td>\n",
       "      <td>-3.177807e-16</td>\n",
       "      <td>-4.176690e-16</td>\n",
       "      <td>-8.220185e-17</td>\n",
       "      <td>-7.042462e-16</td>\n",
       "      <td>2.937007e-17</td>\n",
       "      <td>6.973245e-18</td>\n",
       "      <td>6.467341e-16</td>\n",
       "      <td>1.000000e+00</td>\n",
       "      <td>8.869418e-17</td>\n",
       "      <td>3.313150e-17</td>\n",
       "    </tr>\n",
       "    <tr>\n",
       "      <th>26</th>\n",
       "      <td>1.511442e-17</td>\n",
       "      <td>7.507746e-16</td>\n",
       "      <td>-2.770061e-16</td>\n",
       "      <td>-1.714800e-16</td>\n",
       "      <td>-2.638154e-16</td>\n",
       "      <td>-2.110523e-16</td>\n",
       "      <td>-4.396923e-16</td>\n",
       "      <td>-3.165784e-16</td>\n",
       "      <td>2.836015e-16</td>\n",
       "      <td>1.055261e-16</td>\n",
       "      <td>...</td>\n",
       "      <td>6.375538e-17</td>\n",
       "      <td>-4.754173e-17</td>\n",
       "      <td>6.595384e-18</td>\n",
       "      <td>5.166384e-16</td>\n",
       "      <td>-3.550515e-16</td>\n",
       "      <td>-2.682123e-16</td>\n",
       "      <td>1.885181e-16</td>\n",
       "      <td>8.869418e-17</td>\n",
       "      <td>1.000000e+00</td>\n",
       "      <td>1.164498e-15</td>\n",
       "    </tr>\n",
       "    <tr>\n",
       "      <th>27</th>\n",
       "      <td>2.573316e-16</td>\n",
       "      <td>2.277469e-17</td>\n",
       "      <td>-2.654642e-16</td>\n",
       "      <td>-1.261367e-16</td>\n",
       "      <td>-8.329421e-16</td>\n",
       "      <td>8.038125e-16</td>\n",
       "      <td>2.209454e-16</td>\n",
       "      <td>9.484644e-16</td>\n",
       "      <td>1.203005e-15</td>\n",
       "      <td>-6.586110e-16</td>\n",
       "      <td>...</td>\n",
       "      <td>-2.120828e-16</td>\n",
       "      <td>-2.177078e-16</td>\n",
       "      <td>6.904543e-17</td>\n",
       "      <td>2.588688e-16</td>\n",
       "      <td>1.971195e-15</td>\n",
       "      <td>-5.314781e-16</td>\n",
       "      <td>2.768344e-16</td>\n",
       "      <td>3.313150e-17</td>\n",
       "      <td>1.164498e-15</td>\n",
       "      <td>1.000000e+00</td>\n",
       "    </tr>\n",
       "  </tbody>\n",
       "</table>\n",
       "<p>28 rows × 28 columns</p>\n",
       "</div>"
      ],
      "text/plain": [
       "              0             1             2             3             4   \\\n",
       "0   1.000000e+00 -6.526682e-18 -1.684571e-16 -1.269611e-16  5.200735e-16   \n",
       "1  -6.526682e-18  1.000000e+00 -2.011592e-15  4.287000e-17 -2.472170e-15   \n",
       "2  -1.684571e-16 -2.011592e-15  1.000000e+00  1.494954e-16 -5.276307e-17   \n",
       "3  -1.269611e-16  4.287000e-17  1.494954e-16  1.000000e+00  1.714800e-16   \n",
       "4   5.200735e-16 -2.472170e-15 -5.276307e-17  1.714800e-16  1.000000e+00   \n",
       "5  -2.445788e-17 -4.990507e-16 -2.418308e-16  4.308984e-16  3.341661e-16   \n",
       "6   7.777057e-17  4.616769e-17  8.574000e-17 -3.143800e-16 -7.914461e-17   \n",
       "7  -1.566404e-17  3.580744e-16 -7.694615e-17 -1.099231e-16 -1.374038e-16   \n",
       "8   2.191591e-16  6.180425e-16 -1.061582e-15  1.593885e-17  1.571900e-16   \n",
       "9  -8.443466e-17  4.314481e-16  6.474469e-16  2.693115e-16 -2.242431e-16   \n",
       "10  9.906130e-16  1.117540e-15  3.897460e-16  5.404093e-16 -7.377212e-16   \n",
       "11 -5.441192e-17 -2.907465e-16 -8.903769e-17  1.286100e-16  4.034177e-16   \n",
       "12  1.610373e-16 -2.737084e-16 -1.099231e-16  3.561508e-16  6.683323e-16   \n",
       "13  2.966248e-16  1.767357e-17 -2.141267e-16  1.799303e-16 -3.302845e-17   \n",
       "14 -6.567904e-17  5.661038e-16  7.408815e-16  2.374338e-16 -1.978615e-17   \n",
       "15  4.601311e-17 -1.277856e-16  1.327321e-16 -1.225642e-16 -2.552963e-16   \n",
       "16  1.782815e-16  1.335565e-16  4.781654e-16 -2.803038e-16  3.874788e-16   \n",
       "17  1.363046e-16 -5.243331e-16  8.354153e-16 -4.440892e-16 -2.638154e-17   \n",
       "18 -2.231438e-16 -1.154192e-17  7.254923e-17 -3.737384e-16  7.573700e-16   \n",
       "19  1.761689e-16  1.000987e-16  7.035077e-17  5.971571e-16  1.423504e-16   \n",
       "20 -3.134182e-16 -3.435096e-16  1.593885e-16  7.254923e-16 -4.858600e-16   \n",
       "21 -5.743480e-17  3.781354e-16  6.815230e-17 -8.617969e-16  8.024384e-17   \n",
       "22 -5.022110e-17 -5.468673e-17 -6.963627e-16 -1.599381e-16 -1.335565e-16   \n",
       "23  3.197387e-16 -4.583792e-16 -1.824723e-16 -1.297092e-16 -5.496154e-16   \n",
       "24  6.526682e-16 -3.716774e-16 -5.592336e-16 -5.584092e-16  4.891577e-17   \n",
       "25 -2.413155e-17  3.312978e-16  3.531279e-16  5.366994e-16 -2.100561e-16   \n",
       "26  1.511442e-17  7.507746e-16 -2.770061e-16 -1.714800e-16 -2.638154e-16   \n",
       "27  2.573316e-16  2.277469e-17 -2.654642e-16 -1.261367e-16 -8.329421e-16   \n",
       "\n",
       "              5             6             7             8             9   \\\n",
       "0  -2.445788e-17  7.777057e-17 -1.566404e-17  2.191591e-16 -8.443466e-17   \n",
       "1  -4.990507e-16  4.616769e-17  3.580744e-16  6.180425e-16  4.314481e-16   \n",
       "2  -2.418308e-16  8.574000e-17 -7.694615e-17 -1.061582e-15  6.474469e-16   \n",
       "3   4.308984e-16 -3.143800e-16 -1.099231e-16  1.593885e-17  2.693115e-16   \n",
       "4   3.341661e-16 -7.914461e-17 -1.374038e-16  1.571900e-16 -2.242431e-16   \n",
       "5   1.000000e+00 -1.055261e-16 -5.177377e-16 -2.819527e-16  5.726992e-16   \n",
       "6  -1.055261e-16  1.000000e+00 -6.485461e-17 -4.589288e-17 -7.232938e-16   \n",
       "7  -5.177377e-16 -6.485461e-17  1.000000e+00 -1.595259e-16  7.024084e-16   \n",
       "8  -2.819527e-16 -4.589288e-17 -1.595259e-16  1.000000e+00  7.451410e-16   \n",
       "9   5.726992e-16 -7.232938e-16  7.024084e-16  7.451410e-16  1.000000e+00   \n",
       "10  6.581644e-17 -2.884794e-16  1.108849e-16  1.141482e-16  4.149252e-16   \n",
       "11  2.638154e-17 -9.893076e-18  3.157540e-16 -2.834641e-16  4.276007e-16   \n",
       "12 -7.079046e-16  7.254923e-17  1.066254e-16  1.017338e-15  1.111322e-15   \n",
       "13  7.625913e-18  2.845290e-16  1.229850e-16 -1.008302e-15 -5.388635e-16   \n",
       "14  2.726092e-16 -4.111123e-16  3.720896e-16  1.527381e-15  5.584092e-16   \n",
       "15  3.572500e-17  3.083342e-16 -1.264115e-16  8.768083e-16 -1.571350e-15   \n",
       "16  1.253123e-16  6.870192e-17  2.481513e-16 -1.786937e-16  9.261019e-17   \n",
       "17  1.319077e-17 -4.396923e-16 -2.418308e-17 -3.369142e-16  6.463477e-16   \n",
       "18 -7.430800e-16 -5.397223e-16  1.923654e-16  3.028381e-16  4.292496e-16   \n",
       "19  8.431100e-16  1.618617e-16  4.851730e-16  4.068871e-16  1.308772e-16   \n",
       "20 -2.220446e-16 -3.836315e-16 -1.423504e-16  7.412937e-16  5.446688e-16   \n",
       "21  5.199361e-16  7.584692e-17  1.011292e-16  3.984711e-17 -4.083642e-16   \n",
       "22  1.647747e-15 -1.978615e-17  3.682423e-17  1.273047e-16  9.123615e-17   \n",
       "23  2.565604e-15  5.694015e-16 -3.561508e-16 -8.541023e-16 -7.606677e-16   \n",
       "24 -6.529430e-16 -1.582892e-16 -1.092361e-16 -5.290048e-17  8.339039e-16   \n",
       "25 -2.343422e-16  1.833654e-16 -7.971140e-17  9.085142e-16 -5.411478e-16   \n",
       "26 -2.110523e-16 -4.396923e-16 -3.165784e-16  2.836015e-16  1.055261e-16   \n",
       "27  8.038125e-16  2.209454e-16  9.484644e-16  1.203005e-15 -6.586110e-16   \n",
       "\n",
       "        ...                 18            19            20            21  \\\n",
       "0       ...      -2.231438e-16  1.761689e-16 -3.134182e-16 -5.743480e-17   \n",
       "1       ...      -1.154192e-17  1.000987e-16 -3.435096e-16  3.781354e-16   \n",
       "2       ...       7.254923e-17  7.035077e-17  1.593885e-16  6.815230e-17   \n",
       "3       ...      -3.737384e-16  5.971571e-16  7.254923e-16 -8.617969e-16   \n",
       "4       ...       7.573700e-16  1.423504e-16 -4.858600e-16  8.024384e-17   \n",
       "5       ...      -7.430800e-16  8.431100e-16 -2.220446e-16  5.199361e-16   \n",
       "6       ...      -5.397223e-16  1.618617e-16 -3.836315e-16  7.584692e-17   \n",
       "7       ...       1.923654e-16  4.851730e-16 -1.423504e-16  1.011292e-16   \n",
       "8       ...       3.028381e-16  4.068871e-16  7.412937e-16  3.984711e-17   \n",
       "9       ...       4.292496e-16  1.308772e-16  5.446688e-16 -4.083642e-16   \n",
       "10      ...      -9.482582e-16 -3.887241e-16  2.519643e-16 -6.750307e-16   \n",
       "11      ...       3.896773e-16  1.878310e-16  1.396023e-16 -1.099231e-17   \n",
       "12      ...      -2.330369e-16 -4.993256e-16 -5.803938e-16 -5.606077e-17   \n",
       "13      ...       1.143887e-16 -5.482327e-16 -4.879382e-16  2.989478e-16   \n",
       "14      ...       3.286700e-16 -1.418008e-16 -2.231438e-16  5.748977e-16   \n",
       "15      ...      -7.150496e-16  1.166456e-15 -9.640253e-16  9.093386e-16   \n",
       "16      ...      -2.709604e-16  6.350118e-16 -1.368542e-16  7.983163e-16   \n",
       "17      ...       5.496154e-17 -2.385331e-16 -6.419507e-16  9.871092e-16   \n",
       "18      ...       1.000000e+00  9.234912e-16  2.154492e-16  5.886380e-16   \n",
       "19      ...       9.234912e-16  1.000000e+00  5.885006e-16  5.454932e-17   \n",
       "20      ...       2.154492e-16  5.885006e-16  1.000000e+00 -7.854003e-16   \n",
       "21      ...       5.886380e-16  5.454932e-17 -7.854003e-16  1.000000e+00   \n",
       "22      ...       1.291596e-17  3.262654e-16 -1.610373e-16  3.179525e-16   \n",
       "23      ...      -9.343461e-17  7.557211e-16 -6.485461e-16  9.255523e-16   \n",
       "24      ...       4.677227e-16 -8.414611e-16  1.593885e-17  9.391552e-16   \n",
       "25      ...      -3.177807e-16 -4.176690e-16 -8.220185e-17 -7.042462e-16   \n",
       "26      ...       6.375538e-17 -4.754173e-17  6.595384e-18  5.166384e-16   \n",
       "27      ...      -2.120828e-16 -2.177078e-16  6.904543e-17  2.588688e-16   \n",
       "\n",
       "              22            23            24            25            26  \\\n",
       "0  -5.022110e-17  3.197387e-16  6.526682e-16 -2.413155e-17  1.511442e-17   \n",
       "1  -5.468673e-17 -4.583792e-16 -3.716774e-16  3.312978e-16  7.507746e-16   \n",
       "2  -6.963627e-16 -1.824723e-16 -5.592336e-16  3.531279e-16 -2.770061e-16   \n",
       "3  -1.599381e-16 -1.297092e-16 -5.584092e-16  5.366994e-16 -1.714800e-16   \n",
       "4  -1.335565e-16 -5.496154e-16  4.891577e-17 -2.100561e-16 -2.638154e-16   \n",
       "5   1.647747e-15  2.565604e-15 -6.529430e-16 -2.343422e-16 -2.110523e-16   \n",
       "6  -1.978615e-17  5.694015e-16 -1.582892e-16  1.833654e-16 -4.396923e-16   \n",
       "7   3.682423e-17 -3.561508e-16 -1.092361e-16 -7.971140e-17 -3.165784e-16   \n",
       "8   1.273047e-16 -8.541023e-16 -5.290048e-17  9.085142e-16  2.836015e-16   \n",
       "9   9.123615e-17 -7.606677e-16  8.339039e-16 -5.411478e-16  1.055261e-16   \n",
       "10 -8.294898e-17 -3.142426e-16  3.729655e-17 -1.842650e-16  3.504485e-16   \n",
       "11  2.901969e-16 -1.022285e-16 -4.699211e-16  3.510668e-17 -8.793846e-18   \n",
       "12  1.423504e-16  3.297692e-17  3.374638e-16  1.492893e-16 -4.396923e-16   \n",
       "13 -3.565544e-16  4.329595e-16  5.385372e-17 -5.949007e-16  7.158740e-17   \n",
       "14  1.434496e-16  6.573400e-16 -4.155092e-16 -7.288587e-16 -5.386231e-16   \n",
       "15 -9.107814e-16  4.666234e-16 -2.315942e-16 -1.056335e-16 -5.199361e-16   \n",
       "16  8.890028e-17 -4.946538e-16  6.317829e-16  1.058233e-15  1.044269e-16   \n",
       "17  5.573100e-16 -2.814031e-16 -6.578896e-16 -4.252649e-17  3.957231e-16   \n",
       "18  1.291596e-17 -9.343461e-17  4.677227e-16 -3.177807e-16  6.375538e-17   \n",
       "19  3.262654e-16  7.557211e-16 -8.414611e-16 -4.176690e-16 -4.754173e-17   \n",
       "20 -1.610373e-16 -6.485461e-16  1.593885e-17 -8.220185e-17  6.595384e-18   \n",
       "21  3.179525e-16  9.255523e-16  9.391552e-16 -7.042462e-16  5.166384e-16   \n",
       "22  1.000000e+00  7.276907e-16 -2.409376e-16  2.937007e-17 -3.550515e-16   \n",
       "23  7.276907e-16  1.000000e+00 -1.063506e-16  6.973245e-18 -2.682123e-16   \n",
       "24 -2.409376e-16 -1.063506e-16  1.000000e+00  6.467341e-16  1.885181e-16   \n",
       "25  2.937007e-17  6.973245e-18  6.467341e-16  1.000000e+00  8.869418e-17   \n",
       "26 -3.550515e-16 -2.682123e-16  1.885181e-16  8.869418e-17  1.000000e+00   \n",
       "27  1.971195e-15 -5.314781e-16  2.768344e-16  3.313150e-17  1.164498e-15   \n",
       "\n",
       "              27  \n",
       "0   2.573316e-16  \n",
       "1   2.277469e-17  \n",
       "2  -2.654642e-16  \n",
       "3  -1.261367e-16  \n",
       "4  -8.329421e-16  \n",
       "5   8.038125e-16  \n",
       "6   2.209454e-16  \n",
       "7   9.484644e-16  \n",
       "8   1.203005e-15  \n",
       "9  -6.586110e-16  \n",
       "10  6.919271e-16  \n",
       "11 -4.330626e-16  \n",
       "12 -2.988534e-16  \n",
       "13 -1.130544e-16  \n",
       "14  2.377086e-17  \n",
       "15 -3.680705e-17  \n",
       "16 -3.469790e-16  \n",
       "17 -2.385331e-16  \n",
       "18 -2.120828e-16  \n",
       "19 -2.177078e-16  \n",
       "20  6.904543e-17  \n",
       "21  2.588688e-16  \n",
       "22  1.971195e-15  \n",
       "23 -5.314781e-16  \n",
       "24  2.768344e-16  \n",
       "25  3.313150e-17  \n",
       "26  1.164498e-15  \n",
       "27  1.000000e+00  \n",
       "\n",
       "[28 rows x 28 columns]"
      ]
     },
     "execution_count": 49,
     "metadata": {},
     "output_type": "execute_result"
    }
   ],
   "source": [
    "pd.DataFrame(X_train_numeric).corr()"
   ]
  },
  {
   "cell_type": "code",
   "execution_count": 50,
   "metadata": {
    "ExecuteTime": {
     "end_time": "2019-05-07T15:36:41.010703Z",
     "start_time": "2019-05-07T15:36:40.960213Z"
    },
    "scrolled": true
   },
   "outputs": [
    {
     "data": {
      "text/html": [
       "<div>\n",
       "<style scoped>\n",
       "    .dataframe tbody tr th:only-of-type {\n",
       "        vertical-align: middle;\n",
       "    }\n",
       "\n",
       "    .dataframe tbody tr th {\n",
       "        vertical-align: top;\n",
       "    }\n",
       "\n",
       "    .dataframe thead th {\n",
       "        text-align: right;\n",
       "    }\n",
       "</style>\n",
       "<table border=\"1\" class=\"dataframe\">\n",
       "  <thead>\n",
       "    <tr style=\"text-align: right;\">\n",
       "      <th></th>\n",
       "      <th>0</th>\n",
       "      <th>1</th>\n",
       "      <th>2</th>\n",
       "      <th>3</th>\n",
       "      <th>4</th>\n",
       "      <th>5</th>\n",
       "      <th>6</th>\n",
       "      <th>7</th>\n",
       "      <th>8</th>\n",
       "      <th>9</th>\n",
       "      <th>...</th>\n",
       "      <th>18</th>\n",
       "      <th>19</th>\n",
       "      <th>20</th>\n",
       "      <th>21</th>\n",
       "      <th>22</th>\n",
       "      <th>23</th>\n",
       "      <th>24</th>\n",
       "      <th>25</th>\n",
       "      <th>26</th>\n",
       "      <th>27</th>\n",
       "    </tr>\n",
       "  </thead>\n",
       "  <tbody>\n",
       "    <tr>\n",
       "      <th>0</th>\n",
       "      <td>1.000000</td>\n",
       "      <td>0.079196</td>\n",
       "      <td>0.075139</td>\n",
       "      <td>-0.037679</td>\n",
       "      <td>-0.038565</td>\n",
       "      <td>0.035261</td>\n",
       "      <td>0.123297</td>\n",
       "      <td>-0.013752</td>\n",
       "      <td>0.016912</td>\n",
       "      <td>0.122935</td>\n",
       "      <td>...</td>\n",
       "      <td>-0.047551</td>\n",
       "      <td>0.057240</td>\n",
       "      <td>0.014002</td>\n",
       "      <td>-0.038316</td>\n",
       "      <td>0.019041</td>\n",
       "      <td>-0.059769</td>\n",
       "      <td>-0.023473</td>\n",
       "      <td>-0.043911</td>\n",
       "      <td>0.027342</td>\n",
       "      <td>-0.077316</td>\n",
       "    </tr>\n",
       "    <tr>\n",
       "      <th>1</th>\n",
       "      <td>0.079196</td>\n",
       "      <td>1.000000</td>\n",
       "      <td>0.041000</td>\n",
       "      <td>-0.050415</td>\n",
       "      <td>-0.157308</td>\n",
       "      <td>0.010409</td>\n",
       "      <td>-0.013201</td>\n",
       "      <td>-0.026804</td>\n",
       "      <td>0.030205</td>\n",
       "      <td>-0.003027</td>\n",
       "      <td>...</td>\n",
       "      <td>0.004861</td>\n",
       "      <td>-0.021497</td>\n",
       "      <td>-0.099235</td>\n",
       "      <td>-0.001151</td>\n",
       "      <td>-0.004937</td>\n",
       "      <td>-0.002703</td>\n",
       "      <td>-0.057417</td>\n",
       "      <td>0.045678</td>\n",
       "      <td>-0.040386</td>\n",
       "      <td>0.009885</td>\n",
       "    </tr>\n",
       "    <tr>\n",
       "      <th>2</th>\n",
       "      <td>0.075139</td>\n",
       "      <td>0.041000</td>\n",
       "      <td>1.000000</td>\n",
       "      <td>-0.148329</td>\n",
       "      <td>0.170330</td>\n",
       "      <td>0.078666</td>\n",
       "      <td>0.101916</td>\n",
       "      <td>0.104719</td>\n",
       "      <td>-0.113800</td>\n",
       "      <td>0.049869</td>\n",
       "      <td>...</td>\n",
       "      <td>0.022690</td>\n",
       "      <td>0.072961</td>\n",
       "      <td>0.209318</td>\n",
       "      <td>0.000531</td>\n",
       "      <td>0.144706</td>\n",
       "      <td>0.000447</td>\n",
       "      <td>0.045396</td>\n",
       "      <td>0.040767</td>\n",
       "      <td>-0.095011</td>\n",
       "      <td>-0.029988</td>\n",
       "    </tr>\n",
       "    <tr>\n",
       "      <th>3</th>\n",
       "      <td>-0.037679</td>\n",
       "      <td>-0.050415</td>\n",
       "      <td>-0.148329</td>\n",
       "      <td>1.000000</td>\n",
       "      <td>-0.166935</td>\n",
       "      <td>-0.155051</td>\n",
       "      <td>-0.095713</td>\n",
       "      <td>-0.197266</td>\n",
       "      <td>-0.117519</td>\n",
       "      <td>-0.043998</td>\n",
       "      <td>...</td>\n",
       "      <td>0.110305</td>\n",
       "      <td>0.093537</td>\n",
       "      <td>0.208648</td>\n",
       "      <td>0.018241</td>\n",
       "      <td>0.136150</td>\n",
       "      <td>-0.055763</td>\n",
       "      <td>0.066462</td>\n",
       "      <td>0.103384</td>\n",
       "      <td>0.026237</td>\n",
       "      <td>0.074490</td>\n",
       "    </tr>\n",
       "    <tr>\n",
       "      <th>4</th>\n",
       "      <td>-0.038565</td>\n",
       "      <td>-0.157308</td>\n",
       "      <td>0.170330</td>\n",
       "      <td>-0.166935</td>\n",
       "      <td>1.000000</td>\n",
       "      <td>0.030648</td>\n",
       "      <td>-0.088442</td>\n",
       "      <td>-0.363296</td>\n",
       "      <td>0.124888</td>\n",
       "      <td>0.059329</td>\n",
       "      <td>...</td>\n",
       "      <td>0.030161</td>\n",
       "      <td>0.002268</td>\n",
       "      <td>-0.007669</td>\n",
       "      <td>-0.067240</td>\n",
       "      <td>-0.034624</td>\n",
       "      <td>0.087711</td>\n",
       "      <td>0.042780</td>\n",
       "      <td>0.038593</td>\n",
       "      <td>-0.097261</td>\n",
       "      <td>-0.082585</td>\n",
       "    </tr>\n",
       "    <tr>\n",
       "      <th>5</th>\n",
       "      <td>0.035261</td>\n",
       "      <td>0.010409</td>\n",
       "      <td>0.078666</td>\n",
       "      <td>-0.155051</td>\n",
       "      <td>0.030648</td>\n",
       "      <td>1.000000</td>\n",
       "      <td>0.007684</td>\n",
       "      <td>-0.139240</td>\n",
       "      <td>-0.022324</td>\n",
       "      <td>-0.018011</td>\n",
       "      <td>...</td>\n",
       "      <td>0.132521</td>\n",
       "      <td>0.082137</td>\n",
       "      <td>0.125171</td>\n",
       "      <td>-0.047238</td>\n",
       "      <td>0.101217</td>\n",
       "      <td>0.045188</td>\n",
       "      <td>0.039255</td>\n",
       "      <td>0.064834</td>\n",
       "      <td>-0.149718</td>\n",
       "      <td>0.023400</td>\n",
       "    </tr>\n",
       "    <tr>\n",
       "      <th>6</th>\n",
       "      <td>0.123297</td>\n",
       "      <td>-0.013201</td>\n",
       "      <td>0.101916</td>\n",
       "      <td>-0.095713</td>\n",
       "      <td>-0.088442</td>\n",
       "      <td>0.007684</td>\n",
       "      <td>1.000000</td>\n",
       "      <td>-0.415216</td>\n",
       "      <td>-0.009660</td>\n",
       "      <td>0.121239</td>\n",
       "      <td>...</td>\n",
       "      <td>-0.040274</td>\n",
       "      <td>0.000412</td>\n",
       "      <td>0.037798</td>\n",
       "      <td>-0.035803</td>\n",
       "      <td>0.043633</td>\n",
       "      <td>-0.091794</td>\n",
       "      <td>0.014392</td>\n",
       "      <td>0.009347</td>\n",
       "      <td>-0.027585</td>\n",
       "      <td>-0.118663</td>\n",
       "    </tr>\n",
       "    <tr>\n",
       "      <th>7</th>\n",
       "      <td>-0.013752</td>\n",
       "      <td>-0.026804</td>\n",
       "      <td>0.104719</td>\n",
       "      <td>-0.197266</td>\n",
       "      <td>-0.363296</td>\n",
       "      <td>-0.139240</td>\n",
       "      <td>-0.415216</td>\n",
       "      <td>1.000000</td>\n",
       "      <td>0.226772</td>\n",
       "      <td>0.179389</td>\n",
       "      <td>...</td>\n",
       "      <td>0.029708</td>\n",
       "      <td>0.093838</td>\n",
       "      <td>0.066671</td>\n",
       "      <td>-0.038855</td>\n",
       "      <td>0.033679</td>\n",
       "      <td>-0.045716</td>\n",
       "      <td>0.040354</td>\n",
       "      <td>-0.105128</td>\n",
       "      <td>0.140123</td>\n",
       "      <td>-0.120756</td>\n",
       "    </tr>\n",
       "    <tr>\n",
       "      <th>8</th>\n",
       "      <td>0.016912</td>\n",
       "      <td>0.030205</td>\n",
       "      <td>-0.113800</td>\n",
       "      <td>-0.117519</td>\n",
       "      <td>0.124888</td>\n",
       "      <td>-0.022324</td>\n",
       "      <td>-0.009660</td>\n",
       "      <td>0.226772</td>\n",
       "      <td>1.000000</td>\n",
       "      <td>0.099556</td>\n",
       "      <td>...</td>\n",
       "      <td>0.096502</td>\n",
       "      <td>0.462434</td>\n",
       "      <td>0.223789</td>\n",
       "      <td>0.041625</td>\n",
       "      <td>-0.007441</td>\n",
       "      <td>0.133655</td>\n",
       "      <td>0.117195</td>\n",
       "      <td>0.097347</td>\n",
       "      <td>0.046746</td>\n",
       "      <td>0.133003</td>\n",
       "    </tr>\n",
       "    <tr>\n",
       "      <th>9</th>\n",
       "      <td>0.122935</td>\n",
       "      <td>-0.003027</td>\n",
       "      <td>0.049869</td>\n",
       "      <td>-0.043998</td>\n",
       "      <td>0.059329</td>\n",
       "      <td>-0.018011</td>\n",
       "      <td>0.121239</td>\n",
       "      <td>0.179389</td>\n",
       "      <td>0.099556</td>\n",
       "      <td>1.000000</td>\n",
       "      <td>...</td>\n",
       "      <td>-0.022290</td>\n",
       "      <td>-0.140006</td>\n",
       "      <td>-0.101792</td>\n",
       "      <td>-0.040327</td>\n",
       "      <td>-0.070381</td>\n",
       "      <td>0.066547</td>\n",
       "      <td>-0.026758</td>\n",
       "      <td>-0.017283</td>\n",
       "      <td>-0.097208</td>\n",
       "      <td>0.006071</td>\n",
       "    </tr>\n",
       "    <tr>\n",
       "      <th>10</th>\n",
       "      <td>-0.207133</td>\n",
       "      <td>-0.160562</td>\n",
       "      <td>-0.065614</td>\n",
       "      <td>-0.088624</td>\n",
       "      <td>-0.014084</td>\n",
       "      <td>-0.001635</td>\n",
       "      <td>0.002913</td>\n",
       "      <td>-0.029468</td>\n",
       "      <td>-0.105695</td>\n",
       "      <td>-0.155926</td>\n",
       "      <td>...</td>\n",
       "      <td>-0.008300</td>\n",
       "      <td>-0.136857</td>\n",
       "      <td>-0.134917</td>\n",
       "      <td>0.018842</td>\n",
       "      <td>-0.059341</td>\n",
       "      <td>0.032773</td>\n",
       "      <td>-0.022322</td>\n",
       "      <td>0.100970</td>\n",
       "      <td>0.000272</td>\n",
       "      <td>0.050764</td>\n",
       "    </tr>\n",
       "    <tr>\n",
       "      <th>11</th>\n",
       "      <td>0.024483</td>\n",
       "      <td>0.066236</td>\n",
       "      <td>-0.371552</td>\n",
       "      <td>-0.270280</td>\n",
       "      <td>0.082577</td>\n",
       "      <td>-0.259076</td>\n",
       "      <td>0.112600</td>\n",
       "      <td>-0.109249</td>\n",
       "      <td>0.310426</td>\n",
       "      <td>-0.095009</td>\n",
       "      <td>...</td>\n",
       "      <td>-0.200725</td>\n",
       "      <td>-0.096840</td>\n",
       "      <td>-0.301219</td>\n",
       "      <td>0.072714</td>\n",
       "      <td>-0.160365</td>\n",
       "      <td>0.032891</td>\n",
       "      <td>-0.019242</td>\n",
       "      <td>-0.001947</td>\n",
       "      <td>0.133139</td>\n",
       "      <td>-0.103065</td>\n",
       "    </tr>\n",
       "    <tr>\n",
       "      <th>12</th>\n",
       "      <td>0.053969</td>\n",
       "      <td>0.041936</td>\n",
       "      <td>-0.015988</td>\n",
       "      <td>-0.189225</td>\n",
       "      <td>0.049389</td>\n",
       "      <td>-0.079872</td>\n",
       "      <td>0.170524</td>\n",
       "      <td>0.060889</td>\n",
       "      <td>0.195866</td>\n",
       "      <td>-0.093772</td>\n",
       "      <td>...</td>\n",
       "      <td>0.080888</td>\n",
       "      <td>0.073719</td>\n",
       "      <td>-0.010733</td>\n",
       "      <td>-0.106999</td>\n",
       "      <td>-0.039038</td>\n",
       "      <td>0.102083</td>\n",
       "      <td>-0.015846</td>\n",
       "      <td>-0.069650</td>\n",
       "      <td>-0.083527</td>\n",
       "      <td>-0.082095</td>\n",
       "    </tr>\n",
       "    <tr>\n",
       "      <th>13</th>\n",
       "      <td>-0.009980</td>\n",
       "      <td>0.027755</td>\n",
       "      <td>-0.218615</td>\n",
       "      <td>-0.174974</td>\n",
       "      <td>-0.012692</td>\n",
       "      <td>-0.067462</td>\n",
       "      <td>0.040157</td>\n",
       "      <td>-0.133048</td>\n",
       "      <td>-0.579052</td>\n",
       "      <td>0.151194</td>\n",
       "      <td>...</td>\n",
       "      <td>-0.151308</td>\n",
       "      <td>-0.569643</td>\n",
       "      <td>-0.442615</td>\n",
       "      <td>0.020924</td>\n",
       "      <td>-0.132845</td>\n",
       "      <td>-0.090812</td>\n",
       "      <td>-0.068637</td>\n",
       "      <td>-0.083778</td>\n",
       "      <td>-0.042236</td>\n",
       "      <td>-0.124392</td>\n",
       "    </tr>\n",
       "    <tr>\n",
       "      <th>14</th>\n",
       "      <td>0.041894</td>\n",
       "      <td>-0.003216</td>\n",
       "      <td>-0.058096</td>\n",
       "      <td>-0.183348</td>\n",
       "      <td>0.181292</td>\n",
       "      <td>-0.073573</td>\n",
       "      <td>0.024908</td>\n",
       "      <td>-0.043797</td>\n",
       "      <td>0.163280</td>\n",
       "      <td>0.236507</td>\n",
       "      <td>...</td>\n",
       "      <td>-0.017360</td>\n",
       "      <td>-0.050482</td>\n",
       "      <td>-0.153782</td>\n",
       "      <td>0.031048</td>\n",
       "      <td>-0.053617</td>\n",
       "      <td>0.302037</td>\n",
       "      <td>-0.166809</td>\n",
       "      <td>0.103204</td>\n",
       "      <td>-0.079253</td>\n",
       "      <td>-0.147128</td>\n",
       "    </tr>\n",
       "    <tr>\n",
       "      <th>15</th>\n",
       "      <td>0.058773</td>\n",
       "      <td>0.039833</td>\n",
       "      <td>-0.047170</td>\n",
       "      <td>-0.072187</td>\n",
       "      <td>0.068895</td>\n",
       "      <td>0.015326</td>\n",
       "      <td>0.021593</td>\n",
       "      <td>-0.105976</td>\n",
       "      <td>-0.197716</td>\n",
       "      <td>0.130332</td>\n",
       "      <td>...</td>\n",
       "      <td>-0.280974</td>\n",
       "      <td>-0.196648</td>\n",
       "      <td>-0.305424</td>\n",
       "      <td>0.071866</td>\n",
       "      <td>-0.129686</td>\n",
       "      <td>0.004578</td>\n",
       "      <td>-0.096830</td>\n",
       "      <td>-0.059329</td>\n",
       "      <td>-0.085712</td>\n",
       "      <td>0.003518</td>\n",
       "    </tr>\n",
       "    <tr>\n",
       "      <th>16</th>\n",
       "      <td>0.033260</td>\n",
       "      <td>0.016871</td>\n",
       "      <td>0.063918</td>\n",
       "      <td>0.033542</td>\n",
       "      <td>-0.131401</td>\n",
       "      <td>0.010288</td>\n",
       "      <td>-0.068850</td>\n",
       "      <td>0.147057</td>\n",
       "      <td>-0.081017</td>\n",
       "      <td>0.039055</td>\n",
       "      <td>...</td>\n",
       "      <td>-0.059247</td>\n",
       "      <td>-0.030722</td>\n",
       "      <td>-0.059344</td>\n",
       "      <td>-0.031668</td>\n",
       "      <td>-0.070694</td>\n",
       "      <td>-0.013104</td>\n",
       "      <td>-0.019667</td>\n",
       "      <td>-0.071721</td>\n",
       "      <td>0.028982</td>\n",
       "      <td>0.064521</td>\n",
       "    </tr>\n",
       "    <tr>\n",
       "      <th>17</th>\n",
       "      <td>-0.065502</td>\n",
       "      <td>-0.123563</td>\n",
       "      <td>0.098905</td>\n",
       "      <td>-0.123395</td>\n",
       "      <td>0.011574</td>\n",
       "      <td>0.085287</td>\n",
       "      <td>0.135473</td>\n",
       "      <td>0.035433</td>\n",
       "      <td>-0.106528</td>\n",
       "      <td>0.082710</td>\n",
       "      <td>...</td>\n",
       "      <td>0.124577</td>\n",
       "      <td>-0.043138</td>\n",
       "      <td>0.012760</td>\n",
       "      <td>-0.028050</td>\n",
       "      <td>0.022011</td>\n",
       "      <td>0.206877</td>\n",
       "      <td>-0.000822</td>\n",
       "      <td>0.155017</td>\n",
       "      <td>-0.186871</td>\n",
       "      <td>-0.079149</td>\n",
       "    </tr>\n",
       "    <tr>\n",
       "      <th>18</th>\n",
       "      <td>-0.047551</td>\n",
       "      <td>0.004861</td>\n",
       "      <td>0.022690</td>\n",
       "      <td>0.110305</td>\n",
       "      <td>0.030161</td>\n",
       "      <td>0.132521</td>\n",
       "      <td>-0.040274</td>\n",
       "      <td>0.029708</td>\n",
       "      <td>0.096502</td>\n",
       "      <td>-0.022290</td>\n",
       "      <td>...</td>\n",
       "      <td>1.000000</td>\n",
       "      <td>0.303460</td>\n",
       "      <td>0.246707</td>\n",
       "      <td>0.006696</td>\n",
       "      <td>0.102491</td>\n",
       "      <td>0.062633</td>\n",
       "      <td>0.089812</td>\n",
       "      <td>0.068462</td>\n",
       "      <td>-0.037741</td>\n",
       "      <td>0.111165</td>\n",
       "    </tr>\n",
       "    <tr>\n",
       "      <th>19</th>\n",
       "      <td>0.057240</td>\n",
       "      <td>-0.021497</td>\n",
       "      <td>0.072961</td>\n",
       "      <td>0.093537</td>\n",
       "      <td>0.002268</td>\n",
       "      <td>0.082137</td>\n",
       "      <td>0.000412</td>\n",
       "      <td>0.093838</td>\n",
       "      <td>0.462434</td>\n",
       "      <td>-0.140006</td>\n",
       "      <td>...</td>\n",
       "      <td>0.303460</td>\n",
       "      <td>1.000000</td>\n",
       "      <td>0.319512</td>\n",
       "      <td>-0.013202</td>\n",
       "      <td>0.154805</td>\n",
       "      <td>-0.091121</td>\n",
       "      <td>0.073262</td>\n",
       "      <td>-0.008024</td>\n",
       "      <td>-0.015759</td>\n",
       "      <td>0.079301</td>\n",
       "    </tr>\n",
       "    <tr>\n",
       "      <th>20</th>\n",
       "      <td>0.014002</td>\n",
       "      <td>-0.099235</td>\n",
       "      <td>0.209318</td>\n",
       "      <td>0.208648</td>\n",
       "      <td>-0.007669</td>\n",
       "      <td>0.125171</td>\n",
       "      <td>0.037798</td>\n",
       "      <td>0.066671</td>\n",
       "      <td>0.223789</td>\n",
       "      <td>-0.101792</td>\n",
       "      <td>...</td>\n",
       "      <td>0.246707</td>\n",
       "      <td>0.319512</td>\n",
       "      <td>1.000000</td>\n",
       "      <td>-0.012794</td>\n",
       "      <td>0.165444</td>\n",
       "      <td>-0.024877</td>\n",
       "      <td>0.152222</td>\n",
       "      <td>-0.019025</td>\n",
       "      <td>-0.055736</td>\n",
       "      <td>0.130694</td>\n",
       "    </tr>\n",
       "    <tr>\n",
       "      <th>21</th>\n",
       "      <td>-0.038316</td>\n",
       "      <td>-0.001151</td>\n",
       "      <td>0.000531</td>\n",
       "      <td>0.018241</td>\n",
       "      <td>-0.067240</td>\n",
       "      <td>-0.047238</td>\n",
       "      <td>-0.035803</td>\n",
       "      <td>-0.038855</td>\n",
       "      <td>0.041625</td>\n",
       "      <td>-0.040327</td>\n",
       "      <td>...</td>\n",
       "      <td>0.006696</td>\n",
       "      <td>-0.013202</td>\n",
       "      <td>-0.012794</td>\n",
       "      <td>1.000000</td>\n",
       "      <td>-0.026905</td>\n",
       "      <td>-0.038513</td>\n",
       "      <td>0.027462</td>\n",
       "      <td>0.031086</td>\n",
       "      <td>-0.014696</td>\n",
       "      <td>0.044174</td>\n",
       "    </tr>\n",
       "    <tr>\n",
       "      <th>22</th>\n",
       "      <td>0.019041</td>\n",
       "      <td>-0.004937</td>\n",
       "      <td>0.144706</td>\n",
       "      <td>0.136150</td>\n",
       "      <td>-0.034624</td>\n",
       "      <td>0.101217</td>\n",
       "      <td>0.043633</td>\n",
       "      <td>0.033679</td>\n",
       "      <td>-0.007441</td>\n",
       "      <td>-0.070381</td>\n",
       "      <td>...</td>\n",
       "      <td>0.102491</td>\n",
       "      <td>0.154805</td>\n",
       "      <td>0.165444</td>\n",
       "      <td>-0.026905</td>\n",
       "      <td>1.000000</td>\n",
       "      <td>-0.073620</td>\n",
       "      <td>0.044278</td>\n",
       "      <td>0.024686</td>\n",
       "      <td>-0.097307</td>\n",
       "      <td>0.038866</td>\n",
       "    </tr>\n",
       "    <tr>\n",
       "      <th>23</th>\n",
       "      <td>-0.059769</td>\n",
       "      <td>-0.002703</td>\n",
       "      <td>0.000447</td>\n",
       "      <td>-0.055763</td>\n",
       "      <td>0.087711</td>\n",
       "      <td>0.045188</td>\n",
       "      <td>-0.091794</td>\n",
       "      <td>-0.045716</td>\n",
       "      <td>0.133655</td>\n",
       "      <td>0.066547</td>\n",
       "      <td>...</td>\n",
       "      <td>0.062633</td>\n",
       "      <td>-0.091121</td>\n",
       "      <td>-0.024877</td>\n",
       "      <td>-0.038513</td>\n",
       "      <td>-0.073620</td>\n",
       "      <td>1.000000</td>\n",
       "      <td>0.041506</td>\n",
       "      <td>-0.041486</td>\n",
       "      <td>-0.092694</td>\n",
       "      <td>-0.027850</td>\n",
       "    </tr>\n",
       "    <tr>\n",
       "      <th>24</th>\n",
       "      <td>-0.023473</td>\n",
       "      <td>-0.057417</td>\n",
       "      <td>0.045396</td>\n",
       "      <td>0.066462</td>\n",
       "      <td>0.042780</td>\n",
       "      <td>0.039255</td>\n",
       "      <td>0.014392</td>\n",
       "      <td>0.040354</td>\n",
       "      <td>0.117195</td>\n",
       "      <td>-0.026758</td>\n",
       "      <td>...</td>\n",
       "      <td>0.089812</td>\n",
       "      <td>0.073262</td>\n",
       "      <td>0.152222</td>\n",
       "      <td>0.027462</td>\n",
       "      <td>0.044278</td>\n",
       "      <td>0.041506</td>\n",
       "      <td>1.000000</td>\n",
       "      <td>0.133520</td>\n",
       "      <td>-0.034219</td>\n",
       "      <td>0.043402</td>\n",
       "    </tr>\n",
       "    <tr>\n",
       "      <th>25</th>\n",
       "      <td>-0.043911</td>\n",
       "      <td>0.045678</td>\n",
       "      <td>0.040767</td>\n",
       "      <td>0.103384</td>\n",
       "      <td>0.038593</td>\n",
       "      <td>0.064834</td>\n",
       "      <td>0.009347</td>\n",
       "      <td>-0.105128</td>\n",
       "      <td>0.097347</td>\n",
       "      <td>-0.017283</td>\n",
       "      <td>...</td>\n",
       "      <td>0.068462</td>\n",
       "      <td>-0.008024</td>\n",
       "      <td>-0.019025</td>\n",
       "      <td>0.031086</td>\n",
       "      <td>0.024686</td>\n",
       "      <td>-0.041486</td>\n",
       "      <td>0.133520</td>\n",
       "      <td>1.000000</td>\n",
       "      <td>-0.089425</td>\n",
       "      <td>-0.104600</td>\n",
       "    </tr>\n",
       "    <tr>\n",
       "      <th>26</th>\n",
       "      <td>0.027342</td>\n",
       "      <td>-0.040386</td>\n",
       "      <td>-0.095011</td>\n",
       "      <td>0.026237</td>\n",
       "      <td>-0.097261</td>\n",
       "      <td>-0.149718</td>\n",
       "      <td>-0.027585</td>\n",
       "      <td>0.140123</td>\n",
       "      <td>0.046746</td>\n",
       "      <td>-0.097208</td>\n",
       "      <td>...</td>\n",
       "      <td>-0.037741</td>\n",
       "      <td>-0.015759</td>\n",
       "      <td>-0.055736</td>\n",
       "      <td>-0.014696</td>\n",
       "      <td>-0.097307</td>\n",
       "      <td>-0.092694</td>\n",
       "      <td>-0.034219</td>\n",
       "      <td>-0.089425</td>\n",
       "      <td>1.000000</td>\n",
       "      <td>0.019791</td>\n",
       "    </tr>\n",
       "    <tr>\n",
       "      <th>27</th>\n",
       "      <td>-0.077316</td>\n",
       "      <td>0.009885</td>\n",
       "      <td>-0.029988</td>\n",
       "      <td>0.074490</td>\n",
       "      <td>-0.082585</td>\n",
       "      <td>0.023400</td>\n",
       "      <td>-0.118663</td>\n",
       "      <td>-0.120756</td>\n",
       "      <td>0.133003</td>\n",
       "      <td>0.006071</td>\n",
       "      <td>...</td>\n",
       "      <td>0.111165</td>\n",
       "      <td>0.079301</td>\n",
       "      <td>0.130694</td>\n",
       "      <td>0.044174</td>\n",
       "      <td>0.038866</td>\n",
       "      <td>-0.027850</td>\n",
       "      <td>0.043402</td>\n",
       "      <td>-0.104600</td>\n",
       "      <td>0.019791</td>\n",
       "      <td>1.000000</td>\n",
       "    </tr>\n",
       "  </tbody>\n",
       "</table>\n",
       "<p>28 rows × 28 columns</p>\n",
       "</div>"
      ],
      "text/plain": [
       "          0         1         2         3         4         5         6   \\\n",
       "0   1.000000  0.079196  0.075139 -0.037679 -0.038565  0.035261  0.123297   \n",
       "1   0.079196  1.000000  0.041000 -0.050415 -0.157308  0.010409 -0.013201   \n",
       "2   0.075139  0.041000  1.000000 -0.148329  0.170330  0.078666  0.101916   \n",
       "3  -0.037679 -0.050415 -0.148329  1.000000 -0.166935 -0.155051 -0.095713   \n",
       "4  -0.038565 -0.157308  0.170330 -0.166935  1.000000  0.030648 -0.088442   \n",
       "5   0.035261  0.010409  0.078666 -0.155051  0.030648  1.000000  0.007684   \n",
       "6   0.123297 -0.013201  0.101916 -0.095713 -0.088442  0.007684  1.000000   \n",
       "7  -0.013752 -0.026804  0.104719 -0.197266 -0.363296 -0.139240 -0.415216   \n",
       "8   0.016912  0.030205 -0.113800 -0.117519  0.124888 -0.022324 -0.009660   \n",
       "9   0.122935 -0.003027  0.049869 -0.043998  0.059329 -0.018011  0.121239   \n",
       "10 -0.207133 -0.160562 -0.065614 -0.088624 -0.014084 -0.001635  0.002913   \n",
       "11  0.024483  0.066236 -0.371552 -0.270280  0.082577 -0.259076  0.112600   \n",
       "12  0.053969  0.041936 -0.015988 -0.189225  0.049389 -0.079872  0.170524   \n",
       "13 -0.009980  0.027755 -0.218615 -0.174974 -0.012692 -0.067462  0.040157   \n",
       "14  0.041894 -0.003216 -0.058096 -0.183348  0.181292 -0.073573  0.024908   \n",
       "15  0.058773  0.039833 -0.047170 -0.072187  0.068895  0.015326  0.021593   \n",
       "16  0.033260  0.016871  0.063918  0.033542 -0.131401  0.010288 -0.068850   \n",
       "17 -0.065502 -0.123563  0.098905 -0.123395  0.011574  0.085287  0.135473   \n",
       "18 -0.047551  0.004861  0.022690  0.110305  0.030161  0.132521 -0.040274   \n",
       "19  0.057240 -0.021497  0.072961  0.093537  0.002268  0.082137  0.000412   \n",
       "20  0.014002 -0.099235  0.209318  0.208648 -0.007669  0.125171  0.037798   \n",
       "21 -0.038316 -0.001151  0.000531  0.018241 -0.067240 -0.047238 -0.035803   \n",
       "22  0.019041 -0.004937  0.144706  0.136150 -0.034624  0.101217  0.043633   \n",
       "23 -0.059769 -0.002703  0.000447 -0.055763  0.087711  0.045188 -0.091794   \n",
       "24 -0.023473 -0.057417  0.045396  0.066462  0.042780  0.039255  0.014392   \n",
       "25 -0.043911  0.045678  0.040767  0.103384  0.038593  0.064834  0.009347   \n",
       "26  0.027342 -0.040386 -0.095011  0.026237 -0.097261 -0.149718 -0.027585   \n",
       "27 -0.077316  0.009885 -0.029988  0.074490 -0.082585  0.023400 -0.118663   \n",
       "\n",
       "          7         8         9     ...           18        19        20  \\\n",
       "0  -0.013752  0.016912  0.122935    ...    -0.047551  0.057240  0.014002   \n",
       "1  -0.026804  0.030205 -0.003027    ...     0.004861 -0.021497 -0.099235   \n",
       "2   0.104719 -0.113800  0.049869    ...     0.022690  0.072961  0.209318   \n",
       "3  -0.197266 -0.117519 -0.043998    ...     0.110305  0.093537  0.208648   \n",
       "4  -0.363296  0.124888  0.059329    ...     0.030161  0.002268 -0.007669   \n",
       "5  -0.139240 -0.022324 -0.018011    ...     0.132521  0.082137  0.125171   \n",
       "6  -0.415216 -0.009660  0.121239    ...    -0.040274  0.000412  0.037798   \n",
       "7   1.000000  0.226772  0.179389    ...     0.029708  0.093838  0.066671   \n",
       "8   0.226772  1.000000  0.099556    ...     0.096502  0.462434  0.223789   \n",
       "9   0.179389  0.099556  1.000000    ...    -0.022290 -0.140006 -0.101792   \n",
       "10 -0.029468 -0.105695 -0.155926    ...    -0.008300 -0.136857 -0.134917   \n",
       "11 -0.109249  0.310426 -0.095009    ...    -0.200725 -0.096840 -0.301219   \n",
       "12  0.060889  0.195866 -0.093772    ...     0.080888  0.073719 -0.010733   \n",
       "13 -0.133048 -0.579052  0.151194    ...    -0.151308 -0.569643 -0.442615   \n",
       "14 -0.043797  0.163280  0.236507    ...    -0.017360 -0.050482 -0.153782   \n",
       "15 -0.105976 -0.197716  0.130332    ...    -0.280974 -0.196648 -0.305424   \n",
       "16  0.147057 -0.081017  0.039055    ...    -0.059247 -0.030722 -0.059344   \n",
       "17  0.035433 -0.106528  0.082710    ...     0.124577 -0.043138  0.012760   \n",
       "18  0.029708  0.096502 -0.022290    ...     1.000000  0.303460  0.246707   \n",
       "19  0.093838  0.462434 -0.140006    ...     0.303460  1.000000  0.319512   \n",
       "20  0.066671  0.223789 -0.101792    ...     0.246707  0.319512  1.000000   \n",
       "21 -0.038855  0.041625 -0.040327    ...     0.006696 -0.013202 -0.012794   \n",
       "22  0.033679 -0.007441 -0.070381    ...     0.102491  0.154805  0.165444   \n",
       "23 -0.045716  0.133655  0.066547    ...     0.062633 -0.091121 -0.024877   \n",
       "24  0.040354  0.117195 -0.026758    ...     0.089812  0.073262  0.152222   \n",
       "25 -0.105128  0.097347 -0.017283    ...     0.068462 -0.008024 -0.019025   \n",
       "26  0.140123  0.046746 -0.097208    ...    -0.037741 -0.015759 -0.055736   \n",
       "27 -0.120756  0.133003  0.006071    ...     0.111165  0.079301  0.130694   \n",
       "\n",
       "          21        22        23        24        25        26        27  \n",
       "0  -0.038316  0.019041 -0.059769 -0.023473 -0.043911  0.027342 -0.077316  \n",
       "1  -0.001151 -0.004937 -0.002703 -0.057417  0.045678 -0.040386  0.009885  \n",
       "2   0.000531  0.144706  0.000447  0.045396  0.040767 -0.095011 -0.029988  \n",
       "3   0.018241  0.136150 -0.055763  0.066462  0.103384  0.026237  0.074490  \n",
       "4  -0.067240 -0.034624  0.087711  0.042780  0.038593 -0.097261 -0.082585  \n",
       "5  -0.047238  0.101217  0.045188  0.039255  0.064834 -0.149718  0.023400  \n",
       "6  -0.035803  0.043633 -0.091794  0.014392  0.009347 -0.027585 -0.118663  \n",
       "7  -0.038855  0.033679 -0.045716  0.040354 -0.105128  0.140123 -0.120756  \n",
       "8   0.041625 -0.007441  0.133655  0.117195  0.097347  0.046746  0.133003  \n",
       "9  -0.040327 -0.070381  0.066547 -0.026758 -0.017283 -0.097208  0.006071  \n",
       "10  0.018842 -0.059341  0.032773 -0.022322  0.100970  0.000272  0.050764  \n",
       "11  0.072714 -0.160365  0.032891 -0.019242 -0.001947  0.133139 -0.103065  \n",
       "12 -0.106999 -0.039038  0.102083 -0.015846 -0.069650 -0.083527 -0.082095  \n",
       "13  0.020924 -0.132845 -0.090812 -0.068637 -0.083778 -0.042236 -0.124392  \n",
       "14  0.031048 -0.053617  0.302037 -0.166809  0.103204 -0.079253 -0.147128  \n",
       "15  0.071866 -0.129686  0.004578 -0.096830 -0.059329 -0.085712  0.003518  \n",
       "16 -0.031668 -0.070694 -0.013104 -0.019667 -0.071721  0.028982  0.064521  \n",
       "17 -0.028050  0.022011  0.206877 -0.000822  0.155017 -0.186871 -0.079149  \n",
       "18  0.006696  0.102491  0.062633  0.089812  0.068462 -0.037741  0.111165  \n",
       "19 -0.013202  0.154805 -0.091121  0.073262 -0.008024 -0.015759  0.079301  \n",
       "20 -0.012794  0.165444 -0.024877  0.152222 -0.019025 -0.055736  0.130694  \n",
       "21  1.000000 -0.026905 -0.038513  0.027462  0.031086 -0.014696  0.044174  \n",
       "22 -0.026905  1.000000 -0.073620  0.044278  0.024686 -0.097307  0.038866  \n",
       "23 -0.038513 -0.073620  1.000000  0.041506 -0.041486 -0.092694 -0.027850  \n",
       "24  0.027462  0.044278  0.041506  1.000000  0.133520 -0.034219  0.043402  \n",
       "25  0.031086  0.024686 -0.041486  0.133520  1.000000 -0.089425 -0.104600  \n",
       "26 -0.014696 -0.097307 -0.092694 -0.034219 -0.089425  1.000000  0.019791  \n",
       "27  0.044174  0.038866 -0.027850  0.043402 -0.104600  0.019791  1.000000  \n",
       "\n",
       "[28 rows x 28 columns]"
      ]
     },
     "execution_count": 50,
     "metadata": {},
     "output_type": "execute_result"
    }
   ],
   "source": [
    "X_test_numeric = pca.transform(X_test_numeric)  #Don't use fit_transform, just apply the pca we learned before\n",
    "pd.DataFrame(X_test_numeric).corr()"
   ]
  },
  {
   "cell_type": "markdown",
   "metadata": {},
   "source": [
    "# Modeling"
   ]
  },
  {
   "cell_type": "code",
   "execution_count": null,
   "metadata": {},
   "outputs": [],
   "source": []
  },
  {
   "cell_type": "code",
   "execution_count": null,
   "metadata": {},
   "outputs": [],
   "source": []
  },
  {
   "cell_type": "code",
   "execution_count": null,
   "metadata": {},
   "outputs": [],
   "source": []
  },
  {
   "cell_type": "code",
   "execution_count": null,
   "metadata": {},
   "outputs": [],
   "source": []
  }
 ],
 "metadata": {
  "kernelspec": {
   "display_name": "Python 3",
   "language": "python",
   "name": "python3"
  },
  "language_info": {
   "codemirror_mode": {
    "name": "ipython",
    "version": 3
   },
   "file_extension": ".py",
   "mimetype": "text/x-python",
   "name": "python",
   "nbconvert_exporter": "python",
   "pygments_lexer": "ipython3",
   "version": "3.6.8"
  },
  "toc": {
   "base_numbering": 1,
   "nav_menu": {},
   "number_sections": true,
   "sideBar": true,
   "skip_h1_title": false,
   "title_cell": "Table of Contents",
   "title_sidebar": "Contents",
   "toc_cell": false,
   "toc_position": {
    "height": "calc(100% - 180px)",
    "left": "10px",
    "top": "150px",
    "width": "307.2px"
   },
   "toc_section_display": true,
   "toc_window_display": true
  }
 },
 "nbformat": 4,
 "nbformat_minor": 2
}
