{
 "cells": [
  {
   "cell_type": "code",
   "execution_count": 1,
   "metadata": {
    "ExecuteTime": {
     "end_time": "2019-05-10T23:19:16.253471Z",
     "start_time": "2019-05-10T23:19:15.150482Z"
    }
   },
   "outputs": [],
   "source": [
    "import pandas as pd\n",
    "import numpy as np\n",
    "import geopandas as gpd\n",
    "import fiona\n",
    "from fiona.crs import from_epsg\n",
    "\n",
    "import os\n",
    "import urllib\n",
    "import requests\n",
    "\n",
    "import matplotlib.pyplot as plt\n",
    "\n",
    "%matplotlib inline"
   ]
  },
  {
   "cell_type": "markdown",
   "metadata": {
    "ExecuteTime": {
     "end_time": "2019-05-06T00:50:55.087607Z",
     "start_time": "2019-05-06T00:50:55.082582Z"
    }
   },
   "source": [
    "*DataSource*"
   ]
  },
  {
   "cell_type": "markdown",
   "metadata": {},
   "source": [
    "1. BuildingFootprint:\n",
    "https://data.cityofnewyork.us/Housing-Development/Building-Footprints/nqwf-w8eh\n",
    "2. Pluto Dataset:\n",
    "https://www1.nyc.gov/site/planning/data-maps/open-data/dwn-pluto-mappluto.page\n",
    "3. Rolling Sale Update(Apr 2018 - Mar 2019)\n",
    "https://www1.nyc.gov/site/finance/taxes/property-rolling-sales-data.page\n",
    "4. Annualized Rolling Sales Update(2003-2018)\n",
    "https://www1.nyc.gov/site/finance/taxes/property-annualized-sales-update.page"
   ]
  },
  {
   "cell_type": "markdown",
   "metadata": {},
   "source": [
    "# Data processing"
   ]
  },
  {
   "cell_type": "markdown",
   "metadata": {
    "ExecuteTime": {
     "end_time": "2019-04-28T19:38:52.085699Z",
     "start_time": "2019-04-28T19:38:52.082701Z"
    }
   },
   "source": [
    "## pluto dataset\n",
    "\n",
    "_pluto data_\n",
    "link: https://www1.nyc.gov/site/planning/data-maps/open-data/dwn-pluto-mappluto.page\n",
    "\n",
    "_pluto dictionary_\n",
    "link: https://www1.nyc.gov/assets/planning/download/pdf/data-maps/open-data/pluto_datadictionary.pdf?v=18v21beta"
   ]
  },
  {
   "cell_type": "code",
   "execution_count": 2,
   "metadata": {
    "ExecuteTime": {
     "end_time": "2019-05-10T23:19:41.291565Z",
     "start_time": "2019-05-10T23:19:16.256472Z"
    }
   },
   "outputs": [
    {
     "name": "stderr",
     "output_type": "stream",
     "text": [
      "C:\\Anaconda3\\lib\\site-packages\\IPython\\core\\interactiveshell.py:3020: DtypeWarning: Columns (16,17,18,20,22,77) have mixed types. Specify dtype option on import or set low_memory=False.\n",
      "  interactivity=interactivity, compiler=compiler, result=result)\n"
     ]
    }
   ],
   "source": [
    "pluto = pd.read_csv('data/pluto_18v2_1.csv')\n",
    "pluto.bbl = pluto.bbl.astype(str)\n",
    "pluto.bbl = [pluto.bbl[i].split('.')[0] for i in range(pluto.shape[0])]"
   ]
  },
  {
   "cell_type": "code",
   "execution_count": 3,
   "metadata": {
    "ExecuteTime": {
     "end_time": "2019-05-10T23:19:41.338502Z",
     "start_time": "2019-05-10T23:19:41.295469Z"
    }
   },
   "outputs": [
    {
     "data": {
      "text/plain": [
       "528"
      ]
     },
     "execution_count": 3,
     "metadata": {},
     "output_type": "execute_result"
    }
   ],
   "source": [
    "pluto.address.isnull().sum()"
   ]
  },
  {
   "cell_type": "code",
   "execution_count": 4,
   "metadata": {
    "ExecuteTime": {
     "end_time": "2019-05-10T23:19:41.703470Z",
     "start_time": "2019-05-10T23:19:41.341469Z"
    }
   },
   "outputs": [
    {
     "data": {
      "text/plain": [
       "858977"
      ]
     },
     "execution_count": 4,
     "metadata": {},
     "output_type": "execute_result"
    }
   ],
   "source": [
    "len(pluto.bbl.unique())"
   ]
  },
  {
   "cell_type": "markdown",
   "metadata": {},
   "source": [
    "## Census block boundary"
   ]
  },
  {
   "cell_type": "code",
   "execution_count": 5,
   "metadata": {
    "ExecuteTime": {
     "end_time": "2019-05-10T23:19:51.001469Z",
     "start_time": "2019-05-10T23:19:41.705470Z"
    }
   },
   "outputs": [
    {
     "data": {
      "text/html": [
       "<div>\n",
       "<style scoped>\n",
       "    .dataframe tbody tr th:only-of-type {\n",
       "        vertical-align: middle;\n",
       "    }\n",
       "\n",
       "    .dataframe tbody tr th {\n",
       "        vertical-align: top;\n",
       "    }\n",
       "\n",
       "    .dataframe thead th {\n",
       "        text-align: right;\n",
       "    }\n",
       "</style>\n",
       "<table border=\"1\" class=\"dataframe\">\n",
       "  <thead>\n",
       "    <tr style=\"text-align: right;\">\n",
       "      <th></th>\n",
       "      <th>shape_area</th>\n",
       "      <th>cb2010</th>\n",
       "      <th>bctcb2010</th>\n",
       "      <th>shape_leng</th>\n",
       "      <th>boro_name</th>\n",
       "      <th>ct2010</th>\n",
       "      <th>boro_code</th>\n",
       "      <th>geometry</th>\n",
       "    </tr>\n",
       "  </thead>\n",
       "  <tbody>\n",
       "    <tr>\n",
       "      <th>0</th>\n",
       "      <td>244589.603884</td>\n",
       "      <td>1000</td>\n",
       "      <td>50009001000</td>\n",
       "      <td>2508.94811457</td>\n",
       "      <td>Staten Island</td>\n",
       "      <td>000900</td>\n",
       "      <td>5</td>\n",
       "      <td>(POLYGON ((962269.1260375973 173705.5001830565...</td>\n",
       "    </tr>\n",
       "    <tr>\n",
       "      <th>1</th>\n",
       "      <td>111006.286826</td>\n",
       "      <td>1000</td>\n",
       "      <td>50020011000</td>\n",
       "      <td>1345.88642172</td>\n",
       "      <td>Staten Island</td>\n",
       "      <td>002001</td>\n",
       "      <td>5</td>\n",
       "      <td>(POLYGON ((964642.267639162 161835.2651977026,...</td>\n",
       "    </tr>\n",
       "    <tr>\n",
       "      <th>2</th>\n",
       "      <td>150406.766022</td>\n",
       "      <td>1000</td>\n",
       "      <td>50027001000</td>\n",
       "      <td>1703.38117241</td>\n",
       "      <td>Staten Island</td>\n",
       "      <td>002700</td>\n",
       "      <td>5</td>\n",
       "      <td>(POLYGON ((963363.1168212886 167356.3336181112...</td>\n",
       "    </tr>\n",
       "    <tr>\n",
       "      <th>3</th>\n",
       "      <td>141296.561149</td>\n",
       "      <td>1000</td>\n",
       "      <td>50040001000</td>\n",
       "      <td>1511.17374266</td>\n",
       "      <td>Staten Island</td>\n",
       "      <td>004000</td>\n",
       "      <td>5</td>\n",
       "      <td>(POLYGON ((960069.9965820297 161953.6936034636...</td>\n",
       "    </tr>\n",
       "    <tr>\n",
       "      <th>4</th>\n",
       "      <td>200784.983607</td>\n",
       "      <td>1000</td>\n",
       "      <td>50064001000</td>\n",
       "      <td>1978.24385199</td>\n",
       "      <td>Staten Island</td>\n",
       "      <td>006400</td>\n",
       "      <td>5</td>\n",
       "      <td>(POLYGON ((963023.8917846683 158246.7521972068...</td>\n",
       "    </tr>\n",
       "  </tbody>\n",
       "</table>\n",
       "</div>"
      ],
      "text/plain": [
       "      shape_area cb2010    bctcb2010     shape_leng      boro_name  ct2010  \\\n",
       "0  244589.603884   1000  50009001000  2508.94811457  Staten Island  000900   \n",
       "1  111006.286826   1000  50020011000  1345.88642172  Staten Island  002001   \n",
       "2  150406.766022   1000  50027001000  1703.38117241  Staten Island  002700   \n",
       "3  141296.561149   1000  50040001000  1511.17374266  Staten Island  004000   \n",
       "4  200784.983607   1000  50064001000  1978.24385199  Staten Island  006400   \n",
       "\n",
       "  boro_code                                           geometry  \n",
       "0         5  (POLYGON ((962269.1260375973 173705.5001830565...  \n",
       "1         5  (POLYGON ((964642.267639162 161835.2651977026,...  \n",
       "2         5  (POLYGON ((963363.1168212886 167356.3336181112...  \n",
       "3         5  (POLYGON ((960069.9965820297 161953.6936034636...  \n",
       "4         5  (POLYGON ((963023.8917846683 158246.7521972068...  "
      ]
     },
     "execution_count": 5,
     "metadata": {},
     "output_type": "execute_result"
    }
   ],
   "source": [
    "cb_shapefile = gpd.read_file('data/2010 Census Blocks.geojson').to_crs(fiona.crs.from_epsg(2263))\n",
    "cb_shapefile.head()"
   ]
  },
  {
   "cell_type": "code",
   "execution_count": 6,
   "metadata": {
    "ExecuteTime": {
     "end_time": "2019-05-10T23:20:00.860504Z",
     "start_time": "2019-05-10T23:19:51.004475Z"
    }
   },
   "outputs": [
    {
     "data": {
      "text/plain": [
       "<matplotlib.axes._subplots.AxesSubplot at 0x238a55c6d30>"
      ]
     },
     "execution_count": 6,
     "metadata": {},
     "output_type": "execute_result"
    },
    {
     "data": {
      "image/png": "[encoded data removed]",
      "text/plain": [
       "<Figure size 432x288 with 1 Axes>"
      ]
     },
     "metadata": {
      "needs_background": "light"
     },
     "output_type": "display_data"
    }
   ],
   "source": [
    "cb_shapefile.plot()"
   ]
  },
  {
   "cell_type": "code",
   "execution_count": 7,
   "metadata": {
    "ExecuteTime": {
     "end_time": "2019-05-10T23:20:00.866490Z",
     "start_time": "2019-05-10T23:20:00.862469Z"
    }
   },
   "outputs": [],
   "source": [
    "# the logic is bctcb2010 = boro_code+ct2010+cb2010"
   ]
  },
  {
   "cell_type": "code",
   "execution_count": 8,
   "metadata": {
    "ExecuteTime": {
     "end_time": "2019-05-10T23:20:00.890471Z",
     "start_time": "2019-05-10T23:20:00.869475Z"
    }
   },
   "outputs": [
    {
     "data": {
      "text/plain": [
       "38796"
      ]
     },
     "execution_count": 8,
     "metadata": {},
     "output_type": "execute_result"
    }
   ],
   "source": [
    "# total 38796 census blocks \n",
    "len(cb_shapefile.bctcb2010.unique())"
   ]
  },
  {
   "cell_type": "code",
   "execution_count": 9,
   "metadata": {
    "ExecuteTime": {
     "end_time": "2019-05-10T23:20:00.904472Z",
     "start_time": "2019-05-10T23:20:00.895473Z"
    }
   },
   "outputs": [
    {
     "data": {
      "text/plain": [
       "3858"
      ]
     },
     "execution_count": 9,
     "metadata": {},
     "output_type": "execute_result"
    }
   ],
   "source": [
    "len(cb_shapefile[cb_shapefile['boro_code']=='1'])"
   ]
  },
  {
   "cell_type": "code",
   "execution_count": 10,
   "metadata": {
    "ExecuteTime": {
     "end_time": "2019-05-10T23:20:01.380470Z",
     "start_time": "2019-05-10T23:20:00.907473Z"
    }
   },
   "outputs": [
    {
     "data": {
      "text/plain": [
       "858977"
      ]
     },
     "execution_count": 10,
     "metadata": {},
     "output_type": "execute_result"
    }
   ],
   "source": [
    "len(pluto.bbl.unique())"
   ]
  },
  {
   "cell_type": "code",
   "execution_count": 11,
   "metadata": {
    "ExecuteTime": {
     "end_time": "2019-05-10T23:20:01.390470Z",
     "start_time": "2019-05-10T23:20:01.383471Z"
    }
   },
   "outputs": [
    {
     "data": {
      "text/plain": [
       "858982"
      ]
     },
     "execution_count": 11,
     "metadata": {},
     "output_type": "execute_result"
    }
   ],
   "source": [
    "len(pluto.bbl)"
   ]
  },
  {
   "cell_type": "markdown",
   "metadata": {},
   "source": [
    "## Building Footprint Shapefile"
   ]
  },
  {
   "cell_type": "code",
   "execution_count": 12,
   "metadata": {
    "ExecuteTime": {
     "end_time": "2019-05-10T23:20:01.400472Z",
     "start_time": "2019-05-10T23:20:01.394473Z"
    }
   },
   "outputs": [],
   "source": [
    "## run once\n",
    "# url = \"https://data.cityofnewyork.us/api/geospatial/nqwf-w8eh?method=export&format=GeoJSON\"\n",
    "# filename = \"buildingfootprint.geojson\"\n",
    "# urllib.request.urlretrieve(url,filename)\n",
    "# !mv buildingfootprint.geojson InputData\n",
    "# take 32min"
   ]
  },
  {
   "cell_type": "code",
   "execution_count": 13,
   "metadata": {
    "ExecuteTime": {
     "end_time": "2019-05-10T23:20:01.625470Z",
     "start_time": "2019-05-10T23:20:01.403471Z"
    }
   },
   "outputs": [
    {
     "name": "stdout",
     "output_type": "stream",
     "text": [
      "2010 Census Blocks.geojson\n",
      "BBL\n",
      "BBL.gz\n",
      "IsoForestData.csv\n",
      "IsoForestData_z.csv\n",
      "OneClassSVMData.csv\n",
      "OneClassSVMData_z.csv\n",
      "data_train.csv\n",
      "output.csv\n",
      "pluto_18v2_1.csv\n",
      "saleData\n",
      "sale_manhattan.png\n"
     ]
    }
   ],
   "source": [
    "!ls data"
   ]
  },
  {
   "cell_type": "code",
   "execution_count": 14,
   "metadata": {
    "ExecuteTime": {
     "end_time": "2019-05-10T23:20:01.631469Z",
     "start_time": "2019-05-10T23:20:01.628469Z"
    }
   },
   "outputs": [],
   "source": [
    "# data dictionary \n",
    "# link: https://github.com/CityOfNewYork/nyc-geo-metadata/blob/master/Metadata/Metadata_BuildingFootprints.md"
   ]
  },
  {
   "cell_type": "code",
   "execution_count": 15,
   "metadata": {
    "ExecuteTime": {
     "end_time": "2019-05-10T23:20:01.652472Z",
     "start_time": "2019-05-10T23:20:01.634480Z"
    }
   },
   "outputs": [
    {
     "name": "stdout",
     "output_type": "stream",
     "text": [
      "file in place, you can continue\n"
     ]
    }
   ],
   "source": [
    "if not os.path.isfile(\"data/BBL.gz\"):\n",
    "    url = 'https://data.cityofnewyork.us/api/geospatial/nqwf-w8eh?method=export&format=Shapefile'\n",
    "    urllib.request.urlretrieve(url, \"BBL.gz\")\n",
    "    !mv BBL.gz data\n",
    "    !unzip -o data/BBL.gz -d data/BBL\n",
    "else:\n",
    "    print(\"file in place, you can continue\")"
   ]
  },
  {
   "cell_type": "code",
   "execution_count": 16,
   "metadata": {
    "ExecuteTime": {
     "end_time": "2019-05-10T23:21:17.100471Z",
     "start_time": "2019-05-10T23:20:01.655472Z"
    }
   },
   "outputs": [
    {
     "name": "stdout",
     "output_type": "stream",
     "text": [
      "(1084108, 16)\n"
     ]
    },
    {
     "data": {
      "text/html": [
       "<div>\n",
       "<style scoped>\n",
       "    .dataframe tbody tr th:only-of-type {\n",
       "        vertical-align: middle;\n",
       "    }\n",
       "\n",
       "    .dataframe tbody tr th {\n",
       "        vertical-align: top;\n",
       "    }\n",
       "\n",
       "    .dataframe thead th {\n",
       "        text-align: right;\n",
       "    }\n",
       "</style>\n",
       "<table border=\"1\" class=\"dataframe\">\n",
       "  <thead>\n",
       "    <tr style=\"text-align: right;\">\n",
       "      <th></th>\n",
       "      <th>base_bbl</th>\n",
       "      <th>bin</th>\n",
       "      <th>cnstrct_yr</th>\n",
       "      <th>doitt_id</th>\n",
       "      <th>feat_code</th>\n",
       "      <th>geomsource</th>\n",
       "      <th>groundelev</th>\n",
       "      <th>heightroof</th>\n",
       "      <th>date_lstmo</th>\n",
       "      <th>time_lstmo</th>\n",
       "      <th>lststatype</th>\n",
       "      <th>mpluto_bbl</th>\n",
       "      <th>name</th>\n",
       "      <th>shape_area</th>\n",
       "      <th>shape_len</th>\n",
       "      <th>geometry</th>\n",
       "    </tr>\n",
       "  </thead>\n",
       "  <tbody>\n",
       "    <tr>\n",
       "      <th>0</th>\n",
       "      <td>3044520815</td>\n",
       "      <td>3394646.0</td>\n",
       "      <td>2009.0</td>\n",
       "      <td>1212853.0</td>\n",
       "      <td>2100.0</td>\n",
       "      <td>Photogramm</td>\n",
       "      <td>18.0</td>\n",
       "      <td>21.608508</td>\n",
       "      <td>2017-08-22</td>\n",
       "      <td>00:00:00.000</td>\n",
       "      <td>Constructed</td>\n",
       "      <td>3044520815</td>\n",
       "      <td>None</td>\n",
       "      <td>854.662433</td>\n",
       "      <td>125.079796</td>\n",
       "      <td>POLYGON ((-73.87129515296562 40.65717370043455...</td>\n",
       "    </tr>\n",
       "    <tr>\n",
       "      <th>1</th>\n",
       "      <td>4030640041</td>\n",
       "      <td>4548330.0</td>\n",
       "      <td>1930.0</td>\n",
       "      <td>1226227.0</td>\n",
       "      <td>5110.0</td>\n",
       "      <td>Photogramm</td>\n",
       "      <td>122.0</td>\n",
       "      <td>10.360000</td>\n",
       "      <td>2017-08-17</td>\n",
       "      <td>00:00:00.000</td>\n",
       "      <td>Constructed</td>\n",
       "      <td>4030640041</td>\n",
       "      <td>None</td>\n",
       "      <td>217.594243</td>\n",
       "      <td>60.225858</td>\n",
       "      <td>POLYGON ((-73.87670970144625 40.71425234541623...</td>\n",
       "    </tr>\n",
       "    <tr>\n",
       "      <th>2</th>\n",
       "      <td>4139430001</td>\n",
       "      <td>4460479.0</td>\n",
       "      <td>1960.0</td>\n",
       "      <td>581946.0</td>\n",
       "      <td>2100.0</td>\n",
       "      <td>Photogramm</td>\n",
       "      <td>10.0</td>\n",
       "      <td>29.811570</td>\n",
       "      <td>2017-08-22</td>\n",
       "      <td>00:00:00.000</td>\n",
       "      <td>Constructed</td>\n",
       "      <td>4139430001</td>\n",
       "      <td>None</td>\n",
       "      <td>946.427476</td>\n",
       "      <td>123.141941</td>\n",
       "      <td>POLYGON ((-73.85195485799383 40.6623547177829,...</td>\n",
       "    </tr>\n",
       "    <tr>\n",
       "      <th>3</th>\n",
       "      <td>3049720006</td>\n",
       "      <td>3355684.0</td>\n",
       "      <td>1920.0</td>\n",
       "      <td>858061.0</td>\n",
       "      <td>5110.0</td>\n",
       "      <td>Photogramm</td>\n",
       "      <td>32.0</td>\n",
       "      <td>11.200000</td>\n",
       "      <td>2017-08-17</td>\n",
       "      <td>00:00:00.000</td>\n",
       "      <td>Constructed</td>\n",
       "      <td>3049720006</td>\n",
       "      <td>None</td>\n",
       "      <td>248.678169</td>\n",
       "      <td>63.940817</td>\n",
       "      <td>POLYGON ((-73.94029215265738 40.64108287979622...</td>\n",
       "    </tr>\n",
       "    <tr>\n",
       "      <th>4</th>\n",
       "      <td>3055100055</td>\n",
       "      <td>3131737.0</td>\n",
       "      <td>1915.0</td>\n",
       "      <td>568078.0</td>\n",
       "      <td>2100.0</td>\n",
       "      <td>Photogramm</td>\n",
       "      <td>44.0</td>\n",
       "      <td>24.980000</td>\n",
       "      <td>2017-08-22</td>\n",
       "      <td>00:00:00.000</td>\n",
       "      <td>Constructed</td>\n",
       "      <td>3055100055</td>\n",
       "      <td>None</td>\n",
       "      <td>1163.227669</td>\n",
       "      <td>165.608763</td>\n",
       "      <td>POLYGON ((-73.98998983552244 40.62383804513802...</td>\n",
       "    </tr>\n",
       "  </tbody>\n",
       "</table>\n",
       "</div>"
      ],
      "text/plain": [
       "     base_bbl        bin  cnstrct_yr   doitt_id  feat_code  geomsource  \\\n",
       "0  3044520815  3394646.0      2009.0  1212853.0     2100.0  Photogramm   \n",
       "1  4030640041  4548330.0      1930.0  1226227.0     5110.0  Photogramm   \n",
       "2  4139430001  4460479.0      1960.0   581946.0     2100.0  Photogramm   \n",
       "3  3049720006  3355684.0      1920.0   858061.0     5110.0  Photogramm   \n",
       "4  3055100055  3131737.0      1915.0   568078.0     2100.0  Photogramm   \n",
       "\n",
       "   groundelev  heightroof  date_lstmo    time_lstmo   lststatype  mpluto_bbl  \\\n",
       "0        18.0   21.608508  2017-08-22  00:00:00.000  Constructed  3044520815   \n",
       "1       122.0   10.360000  2017-08-17  00:00:00.000  Constructed  4030640041   \n",
       "2        10.0   29.811570  2017-08-22  00:00:00.000  Constructed  4139430001   \n",
       "3        32.0   11.200000  2017-08-17  00:00:00.000  Constructed  3049720006   \n",
       "4        44.0   24.980000  2017-08-22  00:00:00.000  Constructed  3055100055   \n",
       "\n",
       "   name   shape_area   shape_len  \\\n",
       "0  None   854.662433  125.079796   \n",
       "1  None   217.594243   60.225858   \n",
       "2  None   946.427476  123.141941   \n",
       "3  None   248.678169   63.940817   \n",
       "4  None  1163.227669  165.608763   \n",
       "\n",
       "                                            geometry  \n",
       "0  POLYGON ((-73.87129515296562 40.65717370043455...  \n",
       "1  POLYGON ((-73.87670970144625 40.71425234541623...  \n",
       "2  POLYGON ((-73.85195485799383 40.6623547177829,...  \n",
       "3  POLYGON ((-73.94029215265738 40.64108287979622...  \n",
       "4  POLYGON ((-73.98998983552244 40.62383804513802...  "
      ]
     },
     "execution_count": 16,
     "metadata": {},
     "output_type": "execute_result"
    }
   ],
   "source": [
    "filename = ! ls data/BBL | grep .shp\n",
    "BBL = gpd.GeoDataFrame.from_file('data/BBL/' + filename[1])\n",
    "# BBL = BBL[CensusTracts['boro_name']=='Manhattan']\n",
    "print(BBL.shape)\n",
    "BBL.head()"
   ]
  },
  {
   "cell_type": "code",
   "execution_count": 18,
   "metadata": {
    "ExecuteTime": {
     "end_time": "2019-05-10T23:24:21.411429Z",
     "start_time": "2019-05-10T23:24:21.408434Z"
    }
   },
   "outputs": [],
   "source": [
    "# BBL.plot()"
   ]
  },
  {
   "cell_type": "markdown",
   "metadata": {},
   "source": [
    "## Rolling Sale data\n",
    "\n",
    "_Rolling Sales - last 12 months (New York City Sales Data\n",
    "from April 2018 to March 2019) for all tax classes, sorted by borough and block_\n",
    "\n",
    "link: https://www1.nyc.gov/site/finance/taxes/property-rolling-sales-data.page"
   ]
  },
  {
   "cell_type": "markdown",
   "metadata": {},
   "source": [
    "{MN:1,BX:2.BK:3,QN:4,SI:5}"
   ]
  },
  {
   "cell_type": "markdown",
   "metadata": {},
   "source": [
    "**issue: for SALE PRICE lower than specific amount (e.g. 1 or 2500), it could be bias for the model. Check the link below**\n",
    "link: https://www.trulia.com/voices/Home_Selling/why_do_some_transactions_in_eg_show_sale_-274151"
   ]
  },
  {
   "cell_type": "code",
   "execution_count": 19,
   "metadata": {
    "ExecuteTime": {
     "end_time": "2019-05-10T23:24:29.413787Z",
     "start_time": "2019-05-10T23:24:23.364789Z"
    }
   },
   "outputs": [],
   "source": [
    "mnsale = pd.read_excel(r'data/saleData/rollingsales_manhattan.xls')\n",
    "mnsale.columns = mnsale.iloc[3,:]\n",
    "mnsale = mnsale.iloc[4:,:].reset_index(drop = True)\n",
    "\n",
    "bxsale = pd.read_excel(r'data/saleData/rollingsales_bronx.xls')\n",
    "bxsale.columns = bxsale.iloc[3,:]\n",
    "bxsale = bxsale.iloc[4:,:].reset_index(drop = True)\n",
    "\n",
    "bksale = pd.read_excel(r'data/saleData/rollingsales_brooklyn.xls')\n",
    "bksale.columns = bksale.iloc[3,:]\n",
    "bksale = bksale.iloc[4:,:].reset_index(drop = True)\n",
    "\n",
    "qnsale = pd.read_excel(r'data/saleData/rollingsales_queens.xls')\n",
    "qnsale.columns = qnsale.iloc[3,:]\n",
    "qnsale = qnsale.iloc[4:,:].reset_index(drop = True)\n",
    "\n",
    "sisale = pd.read_excel(r'data/saleData/rollingsales_statenisland.xls')\n",
    "sisale.columns = sisale.iloc[3,:]\n",
    "sisale = sisale.iloc[4:,:].reset_index(drop = True)"
   ]
  },
  {
   "cell_type": "code",
   "execution_count": 20,
   "metadata": {
    "ExecuteTime": {
     "end_time": "2019-05-10T23:24:29.472788Z",
     "start_time": "2019-05-10T23:24:29.416789Z"
    }
   },
   "outputs": [
    {
     "data": {
      "text/html": [
       "<div>\n",
       "<style scoped>\n",
       "    .dataframe tbody tr th:only-of-type {\n",
       "        vertical-align: middle;\n",
       "    }\n",
       "\n",
       "    .dataframe tbody tr th {\n",
       "        vertical-align: top;\n",
       "    }\n",
       "\n",
       "    .dataframe thead th {\n",
       "        text-align: right;\n",
       "    }\n",
       "</style>\n",
       "<table border=\"1\" class=\"dataframe\">\n",
       "  <thead>\n",
       "    <tr style=\"text-align: right;\">\n",
       "      <th>3</th>\n",
       "      <th>BOROUGH</th>\n",
       "      <th>NEIGHBORHOOD</th>\n",
       "      <th>BUILDING CLASS CATEGORY</th>\n",
       "      <th>TAX CLASS AT PRESENT</th>\n",
       "      <th>BLOCK</th>\n",
       "      <th>LOT</th>\n",
       "      <th>EASE-MENT</th>\n",
       "      <th>BUILDING CLASS AT PRESENT</th>\n",
       "      <th>ADDRESS</th>\n",
       "      <th>APARTMENT NUMBER</th>\n",
       "      <th>...</th>\n",
       "      <th>RESIDENTIAL UNITS</th>\n",
       "      <th>COMMERCIAL UNITS</th>\n",
       "      <th>TOTAL UNITS</th>\n",
       "      <th>LAND SQUARE FEET</th>\n",
       "      <th>GROSS SQUARE FEET</th>\n",
       "      <th>YEAR BUILT</th>\n",
       "      <th>TAX CLASS AT TIME OF SALE</th>\n",
       "      <th>BUILDING CLASS AT TIME OF SALE</th>\n",
       "      <th>SALE PRICE</th>\n",
       "      <th>SALE DATE</th>\n",
       "    </tr>\n",
       "  </thead>\n",
       "  <tbody>\n",
       "    <tr>\n",
       "      <th>0</th>\n",
       "      <td>1</td>\n",
       "      <td>ALPHABET CITY</td>\n",
       "      <td>01 ONE FAMILY DWELLINGS</td>\n",
       "      <td>1</td>\n",
       "      <td>390</td>\n",
       "      <td>61</td>\n",
       "      <td>NaN</td>\n",
       "      <td>A4</td>\n",
       "      <td>189 EAST 7TH STREET</td>\n",
       "      <td>NaN</td>\n",
       "      <td>...</td>\n",
       "      <td>1</td>\n",
       "      <td>0</td>\n",
       "      <td>1</td>\n",
       "      <td>987</td>\n",
       "      <td>2183</td>\n",
       "      <td>1860</td>\n",
       "      <td>1</td>\n",
       "      <td>A4</td>\n",
       "      <td>4844809</td>\n",
       "      <td>2018-05-22 00:00:00</td>\n",
       "    </tr>\n",
       "    <tr>\n",
       "      <th>1</th>\n",
       "      <td>1</td>\n",
       "      <td>ALPHABET CITY</td>\n",
       "      <td>01 ONE FAMILY DWELLINGS</td>\n",
       "      <td>1</td>\n",
       "      <td>390</td>\n",
       "      <td>61</td>\n",
       "      <td>NaN</td>\n",
       "      <td>A4</td>\n",
       "      <td>189 EAST 7TH STREET</td>\n",
       "      <td>NaN</td>\n",
       "      <td>...</td>\n",
       "      <td>1</td>\n",
       "      <td>0</td>\n",
       "      <td>1</td>\n",
       "      <td>987</td>\n",
       "      <td>2183</td>\n",
       "      <td>1860</td>\n",
       "      <td>1</td>\n",
       "      <td>A4</td>\n",
       "      <td>0</td>\n",
       "      <td>2018-05-23 00:00:00</td>\n",
       "    </tr>\n",
       "    <tr>\n",
       "      <th>2</th>\n",
       "      <td>1</td>\n",
       "      <td>ALPHABET CITY</td>\n",
       "      <td>01 ONE FAMILY DWELLINGS</td>\n",
       "      <td>1</td>\n",
       "      <td>400</td>\n",
       "      <td>19</td>\n",
       "      <td>NaN</td>\n",
       "      <td>A4</td>\n",
       "      <td>526 EAST 5TH STREET</td>\n",
       "      <td>NaN</td>\n",
       "      <td>...</td>\n",
       "      <td>1</td>\n",
       "      <td>0</td>\n",
       "      <td>1</td>\n",
       "      <td>1883</td>\n",
       "      <td>5200</td>\n",
       "      <td>1900</td>\n",
       "      <td>1</td>\n",
       "      <td>A4</td>\n",
       "      <td>6100000</td>\n",
       "      <td>2018-12-03 00:00:00</td>\n",
       "    </tr>\n",
       "    <tr>\n",
       "      <th>3</th>\n",
       "      <td>1</td>\n",
       "      <td>ALPHABET CITY</td>\n",
       "      <td>02 TWO FAMILY DWELLINGS</td>\n",
       "      <td>1</td>\n",
       "      <td>390</td>\n",
       "      <td>35</td>\n",
       "      <td>NaN</td>\n",
       "      <td>B1</td>\n",
       "      <td>113 AVENUE C</td>\n",
       "      <td>NaN</td>\n",
       "      <td>...</td>\n",
       "      <td>2</td>\n",
       "      <td>0</td>\n",
       "      <td>2</td>\n",
       "      <td>1218</td>\n",
       "      <td>4764</td>\n",
       "      <td>1899</td>\n",
       "      <td>1</td>\n",
       "      <td>B1</td>\n",
       "      <td>0</td>\n",
       "      <td>2018-04-25 00:00:00</td>\n",
       "    </tr>\n",
       "    <tr>\n",
       "      <th>4</th>\n",
       "      <td>1</td>\n",
       "      <td>ALPHABET CITY</td>\n",
       "      <td>02 TWO FAMILY DWELLINGS</td>\n",
       "      <td>1</td>\n",
       "      <td>404</td>\n",
       "      <td>1</td>\n",
       "      <td>NaN</td>\n",
       "      <td>B9</td>\n",
       "      <td>166 AVENUE A</td>\n",
       "      <td>NaN</td>\n",
       "      <td>...</td>\n",
       "      <td>2</td>\n",
       "      <td>0</td>\n",
       "      <td>2</td>\n",
       "      <td>1510</td>\n",
       "      <td>4520</td>\n",
       "      <td>1900</td>\n",
       "      <td>1</td>\n",
       "      <td>B9</td>\n",
       "      <td>0</td>\n",
       "      <td>2018-11-29 00:00:00</td>\n",
       "    </tr>\n",
       "  </tbody>\n",
       "</table>\n",
       "<p>5 rows × 21 columns</p>\n",
       "</div>"
      ],
      "text/plain": [
       "3 BOROUGH   NEIGHBORHOOD  BUILDING CLASS CATEGORY TAX CLASS AT PRESENT BLOCK  \\\n",
       "0       1  ALPHABET CITY  01 ONE FAMILY DWELLINGS                    1   390   \n",
       "1       1  ALPHABET CITY  01 ONE FAMILY DWELLINGS                    1   390   \n",
       "2       1  ALPHABET CITY  01 ONE FAMILY DWELLINGS                    1   400   \n",
       "3       1  ALPHABET CITY  02 TWO FAMILY DWELLINGS                    1   390   \n",
       "4       1  ALPHABET CITY  02 TWO FAMILY DWELLINGS                    1   404   \n",
       "\n",
       "3 LOT EASE-MENT BUILDING CLASS AT PRESENT              ADDRESS  \\\n",
       "0  61       NaN                        A4  189 EAST 7TH STREET   \n",
       "1  61       NaN                        A4  189 EAST 7TH STREET   \n",
       "2  19       NaN                        A4  526 EAST 5TH STREET   \n",
       "3  35       NaN                        B1         113 AVENUE C   \n",
       "4   1       NaN                        B9         166 AVENUE A   \n",
       "\n",
       "3 APARTMENT NUMBER  ... RESIDENTIAL UNITS COMMERCIAL UNITS TOTAL UNITS  \\\n",
       "0              NaN  ...                 1                0           1   \n",
       "1              NaN  ...                 1                0           1   \n",
       "2              NaN  ...                 1                0           1   \n",
       "3              NaN  ...                 2                0           2   \n",
       "4              NaN  ...                 2                0           2   \n",
       "\n",
       "3 LAND SQUARE FEET GROSS SQUARE FEET YEAR BUILT TAX CLASS AT TIME OF SALE  \\\n",
       "0              987              2183       1860                         1   \n",
       "1              987              2183       1860                         1   \n",
       "2             1883              5200       1900                         1   \n",
       "3             1218              4764       1899                         1   \n",
       "4             1510              4520       1900                         1   \n",
       "\n",
       "3 BUILDING CLASS AT TIME OF SALE SALE PRICE            SALE DATE  \n",
       "0                             A4    4844809  2018-05-22 00:00:00  \n",
       "1                             A4          0  2018-05-23 00:00:00  \n",
       "2                             A4    6100000  2018-12-03 00:00:00  \n",
       "3                             B1          0  2018-04-25 00:00:00  \n",
       "4                             B9          0  2018-11-29 00:00:00  \n",
       "\n",
       "[5 rows x 21 columns]"
      ]
     },
     "execution_count": 20,
     "metadata": {},
     "output_type": "execute_result"
    }
   ],
   "source": [
    "sale = pd.concat([mnsale,bxsale,bksale,qnsale,sisale],axis = 0).reset_index(drop = True)\n",
    "sale.head()"
   ]
  },
  {
   "cell_type": "code",
   "execution_count": 21,
   "metadata": {
    "ExecuteTime": {
     "end_time": "2019-05-10T23:24:29.479789Z",
     "start_time": "2019-05-10T23:24:29.474792Z"
    }
   },
   "outputs": [
    {
     "data": {
      "text/plain": [
       "81126"
      ]
     },
     "execution_count": 21,
     "metadata": {},
     "output_type": "execute_result"
    }
   ],
   "source": [
    "len(sale)"
   ]
  },
  {
   "cell_type": "code",
   "execution_count": 22,
   "metadata": {
    "ExecuteTime": {
     "end_time": "2019-05-10T23:24:32.166076Z",
     "start_time": "2019-05-10T23:24:32.161076Z"
    }
   },
   "outputs": [
    {
     "data": {
      "text/plain": [
       "21"
      ]
     },
     "execution_count": 22,
     "metadata": {},
     "output_type": "execute_result"
    }
   ],
   "source": [
    "len(sale.columns)"
   ]
  },
  {
   "cell_type": "code",
   "execution_count": 23,
   "metadata": {
    "ExecuteTime": {
     "end_time": "2019-05-10T23:24:32.597104Z",
     "start_time": "2019-05-10T23:24:32.581076Z"
    }
   },
   "outputs": [
    {
     "data": {
      "text/html": [
       "<div>\n",
       "<style scoped>\n",
       "    .dataframe tbody tr th:only-of-type {\n",
       "        vertical-align: middle;\n",
       "    }\n",
       "\n",
       "    .dataframe tbody tr th {\n",
       "        vertical-align: top;\n",
       "    }\n",
       "\n",
       "    .dataframe thead th {\n",
       "        text-align: right;\n",
       "    }\n",
       "</style>\n",
       "<table border=\"1\" class=\"dataframe\">\n",
       "  <thead>\n",
       "    <tr style=\"text-align: right;\">\n",
       "      <th>3</th>\n",
       "      <th>BOROUGH</th>\n",
       "      <th>NEIGHBORHOOD</th>\n",
       "      <th>BUILDING CLASS CATEGORY</th>\n",
       "      <th>TAX CLASS AT PRESENT</th>\n",
       "      <th>BLOCK</th>\n",
       "      <th>LOT</th>\n",
       "      <th>EASE-MENT</th>\n",
       "      <th>BUILDING CLASS AT PRESENT</th>\n",
       "      <th>ADDRESS</th>\n",
       "      <th>APARTMENT NUMBER</th>\n",
       "      <th>ZIP CODE</th>\n",
       "      <th>RESIDENTIAL UNITS</th>\n",
       "    </tr>\n",
       "  </thead>\n",
       "  <tbody>\n",
       "    <tr>\n",
       "      <th>0</th>\n",
       "      <td>1</td>\n",
       "      <td>ALPHABET CITY</td>\n",
       "      <td>01 ONE FAMILY DWELLINGS</td>\n",
       "      <td>1</td>\n",
       "      <td>390</td>\n",
       "      <td>61</td>\n",
       "      <td>NaN</td>\n",
       "      <td>A4</td>\n",
       "      <td>189 EAST 7TH STREET</td>\n",
       "      <td>NaN</td>\n",
       "      <td>10009</td>\n",
       "      <td>1</td>\n",
       "    </tr>\n",
       "    <tr>\n",
       "      <th>1</th>\n",
       "      <td>1</td>\n",
       "      <td>ALPHABET CITY</td>\n",
       "      <td>01 ONE FAMILY DWELLINGS</td>\n",
       "      <td>1</td>\n",
       "      <td>390</td>\n",
       "      <td>61</td>\n",
       "      <td>NaN</td>\n",
       "      <td>A4</td>\n",
       "      <td>189 EAST 7TH STREET</td>\n",
       "      <td>NaN</td>\n",
       "      <td>10009</td>\n",
       "      <td>1</td>\n",
       "    </tr>\n",
       "  </tbody>\n",
       "</table>\n",
       "</div>"
      ],
      "text/plain": [
       "3 BOROUGH   NEIGHBORHOOD  BUILDING CLASS CATEGORY TAX CLASS AT PRESENT BLOCK  \\\n",
       "0       1  ALPHABET CITY  01 ONE FAMILY DWELLINGS                    1   390   \n",
       "1       1  ALPHABET CITY  01 ONE FAMILY DWELLINGS                    1   390   \n",
       "\n",
       "3 LOT EASE-MENT BUILDING CLASS AT PRESENT              ADDRESS  \\\n",
       "0  61       NaN                        A4  189 EAST 7TH STREET   \n",
       "1  61       NaN                        A4  189 EAST 7TH STREET   \n",
       "\n",
       "3 APARTMENT NUMBER ZIP CODE RESIDENTIAL UNITS  \n",
       "0              NaN    10009                 1  \n",
       "1              NaN    10009                 1  "
      ]
     },
     "execution_count": 23,
     "metadata": {},
     "output_type": "execute_result"
    }
   ],
   "source": [
    "sale.iloc[:,:12].head(2)"
   ]
  },
  {
   "cell_type": "code",
   "execution_count": 24,
   "metadata": {
    "ExecuteTime": {
     "end_time": "2019-05-10T23:24:33.007076Z",
     "start_time": "2019-05-10T23:24:32.995076Z"
    }
   },
   "outputs": [
    {
     "data": {
      "text/html": [
       "<div>\n",
       "<style scoped>\n",
       "    .dataframe tbody tr th:only-of-type {\n",
       "        vertical-align: middle;\n",
       "    }\n",
       "\n",
       "    .dataframe tbody tr th {\n",
       "        vertical-align: top;\n",
       "    }\n",
       "\n",
       "    .dataframe thead th {\n",
       "        text-align: right;\n",
       "    }\n",
       "</style>\n",
       "<table border=\"1\" class=\"dataframe\">\n",
       "  <thead>\n",
       "    <tr style=\"text-align: right;\">\n",
       "      <th>3</th>\n",
       "      <th>COMMERCIAL UNITS</th>\n",
       "      <th>TOTAL UNITS</th>\n",
       "      <th>LAND SQUARE FEET</th>\n",
       "      <th>GROSS SQUARE FEET</th>\n",
       "      <th>YEAR BUILT</th>\n",
       "      <th>TAX CLASS AT TIME OF SALE</th>\n",
       "      <th>BUILDING CLASS AT TIME OF SALE</th>\n",
       "      <th>SALE PRICE</th>\n",
       "      <th>SALE DATE</th>\n",
       "    </tr>\n",
       "  </thead>\n",
       "  <tbody>\n",
       "    <tr>\n",
       "      <th>0</th>\n",
       "      <td>0</td>\n",
       "      <td>1</td>\n",
       "      <td>987</td>\n",
       "      <td>2183</td>\n",
       "      <td>1860</td>\n",
       "      <td>1</td>\n",
       "      <td>A4</td>\n",
       "      <td>4844809</td>\n",
       "      <td>2018-05-22 00:00:00</td>\n",
       "    </tr>\n",
       "    <tr>\n",
       "      <th>1</th>\n",
       "      <td>0</td>\n",
       "      <td>1</td>\n",
       "      <td>987</td>\n",
       "      <td>2183</td>\n",
       "      <td>1860</td>\n",
       "      <td>1</td>\n",
       "      <td>A4</td>\n",
       "      <td>0</td>\n",
       "      <td>2018-05-23 00:00:00</td>\n",
       "    </tr>\n",
       "  </tbody>\n",
       "</table>\n",
       "</div>"
      ],
      "text/plain": [
       "3 COMMERCIAL UNITS TOTAL UNITS LAND SQUARE FEET GROSS SQUARE FEET YEAR BUILT  \\\n",
       "0                0           1              987              2183       1860   \n",
       "1                0           1              987              2183       1860   \n",
       "\n",
       "3 TAX CLASS AT TIME OF SALE BUILDING CLASS AT TIME OF SALE SALE PRICE  \\\n",
       "0                         1                             A4    4844809   \n",
       "1                         1                             A4          0   \n",
       "\n",
       "3            SALE DATE  \n",
       "0  2018-05-22 00:00:00  \n",
       "1  2018-05-23 00:00:00  "
      ]
     },
     "execution_count": 24,
     "metadata": {},
     "output_type": "execute_result"
    }
   ],
   "source": [
    "sale.iloc[:,12:].head(2)"
   ]
  },
  {
   "cell_type": "code",
   "execution_count": 25,
   "metadata": {
    "ExecuteTime": {
     "end_time": "2019-05-10T23:24:33.638079Z",
     "start_time": "2019-05-10T23:24:33.627078Z"
    }
   },
   "outputs": [
    {
     "data": {
      "text/plain": [
       "3\n",
       "BOROUGH                           object\n",
       "NEIGHBORHOOD                      object\n",
       "BUILDING CLASS CATEGORY           object\n",
       "TAX CLASS AT PRESENT              object\n",
       "BLOCK                             object\n",
       "LOT                               object\n",
       "EASE-MENT                         object\n",
       "BUILDING CLASS AT PRESENT         object\n",
       "ADDRESS                           object\n",
       "APARTMENT NUMBER                  object\n",
       "ZIP CODE                          object\n",
       "RESIDENTIAL UNITS                 object\n",
       "COMMERCIAL UNITS                  object\n",
       "TOTAL UNITS                       object\n",
       "LAND SQUARE FEET                  object\n",
       "GROSS SQUARE FEET                 object\n",
       "YEAR BUILT                        object\n",
       "TAX CLASS AT TIME OF SALE         object\n",
       "BUILDING CLASS AT TIME OF SALE    object\n",
       "SALE PRICE                        object\n",
       "SALE DATE                         object\n",
       "dtype: object"
      ]
     },
     "execution_count": 25,
     "metadata": {},
     "output_type": "execute_result"
    }
   ],
   "source": [
    "sale.dtypes"
   ]
  },
  {
   "cell_type": "code",
   "execution_count": 26,
   "metadata": {
    "ExecuteTime": {
     "end_time": "2019-05-10T23:24:34.131109Z",
     "start_time": "2019-05-10T23:24:34.035080Z"
    }
   },
   "outputs": [
    {
     "data": {
      "text/plain": [
       "3\n",
       "BOROUGH                               0\n",
       "NEIGHBORHOOD                          0\n",
       "BUILDING CLASS CATEGORY               0\n",
       "TAX CLASS AT PRESENT                 45\n",
       "BLOCK                                 0\n",
       "LOT                                   0\n",
       "EASE-MENT                         81126\n",
       "BUILDING CLASS AT PRESENT            45\n",
       "ADDRESS                               0\n",
       "APARTMENT NUMBER                  63324\n",
       "ZIP CODE                              2\n",
       "RESIDENTIAL UNITS                    45\n",
       "COMMERCIAL UNITS                     45\n",
       "TOTAL UNITS                          45\n",
       "LAND SQUARE FEET                     76\n",
       "GROSS SQUARE FEET                    45\n",
       "YEAR BUILT                           28\n",
       "TAX CLASS AT TIME OF SALE             0\n",
       "BUILDING CLASS AT TIME OF SALE        0\n",
       "SALE PRICE                            0\n",
       "SALE DATE                             0\n",
       "dtype: int64"
      ]
     },
     "execution_count": 26,
     "metadata": {},
     "output_type": "execute_result"
    }
   ],
   "source": [
    "sale.isnull().sum()"
   ]
  },
  {
   "cell_type": "code",
   "execution_count": 27,
   "metadata": {
    "ExecuteTime": {
     "end_time": "2019-05-10T23:24:37.243234Z",
     "start_time": "2019-05-10T23:24:37.182233Z"
    }
   },
   "outputs": [],
   "source": [
    "#1. SALE PRICE should not be 0 or NaN\n",
    "#2. Sort by SALE DATE and get the latest sale price\n",
    "sale = sale[sale['SALE PRICE']!=0].reset_index(drop = True)\n"
   ]
  },
  {
   "cell_type": "code",
   "execution_count": 28,
   "metadata": {
    "ExecuteTime": {
     "end_time": "2019-05-10T23:24:39.762261Z",
     "start_time": "2019-05-10T23:24:37.815245Z"
    }
   },
   "outputs": [],
   "source": [
    "# create column bbl\n",
    "sale['bbl']  = [str(sale['BOROUGH'][i]).zfill(1)+str(sale['BLOCK'][i]).zfill(5)+str(sale['LOT'][i]).zfill(4) for i in range(sale.shape[0])]"
   ]
  },
  {
   "cell_type": "code",
   "execution_count": 29,
   "metadata": {
    "ExecuteTime": {
     "end_time": "2019-05-10T23:24:41.268236Z",
     "start_time": "2019-05-10T23:24:41.167234Z"
    }
   },
   "outputs": [],
   "source": [
    "sale.sort_values('SALE DATE',ascending= False,inplace= True)\n",
    "sale.reset_index(drop =True,inplace = True)"
   ]
  },
  {
   "cell_type": "code",
   "execution_count": 30,
   "metadata": {
    "ExecuteTime": {
     "end_time": "2019-05-10T23:24:41.986240Z",
     "start_time": "2019-05-10T23:24:41.760238Z"
    }
   },
   "outputs": [
    {
     "name": "stdout",
     "output_type": "stream",
     "text": [
      "32241\n"
     ]
    }
   ],
   "source": [
    "def intersection(lst1, lst2): \n",
    "    return len(list(set(lst1) & set(lst2)))\n",
    "print(intersection(sale.bbl.tolist(),pluto.bbl.tolist()))"
   ]
  },
  {
   "cell_type": "code",
   "execution_count": 31,
   "metadata": {
    "ExecuteTime": {
     "end_time": "2019-05-10T23:24:47.690982Z",
     "start_time": "2019-05-10T23:24:43.740012Z"
    }
   },
   "outputs": [],
   "source": [
    "salemerge = sale.merge(pluto,how = 'inner',left_on = 'bbl',right_on = 'bbl')"
   ]
  },
  {
   "cell_type": "code",
   "execution_count": 32,
   "metadata": {
    "ExecuteTime": {
     "end_time": "2019-05-10T23:24:48.454984Z",
     "start_time": "2019-05-10T23:24:47.694984Z"
    }
   },
   "outputs": [],
   "source": [
    "salemerge.cb2010 = [str(salemerge.cb2010[i]).split('.')[0] for i in range(salemerge.shape[0])]"
   ]
  },
  {
   "cell_type": "code",
   "execution_count": 33,
   "metadata": {
    "ExecuteTime": {
     "end_time": "2019-05-10T23:24:48.646985Z",
     "start_time": "2019-05-10T23:24:48.456983Z"
    }
   },
   "outputs": [
    {
     "name": "stdout",
     "output_type": "stream",
     "text": [
      "6656\n",
      "4983\n",
      "10627\n",
      "15338\n",
      "5394\n"
     ]
    }
   ],
   "source": [
    "#{MN:1,BX:2.BK:3,QN:4,SI:5}\n",
    "for i in range(1,6):\n",
    "    print(len(salemerge[salemerge['BOROUGH']==i].bbl))"
   ]
  },
  {
   "cell_type": "code",
   "execution_count": 34,
   "metadata": {
    "ExecuteTime": {
     "end_time": "2019-05-10T23:24:52.397021Z",
     "start_time": "2019-05-10T23:24:52.286031Z"
    }
   },
   "outputs": [
    {
     "name": "stdout",
     "output_type": "stream",
     "text": [
      "2805\n",
      "3969\n",
      "8778\n",
      "11533\n",
      "5156\n"
     ]
    }
   ],
   "source": [
    "#{MN:1,BX:2.BK:3,QN:4,SI:5}\n",
    "for i in range(1,6):\n",
    "    print(len(salemerge[salemerge['BOROUGH']==i].bbl.unique()))"
   ]
  },
  {
   "cell_type": "code",
   "execution_count": 35,
   "metadata": {
    "ExecuteTime": {
     "end_time": "2019-05-10T23:24:54.215022Z",
     "start_time": "2019-05-10T23:24:52.897021Z"
    }
   },
   "outputs": [
    {
     "name": "stdout",
     "output_type": "stream",
     "text": [
      "42897\n",
      "89825\n",
      "277028\n",
      "324554\n",
      "124672\n"
     ]
    }
   ],
   "source": [
    "for i in range(1,6):\n",
    "    print(len(pluto[pluto.borocode==i].bbl.unique()))"
   ]
  },
  {
   "cell_type": "code",
   "execution_count": 36,
   "metadata": {
    "ExecuteTime": {
     "end_time": "2019-05-10T23:24:56.552674Z",
     "start_time": "2019-05-10T23:24:56.530670Z"
    }
   },
   "outputs": [
    {
     "data": {
      "text/plain": [
       "6656"
      ]
     },
     "execution_count": 36,
     "metadata": {},
     "output_type": "execute_result"
    }
   ],
   "source": [
    "len(salemerge[salemerge['BOROUGH']==1].bbl)"
   ]
  },
  {
   "cell_type": "code",
   "execution_count": 39,
   "metadata": {
    "ExecuteTime": {
     "end_time": "2019-05-10T23:06:12.625317Z",
     "start_time": "2019-05-10T23:06:12.621320Z"
    }
   },
   "outputs": [],
   "source": [
    "# density of sale in map "
   ]
  },
  {
   "cell_type": "markdown",
   "metadata": {},
   "source": [
    "# Data Wrangling using only mahattan data"
   ]
  },
  {
   "cell_type": "code",
   "execution_count": 37,
   "metadata": {
    "ExecuteTime": {
     "end_time": "2019-05-10T23:25:02.235972Z",
     "start_time": "2019-05-10T23:25:02.213974Z"
    }
   },
   "outputs": [],
   "source": [
    "mn_salemerge = salemerge[salemerge.borocode==1].reset_index(drop = True)"
   ]
  },
  {
   "cell_type": "code",
   "execution_count": 38,
   "metadata": {
    "ExecuteTime": {
     "end_time": "2019-05-10T23:25:02.874971Z",
     "start_time": "2019-05-10T23:25:02.862967Z"
    }
   },
   "outputs": [],
   "source": [
    "mn_cb = cb_shapefile[cb_shapefile.boro_code=='1'].reset_index(drop = True)"
   ]
  },
  {
   "cell_type": "code",
   "execution_count": 39,
   "metadata": {
    "ExecuteTime": {
     "end_time": "2019-05-10T23:25:03.439969Z",
     "start_time": "2019-05-10T23:25:03.435976Z"
    }
   },
   "outputs": [
    {
     "data": {
      "text/plain": [
       "6656"
      ]
     },
     "execution_count": 39,
     "metadata": {},
     "output_type": "execute_result"
    }
   ],
   "source": [
    "len(mn_salemerge)"
   ]
  },
  {
   "cell_type": "code",
   "execution_count": 40,
   "metadata": {
    "ExecuteTime": {
     "end_time": "2019-05-10T23:25:16.623984Z",
     "start_time": "2019-05-10T23:25:05.425974Z"
    }
   },
   "outputs": [],
   "source": [
    "mn_sale_cb = mn_cb.merge(mn_salemerge,how = 'inner',left_on = 'cb2010',right_on = 'cb2010')"
   ]
  },
  {
   "cell_type": "code",
   "execution_count": 41,
   "metadata": {
    "ExecuteTime": {
     "end_time": "2019-05-10T23:25:16.663985Z",
     "start_time": "2019-05-10T23:25:16.626974Z"
    }
   },
   "outputs": [
    {
     "data": {
      "text/html": [
       "<div>\n",
       "<style scoped>\n",
       "    .dataframe tbody tr th:only-of-type {\n",
       "        vertical-align: middle;\n",
       "    }\n",
       "\n",
       "    .dataframe tbody tr th {\n",
       "        vertical-align: top;\n",
       "    }\n",
       "\n",
       "    .dataframe thead th {\n",
       "        text-align: right;\n",
       "    }\n",
       "</style>\n",
       "<table border=\"1\" class=\"dataframe\">\n",
       "  <thead>\n",
       "    <tr style=\"text-align: right;\">\n",
       "      <th></th>\n",
       "      <th>shape_area</th>\n",
       "      <th>cb2010</th>\n",
       "      <th>bctcb2010</th>\n",
       "      <th>shape_leng</th>\n",
       "      <th>boro_name</th>\n",
       "      <th>ct2010_x</th>\n",
       "      <th>boro_code</th>\n",
       "      <th>geometry</th>\n",
       "      <th>BOROUGH</th>\n",
       "      <th>NEIGHBORHOOD</th>\n",
       "      <th>...</th>\n",
       "      <th>firm07_flag</th>\n",
       "      <th>pfirm15_flag</th>\n",
       "      <th>rpaddate</th>\n",
       "      <th>dcasdate</th>\n",
       "      <th>zoningdate</th>\n",
       "      <th>landmkdate</th>\n",
       "      <th>basempdate</th>\n",
       "      <th>masdate</th>\n",
       "      <th>polidate</th>\n",
       "      <th>edesigdate</th>\n",
       "    </tr>\n",
       "  </thead>\n",
       "  <tbody>\n",
       "    <tr>\n",
       "      <th>0</th>\n",
       "      <td>57115.9140286</td>\n",
       "      <td>1000</td>\n",
       "      <td>10002021000</td>\n",
       "      <td>1187.88386045</td>\n",
       "      <td>Manhattan</td>\n",
       "      <td>000202</td>\n",
       "      <td>1</td>\n",
       "      <td>(POLYGON ((989804.9920043969 199396.6488036586...</td>\n",
       "      <td>1</td>\n",
       "      <td>GRAMERCY</td>\n",
       "      <td>...</td>\n",
       "      <td>NaN</td>\n",
       "      <td>NaN</td>\n",
       "      <td>12/6/2018</td>\n",
       "      <td>12/20/2018</td>\n",
       "      <td>12/21/2018</td>\n",
       "      <td>12/20/2018</td>\n",
       "      <td>12/21/2018</td>\n",
       "      <td>NaN</td>\n",
       "      <td>NaN</td>\n",
       "      <td>12/20/2018</td>\n",
       "    </tr>\n",
       "    <tr>\n",
       "      <th>1</th>\n",
       "      <td>57115.9140286</td>\n",
       "      <td>1000</td>\n",
       "      <td>10002021000</td>\n",
       "      <td>1187.88386045</td>\n",
       "      <td>Manhattan</td>\n",
       "      <td>000202</td>\n",
       "      <td>1</td>\n",
       "      <td>(POLYGON ((989804.9920043969 199396.6488036586...</td>\n",
       "      <td>1</td>\n",
       "      <td>GRAMERCY</td>\n",
       "      <td>...</td>\n",
       "      <td>NaN</td>\n",
       "      <td>NaN</td>\n",
       "      <td>12/6/2018</td>\n",
       "      <td>12/20/2018</td>\n",
       "      <td>12/21/2018</td>\n",
       "      <td>12/20/2018</td>\n",
       "      <td>12/21/2018</td>\n",
       "      <td>NaN</td>\n",
       "      <td>NaN</td>\n",
       "      <td>12/20/2018</td>\n",
       "    </tr>\n",
       "  </tbody>\n",
       "</table>\n",
       "<p>2 rows × 124 columns</p>\n",
       "</div>"
      ],
      "text/plain": [
       "      shape_area cb2010    bctcb2010     shape_leng  boro_name ct2010_x  \\\n",
       "0  57115.9140286   1000  10002021000  1187.88386045  Manhattan   000202   \n",
       "1  57115.9140286   1000  10002021000  1187.88386045  Manhattan   000202   \n",
       "\n",
       "  boro_code                                           geometry BOROUGH  \\\n",
       "0         1  (POLYGON ((989804.9920043969 199396.6488036586...       1   \n",
       "1         1  (POLYGON ((989804.9920043969 199396.6488036586...       1   \n",
       "\n",
       "  NEIGHBORHOOD  ... firm07_flag pfirm15_flag   rpaddate    dcasdate  \\\n",
       "0     GRAMERCY  ...         NaN          NaN  12/6/2018  12/20/2018   \n",
       "1     GRAMERCY  ...         NaN          NaN  12/6/2018  12/20/2018   \n",
       "\n",
       "   zoningdate  landmkdate  basempdate masdate polidate  edesigdate  \n",
       "0  12/21/2018  12/20/2018  12/21/2018     NaN      NaN  12/20/2018  \n",
       "1  12/21/2018  12/20/2018  12/21/2018     NaN      NaN  12/20/2018  \n",
       "\n",
       "[2 rows x 124 columns]"
      ]
     },
     "execution_count": 41,
     "metadata": {},
     "output_type": "execute_result"
    }
   ],
   "source": [
    "mn_sale_cb.head(2)"
   ]
  },
  {
   "cell_type": "code",
   "execution_count": 42,
   "metadata": {
    "ExecuteTime": {
     "end_time": "2019-05-10T23:25:35.358207Z",
     "start_time": "2019-05-10T23:25:35.355204Z"
    }
   },
   "outputs": [],
   "source": [
    "# join the bbl shapefile with sale"
   ]
  },
  {
   "cell_type": "code",
   "execution_count": 43,
   "metadata": {
    "ExecuteTime": {
     "end_time": "2019-05-10T23:25:35.829233Z",
     "start_time": "2019-05-10T23:25:35.811203Z"
    }
   },
   "outputs": [
    {
     "data": {
      "text/html": [
       "<div>\n",
       "<style scoped>\n",
       "    .dataframe tbody tr th:only-of-type {\n",
       "        vertical-align: middle;\n",
       "    }\n",
       "\n",
       "    .dataframe tbody tr th {\n",
       "        vertical-align: top;\n",
       "    }\n",
       "\n",
       "    .dataframe thead th {\n",
       "        text-align: right;\n",
       "    }\n",
       "</style>\n",
       "<table border=\"1\" class=\"dataframe\">\n",
       "  <thead>\n",
       "    <tr style=\"text-align: right;\">\n",
       "      <th></th>\n",
       "      <th>base_bbl</th>\n",
       "      <th>bin</th>\n",
       "      <th>cnstrct_yr</th>\n",
       "      <th>doitt_id</th>\n",
       "      <th>feat_code</th>\n",
       "      <th>geomsource</th>\n",
       "      <th>groundelev</th>\n",
       "      <th>heightroof</th>\n",
       "      <th>date_lstmo</th>\n",
       "      <th>time_lstmo</th>\n",
       "      <th>lststatype</th>\n",
       "      <th>mpluto_bbl</th>\n",
       "      <th>name</th>\n",
       "      <th>shape_area</th>\n",
       "      <th>shape_len</th>\n",
       "      <th>geometry</th>\n",
       "    </tr>\n",
       "  </thead>\n",
       "  <tbody>\n",
       "    <tr>\n",
       "      <th>0</th>\n",
       "      <td>3044520815</td>\n",
       "      <td>3394646.0</td>\n",
       "      <td>2009.0</td>\n",
       "      <td>1212853.0</td>\n",
       "      <td>2100.0</td>\n",
       "      <td>Photogramm</td>\n",
       "      <td>18.0</td>\n",
       "      <td>21.608508</td>\n",
       "      <td>2017-08-22</td>\n",
       "      <td>00:00:00.000</td>\n",
       "      <td>Constructed</td>\n",
       "      <td>3044520815</td>\n",
       "      <td>None</td>\n",
       "      <td>854.662433</td>\n",
       "      <td>125.079796</td>\n",
       "      <td>POLYGON ((-73.87129515296562 40.65717370043455...</td>\n",
       "    </tr>\n",
       "    <tr>\n",
       "      <th>1</th>\n",
       "      <td>4030640041</td>\n",
       "      <td>4548330.0</td>\n",
       "      <td>1930.0</td>\n",
       "      <td>1226227.0</td>\n",
       "      <td>5110.0</td>\n",
       "      <td>Photogramm</td>\n",
       "      <td>122.0</td>\n",
       "      <td>10.360000</td>\n",
       "      <td>2017-08-17</td>\n",
       "      <td>00:00:00.000</td>\n",
       "      <td>Constructed</td>\n",
       "      <td>4030640041</td>\n",
       "      <td>None</td>\n",
       "      <td>217.594243</td>\n",
       "      <td>60.225858</td>\n",
       "      <td>POLYGON ((-73.87670970144625 40.71425234541623...</td>\n",
       "    </tr>\n",
       "  </tbody>\n",
       "</table>\n",
       "</div>"
      ],
      "text/plain": [
       "     base_bbl        bin  cnstrct_yr   doitt_id  feat_code  geomsource  \\\n",
       "0  3044520815  3394646.0      2009.0  1212853.0     2100.0  Photogramm   \n",
       "1  4030640041  4548330.0      1930.0  1226227.0     5110.0  Photogramm   \n",
       "\n",
       "   groundelev  heightroof  date_lstmo    time_lstmo   lststatype  mpluto_bbl  \\\n",
       "0        18.0   21.608508  2017-08-22  00:00:00.000  Constructed  3044520815   \n",
       "1       122.0   10.360000  2017-08-17  00:00:00.000  Constructed  4030640041   \n",
       "\n",
       "   name  shape_area   shape_len  \\\n",
       "0  None  854.662433  125.079796   \n",
       "1  None  217.594243   60.225858   \n",
       "\n",
       "                                            geometry  \n",
       "0  POLYGON ((-73.87129515296562 40.65717370043455...  \n",
       "1  POLYGON ((-73.87670970144625 40.71425234541623...  "
      ]
     },
     "execution_count": 43,
     "metadata": {},
     "output_type": "execute_result"
    }
   ],
   "source": [
    "BBL.head(2)"
   ]
  },
  {
   "cell_type": "code",
   "execution_count": 44,
   "metadata": {
    "ExecuteTime": {
     "end_time": "2019-05-10T23:25:36.982202Z",
     "start_time": "2019-05-10T23:25:36.487211Z"
    }
   },
   "outputs": [
    {
     "data": {
      "text/plain": [
       "816896"
      ]
     },
     "execution_count": 44,
     "metadata": {},
     "output_type": "execute_result"
    }
   ],
   "source": [
    "len(BBL.base_bbl.unique())"
   ]
  },
  {
   "cell_type": "code",
   "execution_count": 45,
   "metadata": {
    "ExecuteTime": {
     "end_time": "2019-05-10T23:25:37.999201Z",
     "start_time": "2019-05-10T23:25:37.055220Z"
    }
   },
   "outputs": [],
   "source": [
    "mn_sale_bbl = BBL.merge(mn_salemerge,how = 'inner',left_on = 'base_bbl',right_on = 'bbl')"
   ]
  },
  {
   "cell_type": "code",
   "execution_count": 46,
   "metadata": {
    "ExecuteTime": {
     "end_time": "2019-05-10T23:26:12.857276Z",
     "start_time": "2019-05-10T23:25:38.002206Z"
    }
   },
   "outputs": [],
   "source": [
    "mnBBL = BBL[[BBL.base_bbl[i][0]=='1' for i in range(BBL.shape[0])]]"
   ]
  },
  {
   "cell_type": "code",
   "execution_count": 47,
   "metadata": {
    "ExecuteTime": {
     "end_time": "2019-05-10T23:26:12.863200Z",
     "start_time": "2019-05-10T23:26:12.859203Z"
    }
   },
   "outputs": [],
   "source": [
    "mnBBL.reset_index(drop = True,inplace = True)"
   ]
  },
  {
   "cell_type": "markdown",
   "metadata": {},
   "source": [
    "## feature Selection"
   ]
  },
  {
   "cell_type": "code",
   "execution_count": 49,
   "metadata": {
    "ExecuteTime": {
     "end_time": "2019-05-10T23:27:38.113890Z",
     "start_time": "2019-05-10T23:27:38.109911Z"
    }
   },
   "outputs": [],
   "source": [
    "# change build year as building Age\n",
    "mn_salemerge['YEAR BUILT'] = 2019- mn_salemerge['YEAR BUILT']"
   ]
  },
  {
   "cell_type": "code",
   "execution_count": 50,
   "metadata": {
    "ExecuteTime": {
     "end_time": "2019-05-10T23:27:38.690873Z",
     "start_time": "2019-05-10T23:27:38.684872Z"
    }
   },
   "outputs": [
    {
     "name": "stdout",
     "output_type": "stream",
     "text": [
      "['BOROUGH', 'NEIGHBORHOOD', 'BUILDING CLASS CATEGORY', 'TAX CLASS AT PRESENT', 'BLOCK', 'LOT', 'EASE-MENT', 'BUILDING CLASS AT PRESENT', 'ADDRESS', 'APARTMENT NUMBER', 'ZIP CODE', 'RESIDENTIAL UNITS', 'COMMERCIAL UNITS', 'TOTAL UNITS', 'LAND SQUARE FEET', 'GROSS SQUARE FEET', 'YEAR BUILT', 'TAX CLASS AT TIME OF SALE', 'BUILDING CLASS AT TIME OF SALE', 'SALE PRICE', 'SALE DATE', 'bbl', 'borough', 'block', 'lot', 'cd', 'ct2010', 'cb2010', 'schooldist', 'council', 'zipcode', 'firecomp', 'policeprct', 'healtharea', 'sanitboro', 'sanitsub', 'address', 'zonedist1', 'zonedist2', 'zonedist3', 'zonedist4', 'overlay1', 'overlay2', 'spdist1', 'spdist2', 'spdist3', 'ltdheight', 'splitzone', 'bldgclass', 'landuse', 'easements', 'ownertype', 'ownername', 'lotarea', 'bldgarea', 'comarea', 'resarea', 'officearea', 'retailarea', 'garagearea', 'strgearea', 'factryarea', 'otherarea', 'areasource', 'numbldgs', 'numfloors', 'unitsres', 'unitstotal', 'lotfront', 'lotdepth', 'bldgfront', 'bldgdepth', 'ext', 'proxcode', 'irrlotcode', 'lottype', 'bsmtcode', 'assessland', 'assesstot', 'exemptland', 'exempttot', 'yearbuilt', 'yearalter1', 'yearalter2', 'histdist', 'landmark', 'builtfar', 'residfar', 'commfar', 'facilfar', 'borocode', 'condono', 'tract2010', 'xcoord', 'ycoord', 'zonemap', 'zmcode', 'sanborn', 'taxmap', 'edesignum', 'appbbl', 'appdate', 'mappluto_f', 'plutomapid', 'version', 'sanitdistrict', 'healthcenterdistrict', 'firm07_flag', 'pfirm15_flag', 'rpaddate', 'dcasdate', 'zoningdate', 'landmkdate', 'basempdate', 'masdate', 'polidate', 'edesigdate']\n"
     ]
    }
   ],
   "source": [
    "print([i for i in mn_salemerge.columns])"
   ]
  },
  {
   "cell_type": "markdown",
   "metadata": {},
   "source": [
    "['BOROUGH', 'NEIGHBORHOOD', 'BUILDING CLASS CATEGORY', 'BUILDING CLASS AT PRESENT', 'ADDRESS', 'APARTMENT NUMBER', 'ZIP CODE', 'RESIDENTIAL UNITS', 'COMMERCIAL UNITS', 'TOTAL UNITS', 'LAND SQUARE FEET', 'GROSS SQUARE FEET', 'YEAR BUILT', 'TAX CLASS AT TIME OF SALE', 'BUILDING CLASS AT TIME OF SALE', 'SALE PRICE', 'SALE DATE', 'bbl', 'borough', 'block', 'lot', 'cd', 'ct2010', 'cb2010', 'schooldist', 'council', 'zipcode', 'firecomp', 'policeprct', 'healtharea', 'sanitboro', 'sanitsub', 'address', 'zonedist1', 'zonedist2', 'zonedist3', 'zonedist4', 'overlay1', 'overlay2', 'spdist1', 'spdist2', 'spdist3', 'ltdheight', 'splitzone', 'bldgclass', 'landuse', 'easements', 'ownertype', 'ownername', 'lotarea', 'bldgarea', 'comarea', 'resarea', 'officearea', 'retailarea', 'garagearea', 'strgearea', 'factryarea', 'otherarea', 'areasource', 'numbldgs', 'numfloors', 'unitsres', 'unitstotal', 'lotfront', 'lotdepth', 'bldgfront', 'bldgdepth', 'ext', 'proxcode', 'irrlotcode', 'lottype', 'bsmtcode', 'assessland', 'assesstot', 'exemptland', 'exempttot', 'yearbuilt', 'yearalter1', 'yearalter2', 'histdist', 'landmark', 'builtfar', 'residfar', 'commfar', 'facilfar', 'borocode', 'condono', 'tract2010', 'xcoord', 'ycoord', 'zonemap', 'zmcode', 'sanborn', 'taxmap', 'edesignum', 'appbbl', 'appdate', 'mappluto_f', 'plutomapid', 'version', 'sanitdistrict', 'healthcenterdistrict', 'firm07_flag', 'pfirm15_flag', 'rpaddate', 'dcasdate', 'zoningdate', 'landmkdate', 'basempdate', 'masdate', 'polidate', 'edesigdate']"
   ]
  },
  {
   "cell_type": "markdown",
   "metadata": {
    "ExecuteTime": {
     "end_time": "2019-05-07T20:02:30.554940Z",
     "start_time": "2019-05-07T20:02:30.543941Z"
    }
   },
   "source": [
    "\n",
    "`numeric features`\n",
    "\n",
    "['YEAR BUILT','RESIDENTIAL UNITS', 'COMMERCIAL UNITS', 'TOTAL UNITS', 'LAND SQUARE FEET', 'GROSS SQUARE FEET', 'easements', 'lotarea', 'bldgarea', 'comarea', 'resarea', 'officearea', 'retailarea', 'garagearea', 'strgearea', 'factryarea', 'otherarea', 'numbldgs', 'numfloors', 'unitsres', 'unitstotal', 'lotfront', 'lotdepth', 'bldgfront', 'bldgdepth','assessland', 'assesstot', 'exemptland', 'exempttot', 'builtfar', 'residfar', 'commfar', 'facilfar',\n",
    "'DensityPop', \n",
    "'IncomePerCap', \n",
    "'Poverty', \n",
    "'Professional', \n",
    "'Service', \n",
    "'Office', \n",
    "'Construction', \n",
    "'Production', \n",
    "'Employed', \n",
    "'Unemployment',\n",
    "'distance_subway',\n",
    "'distance_bus',\n",
    "'park_num',\n",
    "'park_area',\n",
    "'park_top_level',\n",
    "'park_distance',\n",
    "'FELONY',\n",
    "'VIOLATION',\n",
    "'MISDEMEANOR',\n",
    "'Num of SAT Test Takers', 'satReadingSum', \n",
    "'satMathSum',\n",
    "'satWritingSum']\n",
    "\n",
    "\n",
    "`feature catergorical`\n",
    "\n",
    "['histdist', 'landmark','landuse']\n"
   ]
  },
  {
   "cell_type": "markdown",
   "metadata": {},
   "source": [
    "## SAT: add SAT  combine sat score using schoolDist  "
   ]
  },
  {
   "cell_type": "code",
   "execution_count": 54,
   "metadata": {
    "ExecuteTime": {
     "end_time": "2019-05-10T23:29:21.377032Z",
     "start_time": "2019-05-10T23:29:21.258030Z"
    }
   },
   "outputs": [
    {
     "data": {
      "text/html": [
       "<div>\n",
       "<style scoped>\n",
       "    .dataframe tbody tr th:only-of-type {\n",
       "        vertical-align: middle;\n",
       "    }\n",
       "\n",
       "    .dataframe tbody tr th {\n",
       "        vertical-align: top;\n",
       "    }\n",
       "\n",
       "    .dataframe thead th {\n",
       "        text-align: right;\n",
       "    }\n",
       "</style>\n",
       "<table border=\"1\" class=\"dataframe\">\n",
       "  <thead>\n",
       "    <tr style=\"text-align: right;\">\n",
       "      <th></th>\n",
       "      <th>Unnamed: 0</th>\n",
       "      <th>DBN</th>\n",
       "      <th>Num of SAT Test Takers</th>\n",
       "      <th>SAT Critical Reading Avg. Score</th>\n",
       "      <th>SAT Math Avg. Score</th>\n",
       "      <th>SAT Writing Avg. Score</th>\n",
       "      <th>School_District</th>\n",
       "      <th>geometry</th>\n",
       "    </tr>\n",
       "  </thead>\n",
       "  <tbody>\n",
       "    <tr>\n",
       "      <th>0</th>\n",
       "      <td>0</td>\n",
       "      <td>01M292</td>\n",
       "      <td>29</td>\n",
       "      <td>355</td>\n",
       "      <td>404</td>\n",
       "      <td>363</td>\n",
       "      <td>1.0</td>\n",
       "      <td>POLYGON ((992073.466796875 203714.0759887695, ...</td>\n",
       "    </tr>\n",
       "    <tr>\n",
       "      <th>1</th>\n",
       "      <td>1</td>\n",
       "      <td>01M448</td>\n",
       "      <td>91</td>\n",
       "      <td>383</td>\n",
       "      <td>423</td>\n",
       "      <td>366</td>\n",
       "      <td>1.0</td>\n",
       "      <td>POLYGON ((992073.466796875 203714.0759887695, ...</td>\n",
       "    </tr>\n",
       "    <tr>\n",
       "      <th>2</th>\n",
       "      <td>2</td>\n",
       "      <td>01M450</td>\n",
       "      <td>70</td>\n",
       "      <td>377</td>\n",
       "      <td>402</td>\n",
       "      <td>370</td>\n",
       "      <td>1.0</td>\n",
       "      <td>POLYGON ((992073.466796875 203714.0759887695, ...</td>\n",
       "    </tr>\n",
       "    <tr>\n",
       "      <th>3</th>\n",
       "      <td>3</td>\n",
       "      <td>01M458</td>\n",
       "      <td>7</td>\n",
       "      <td>414</td>\n",
       "      <td>401</td>\n",
       "      <td>359</td>\n",
       "      <td>1.0</td>\n",
       "      <td>POLYGON ((992073.466796875 203714.0759887695, ...</td>\n",
       "    </tr>\n",
       "    <tr>\n",
       "      <th>4</th>\n",
       "      <td>4</td>\n",
       "      <td>01M509</td>\n",
       "      <td>44</td>\n",
       "      <td>390</td>\n",
       "      <td>433</td>\n",
       "      <td>384</td>\n",
       "      <td>1.0</td>\n",
       "      <td>POLYGON ((992073.466796875 203714.0759887695, ...</td>\n",
       "    </tr>\n",
       "  </tbody>\n",
       "</table>\n",
       "</div>"
      ],
      "text/plain": [
       "   Unnamed: 0     DBN Num of SAT Test Takers SAT Critical Reading Avg. Score  \\\n",
       "0           0  01M292                     29                             355   \n",
       "1           1  01M448                     91                             383   \n",
       "2           2  01M450                     70                             377   \n",
       "3           3  01M458                      7                             414   \n",
       "4           4  01M509                     44                             390   \n",
       "\n",
       "  SAT Math Avg. Score SAT Writing Avg. Score  School_District  \\\n",
       "0                 404                    363              1.0   \n",
       "1                 423                    366              1.0   \n",
       "2                 402                    370              1.0   \n",
       "3                 401                    359              1.0   \n",
       "4                 433                    384              1.0   \n",
       "\n",
       "                                            geometry  \n",
       "0  POLYGON ((992073.466796875 203714.0759887695, ...  \n",
       "1  POLYGON ((992073.466796875 203714.0759887695, ...  \n",
       "2  POLYGON ((992073.466796875 203714.0759887695, ...  \n",
       "3  POLYGON ((992073.466796875 203714.0759887695, ...  \n",
       "4  POLYGON ((992073.466796875 203714.0759887695, ...  "
      ]
     },
     "execution_count": 54,
     "metadata": {},
     "output_type": "execute_result"
    }
   ],
   "source": [
    "sat = pd.read_csv('data/school_sat.csv',index_col= False)\n",
    "sat.head()"
   ]
  },
  {
   "cell_type": "code",
   "execution_count": 55,
   "metadata": {
    "ExecuteTime": {
     "end_time": "2019-05-10T23:29:23.647031Z",
     "start_time": "2019-05-10T23:29:22.958050Z"
    }
   },
   "outputs": [],
   "source": [
    "sat.dropna(inplace =True)\n",
    "sat = sat[sat['SAT Math Avg. Score']!='s']\n",
    "sat['Num of SAT Test Takers'] = sat['Num of SAT Test Takers'].astype(int)\n",
    "sat['SAT Critical Reading Avg. Score'] = sat['SAT Critical Reading Avg. Score'].astype(float)\n",
    "sat['SAT Math Avg. Score'] = sat['SAT Math Avg. Score'].astype(float)\n",
    "sat['SAT Writing Avg. Score'] = sat['SAT Writing Avg. Score'].astype(float)\n",
    "sat['satReadingSum'] = sat['SAT Critical Reading Avg. Score']*sat['Num of SAT Test Takers']\n",
    "sat['satMathSum'] = sat['SAT Math Avg. Score']*sat['Num of SAT Test Takers']\n",
    "sat['satWritingSum'] = sat['SAT Writing Avg. Score']*sat['Num of SAT Test Takers']"
   ]
  },
  {
   "cell_type": "code",
   "execution_count": 56,
   "metadata": {
    "ExecuteTime": {
     "end_time": "2019-05-10T23:29:23.663031Z",
     "start_time": "2019-05-10T23:29:23.651031Z"
    }
   },
   "outputs": [],
   "source": [
    "sat2 = sat.groupby('School_District').sum()"
   ]
  },
  {
   "cell_type": "code",
   "execution_count": 57,
   "metadata": {
    "ExecuteTime": {
     "end_time": "2019-05-10T23:29:23.979032Z",
     "start_time": "2019-05-10T23:29:23.961032Z"
    }
   },
   "outputs": [
    {
     "data": {
      "text/html": [
       "<div>\n",
       "<style scoped>\n",
       "    .dataframe tbody tr th:only-of-type {\n",
       "        vertical-align: middle;\n",
       "    }\n",
       "\n",
       "    .dataframe tbody tr th {\n",
       "        vertical-align: top;\n",
       "    }\n",
       "\n",
       "    .dataframe thead th {\n",
       "        text-align: right;\n",
       "    }\n",
       "</style>\n",
       "<table border=\"1\" class=\"dataframe\">\n",
       "  <thead>\n",
       "    <tr style=\"text-align: right;\">\n",
       "      <th></th>\n",
       "      <th>School_District</th>\n",
       "      <th>Num of SAT Test Takers</th>\n",
       "      <th>satReadingSum</th>\n",
       "      <th>satMathSum</th>\n",
       "      <th>satWritingSum</th>\n",
       "    </tr>\n",
       "  </thead>\n",
       "  <tbody>\n",
       "    <tr>\n",
       "      <th>0</th>\n",
       "      <td>1.0</td>\n",
       "      <td>7053</td>\n",
       "      <td>3066436.0</td>\n",
       "      <td>3242278.0</td>\n",
       "      <td>3035826.0</td>\n",
       "    </tr>\n",
       "    <tr>\n",
       "      <th>1</th>\n",
       "      <td>2.0</td>\n",
       "      <td>9100</td>\n",
       "      <td>4099730.0</td>\n",
       "      <td>4333564.0</td>\n",
       "      <td>4071794.0</td>\n",
       "    </tr>\n",
       "    <tr>\n",
       "      <th>2</th>\n",
       "      <td>3.0</td>\n",
       "      <td>3825</td>\n",
       "      <td>1904035.0</td>\n",
       "      <td>2009896.0</td>\n",
       "      <td>1898241.0</td>\n",
       "    </tr>\n",
       "    <tr>\n",
       "      <th>3</th>\n",
       "      <td>4.0</td>\n",
       "      <td>3655</td>\n",
       "      <td>1506559.0</td>\n",
       "      <td>1598775.0</td>\n",
       "      <td>1483488.0</td>\n",
       "    </tr>\n",
       "    <tr>\n",
       "      <th>4</th>\n",
       "      <td>5.0</td>\n",
       "      <td>2850</td>\n",
       "      <td>1229809.0</td>\n",
       "      <td>1309420.0</td>\n",
       "      <td>1217543.0</td>\n",
       "    </tr>\n",
       "    <tr>\n",
       "      <th>5</th>\n",
       "      <td>6.0</td>\n",
       "      <td>4005</td>\n",
       "      <td>1765785.0</td>\n",
       "      <td>1952177.0</td>\n",
       "      <td>1768858.0</td>\n",
       "    </tr>\n",
       "  </tbody>\n",
       "</table>\n",
       "</div>"
      ],
      "text/plain": [
       "   School_District  Num of SAT Test Takers  satReadingSum  satMathSum  \\\n",
       "0              1.0                    7053      3066436.0   3242278.0   \n",
       "1              2.0                    9100      4099730.0   4333564.0   \n",
       "2              3.0                    3825      1904035.0   2009896.0   \n",
       "3              4.0                    3655      1506559.0   1598775.0   \n",
       "4              5.0                    2850      1229809.0   1309420.0   \n",
       "5              6.0                    4005      1765785.0   1952177.0   \n",
       "\n",
       "   satWritingSum  \n",
       "0      3035826.0  \n",
       "1      4071794.0  \n",
       "2      1898241.0  \n",
       "3      1483488.0  \n",
       "4      1217543.0  \n",
       "5      1768858.0  "
      ]
     },
     "execution_count": 57,
     "metadata": {},
     "output_type": "execute_result"
    }
   ],
   "source": [
    "sat_schoolDist = sat.groupby('School_District',as_index = False).sum()[['School_District']+['Num of SAT Test Takers']+sat2.columns[-3:].tolist()]\n",
    "sat_schoolDist"
   ]
  },
  {
   "cell_type": "code",
   "execution_count": 58,
   "metadata": {
    "ExecuteTime": {
     "end_time": "2019-05-10T23:29:27.295868Z",
     "start_time": "2019-05-10T23:29:26.629870Z"
    }
   },
   "outputs": [],
   "source": [
    "sat_schoolDist.satReadingSum = round(sat_schoolDist.satReadingSum/sat_schoolDist['Num of SAT Test Takers'],0)\n",
    "sat_schoolDist.satMathSum = round(sat_schoolDist.satMathSum/sat_schoolDist['Num of SAT Test Takers'],0)\n",
    "sat_schoolDist.satWritingSum = round(sat_schoolDist.satWritingSum/sat_schoolDist['Num of SAT Test Takers'],0)"
   ]
  },
  {
   "cell_type": "code",
   "execution_count": 59,
   "metadata": {
    "ExecuteTime": {
     "end_time": "2019-05-10T23:29:27.312871Z",
     "start_time": "2019-05-10T23:29:27.298869Z"
    },
    "scrolled": true
   },
   "outputs": [
    {
     "data": {
      "text/html": [
       "<div>\n",
       "<style scoped>\n",
       "    .dataframe tbody tr th:only-of-type {\n",
       "        vertical-align: middle;\n",
       "    }\n",
       "\n",
       "    .dataframe tbody tr th {\n",
       "        vertical-align: top;\n",
       "    }\n",
       "\n",
       "    .dataframe thead th {\n",
       "        text-align: right;\n",
       "    }\n",
       "</style>\n",
       "<table border=\"1\" class=\"dataframe\">\n",
       "  <thead>\n",
       "    <tr style=\"text-align: right;\">\n",
       "      <th></th>\n",
       "      <th>School_District</th>\n",
       "      <th>Num of SAT Test Takers</th>\n",
       "      <th>satReadingSum</th>\n",
       "      <th>satMathSum</th>\n",
       "      <th>satWritingSum</th>\n",
       "    </tr>\n",
       "  </thead>\n",
       "  <tbody>\n",
       "    <tr>\n",
       "      <th>0</th>\n",
       "      <td>1.0</td>\n",
       "      <td>7053</td>\n",
       "      <td>435.0</td>\n",
       "      <td>460.0</td>\n",
       "      <td>430.0</td>\n",
       "    </tr>\n",
       "    <tr>\n",
       "      <th>1</th>\n",
       "      <td>2.0</td>\n",
       "      <td>9100</td>\n",
       "      <td>451.0</td>\n",
       "      <td>476.0</td>\n",
       "      <td>447.0</td>\n",
       "    </tr>\n",
       "    <tr>\n",
       "      <th>2</th>\n",
       "      <td>3.0</td>\n",
       "      <td>3825</td>\n",
       "      <td>498.0</td>\n",
       "      <td>525.0</td>\n",
       "      <td>496.0</td>\n",
       "    </tr>\n",
       "    <tr>\n",
       "      <th>3</th>\n",
       "      <td>4.0</td>\n",
       "      <td>3655</td>\n",
       "      <td>412.0</td>\n",
       "      <td>437.0</td>\n",
       "      <td>406.0</td>\n",
       "    </tr>\n",
       "    <tr>\n",
       "      <th>4</th>\n",
       "      <td>5.0</td>\n",
       "      <td>2850</td>\n",
       "      <td>432.0</td>\n",
       "      <td>459.0</td>\n",
       "      <td>427.0</td>\n",
       "    </tr>\n",
       "  </tbody>\n",
       "</table>\n",
       "</div>"
      ],
      "text/plain": [
       "   School_District  Num of SAT Test Takers  satReadingSum  satMathSum  \\\n",
       "0              1.0                    7053          435.0       460.0   \n",
       "1              2.0                    9100          451.0       476.0   \n",
       "2              3.0                    3825          498.0       525.0   \n",
       "3              4.0                    3655          412.0       437.0   \n",
       "4              5.0                    2850          432.0       459.0   \n",
       "\n",
       "   satWritingSum  \n",
       "0          430.0  \n",
       "1          447.0  \n",
       "2          496.0  \n",
       "3          406.0  \n",
       "4          427.0  "
      ]
     },
     "execution_count": 59,
     "metadata": {},
     "output_type": "execute_result"
    }
   ],
   "source": [
    "sat_schoolDist.head()"
   ]
  },
  {
   "cell_type": "code",
   "execution_count": 60,
   "metadata": {
    "ExecuteTime": {
     "end_time": "2019-05-10T23:29:28.113871Z",
     "start_time": "2019-05-10T23:29:27.857869Z"
    }
   },
   "outputs": [
    {
     "data": {
      "text/plain": [
       "6646"
      ]
     },
     "execution_count": 60,
     "metadata": {},
     "output_type": "execute_result"
    }
   ],
   "source": [
    "# merge sat with mn_salemerge\n",
    "mn_salemerge = mn_salemerge.merge(sat_schoolDist,left_on = 'schooldist',right_on = 'School_District')\n",
    "len(mn_salemerge)"
   ]
  },
  {
   "cell_type": "code",
   "execution_count": null,
   "metadata": {
    "ExecuteTime": {
     "start_time": "2019-05-10T23:06:04.911Z"
    }
   },
   "outputs": [
    {
     "data": {
      "text/html": [
       "<div>\n",
       "<style scoped>\n",
       "    .dataframe tbody tr th:only-of-type {\n",
       "        vertical-align: middle;\n",
       "    }\n",
       "\n",
       "    .dataframe tbody tr th {\n",
       "        vertical-align: top;\n",
       "    }\n",
       "\n",
       "    .dataframe thead th {\n",
       "        text-align: right;\n",
       "    }\n",
       "</style>\n",
       "<table border=\"1\" class=\"dataframe\">\n",
       "  <thead>\n",
       "    <tr style=\"text-align: right;\">\n",
       "      <th></th>\n",
       "      <th>BOROUGH</th>\n",
       "      <th>NEIGHBORHOOD</th>\n",
       "      <th>BUILDING CLASS CATEGORY</th>\n",
       "      <th>TAX CLASS AT PRESENT</th>\n",
       "      <th>BLOCK</th>\n",
       "      <th>LOT</th>\n",
       "      <th>EASE-MENT</th>\n",
       "      <th>BUILDING CLASS AT PRESENT</th>\n",
       "      <th>ADDRESS</th>\n",
       "      <th>APARTMENT NUMBER</th>\n",
       "      <th>...</th>\n",
       "      <th>landmkdate</th>\n",
       "      <th>basempdate</th>\n",
       "      <th>masdate</th>\n",
       "      <th>polidate</th>\n",
       "      <th>edesigdate</th>\n",
       "      <th>School_District</th>\n",
       "      <th>Num of SAT Test Takers</th>\n",
       "      <th>satReadingSum</th>\n",
       "      <th>satMathSum</th>\n",
       "      <th>satWritingSum</th>\n",
       "    </tr>\n",
       "  </thead>\n",
       "  <tbody>\n",
       "    <tr>\n",
       "      <th>0</th>\n",
       "      <td>1</td>\n",
       "      <td>UPPER EAST SIDE (59-79)</td>\n",
       "      <td>10 COOPS - ELEVATOR APARTMENTS</td>\n",
       "      <td>2</td>\n",
       "      <td>1444</td>\n",
       "      <td>8</td>\n",
       "      <td>NaN</td>\n",
       "      <td>D4</td>\n",
       "      <td>315 EAST 69TH STREET, 4L</td>\n",
       "      <td>NaN</td>\n",
       "      <td>...</td>\n",
       "      <td>12/20/2018</td>\n",
       "      <td>12/21/2018</td>\n",
       "      <td>NaN</td>\n",
       "      <td>NaN</td>\n",
       "      <td>12/20/2018</td>\n",
       "      <td>2.0</td>\n",
       "      <td>9100</td>\n",
       "      <td>451.0</td>\n",
       "      <td>476.0</td>\n",
       "      <td>447.0</td>\n",
       "    </tr>\n",
       "    <tr>\n",
       "      <th>1</th>\n",
       "      <td>1</td>\n",
       "      <td>UPPER EAST SIDE (59-79)</td>\n",
       "      <td>10 COOPS - ELEVATOR APARTMENTS</td>\n",
       "      <td>2</td>\n",
       "      <td>1444</td>\n",
       "      <td>8</td>\n",
       "      <td>NaN</td>\n",
       "      <td>D4</td>\n",
       "      <td>315 EAST 69TH STREET, 10F</td>\n",
       "      <td>NaN</td>\n",
       "      <td>...</td>\n",
       "      <td>12/20/2018</td>\n",
       "      <td>12/21/2018</td>\n",
       "      <td>NaN</td>\n",
       "      <td>NaN</td>\n",
       "      <td>12/20/2018</td>\n",
       "      <td>2.0</td>\n",
       "      <td>9100</td>\n",
       "      <td>451.0</td>\n",
       "      <td>476.0</td>\n",
       "      <td>447.0</td>\n",
       "    </tr>\n",
       "    <tr>\n",
       "      <th>2</th>\n",
       "      <td>1</td>\n",
       "      <td>UPPER EAST SIDE (59-79)</td>\n",
       "      <td>10 COOPS - ELEVATOR APARTMENTS</td>\n",
       "      <td>2</td>\n",
       "      <td>1444</td>\n",
       "      <td>8</td>\n",
       "      <td>NaN</td>\n",
       "      <td>D4</td>\n",
       "      <td>315 EAST 69TH STREET, 11DE</td>\n",
       "      <td>NaN</td>\n",
       "      <td>...</td>\n",
       "      <td>12/20/2018</td>\n",
       "      <td>12/21/2018</td>\n",
       "      <td>NaN</td>\n",
       "      <td>NaN</td>\n",
       "      <td>12/20/2018</td>\n",
       "      <td>2.0</td>\n",
       "      <td>9100</td>\n",
       "      <td>451.0</td>\n",
       "      <td>476.0</td>\n",
       "      <td>447.0</td>\n",
       "    </tr>\n",
       "    <tr>\n",
       "      <th>3</th>\n",
       "      <td>1</td>\n",
       "      <td>UPPER EAST SIDE (59-79)</td>\n",
       "      <td>10 COOPS - ELEVATOR APARTMENTS</td>\n",
       "      <td>2</td>\n",
       "      <td>1444</td>\n",
       "      <td>8</td>\n",
       "      <td>NaN</td>\n",
       "      <td>D4</td>\n",
       "      <td>315 EAST 69TH STREET, 11F</td>\n",
       "      <td>NaN</td>\n",
       "      <td>...</td>\n",
       "      <td>12/20/2018</td>\n",
       "      <td>12/21/2018</td>\n",
       "      <td>NaN</td>\n",
       "      <td>NaN</td>\n",
       "      <td>12/20/2018</td>\n",
       "      <td>2.0</td>\n",
       "      <td>9100</td>\n",
       "      <td>451.0</td>\n",
       "      <td>476.0</td>\n",
       "      <td>447.0</td>\n",
       "    </tr>\n",
       "    <tr>\n",
       "      <th>4</th>\n",
       "      <td>1</td>\n",
       "      <td>UPPER EAST SIDE (59-79)</td>\n",
       "      <td>10 COOPS - ELEVATOR APARTMENTS</td>\n",
       "      <td>2</td>\n",
       "      <td>1444</td>\n",
       "      <td>8</td>\n",
       "      <td>NaN</td>\n",
       "      <td>D4</td>\n",
       "      <td>315 EAST 69TH STREET, 12E</td>\n",
       "      <td>NaN</td>\n",
       "      <td>...</td>\n",
       "      <td>12/20/2018</td>\n",
       "      <td>12/21/2018</td>\n",
       "      <td>NaN</td>\n",
       "      <td>NaN</td>\n",
       "      <td>12/20/2018</td>\n",
       "      <td>2.0</td>\n",
       "      <td>9100</td>\n",
       "      <td>451.0</td>\n",
       "      <td>476.0</td>\n",
       "      <td>447.0</td>\n",
       "    </tr>\n",
       "  </tbody>\n",
       "</table>\n",
       "<p>5 rows × 122 columns</p>\n",
       "</div>"
      ],
      "text/plain": [
       "  BOROUGH             NEIGHBORHOOD         BUILDING CLASS CATEGORY  \\\n",
       "0       1  UPPER EAST SIDE (59-79)  10 COOPS - ELEVATOR APARTMENTS   \n",
       "1       1  UPPER EAST SIDE (59-79)  10 COOPS - ELEVATOR APARTMENTS   \n",
       "2       1  UPPER EAST SIDE (59-79)  10 COOPS - ELEVATOR APARTMENTS   \n",
       "3       1  UPPER EAST SIDE (59-79)  10 COOPS - ELEVATOR APARTMENTS   \n",
       "4       1  UPPER EAST SIDE (59-79)  10 COOPS - ELEVATOR APARTMENTS   \n",
       "\n",
       "  TAX CLASS AT PRESENT BLOCK LOT EASE-MENT BUILDING CLASS AT PRESENT  \\\n",
       "0                    2  1444   8       NaN                        D4   \n",
       "1                    2  1444   8       NaN                        D4   \n",
       "2                    2  1444   8       NaN                        D4   \n",
       "3                    2  1444   8       NaN                        D4   \n",
       "4                    2  1444   8       NaN                        D4   \n",
       "\n",
       "                      ADDRESS APARTMENT NUMBER  ...  landmkdate  basempdate  \\\n",
       "0    315 EAST 69TH STREET, 4L              NaN  ...  12/20/2018  12/21/2018   \n",
       "1   315 EAST 69TH STREET, 10F              NaN  ...  12/20/2018  12/21/2018   \n",
       "2  315 EAST 69TH STREET, 11DE              NaN  ...  12/20/2018  12/21/2018   \n",
       "3   315 EAST 69TH STREET, 11F              NaN  ...  12/20/2018  12/21/2018   \n",
       "4   315 EAST 69TH STREET, 12E              NaN  ...  12/20/2018  12/21/2018   \n",
       "\n",
       "  masdate polidate  edesigdate School_District Num of SAT Test Takers  \\\n",
       "0     NaN      NaN  12/20/2018             2.0                   9100   \n",
       "1     NaN      NaN  12/20/2018             2.0                   9100   \n",
       "2     NaN      NaN  12/20/2018             2.0                   9100   \n",
       "3     NaN      NaN  12/20/2018             2.0                   9100   \n",
       "4     NaN      NaN  12/20/2018             2.0                   9100   \n",
       "\n",
       "  satReadingSum satMathSum satWritingSum  \n",
       "0         451.0      476.0         447.0  \n",
       "1         451.0      476.0         447.0  \n",
       "2         451.0      476.0         447.0  \n",
       "3         451.0      476.0         447.0  \n",
       "4         451.0      476.0         447.0  \n",
       "\n",
       "[5 rows x 122 columns]"
      ]
     },
     "execution_count": 66,
     "metadata": {},
     "output_type": "execute_result"
    }
   ],
   "source": [
    "mn_salemerge.head()"
   ]
  },
  {
   "cell_type": "markdown",
   "metadata": {},
   "source": [
    "## join spatial Features"
   ]
  },
  {
   "cell_type": "code",
   "execution_count": 61,
   "metadata": {
    "ExecuteTime": {
     "end_time": "2019-05-10T23:29:42.765204Z",
     "start_time": "2019-05-10T23:29:39.774104Z"
    }
   },
   "outputs": [
    {
     "name": "stderr",
     "output_type": "stream",
     "text": [
      "  % Total    % Received % Xferd  Average Speed   Time    Time     Time  Current\n",
      "                                 Dload  Upload   Total   Spent    Left  Speed\n",
      "\n",
      "  0     0    0     0    0     0      0      0 --:--:-- --:--:-- --:--:--     0\n",
      "  0     0    0     0    0     0      0      0 --:--:-- --:--:-- --:--:--     0\n",
      "  0     0    0     0    0     0      0      0 --:--:--  0:00:01 --:--:--     0\n",
      " 32 22.0M   32 7415k    0     0  3163k      0  0:00:07  0:00:02  0:00:05 3163k\n",
      "100 22.0M  100 22.0M    0     0  7866k      0  0:00:02  0:00:02 --:--:-- 7866k\n"
     ]
    }
   ],
   "source": [
    "!curl https://raw.githubusercontent.com/JunjieTsai/MLC2019_Project/master/data/output.csv> data/output.csv"
   ]
  },
  {
   "cell_type": "code",
   "execution_count": 62,
   "metadata": {
    "ExecuteTime": {
     "end_time": "2019-05-10T23:29:42.884204Z",
     "start_time": "2019-05-10T23:29:42.767219Z"
    }
   },
   "outputs": [
    {
     "name": "stdout",
     "output_type": "stream",
     "text": [
      "2010 Census Blocks.geojson\n",
      "BBL\n",
      "BBL.gz\n",
      "IsoForestData.csv\n",
      "IsoForestData_z.csv\n",
      "OneClassSVMData.csv\n",
      "OneClassSVMData_z.csv\n",
      "data_train.csv\n",
      "output.csv\n",
      "pluto_18v2_1.csv\n",
      "saleData\n",
      "sale_manhattan.png\n",
      "school_sat.csv\n"
     ]
    }
   ],
   "source": [
    "!ls data"
   ]
  },
  {
   "cell_type": "code",
   "execution_count": 63,
   "metadata": {
    "ExecuteTime": {
     "end_time": "2019-05-10T23:29:46.367202Z",
     "start_time": "2019-05-10T23:29:46.016237Z"
    }
   },
   "outputs": [
    {
     "data": {
      "text/html": [
       "<div>\n",
       "<style scoped>\n",
       "    .dataframe tbody tr th:only-of-type {\n",
       "        vertical-align: middle;\n",
       "    }\n",
       "\n",
       "    .dataframe tbody tr th {\n",
       "        vertical-align: top;\n",
       "    }\n",
       "\n",
       "    .dataframe thead th {\n",
       "        text-align: right;\n",
       "    }\n",
       "</style>\n",
       "<table border=\"1\" class=\"dataframe\">\n",
       "  <thead>\n",
       "    <tr style=\"text-align: right;\">\n",
       "      <th></th>\n",
       "      <th>IncomePerCap</th>\n",
       "      <th>Poverty</th>\n",
       "      <th>Professional</th>\n",
       "      <th>Service</th>\n",
       "      <th>Office</th>\n",
       "      <th>Construction</th>\n",
       "      <th>Production</th>\n",
       "      <th>Employed</th>\n",
       "      <th>Unemployment</th>\n",
       "      <th>distance_subway</th>\n",
       "      <th>distance_bus</th>\n",
       "      <th>park_num</th>\n",
       "      <th>park_area</th>\n",
       "      <th>park_top_level</th>\n",
       "      <th>park_distance</th>\n",
       "      <th>FELONY</th>\n",
       "      <th>VIOLATION</th>\n",
       "      <th>MISDEMEANOR</th>\n",
       "      <th>DensityPop</th>\n",
       "    </tr>\n",
       "  </thead>\n",
       "  <tbody>\n",
       "    <tr>\n",
       "      <th>0</th>\n",
       "      <td>88081.0</td>\n",
       "      <td>9.2</td>\n",
       "      <td>67.3</td>\n",
       "      <td>4.4</td>\n",
       "      <td>24.8</td>\n",
       "      <td>0.7</td>\n",
       "      <td>2.9</td>\n",
       "      <td>5333.0</td>\n",
       "      <td>6.7</td>\n",
       "      <td>0.000431</td>\n",
       "      <td>0.001354</td>\n",
       "      <td>1</td>\n",
       "      <td>0.650</td>\n",
       "      <td>1</td>\n",
       "      <td>0.002217</td>\n",
       "      <td>469.0</td>\n",
       "      <td>134.0</td>\n",
       "      <td>741.0</td>\n",
       "      <td>0.004069</td>\n",
       "    </tr>\n",
       "    <tr>\n",
       "      <th>1</th>\n",
       "      <td>128063.0</td>\n",
       "      <td>3.8</td>\n",
       "      <td>78.4</td>\n",
       "      <td>4.5</td>\n",
       "      <td>16.3</td>\n",
       "      <td>0.0</td>\n",
       "      <td>0.8</td>\n",
       "      <td>5760.0</td>\n",
       "      <td>4.0</td>\n",
       "      <td>0.003997</td>\n",
       "      <td>0.000763</td>\n",
       "      <td>5</td>\n",
       "      <td>3.002</td>\n",
       "      <td>2</td>\n",
       "      <td>0.001857</td>\n",
       "      <td>269.0</td>\n",
       "      <td>107.0</td>\n",
       "      <td>344.0</td>\n",
       "      <td>0.004675</td>\n",
       "    </tr>\n",
       "    <tr>\n",
       "      <th>2</th>\n",
       "      <td>23358.0</td>\n",
       "      <td>32.5</td>\n",
       "      <td>38.3</td>\n",
       "      <td>19.1</td>\n",
       "      <td>27.5</td>\n",
       "      <td>3.2</td>\n",
       "      <td>12.0</td>\n",
       "      <td>1777.0</td>\n",
       "      <td>18.4</td>\n",
       "      <td>0.002309</td>\n",
       "      <td>0.000256</td>\n",
       "      <td>8</td>\n",
       "      <td>181.295</td>\n",
       "      <td>2</td>\n",
       "      <td>0.000263</td>\n",
       "      <td>322.0</td>\n",
       "      <td>169.0</td>\n",
       "      <td>743.0</td>\n",
       "      <td>0.003468</td>\n",
       "    </tr>\n",
       "    <tr>\n",
       "      <th>3</th>\n",
       "      <td>19636.0</td>\n",
       "      <td>37.3</td>\n",
       "      <td>34.7</td>\n",
       "      <td>22.7</td>\n",
       "      <td>34.6</td>\n",
       "      <td>3.3</td>\n",
       "      <td>4.8</td>\n",
       "      <td>1640.0</td>\n",
       "      <td>9.2</td>\n",
       "      <td>0.000695</td>\n",
       "      <td>0.000475</td>\n",
       "      <td>12</td>\n",
       "      <td>13.251</td>\n",
       "      <td>2</td>\n",
       "      <td>0.001331</td>\n",
       "      <td>742.0</td>\n",
       "      <td>209.0</td>\n",
       "      <td>1251.0</td>\n",
       "      <td>0.002275</td>\n",
       "    </tr>\n",
       "    <tr>\n",
       "      <th>4</th>\n",
       "      <td>89563.0</td>\n",
       "      <td>4.7</td>\n",
       "      <td>75.6</td>\n",
       "      <td>4.9</td>\n",
       "      <td>15.3</td>\n",
       "      <td>2.8</td>\n",
       "      <td>1.5</td>\n",
       "      <td>2980.0</td>\n",
       "      <td>5.0</td>\n",
       "      <td>0.000466</td>\n",
       "      <td>0.000588</td>\n",
       "      <td>7</td>\n",
       "      <td>2.092</td>\n",
       "      <td>2</td>\n",
       "      <td>0.000272</td>\n",
       "      <td>330.0</td>\n",
       "      <td>103.0</td>\n",
       "      <td>479.0</td>\n",
       "      <td>0.001971</td>\n",
       "    </tr>\n",
       "  </tbody>\n",
       "</table>\n",
       "</div>"
      ],
      "text/plain": [
       "   IncomePerCap  Poverty  Professional  Service  Office  Construction  \\\n",
       "0       88081.0      9.2          67.3      4.4    24.8           0.7   \n",
       "1      128063.0      3.8          78.4      4.5    16.3           0.0   \n",
       "2       23358.0     32.5          38.3     19.1    27.5           3.2   \n",
       "3       19636.0     37.3          34.7     22.7    34.6           3.3   \n",
       "4       89563.0      4.7          75.6      4.9    15.3           2.8   \n",
       "\n",
       "   Production  Employed  Unemployment  distance_subway  distance_bus  \\\n",
       "0         2.9    5333.0           6.7         0.000431      0.001354   \n",
       "1         0.8    5760.0           4.0         0.003997      0.000763   \n",
       "2        12.0    1777.0          18.4         0.002309      0.000256   \n",
       "3         4.8    1640.0           9.2         0.000695      0.000475   \n",
       "4         1.5    2980.0           5.0         0.000466      0.000588   \n",
       "\n",
       "   park_num  park_area  park_top_level  park_distance  FELONY  VIOLATION  \\\n",
       "0         1      0.650               1       0.002217   469.0      134.0   \n",
       "1         5      3.002               2       0.001857   269.0      107.0   \n",
       "2         8    181.295               2       0.000263   322.0      169.0   \n",
       "3        12     13.251               2       0.001331   742.0      209.0   \n",
       "4         7      2.092               2       0.000272   330.0      103.0   \n",
       "\n",
       "   MISDEMEANOR  DensityPop  \n",
       "0        741.0    0.004069  \n",
       "1        344.0    0.004675  \n",
       "2        743.0    0.003468  \n",
       "3       1251.0    0.002275  \n",
       "4        479.0    0.001971  "
      ]
     },
     "execution_count": 63,
     "metadata": {},
     "output_type": "execute_result"
    }
   ],
   "source": [
    "# read file from link: https://github.com/JunjieTsai/MLC2019_Project/tree/master/data\n",
    "addDF = pd.read_csv('data/output.csv', usecols=['DensityPop', \n",
    "'IncomePerCap', \n",
    "'Poverty', \n",
    "'Professional', \n",
    "'Service', \n",
    "'Office', \n",
    "'Construction', \n",
    "'Production', \n",
    "'Employed', \n",
    "'Unemployment',\n",
    "'distance_subway',\n",
    "'distance_bus',\n",
    "'park_num',\n",
    "'park_area',\n",
    "'park_top_level',\n",
    "'park_distance',\n",
    "'FELONY',\n",
    "'VIOLATION',\n",
    "'MISDEMEANOR'])\n",
    "addDF.head()"
   ]
  },
  {
   "cell_type": "code",
   "execution_count": 64,
   "metadata": {
    "ExecuteTime": {
     "end_time": "2019-05-10T23:29:49.311184Z",
     "start_time": "2019-05-10T23:29:49.305184Z"
    }
   },
   "outputs": [
    {
     "name": "stdout",
     "output_type": "stream",
     "text": [
      "45590 45590\n"
     ]
    }
   ],
   "source": [
    "# join with mnBBL\n",
    "print(len(addDF),len(mnBBL))"
   ]
  },
  {
   "cell_type": "code",
   "execution_count": 65,
   "metadata": {
    "ExecuteTime": {
     "end_time": "2019-05-10T23:29:49.784205Z",
     "start_time": "2019-05-10T23:29:49.747190Z"
    }
   },
   "outputs": [],
   "source": [
    "mnBBLmerge = mnBBL.merge(addDF,left_index = True,right_index = True)"
   ]
  },
  {
   "cell_type": "code",
   "execution_count": 66,
   "metadata": {
    "ExecuteTime": {
     "end_time": "2019-05-10T23:29:50.339183Z",
     "start_time": "2019-05-10T23:29:50.264184Z"
    }
   },
   "outputs": [],
   "source": [
    "mn_sale_bbl = mnBBLmerge.merge(mn_salemerge,how = 'inner',left_on = 'base_bbl',right_on = 'bbl')"
   ]
  },
  {
   "cell_type": "code",
   "execution_count": 67,
   "metadata": {
    "ExecuteTime": {
     "end_time": "2019-05-10T23:29:50.767200Z",
     "start_time": "2019-05-10T23:29:50.762182Z"
    }
   },
   "outputs": [
    {
     "data": {
      "text/plain": [
       "8885"
      ]
     },
     "execution_count": 67,
     "metadata": {},
     "output_type": "execute_result"
    }
   ],
   "source": [
    "len(mn_sale_bbl)"
   ]
  },
  {
   "cell_type": "code",
   "execution_count": 68,
   "metadata": {
    "ExecuteTime": {
     "end_time": "2019-05-10T23:29:53.464393Z",
     "start_time": "2019-05-10T23:29:51.265405Z"
    }
   },
   "outputs": [
    {
     "data": {
      "text/plain": [
       "<matplotlib.axes._subplots.AxesSubplot at 0x238a599acc0>"
      ]
     },
     "execution_count": 68,
     "metadata": {},
     "output_type": "execute_result"
    },
    {
     "data": {
      "image/png": "[encoded data removed]",
      "text/plain": [
       "<Figure size 432x288 with 1 Axes>"
      ]
     },
     "metadata": {
      "needs_background": "light"
     },
     "output_type": "display_data"
    }
   ],
   "source": [
    "mn_sale_bbl.plot()"
   ]
  },
  {
   "cell_type": "code",
   "execution_count": 69,
   "metadata": {
    "ExecuteTime": {
     "end_time": "2019-05-10T23:29:53.497426Z",
     "start_time": "2019-05-10T23:29:53.468393Z"
    }
   },
   "outputs": [
    {
     "data": {
      "text/html": [
       "<div>\n",
       "<style scoped>\n",
       "    .dataframe tbody tr th:only-of-type {\n",
       "        vertical-align: middle;\n",
       "    }\n",
       "\n",
       "    .dataframe tbody tr th {\n",
       "        vertical-align: top;\n",
       "    }\n",
       "\n",
       "    .dataframe thead th {\n",
       "        text-align: right;\n",
       "    }\n",
       "</style>\n",
       "<table border=\"1\" class=\"dataframe\">\n",
       "  <thead>\n",
       "    <tr style=\"text-align: right;\">\n",
       "      <th></th>\n",
       "      <th>base_bbl</th>\n",
       "      <th>bin</th>\n",
       "      <th>cnstrct_yr</th>\n",
       "      <th>doitt_id</th>\n",
       "      <th>feat_code</th>\n",
       "      <th>geomsource</th>\n",
       "      <th>groundelev</th>\n",
       "      <th>heightroof</th>\n",
       "      <th>date_lstmo</th>\n",
       "      <th>time_lstmo</th>\n",
       "      <th>...</th>\n",
       "      <th>landmkdate</th>\n",
       "      <th>basempdate</th>\n",
       "      <th>masdate</th>\n",
       "      <th>polidate</th>\n",
       "      <th>edesigdate</th>\n",
       "      <th>School_District</th>\n",
       "      <th>Num of SAT Test Takers</th>\n",
       "      <th>satReadingSum</th>\n",
       "      <th>satMathSum</th>\n",
       "      <th>satWritingSum</th>\n",
       "    </tr>\n",
       "  </thead>\n",
       "  <tbody>\n",
       "    <tr>\n",
       "      <th>0</th>\n",
       "      <td>1017200108</td>\n",
       "      <td>1053379.0</td>\n",
       "      <td>1909.0</td>\n",
       "      <td>738423.0</td>\n",
       "      <td>2100.0</td>\n",
       "      <td>Photogramm</td>\n",
       "      <td>21.0</td>\n",
       "      <td>46.260000</td>\n",
       "      <td>2017-08-22</td>\n",
       "      <td>00:00:00.000</td>\n",
       "      <td>...</td>\n",
       "      <td>12/20/2018</td>\n",
       "      <td>12/21/2018</td>\n",
       "      <td>NaN</td>\n",
       "      <td>NaN</td>\n",
       "      <td>12/20/2018</td>\n",
       "      <td>3.0</td>\n",
       "      <td>3825</td>\n",
       "      <td>498.0</td>\n",
       "      <td>525.0</td>\n",
       "      <td>496.0</td>\n",
       "    </tr>\n",
       "    <tr>\n",
       "      <th>1</th>\n",
       "      <td>1021230096</td>\n",
       "      <td>1079876.0</td>\n",
       "      <td>1900.0</td>\n",
       "      <td>369103.0</td>\n",
       "      <td>2100.0</td>\n",
       "      <td>Photogramm</td>\n",
       "      <td>145.0</td>\n",
       "      <td>59.655517</td>\n",
       "      <td>2017-08-22</td>\n",
       "      <td>00:00:00.000</td>\n",
       "      <td>...</td>\n",
       "      <td>12/20/2018</td>\n",
       "      <td>12/21/2018</td>\n",
       "      <td>NaN</td>\n",
       "      <td>NaN</td>\n",
       "      <td>12/20/2018</td>\n",
       "      <td>6.0</td>\n",
       "      <td>4005</td>\n",
       "      <td>441.0</td>\n",
       "      <td>487.0</td>\n",
       "      <td>442.0</td>\n",
       "    </tr>\n",
       "    <tr>\n",
       "      <th>2</th>\n",
       "      <td>1021230096</td>\n",
       "      <td>1082447.0</td>\n",
       "      <td>1900.0</td>\n",
       "      <td>520561.0</td>\n",
       "      <td>2100.0</td>\n",
       "      <td>Photogramm</td>\n",
       "      <td>146.0</td>\n",
       "      <td>58.694420</td>\n",
       "      <td>2017-08-22</td>\n",
       "      <td>00:00:00.000</td>\n",
       "      <td>...</td>\n",
       "      <td>12/20/2018</td>\n",
       "      <td>12/21/2018</td>\n",
       "      <td>NaN</td>\n",
       "      <td>NaN</td>\n",
       "      <td>12/20/2018</td>\n",
       "      <td>6.0</td>\n",
       "      <td>4005</td>\n",
       "      <td>441.0</td>\n",
       "      <td>487.0</td>\n",
       "      <td>442.0</td>\n",
       "    </tr>\n",
       "    <tr>\n",
       "      <th>3</th>\n",
       "      <td>1018230058</td>\n",
       "      <td>1055032.0</td>\n",
       "      <td>1920.0</td>\n",
       "      <td>23466.0</td>\n",
       "      <td>2100.0</td>\n",
       "      <td>Photogramm</td>\n",
       "      <td>29.0</td>\n",
       "      <td>75.620000</td>\n",
       "      <td>2017-08-22</td>\n",
       "      <td>00:00:00.000</td>\n",
       "      <td>...</td>\n",
       "      <td>12/20/2018</td>\n",
       "      <td>12/21/2018</td>\n",
       "      <td>NaN</td>\n",
       "      <td>NaN</td>\n",
       "      <td>12/20/2018</td>\n",
       "      <td>3.0</td>\n",
       "      <td>3825</td>\n",
       "      <td>498.0</td>\n",
       "      <td>525.0</td>\n",
       "      <td>496.0</td>\n",
       "    </tr>\n",
       "    <tr>\n",
       "      <th>4</th>\n",
       "      <td>1013880008</td>\n",
       "      <td>1041491.0</td>\n",
       "      <td>1903.0</td>\n",
       "      <td>639733.0</td>\n",
       "      <td>2100.0</td>\n",
       "      <td>Photogramm</td>\n",
       "      <td>65.0</td>\n",
       "      <td>94.380000</td>\n",
       "      <td>2017-08-22</td>\n",
       "      <td>00:00:00.000</td>\n",
       "      <td>...</td>\n",
       "      <td>12/20/2018</td>\n",
       "      <td>12/21/2018</td>\n",
       "      <td>NaN</td>\n",
       "      <td>NaN</td>\n",
       "      <td>12/20/2018</td>\n",
       "      <td>2.0</td>\n",
       "      <td>9100</td>\n",
       "      <td>451.0</td>\n",
       "      <td>476.0</td>\n",
       "      <td>447.0</td>\n",
       "    </tr>\n",
       "  </tbody>\n",
       "</table>\n",
       "<p>5 rows × 157 columns</p>\n",
       "</div>"
      ],
      "text/plain": [
       "     base_bbl        bin  cnstrct_yr  doitt_id  feat_code  geomsource  \\\n",
       "0  1017200108  1053379.0      1909.0  738423.0     2100.0  Photogramm   \n",
       "1  1021230096  1079876.0      1900.0  369103.0     2100.0  Photogramm   \n",
       "2  1021230096  1082447.0      1900.0  520561.0     2100.0  Photogramm   \n",
       "3  1018230058  1055032.0      1920.0   23466.0     2100.0  Photogramm   \n",
       "4  1013880008  1041491.0      1903.0  639733.0     2100.0  Photogramm   \n",
       "\n",
       "   groundelev  heightroof  date_lstmo    time_lstmo  ...  landmkdate  \\\n",
       "0        21.0   46.260000  2017-08-22  00:00:00.000  ...  12/20/2018   \n",
       "1       145.0   59.655517  2017-08-22  00:00:00.000  ...  12/20/2018   \n",
       "2       146.0   58.694420  2017-08-22  00:00:00.000  ...  12/20/2018   \n",
       "3        29.0   75.620000  2017-08-22  00:00:00.000  ...  12/20/2018   \n",
       "4        65.0   94.380000  2017-08-22  00:00:00.000  ...  12/20/2018   \n",
       "\n",
       "   basempdate masdate  polidate  edesigdate School_District  \\\n",
       "0  12/21/2018     NaN       NaN  12/20/2018             3.0   \n",
       "1  12/21/2018     NaN       NaN  12/20/2018             6.0   \n",
       "2  12/21/2018     NaN       NaN  12/20/2018             6.0   \n",
       "3  12/21/2018     NaN       NaN  12/20/2018             3.0   \n",
       "4  12/21/2018     NaN       NaN  12/20/2018             2.0   \n",
       "\n",
       "   Num of SAT Test Takers  satReadingSum  satMathSum  satWritingSum  \n",
       "0                    3825          498.0       525.0          496.0  \n",
       "1                    4005          441.0       487.0          442.0  \n",
       "2                    4005          441.0       487.0          442.0  \n",
       "3                    3825          498.0       525.0          496.0  \n",
       "4                    9100          451.0       476.0          447.0  \n",
       "\n",
       "[5 rows x 157 columns]"
      ]
     },
     "execution_count": 69,
     "metadata": {},
     "output_type": "execute_result"
    }
   ],
   "source": [
    "mn_sale_bbl.head()"
   ]
  },
  {
   "cell_type": "code",
   "execution_count": 70,
   "metadata": {
    "ExecuteTime": {
     "end_time": "2019-05-10T23:29:53.506392Z",
     "start_time": "2019-05-10T23:29:53.500393Z"
    }
   },
   "outputs": [
    {
     "data": {
      "text/plain": [
       "157"
      ]
     },
     "execution_count": 70,
     "metadata": {},
     "output_type": "execute_result"
    }
   ],
   "source": [
    "len(mn_sale_bbl.columns)"
   ]
  },
  {
   "cell_type": "code",
   "execution_count": 71,
   "metadata": {
    "ExecuteTime": {
     "end_time": "2019-05-10T23:29:53.514392Z",
     "start_time": "2019-05-10T23:29:53.509392Z"
    },
    "scrolled": true
   },
   "outputs": [
    {
     "name": "stdout",
     "output_type": "stream",
     "text": [
      "['base_bbl', 'bin', 'cnstrct_yr', 'doitt_id', 'feat_code', 'geomsource', 'groundelev', 'heightroof', 'date_lstmo', 'time_lstmo', 'lststatype', 'mpluto_bbl', 'name', 'shape_area', 'shape_len', 'geometry', 'IncomePerCap', 'Poverty', 'Professional', 'Service', 'Office', 'Construction', 'Production', 'Employed', 'Unemployment', 'distance_subway', 'distance_bus', 'park_num', 'park_area', 'park_top_level', 'park_distance', 'FELONY', 'VIOLATION', 'MISDEMEANOR', 'DensityPop', 'BOROUGH', 'NEIGHBORHOOD', 'BUILDING CLASS CATEGORY', 'TAX CLASS AT PRESENT', 'BLOCK', 'LOT', 'EASE-MENT', 'BUILDING CLASS AT PRESENT', 'ADDRESS', 'APARTMENT NUMBER', 'ZIP CODE', 'RESIDENTIAL UNITS', 'COMMERCIAL UNITS', 'TOTAL UNITS', 'LAND SQUARE FEET', 'GROSS SQUARE FEET', 'YEAR BUILT', 'TAX CLASS AT TIME OF SALE', 'BUILDING CLASS AT TIME OF SALE', 'SALE PRICE', 'SALE DATE', 'bbl', 'borough', 'block', 'lot', 'cd', 'ct2010', 'cb2010', 'schooldist', 'council', 'zipcode', 'firecomp', 'policeprct', 'healtharea', 'sanitboro', 'sanitsub', 'address', 'zonedist1', 'zonedist2', 'zonedist3', 'zonedist4', 'overlay1', 'overlay2', 'spdist1', 'spdist2', 'spdist3', 'ltdheight', 'splitzone', 'bldgclass', 'landuse', 'easements', 'ownertype', 'ownername', 'lotarea', 'bldgarea', 'comarea', 'resarea', 'officearea', 'retailarea', 'garagearea', 'strgearea', 'factryarea', 'otherarea', 'areasource', 'numbldgs', 'numfloors', 'unitsres', 'unitstotal', 'lotfront', 'lotdepth', 'bldgfront', 'bldgdepth', 'ext', 'proxcode', 'irrlotcode', 'lottype', 'bsmtcode', 'assessland', 'assesstot', 'exemptland', 'exempttot', 'yearbuilt', 'yearalter1', 'yearalter2', 'histdist', 'landmark', 'builtfar', 'residfar', 'commfar', 'facilfar', 'borocode', 'condono', 'tract2010', 'xcoord', 'ycoord', 'zonemap', 'zmcode', 'sanborn', 'taxmap', 'edesignum', 'appbbl', 'appdate', 'mappluto_f', 'plutomapid', 'version', 'sanitdistrict', 'healthcenterdistrict', 'firm07_flag', 'pfirm15_flag', 'rpaddate', 'dcasdate', 'zoningdate', 'landmkdate', 'basempdate', 'masdate', 'polidate', 'edesigdate', 'School_District', 'Num of SAT Test Takers', 'satReadingSum', 'satMathSum', 'satWritingSum']\n"
     ]
    }
   ],
   "source": [
    "print([i for i in mn_sale_bbl.columns])"
   ]
  },
  {
   "cell_type": "markdown",
   "metadata": {},
   "source": [
    "## Combine all data and add Catergoical data on the back"
   ]
  },
  {
   "cell_type": "code",
   "execution_count": 72,
   "metadata": {
    "ExecuteTime": {
     "end_time": "2019-05-10T23:29:58.990324Z",
     "start_time": "2019-05-10T23:29:58.949298Z"
    }
   },
   "outputs": [],
   "source": [
    "mn_sale2 = mn_sale_bbl[['SALE PRICE', 'SALE DATE','bbl', 'ct2010', 'cb2010', 'borocode','bldgclass','BOROUGH', 'NEIGHBORHOOD', 'BUILDING CLASS CATEGORY', 'BUILDING CLASS AT PRESENT', 'ADDRESS', 'APARTMENT NUMBER', 'ZIP CODE','firecomp', 'policeprct', 'healtharea', 'sanitboro', 'sanitsub', 'sanitdistrict', 'healthcenterdistrict','schooldist','YEAR BUILT','RESIDENTIAL UNITS', 'COMMERCIAL UNITS', 'TOTAL UNITS', 'LAND SQUARE FEET', 'GROSS SQUARE FEET', 'easements', 'lotarea', 'bldgarea', 'comarea', 'resarea', 'officearea', 'retailarea', 'garagearea', 'strgearea', 'factryarea', 'otherarea', 'numbldgs', 'numfloors', 'unitsres', 'unitstotal', 'lotfront', 'lotdepth', 'bldgfront', 'bldgdepth','assessland', 'assesstot', 'exemptland', 'exempttot', 'builtfar', 'residfar', 'commfar', 'facilfar',\n",
    "'DensityPop', \n",
    "'IncomePerCap', \n",
    "'Poverty', \n",
    "'Professional', \n",
    "'Service', \n",
    "'Office', \n",
    "'Construction', \n",
    "'Production', \n",
    "'Employed', \n",
    "'Unemployment',\n",
    "'distance_subway',\n",
    "'distance_bus',\n",
    "'park_num',\n",
    "'park_area',\n",
    "'park_top_level',\n",
    "'park_distance',\n",
    "'FELONY',\n",
    "'VIOLATION',\n",
    "'MISDEMEANOR',\n",
    "'Num of SAT Test Takers', 'satReadingSum', \n",
    "'satMathSum',\n",
    "'satWritingSum','histdist', 'landmark','landuse','geometry']]"
   ]
  },
  {
   "cell_type": "code",
   "execution_count": 73,
   "metadata": {
    "ExecuteTime": {
     "end_time": "2019-05-10T23:30:01.176335Z",
     "start_time": "2019-05-10T23:29:59.359298Z"
    }
   },
   "outputs": [],
   "source": [
    "mn_sale2.to_csv('data/data_train.csv',index = False)"
   ]
  },
  {
   "cell_type": "code",
   "execution_count": 76,
   "metadata": {
    "ExecuteTime": {
     "end_time": "2019-05-10T23:30:46.649103Z",
     "start_time": "2019-05-10T23:30:46.614105Z"
    }
   },
   "outputs": [],
   "source": [
    "mnsaleCount = mn_sale2.groupby('bbl',as_index=False).count().iloc[:,:2]\n",
    "mnsaleCount.columns = ['bbl','SaleCountPerBBL']"
   ]
  },
  {
   "cell_type": "code",
   "execution_count": 77,
   "metadata": {
    "ExecuteTime": {
     "end_time": "2019-05-10T23:30:47.631694Z",
     "start_time": "2019-05-10T23:30:47.553659Z"
    }
   },
   "outputs": [],
   "source": [
    "bblmncount = mn_sale2.merge(mnsaleCount,how = 'inner',left_on = 'bbl',right_on = 'bbl')"
   ]
  },
  {
   "cell_type": "code",
   "execution_count": 79,
   "metadata": {
    "ExecuteTime": {
     "end_time": "2019-05-10T23:32:40.541079Z",
     "start_time": "2019-05-10T23:32:27.296083Z"
    }
   },
   "outputs": [
    {
     "data": {
      "image/png": "[encoded data removed]",
      "text/plain": [
       "<Figure size 1440x1440 with 2 Axes>"
      ]
     },
     "metadata": {
      "needs_background": "light"
     },
     "output_type": "display_data"
    }
   ],
   "source": [
    "# rerun later\n",
    "fig = plt.figure(figsize = (20,20))\n",
    "ax = fig.add_subplot(111)\n",
    "mnBBL.plot(ax = ax, color = 'lightgrey',alpha = 0.5)\n",
    "bblmncount.plot(ax = ax,column= 'SaleCountPerBBL',legend = 'SaleCountPerBBL')\n",
    "ax.set_xlabel('Longitude')\n",
    "ax.set_ylabel('Latitude')\n",
    "ax.set_title('Sale Price from Apr 2018 to Mar 2019')\n",
    "plt.tight_layout()\n"
   ]
  },
  {
   "cell_type": "markdown",
   "metadata": {},
   "source": [
    "# Next Step Data Inspection and Anomaly Detection"
   ]
  }
 ],
 "metadata": {
  "kernelspec": {
   "display_name": "Python 3",
   "language": "python",
   "name": "python3"
  },
  "language_info": {
   "codemirror_mode": {
    "name": "ipython",
    "version": 3
   },
   "file_extension": ".py",
   "mimetype": "text/x-python",
   "name": "python",
   "nbconvert_exporter": "python",
   "pygments_lexer": "ipython3",
   "version": "3.6.8"
  },
  "toc": {
   "base_numbering": 1,
   "nav_menu": {},
   "number_sections": true,
   "sideBar": true,
   "skip_h1_title": false,
   "title_cell": "Table of Contents",
   "title_sidebar": "Contents",
   "toc_cell": false,
   "toc_position": {},
   "toc_section_display": true,
   "toc_window_display": true
  }
 },
 "nbformat": 4,
 "nbformat_minor": 2
}
